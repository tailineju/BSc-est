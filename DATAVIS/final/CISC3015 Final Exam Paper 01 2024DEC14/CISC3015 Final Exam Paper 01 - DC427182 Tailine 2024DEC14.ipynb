{
 "cells": [
  {
   "cell_type": "markdown",
   "metadata": {},
   "source": [
    "# Final Exam: Paper 1\n",
    "\n",
    "Student: DC427182"
   ]
  },
  {
   "cell_type": "code",
   "execution_count": 5,
   "metadata": {},
   "outputs": [],
   "source": [
    "import pandas as pd"
   ]
  },
  {
   "cell_type": "markdown",
   "metadata": {},
   "source": [
    "## Question 1"
   ]
  },
  {
   "cell_type": "code",
   "execution_count": 6,
   "metadata": {},
   "outputs": [
    {
     "name": "stdout",
     "output_type": "stream",
     "text": [
      "concat 1 \n",
      "     A   B   C   D\n",
      "0  a0  b0  c0  d0\n",
      "1  a1  b1  c1  d1\n",
      "2  a2  b2  c2  d2\n",
      "3  a3  b3  c3  d3\n",
      "concat 2 \n",
      "     A   B   C   D\n",
      "0  a4  b4  c4  d4\n",
      "1  a5  b5  c5  d5\n",
      "2  a6  b6  c6  d6\n",
      "3  a7  b7  c7  d7\n",
      "concat 3 \n",
      "      A    B    C    D\n",
      "0   a8   b8   c8   d8\n",
      "1   a9   b9   c9   d9\n",
      "2  a10  b10  c10  d10\n",
      "3  a11  b11  c11  d11\n"
     ]
    }
   ],
   "source": [
    "# 01.01: Write Python coding to load the 3 datasets \"concat_1.csv\",  \"concat_2.csv\", and \"concat_3.csv\" into 3 Pandas dataframe objects\n",
    "# 01.02: Use the print function to show, with 3 separate print statements, the data from the each of the 3 datasets \"concat_1.csv\",  \"concat_2.csv\", and \"concat_3.csv\".\n",
    "\n",
    "def answer_FinalExam_Paper01_Question_01():\n",
    "    # 01.01\n",
    "    concat1 = pd.read_csv('data/concat_1.csv')\n",
    "    concat2 = pd.read_csv('data/concat_2.csv')\n",
    "    concat3 = pd.read_csv('data/concat_3.csv')\n",
    "    # 01.02\n",
    "    print('concat 1 \\n', concat1)\n",
    "    print('concat 2 \\n',concat2)\n",
    "    print('concat 3 \\n',concat3)\n",
    "\n",
    "answer_FinalExam_Paper01_Question_01()"
   ]
  },
  {
   "cell_type": "markdown",
   "metadata": {},
   "source": [
    "## Question 2"
   ]
  },
  {
   "cell_type": "code",
   "execution_count": 8,
   "metadata": {},
   "outputs": [
    {
     "name": "stdout",
     "output_type": "stream",
     "text": [
      "concat 1 is a DataFrame: True\n",
      "concat 2 is a DataFrame: True\n",
      "concat 3 is a DataFrame: True\n"
     ]
    }
   ],
   "source": [
    "# 02.01: Verify if you are working with a Pandas DataFrame, for each of the 3 datasets in Question 01, by using the built-in type function from Python.\n",
    "# 02.02: Print out the result of your verification, using the 'print' function - Note you are dealing with 3 dataframe objects here.\n",
    "\n",
    "def answer_FinalExam_Paper01_Question_02():\n",
    "    concat1 = pd.read_csv('data/concat_1.csv')\n",
    "    concat2 = pd.read_csv('data/concat_2.csv')\n",
    "    concat3 = pd.read_csv('data/concat_3.csv')\n",
    "    print('concat 1 is a DataFrame:', type(concat1) == pd.DataFrame)\n",
    "    print('concat 2 is a DataFrame:', type(concat2) == pd.DataFrame)\n",
    "    print('concat 3 is a DataFrame:', type(concat3) == pd.DataFrame)\n",
    "\n",
    "answer_FinalExam_Paper01_Question_02()\n"
   ]
  },
  {
   "cell_type": "markdown",
   "metadata": {},
   "source": [
    "## Question 3"
   ]
  },
  {
   "cell_type": "code",
   "execution_count": 9,
   "metadata": {},
   "outputs": [
    {
     "name": "stdout",
     "output_type": "stream",
     "text": [
      "concat 1 has 4 rows and 4 columns\n",
      "concat 2 has 4 rows and 4 columns\n",
      "concat 3 has 4 rows and 4 columns\n"
     ]
    }
   ],
   "source": [
    "#03.01: Find out the number of rows and columns of each of the 3 dataframes loaded respectively with the datasets \"concat_1.csv\",  \"concat_2.csv\", and \"concat_3.csv\".\n",
    "#03.02: Print out the result, i.e., the number of rows and columns of each of the 3 dataframes, using the 'print' function.\n",
    "\n",
    "def answer_FinalExam_Paper01_Question_03():\n",
    "    concat1 = pd.read_csv('data/concat_1.csv')\n",
    "    concat2 = pd.read_csv('data/concat_2.csv')\n",
    "    concat3 = pd.read_csv('data/concat_3.csv')\n",
    "    print('concat 1 has', concat1.shape[0], 'rows and', concat1.shape[1], 'columns')\n",
    "    print('concat 2 has', concat2.shape[0], 'rows and', concat2.shape[1], 'columns')\n",
    "    print('concat 3 has', concat3.shape[0], 'rows and', concat3.shape[1], 'columns')\n",
    "\n",
    "answer_FinalExam_Paper01_Question_03()"
   ]
  },
  {
   "cell_type": "markdown",
   "metadata": {},
   "source": [
    "## Question 4"
   ]
  },
  {
   "cell_type": "code",
   "execution_count": 10,
   "metadata": {},
   "outputs": [
    {
     "name": "stdout",
     "output_type": "stream",
     "text": [
      "concat 1 columns: Index(['A', 'B', 'C', 'D'], dtype='object')\n",
      "concat 2 columns: Index(['A', 'B', 'C', 'D'], dtype='object')\n",
      "concat 3 columns: Index(['A', 'B', 'C', 'D'], dtype='object')\n"
     ]
    }
   ],
   "source": [
    "#04.01: Get the column names of each of the 3 dataframes in Question 03.\n",
    "#04.02: Print out the result, i.e., the column names of each of the 3 dataframes, using the 'print' function.\n",
    "\n",
    "def answer_FinalExam_Paper01_Question_04():\n",
    "    concat1 = pd.read_csv('data/concat_1.csv')\n",
    "    concat2 = pd.read_csv('data/concat_2.csv')\n",
    "    concat3 = pd.read_csv('data/concat_3.csv')\n",
    "    print('concat 1 columns:', concat1.columns)\n",
    "    print('concat 2 columns:', concat2.columns)\n",
    "    print('concat 3 columns:', concat3.columns)\n",
    "\n",
    "answer_FinalExam_Paper01_Question_04()"
   ]
  },
  {
   "cell_type": "markdown",
   "metadata": {},
   "source": [
    "## Question 5"
   ]
  },
  {
   "cell_type": "code",
   "execution_count": 11,
   "metadata": {},
   "outputs": [
    {
     "name": "stdout",
     "output_type": "stream",
     "text": [
      "concatenated dataframes \n",
      "      A    B    C    D\n",
      "0   a0   b0   c0   d0\n",
      "1   a1   b1   c1   d1\n",
      "2   a2   b2   c2   d2\n",
      "3   a3   b3   c3   d3\n",
      "0   a4   b4   c4   d4\n",
      "1   a5   b5   c5   d5\n",
      "2   a6   b6   c6   d6\n",
      "3   a7   b7   c7   d7\n",
      "0   a8   b8   c8   d8\n",
      "1   a9   b9   c9   d9\n",
      "2  a10  b10  c10  d10\n",
      "3  a11  b11  c11  d11\n",
      "subset by loc[0] \n",
      "     A   B   C   D\n",
      "0  a0  b0  c0  d0\n",
      "0  a4  b4  c4  d4\n",
      "0  a8  b8  c8  d8\n"
     ]
    }
   ],
   "source": [
    "#05.01: Concatenate the three dataframes in Question 04 as if you are adding rows, by using the 'concat' function from Pandas.\n",
    "#05.02: Print out the result, i.e., the dataframe after concatenating the 3 separate dataframes in 05.01, using the 'print' function.\n",
    "#05.03: Subset the concatenated dataframe by reading the row(s) indexed by loc[0]. Print out the result, using the 'print' function.\n",
    "#05.04: Subset the concatenated dataframe by reading the row(s) indexed by iloc[0]. Print out the result, using the 'print' function.\n",
    "\n",
    "def answer_FinalExam_Paper01_Question_05():\n",
    "    concat1 = pd.read_csv('data/concat_1.csv')\n",
    "    concat2 = pd.read_csv('data/concat_2.csv')\n",
    "    concat3 = pd.read_csv('data/concat_3.csv')\n",
    "    # 05.01\n",
    "    concat = pd.concat([concat1, concat2, concat3])\n",
    "    # 05.02\n",
    "    print('concatenated dataframes \\n', concat)\n",
    "    # 05.03 / 05.04\n",
    "    print('subset by loc[0] \\n', concat.loc[0])\n",
    "\n",
    "answer_FinalExam_Paper01_Question_05()"
   ]
  },
  {
   "cell_type": "markdown",
   "metadata": {},
   "source": [
    "## Question 6"
   ]
  },
  {
   "cell_type": "code",
   "execution_count": 12,
   "metadata": {},
   "outputs": [
    {
     "name": "stdout",
     "output_type": "stream",
     "text": [
      "concatenated dataframes \n",
      "     A   B   C   D   A   B   C   D    A    B    C    D\n",
      "0  a0  b0  c0  d0  a4  b4  c4  d4   a8   b8   c8   d8\n",
      "1  a1  b1  c1  d1  a5  b5  c5  d5   a9   b9   c9   d9\n",
      "2  a2  b2  c2  d2  a6  b6  c6  d6  a10  b10  c10  d10\n",
      "3  a3  b3  c3  d3  a7  b7  c7  d7  a11  b11  c11  d11\n",
      "new column \n",
      "     A   B   C   D   A   B   C   D    A    B    C    D new_column\n",
      "0  a0  b0  c0  d0  a4  b4  c4  d4   a8   b8   c8   d8         n1\n",
      "1  a1  b1  c1  d1  a5  b5  c5  d5   a9   b9   c9   d9         n2\n",
      "2  a2  b2  c2  d2  a6  b6  c6  d6  a10  b10  c10  d10         n3\n",
      "3  a3  b3  c3  d3  a7  b7  c7  d7  a11  b11  c11  d11         n4\n",
      "subset by column name \n",
      "     A   A    A\n",
      "0  a0  a4   a8\n",
      "1  a1  a5   a9\n",
      "2  a2  a6  a10\n",
      "3  a3  a7  a11\n"
     ]
    }
   ],
   "source": [
    "#06.01: Concatenate the three dataframes in Question 04 as if you are adding columns, by using the 'concat' function from Pandas. \n",
    "#06.02: Print out the result, i.e., the dataframe after concatenating the 3 separate dataframes in 06.01, using the 'print' function.\n",
    "#06.03: Add a new column to the dataframe from 06.02, comprising the items  ['n1', 'n2', 'n3', 'n4']. Print out the result using the 'print' function.\n",
    "#06.04: Subset the concatenated dataframe by reading the column named as ['A']. Print out the result using the 'print' function.\n",
    "\n",
    "def answer_FinalExam_Paper01_Question_06():\n",
    "    concat1 = pd.read_csv('data/concat_1.csv')\n",
    "    concat2 = pd.read_csv('data/concat_2.csv')\n",
    "    concat3 = pd.read_csv('data/concat_3.csv')\n",
    "    # 06.01\n",
    "    concat = pd.concat([concat1, concat2, concat3], axis=1)\n",
    "    # 06.02\n",
    "    print('concatenated dataframes \\n', concat)\n",
    "    # 06.03\n",
    "    concat['new_column'] = ['n1', 'n2', 'n3', 'n4']\n",
    "    print('new column \\n', concat)\n",
    "    # 06.04\n",
    "    print('subset by column name \\n', concat['A'])\n",
    "\n",
    "answer_FinalExam_Paper01_Question_06()"
   ]
  },
  {
   "cell_type": "markdown",
   "metadata": {},
   "source": [
    "## Question 7"
   ]
  },
  {
   "cell_type": "code",
   "execution_count": 14,
   "metadata": {},
   "outputs": [
    {
     "name": "stdout",
     "output_type": "stream",
     "text": [
      "new row series \n",
      " 0    n1\n",
      "1    n2\n",
      "2    n3\n",
      "3    n4\n",
      "dtype: object\n",
      "concat 1 with new row \n",
      "     A   B   C   D\n",
      "0  a0  b0  c0  d0\n",
      "1  a1  b1  c1  d1\n",
      "2  a2  b2  c2  d2\n",
      "3  a3  b3  c3  d3\n",
      "new row df \n",
      "     A   B   C   D\n",
      "0  n1  n2  n3  n4\n",
      "concat 1 with new row \n",
      "     A   B   C   D\n",
      "0  a0  b0  c0  d0\n",
      "1  a1  b1  c1  d1\n",
      "2  a2  b2  c2  d2\n",
      "3  a3  b3  c3  d3\n"
     ]
    }
   ],
   "source": [
    "#07.01: Create a new row of data comprising ['n1', 'n2', 'n3', 'n4'] in the form of a series. Print the series, using the 'print' function.\n",
    "#07.02: Add, by using the 'concat' function from Pandas, this new row of data to a dataframe, say, formed by reading the dataset \"concat_1.csv\". Print the resulting dataframe, using the 'print' function.\n",
    "#07.03: Create a new row of data comprising ['n1', 'n2', 'n3', 'n4'] in the form of a dataframe. Print the dataframe using the 'print' function\n",
    "#07.04: Add, by using the 'concat' function from Pandas, this new row of data to a dataframe, say, formed by reading the dataset \"concat_1.csv\". Print the resulting dataframe, using the 'print' function.\n",
    "\n",
    "def answer_FinalExam_Paper01_Question_07():\n",
    "    concat1 = pd.read_csv('data/concat_1.csv')\n",
    "    concat2 = pd.read_csv('data/concat_2.csv')\n",
    "    concat3 = pd.read_csv('data/concat_3.csv')\n",
    "    # 07.01\n",
    "    new_row_series = pd.Series(['n1', 'n2', 'n3', 'n4'])\n",
    "    print('new row series \\n', new_row_series)\n",
    "    # 07.02\n",
    "    new_row_series_df = pd.DataFrame([new_row_series], columns=concat1.columns)\n",
    "    concat1_new = pd.concat([concat1, new_row_series_df])\n",
    "    print('concat 1 with new row \\n', concat1)\n",
    "    # 07.03\n",
    "    new_row_df = pd.DataFrame([['n1', 'n2', 'n3', 'n4']], columns=concat1.columns)\n",
    "    print('new row df \\n', new_row_df)\n",
    "    # 07.04\n",
    "    concat1_new = pd.concat([concat1, new_row_df])\n",
    "    print('concat 1 with new row \\n', concat1)\n",
    "\n",
    "answer_FinalExam_Paper01_Question_07()"
   ]
  },
  {
   "cell_type": "markdown",
   "metadata": {},
   "source": [
    "## Question 8"
   ]
  },
  {
   "cell_type": "code",
   "execution_count": 15,
   "metadata": {},
   "outputs": [
    {
     "name": "stdout",
     "output_type": "stream",
     "text": [
      "df1 \n",
      "     A   B   C   D\n",
      "0  a0  b0  c0  d0\n",
      "1  a1  b1  c1  d1\n",
      "2  a2  b2  c2  d2\n",
      "3  a3  b3  c3  d3\n",
      "df2 \n",
      "     E   F   G   H\n",
      "0  a4  b4  c4  d4\n",
      "1  a5  b5  c5  d5\n",
      "2  a6  b6  c6  d6\n",
      "3  a7  b7  c7  d7\n",
      "df3 \n",
      "      A    C    F    H\n",
      "0   a8   b8   c8   d8\n",
      "1   a9   b9   c9   d9\n",
      "2  a10  b10  c10  d10\n",
      "3  a11  b11  c11  d11\n",
      "concatenated dataframes \n",
      "      A    B    C    D    E    F    G    H\n",
      "0   a0   b0   c0   d0  NaN  NaN  NaN  NaN\n",
      "1   a1   b1   c1   d1  NaN  NaN  NaN  NaN\n",
      "2   a2   b2   c2   d2  NaN  NaN  NaN  NaN\n",
      "3   a3   b3   c3   d3  NaN  NaN  NaN  NaN\n",
      "0  NaN  NaN  NaN  NaN   a4   b4   c4   d4\n",
      "1  NaN  NaN  NaN  NaN   a5   b5   c5   d5\n",
      "2  NaN  NaN  NaN  NaN   a6   b6   c6   d6\n",
      "3  NaN  NaN  NaN  NaN   a7   b7   c7   d7\n",
      "0   a8  NaN   b8  NaN  NaN   c8  NaN   d8\n",
      "1   a9  NaN   b9  NaN  NaN   c9  NaN   d9\n",
      "2  a10  NaN  b10  NaN  NaN  c10  NaN  d10\n",
      "3  a11  NaN  b11  NaN  NaN  c11  NaN  d11\n",
      "concatenated df1 and df3 \n",
      "      A    C\n",
      "0   a0   c0\n",
      "1   a1   c1\n",
      "2   a2   c2\n",
      "3   a3   c3\n",
      "0   a8   b8\n",
      "1   a9   b9\n",
      "2  a10  b10\n",
      "3  a11  b11\n"
     ]
    }
   ],
   "source": [
    "#08.01: Name the three dataframe objects populated respectively with the 3 datasets from Question 01, as df1, df2, and df3, and assign them with the columns as indicated in the coding hints.\n",
    "#08.02: Print each of the three dataframes (df1, df2, df3), using 3 separate 'print' statements in Python.\n",
    "#08.03: Concatenate the three dataframes, using the 'concat' function from Pandas. Print the result using the 'print' function.\n",
    "#08.04: Concatenate the two dataframes (df1, df3) using the 'concat' function, keeping only the columns that are shared among the two datasets. Print the result using the 'print' function.\n",
    "\n",
    "def answer_FinalExam_Paper01_Question_08():\n",
    "    # 08.01\n",
    "    df1 = pd.read_csv('data/concat_1.csv')\n",
    "    df2 = pd.read_csv('data/concat_2.csv')\n",
    "    df3 = pd.read_csv('data/concat_3.csv')\n",
    "    # new columns names\n",
    "    df1.columns = ['A', 'B', 'C', 'D']\n",
    "    df2.columns = ['E', 'F', 'G', 'H']\n",
    "    df3.columns = ['A', 'C', 'F', 'H']\n",
    "    # 08.02\n",
    "    print('df1 \\n', df1)\n",
    "    print('df2 \\n', df2)\n",
    "    print('df3 \\n', df3)\n",
    "    # 08.03\n",
    "    concat = pd.concat([df1, df2, df3])\n",
    "    print('concatenated dataframes \\n', concat)\n",
    "    # 08.04\n",
    "    concat1_3 = pd.concat([df1, df3], join='inner')\n",
    "    print('concatenated df1 and df3 \\n', concat1_3)\n",
    "\n",
    "answer_FinalExam_Paper01_Question_08()"
   ]
  },
  {
   "cell_type": "markdown",
   "metadata": {},
   "source": [
    "## Question 9"
   ]
  },
  {
   "cell_type": "code",
   "execution_count": 16,
   "metadata": {},
   "outputs": [
    {
     "name": "stdout",
     "output_type": "stream",
     "text": [
      "df1 \n",
      "     A   B   C   D\n",
      "0  a0  b0  c0  d0\n",
      "1  a1  b1  c1  d1\n",
      "2  a2  b2  c2  d2\n",
      "3  a3  b3  c3  d3\n",
      "df2 \n",
      "     A   B   C   D\n",
      "4  a4  b4  c4  d4\n",
      "5  a5  b5  c5  d5\n",
      "6  a6  b6  c6  d6\n",
      "7  a7  b7  c7  d7\n",
      "df3 \n",
      "      A    B    C    D\n",
      "0   a8   b8   c8   d8\n",
      "2   a9   b9   c9   d9\n",
      "5  a10  b10  c10  d10\n",
      "7  a11  b11  c11  d11\n",
      "concatenated dataframes \n",
      "      A    B    C    D    A    B    C    D    A    B    C    D\n",
      "0   a0   b0   c0   d0  NaN  NaN  NaN  NaN   a8   b8   c8   d8\n",
      "1   a1   b1   c1   d1  NaN  NaN  NaN  NaN  NaN  NaN  NaN  NaN\n",
      "2   a2   b2   c2   d2  NaN  NaN  NaN  NaN   a9   b9   c9   d9\n",
      "3   a3   b3   c3   d3  NaN  NaN  NaN  NaN  NaN  NaN  NaN  NaN\n",
      "4  NaN  NaN  NaN  NaN   a4   b4   c4   d4  NaN  NaN  NaN  NaN\n",
      "5  NaN  NaN  NaN  NaN   a5   b5   c5   d5  a10  b10  c10  d10\n",
      "6  NaN  NaN  NaN  NaN   a6   b6   c6   d6  NaN  NaN  NaN  NaN\n",
      "7  NaN  NaN  NaN  NaN   a7   b7   c7   d7  a11  b11  c11  d11\n",
      "concatenated dataframes \n",
      "      A    B    C    D\n",
      "0   a0   b0   c0   d0\n",
      "1   a1   b1   c1   d1\n",
      "2   a2   b2   c2   d2\n",
      "3   a3   b3   c3   d3\n",
      "4   a4   b4   c4   d4\n",
      "5   a5   b5   c5   d5\n",
      "6   a6   b6   c6   d6\n",
      "7   a7   b7   c7   d7\n",
      "0   a8   b8   c8   d8\n",
      "2   a9   b9   c9   d9\n",
      "5  a10  b10  c10  d10\n",
      "7  a11  b11  c11  d11\n",
      "concatenated df1 and df3 \n",
      "     A   B   C   D   A   B   C   D\n",
      "0  a0  b0  c0  d0  a8  b8  c8  d8\n",
      "2  a2  b2  c2  d2  a9  b9  c9  d9\n"
     ]
    }
   ],
   "source": [
    "#09.01: Name the three dataframe objects populated respectively with the 3 datasets from Question 01, as df1, df2, and df3, and assign them with the row indices as indicated in the coding hints.\n",
    "#09.02: Print each of the three dataframes (df1, df2, df3), using 3 separate 'print' statements in Python.\n",
    "#09.03: Concatenate the three dataframes, using the 'concat' function from Pandas, setting the axis = 1. Print the result using the 'print' function.\n",
    "#09.04: Concatenate the three dataframes, using the 'concat' function from Pandas, setting the axis = 0. Print the result using the 'print' function.\n",
    "#09.05: Concatenate the two dataframes (df1, df3) using the 'concat' function, keeping only the rows that are shared among the two datasets. Print the result using the 'print' function.\n",
    "\n",
    "def answer_FinalExam_Paper01_Question_09():\n",
    "    # 09.01\n",
    "    df1 = pd.read_csv('data/concat_1.csv')\n",
    "    df2 = pd.read_csv('data/concat_2.csv')\n",
    "    df3 = pd.read_csv('data/concat_3.csv')\n",
    "    # new index\n",
    "    df1.index = [0, 1, 2, 3]\n",
    "    df2.index = [4, 5, 6, 7]\n",
    "    df3.index = [0, 2, 5, 7]\n",
    "    # 09.02\n",
    "    print('df1 \\n', df1)\n",
    "    print('df2 \\n', df2)\n",
    "    print('df3 \\n', df3)\n",
    "    # 09.03\n",
    "    concat = pd.concat([df1, df2, df3], axis=1)\n",
    "    print('concatenated dataframes \\n', concat)\n",
    "    # 09.04\n",
    "    concat = pd.concat([df1, df2, df3])\n",
    "    print('concatenated dataframes \\n', concat)\n",
    "    # 09.05\n",
    "    concat1_3 = pd.concat([df1, df3], join='inner', axis=1)\n",
    "    print('concatenated df1 and df3 \\n', concat1_3)\n",
    "\n",
    "answer_FinalExam_Paper01_Question_09()"
   ]
  },
  {
   "cell_type": "code",
   "execution_count": null,
   "metadata": {},
   "outputs": [],
   "source": []
  }
 ],
 "metadata": {
  "kernelspec": {
   "display_name": "Python 3 (ipykernel)",
   "language": "python",
   "name": "python3"
  },
  "language_info": {
   "codemirror_mode": {
    "name": "ipython",
    "version": 3
   },
   "file_extension": ".py",
   "mimetype": "text/x-python",
   "name": "python",
   "nbconvert_exporter": "python",
   "pygments_lexer": "ipython3",
   "version": "3.12.7"
  }
 },
 "nbformat": 4,
 "nbformat_minor": 4
}
