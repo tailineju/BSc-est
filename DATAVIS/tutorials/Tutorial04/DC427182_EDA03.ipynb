{
 "cells": [
  {
   "cell_type": "markdown",
   "id": "11fb4531-9e0d-435b-891c-9125449b0ef0",
   "metadata": {},
   "source": [
    "# Exploratory Data Analysis 3 (EDA03) \n",
    "Analysing Police's Data with Python Programming\n",
    "\n",
    "---\n",
    "Student: DC427182"
   ]
  },
  {
   "cell_type": "code",
   "execution_count": 1,
   "id": "eeec2695-8f21-4ea1-9ccd-0af1a6798f8e",
   "metadata": {},
   "outputs": [],
   "source": [
    "# importing needed library\n",
    "import pandas as pd"
   ]
  },
  {
   "cell_type": "code",
   "execution_count": 2,
   "id": "d11c35b0-c68a-458f-8a3d-fc8ef111e9ad",
   "metadata": {},
   "outputs": [],
   "source": [
    "# loading the dataset\n",
    "dataset = pd.read_csv('C:/Users/User/Documents/GitHub/gradest-1/DATAVIS/tutorials/Tutorial04/Datasets/police.csv')"
   ]
  },
  {
   "cell_type": "code",
   "execution_count": 3,
   "id": "81ea82c8-5ca8-4dd2-9b00-3e5fef0b4b29",
   "metadata": {},
   "outputs": [
    {
     "name": "stdout",
     "output_type": "stream",
     "text": [
      "<class 'pandas.core.frame.DataFrame'>\n",
      "RangeIndex: 65535 entries, 0 to 65534\n",
      "Data columns (total 15 columns):\n",
      " #   Column              Non-Null Count  Dtype  \n",
      "---  ------              --------------  -----  \n",
      " 0   stop_date           65535 non-null  object \n",
      " 1   stop_time           65535 non-null  object \n",
      " 2   country_name        0 non-null      float64\n",
      " 3   driver_gender       61474 non-null  object \n",
      " 4   driver_age_raw      61481 non-null  float64\n",
      " 5   driver_age          61228 non-null  float64\n",
      " 6   driver_race         61475 non-null  object \n",
      " 7   violation_raw       61475 non-null  object \n",
      " 8   violation           61475 non-null  object \n",
      " 9   search_conducted    65535 non-null  bool   \n",
      " 10  search_type         2479 non-null   object \n",
      " 11  stop_outcome        61475 non-null  object \n",
      " 12  is_arrested         61475 non-null  object \n",
      " 13  stop_duration       61475 non-null  object \n",
      " 14  drugs_related_stop  65535 non-null  bool   \n",
      "dtypes: bool(2), float64(3), object(10)\n",
      "memory usage: 6.6+ MB\n"
     ]
    }
   ],
   "source": [
    "# checking dataset's information\n",
    "dataset.info()"
   ]
  },
  {
   "cell_type": "code",
   "execution_count": 5,
   "id": "eb385703-4449-46f1-8288-9133729a3811",
   "metadata": {},
   "outputs": [
    {
     "data": {
      "text/plain": [
       "stop_date                 0\n",
       "stop_time                 0\n",
       "country_name          65535\n",
       "driver_gender          4061\n",
       "driver_age_raw         4054\n",
       "driver_age             4307\n",
       "driver_race            4060\n",
       "violation_raw          4060\n",
       "violation              4060\n",
       "search_conducted          0\n",
       "search_type           63056\n",
       "stop_outcome           4060\n",
       "is_arrested            4060\n",
       "stop_duration          4060\n",
       "drugs_related_stop        0\n",
       "dtype: int64"
      ]
     },
     "execution_count": 5,
     "metadata": {},
     "output_type": "execute_result"
    }
   ],
   "source": [
    "# Q.3-1) data cleaning: confirming the null column\n",
    "dataset.isnull().sum()"
   ]
  },
  {
   "cell_type": "code",
   "execution_count": 9,
   "id": "42220bdc-b643-42a2-ba2e-9d1159286da5",
   "metadata": {},
   "outputs": [
    {
     "name": "stdout",
     "output_type": "stream",
     "text": [
      "<class 'pandas.core.frame.DataFrame'>\n",
      "RangeIndex: 65535 entries, 0 to 65534\n",
      "Data columns (total 14 columns):\n",
      " #   Column              Non-Null Count  Dtype  \n",
      "---  ------              --------------  -----  \n",
      " 0   stop_date           65535 non-null  object \n",
      " 1   stop_time           65535 non-null  object \n",
      " 2   driver_gender       61474 non-null  object \n",
      " 3   driver_age_raw      61481 non-null  float64\n",
      " 4   driver_age          61228 non-null  float64\n",
      " 5   driver_race         61475 non-null  object \n",
      " 6   violation_raw       61475 non-null  object \n",
      " 7   violation           61475 non-null  object \n",
      " 8   search_conducted    65535 non-null  bool   \n",
      " 9   search_type         2479 non-null   object \n",
      " 10  stop_outcome        61475 non-null  object \n",
      " 11  is_arrested         61475 non-null  object \n",
      " 12  stop_duration       61475 non-null  object \n",
      " 13  drugs_related_stop  65535 non-null  bool   \n",
      "dtypes: bool(2), float64(2), object(10)\n",
      "memory usage: 6.1+ MB\n"
     ]
    }
   ],
   "source": [
    "# Q.3-1) data cleaning: removing null column\n",
    "dataset = dataset.drop(columns=['country_name'])\n",
    "dataset.info()"
   ]
  },
  {
   "cell_type": "code",
   "execution_count": 11,
   "id": "28ba0006-1265-48af-a99a-fca996581821",
   "metadata": {},
   "outputs": [
    {
     "data": {
      "text/plain": [
       "driver_gender\n",
       "M    25517\n",
       "F    11686\n",
       "Name: count, dtype: int64"
      ]
     },
     "execution_count": 11,
     "metadata": {},
     "output_type": "execute_result"
    }
   ],
   "source": [
    "# Q.3.2) checking speeding stops by driver's gender\n",
    "\n",
    "# filtering the dataset\n",
    "speeding_stops = dataset[dataset['violation'] == 'Speeding']\n",
    "\n",
    "# checking the speeding stops by driver\n",
    "speeding_stops['driver_gender'].value_counts()"
   ]
  },
  {
   "cell_type": "markdown",
   "id": "65074bad-d4d1-42f3-bbfc-597b26e2b891",
   "metadata": {},
   "source": [
    "From the count, we can notice that men were stopped over twice more than women."
   ]
  },
  {
   "cell_type": "code",
   "execution_count": 14,
   "id": "85d43bfa-3366-4e62-9ff1-7fbd8051893b",
   "metadata": {},
   "outputs": [
    {
     "data": {
      "text/plain": [
       "driver_gender\n",
       "M    2113\n",
       "F     366\n",
       "Name: count, dtype: int64"
      ]
     },
     "execution_count": 14,
     "metadata": {},
     "output_type": "execute_result"
    }
   ],
   "source": [
    "# Q.3-3) getting searched in a stop, gender analysis\n",
    "# filtering the dataset\n",
    "searched = dataset[dataset['search_conducted'] == True]\n",
    "\n",
    "# checking the searched by driver\n",
    "searched['driver_gender'].value_counts()"
   ]
  },
  {
   "cell_type": "markdown",
   "id": "a5559414-1e68-4b9c-9e46-f8eab0908730",
   "metadata": {},
   "source": [
    "From the count, we can notice that men were searched over almost 6 times more than women."
   ]
  },
  {
   "cell_type": "code",
   "execution_count": 17,
   "id": "f1de8fb8-f258-4796-a942-41276d709f0f",
   "metadata": {},
   "outputs": [
    {
     "data": {
      "text/plain": [
       "array(['0-15 Min', '16-30 Min', '30+ Min', nan, '2'], dtype=object)"
      ]
     },
     "execution_count": 17,
     "metadata": {},
     "output_type": "execute_result"
    }
   ],
   "source": [
    "# Q.3-4) analysis of stop duration: checking the data type\n",
    "dataset['stop_duration'].unique()"
   ]
  },
  {
   "cell_type": "code",
   "execution_count": 19,
   "id": "ac4c8099-6528-4ffc-a068-4a979dff6fb0",
   "metadata": {},
   "outputs": [
    {
     "data": {
      "text/plain": [
       "0     7.5\n",
       "1     7.5\n",
       "2     7.5\n",
       "3    24.0\n",
       "4     7.5\n",
       "Name: stop_duration_new, dtype: float64"
      ]
     },
     "execution_count": 19,
     "metadata": {},
     "output_type": "execute_result"
    }
   ],
   "source": [
    "# Q.3-4) analysis of stop duration: converting to numeric by using middle-points\n",
    "dataset['stop_duration_new'] = dataset['stop_duration'].map({'0-15 Min': 7.5, '16-30 Min': 24, '30+ Min': 45}) \n",
    "#notice that other values will be simply treated to \"null\"\n",
    "dataset['stop_duration_new'].head()"
   ]
  },
  {
   "cell_type": "code",
   "execution_count": 21,
   "id": "21b1bbfc-88cb-440c-8630-b692f983bb80",
   "metadata": {},
   "outputs": [
    {
     "data": {
      "text/plain": [
       "12.187420698181345"
      ]
     },
     "execution_count": 21,
     "metadata": {},
     "output_type": "execute_result"
    }
   ],
   "source": [
    "# Q.3-4) analysis of stop duration: calculating the mean\n",
    "dataset['stop_duration_new'].mean()"
   ]
  },
  {
   "cell_type": "code",
   "execution_count": 34,
   "id": "d14ac41f-d74d-4252-af63-685a75c9a7fd",
   "metadata": {},
   "outputs": [
    {
     "data": {
      "text/html": [
       "<div>\n",
       "<style scoped>\n",
       "    .dataframe tbody tr th:only-of-type {\n",
       "        vertical-align: middle;\n",
       "    }\n",
       "\n",
       "    .dataframe tbody tr th {\n",
       "        vertical-align: top;\n",
       "    }\n",
       "\n",
       "    .dataframe thead th {\n",
       "        text-align: right;\n",
       "    }\n",
       "</style>\n",
       "<table border=\"1\" class=\"dataframe\">\n",
       "  <thead>\n",
       "    <tr style=\"text-align: right;\">\n",
       "      <th></th>\n",
       "      <th>count</th>\n",
       "      <th>mean</th>\n",
       "      <th>std</th>\n",
       "      <th>min</th>\n",
       "      <th>25%</th>\n",
       "      <th>50%</th>\n",
       "      <th>75%</th>\n",
       "      <th>max</th>\n",
       "    </tr>\n",
       "    <tr>\n",
       "      <th>violation</th>\n",
       "      <th></th>\n",
       "      <th></th>\n",
       "      <th></th>\n",
       "      <th></th>\n",
       "      <th></th>\n",
       "      <th></th>\n",
       "      <th></th>\n",
       "      <th></th>\n",
       "    </tr>\n",
       "  </thead>\n",
       "  <tbody>\n",
       "    <tr>\n",
       "      <th>Equipment</th>\n",
       "      <td>6507.0</td>\n",
       "      <td>31.682957</td>\n",
       "      <td>11.380671</td>\n",
       "      <td>16.0</td>\n",
       "      <td>23.0</td>\n",
       "      <td>28.0</td>\n",
       "      <td>39.0</td>\n",
       "      <td>81.0</td>\n",
       "    </tr>\n",
       "    <tr>\n",
       "      <th>Moving violation</th>\n",
       "      <td>11876.0</td>\n",
       "      <td>36.736443</td>\n",
       "      <td>13.258350</td>\n",
       "      <td>15.0</td>\n",
       "      <td>25.0</td>\n",
       "      <td>35.0</td>\n",
       "      <td>47.0</td>\n",
       "      <td>86.0</td>\n",
       "    </tr>\n",
       "    <tr>\n",
       "      <th>Other</th>\n",
       "      <td>3477.0</td>\n",
       "      <td>40.362381</td>\n",
       "      <td>12.754423</td>\n",
       "      <td>16.0</td>\n",
       "      <td>30.0</td>\n",
       "      <td>41.0</td>\n",
       "      <td>50.0</td>\n",
       "      <td>86.0</td>\n",
       "    </tr>\n",
       "    <tr>\n",
       "      <th>Registration/plates</th>\n",
       "      <td>2240.0</td>\n",
       "      <td>32.656696</td>\n",
       "      <td>11.150780</td>\n",
       "      <td>16.0</td>\n",
       "      <td>24.0</td>\n",
       "      <td>30.0</td>\n",
       "      <td>40.0</td>\n",
       "      <td>74.0</td>\n",
       "    </tr>\n",
       "    <tr>\n",
       "      <th>Seat belt</th>\n",
       "      <td>3.0</td>\n",
       "      <td>30.333333</td>\n",
       "      <td>10.214369</td>\n",
       "      <td>23.0</td>\n",
       "      <td>24.5</td>\n",
       "      <td>26.0</td>\n",
       "      <td>34.0</td>\n",
       "      <td>42.0</td>\n",
       "    </tr>\n",
       "    <tr>\n",
       "      <th>Speeding</th>\n",
       "      <td>37120.0</td>\n",
       "      <td>33.262581</td>\n",
       "      <td>12.615781</td>\n",
       "      <td>15.0</td>\n",
       "      <td>23.0</td>\n",
       "      <td>30.0</td>\n",
       "      <td>42.0</td>\n",
       "      <td>88.0</td>\n",
       "    </tr>\n",
       "  </tbody>\n",
       "</table>\n",
       "</div>"
      ],
      "text/plain": [
       "                       count       mean        std   min   25%   50%   75%  \\\n",
       "violation                                                                    \n",
       "Equipment             6507.0  31.682957  11.380671  16.0  23.0  28.0  39.0   \n",
       "Moving violation     11876.0  36.736443  13.258350  15.0  25.0  35.0  47.0   \n",
       "Other                 3477.0  40.362381  12.754423  16.0  30.0  41.0  50.0   \n",
       "Registration/plates   2240.0  32.656696  11.150780  16.0  24.0  30.0  40.0   \n",
       "Seat belt                3.0  30.333333  10.214369  23.0  24.5  26.0  34.0   \n",
       "Speeding             37120.0  33.262581  12.615781  15.0  23.0  30.0  42.0   \n",
       "\n",
       "                      max  \n",
       "violation                  \n",
       "Equipment            81.0  \n",
       "Moving violation     86.0  \n",
       "Other                86.0  \n",
       "Registration/plates  74.0  \n",
       "Seat belt            42.0  \n",
       "Speeding             88.0  "
      ]
     },
     "execution_count": 34,
     "metadata": {},
     "output_type": "execute_result"
    }
   ],
   "source": [
    "# Q.3-5) compare the age distributions for each violation.\n",
    "\n",
    "age_violation = dataset.groupby('violation')['driver_age']\n",
    "age_violation.describe()"
   ]
  },
  {
   "cell_type": "markdown",
   "id": "6543f8e0-c5bf-442d-b99f-1e14070a192f",
   "metadata": {},
   "source": [
    "From the statiscal summary, we can see that most of the violations are greatly affected by big values like the age of 86. \"speeding\" and \"equipment\" seems to be the most affected ones as the means are the farest from the medians. \"moving violation\" is often done by the older people on the dataset, as 75% of the records is from ages bellow 47. For seatbelt we see a possible turn, where the younger people do more of these violations, but we only have 3 records which is not comparable to the others violations. "
   ]
  },
  {
   "cell_type": "code",
   "execution_count": null,
   "id": "12dcf0f9-3a6e-4bd4-9538-33e1100b297c",
   "metadata": {},
   "outputs": [],
   "source": []
  }
 ],
 "metadata": {
  "kernelspec": {
   "display_name": "Python 3 (ipykernel)",
   "language": "python",
   "name": "python3"
  },
  "language_info": {
   "codemirror_mode": {
    "name": "ipython",
    "version": 3
   },
   "file_extension": ".py",
   "mimetype": "text/x-python",
   "name": "python",
   "nbconvert_exporter": "python",
   "pygments_lexer": "ipython3",
   "version": "3.12.4"
  }
 },
 "nbformat": 4,
 "nbformat_minor": 5
}
