{
 "cells": [
  {
   "cell_type": "markdown",
   "id": "c640eafe-b439-4626-8642-03922bec0dc5",
   "metadata": {},
   "source": [
    "# Plotting Basics\n",
    "Student: DC427182"
   ]
  },
  {
   "cell_type": "markdown",
   "id": "6171c3dc-4893-4b14-ba2f-dff7bee499ce",
   "metadata": {},
   "source": [
    "## Activity 4.01"
   ]
  },
  {
   "cell_type": "markdown",
   "id": "c78610e9-f41e-4a64-99a1-2491c7d63d2a",
   "metadata": {},
   "source": [
    "Q4.01:Comparison charts: bar charts and radar charts. "
   ]
  },
  {
   "cell_type": "markdown",
   "id": "03eaea99-5902-41a1-9327-658d6c234089",
   "metadata": {},
   "source": [
    "Q4.02: If there was a clear legend of the colors for each person analyzed, the bar chart would be the best since you can compare individually each attribute. The radra chart offers a individual vision of each person, so the comparison is more about how all attribute behave in each person."
   ]
  },
  {
   "cell_type": "markdown",
   "id": "aafa2eb9-c7a2-4601-a441-7bd882a9352b",
   "metadata": {},
   "source": [
    "Q4.03: For bar chart, add a legend for colors and value labels for each bar. For radar chart maybe trying to do more chart(s), combining different persons or even all of them."
   ]
  },
  {
   "cell_type": "markdown",
   "id": "d5c968cb-4918-4cf1-9129-c4e11f50bbcf",
   "metadata": {},
   "source": [
    "## Activity 4.02"
   ]
  },
  {
   "cell_type": "markdown",
   "id": "2b433242-65e9-4941-9db5-9e6566ce104d",
   "metadata": {},
   "source": [
    "Q4.04: By the color scale it is easy to see that 2015 and 2000 had the least road accidents compared to the other years. "
   ]
  },
  {
   "cell_type": "markdown",
   "id": "d1da0fe5-6721-4ad6-aa04-42fd33ec51c8",
   "metadata": {},
   "source": [
    "Q4.05: January started of in 1995 with the biggest number of accidents and decreased over the years in a way that in 2015 it was the month with least accidents."
   ]
  },
  {
   "cell_type": "markdown",
   "id": "e05b89eb-019b-426c-8a6d-210c0b43c14c",
   "metadata": {},
   "source": [
    "## Activity 4.03"
   ]
  },
  {
   "cell_type": "markdown",
   "id": "b0bd3ff3-b923-45b1-8a8a-b03ac01f0aee",
   "metadata": {},
   "source": [
    "Q4.06: Apple is the one company who has a big perfomance in 4th quarter, especially compared to its 3rd quarter performance. "
   ]
  },
  {
   "cell_type": "markdown",
   "id": "3b5a061e-7bbe-4f7f-af11-6009e32353a7",
   "metadata": {},
   "source": [
    "Q4.07: Huawei and OPPO are companies that seem to be in a upward and downward trend between quarters. "
   ]
  },
  {
   "cell_type": "markdown",
   "id": "5dcff21d-f7a9-469d-9f4b-e96318d2a6a2",
   "metadata": {},
   "source": [
    "Q4.08: Using a stacked area chart would give a sense of how much each company has more/less sales than the others. For this case, the chart could be hard to understand, because the spaces are not well defined/distributed. So a lot of overlaps would happen and even using transparent colors, information could be missed."
   ]
  },
  {
   "cell_type": "markdown",
   "id": "4b3a5a08-8c7f-491b-89d2-45e56d05ba9d",
   "metadata": {},
   "source": [
    "## Activity 4.04"
   ]
  },
  {
   "cell_type": "markdown",
   "id": "a0010c26-a9e9-4b4f-9d14-aff3d3c9b168",
   "metadata": {},
   "source": [
    "Q4.09: Between 4pm and 6pm is the interval where most trains arrive."
   ]
  },
  {
   "cell_type": "markdown",
   "id": "00a0430d-7789-460e-a889-6ed7f1791176",
   "metadata": {},
   "source": [
    "Q4.10: "
   ]
  },
  {
   "cell_type": "markdown",
   "id": "a3c3959a-2f4f-4e4b-ab7c-1b2f908e11ae",
   "metadata": {},
   "source": [
    "## Activity 4.05"
   ]
  },
  {
   "cell_type": "code",
   "execution_count": null,
   "id": "33483405-eba8-4c42-bf86-0642de7b9f1c",
   "metadata": {},
   "outputs": [],
   "source": []
  }
 ],
 "metadata": {
  "kernelspec": {
   "display_name": "Python 3 (ipykernel)",
   "language": "python",
   "name": "python3"
  },
  "language_info": {
   "codemirror_mode": {
    "name": "ipython",
    "version": 3
   },
   "file_extension": ".py",
   "mimetype": "text/x-python",
   "name": "python",
   "nbconvert_exporter": "python",
   "pygments_lexer": "ipython3",
   "version": "3.12.4"
  }
 },
 "nbformat": 4,
 "nbformat_minor": 5
}
