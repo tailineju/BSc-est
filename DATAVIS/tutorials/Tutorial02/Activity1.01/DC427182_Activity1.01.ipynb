{
 "cells": [
  {
   "cell_type": "code",
   "execution_count": 4,
   "id": "f2d01302-9ed6-4fcb-acb3-5a7f33db2f2a",
   "metadata": {},
   "outputs": [],
   "source": [
    "# 01\n",
    "import numpy as np"
   ]
  },
  {
   "cell_type": "code",
   "execution_count": 6,
   "id": "ed0e6340-677d-443c-a969-69d06022c91b",
   "metadata": {},
   "outputs": [],
   "source": [
    "# 02 \n",
    "dataset = np.genfromtxt('C:/Users/User/Documents/GitHub/gradest-1/DATAVIS/tutorials/Tutorial02/Datasets/normal_distribution.csv', delimiter=',')"
   ]
  },
  {
   "cell_type": "code",
   "execution_count": 8,
   "id": "5ee77425-6dd7-4581-be76-b40f3346c02c",
   "metadata": {},
   "outputs": [
    {
     "data": {
      "text/plain": [
       "array([ 95.66253664,  95.17750125,  90.93318132, 110.18889465,\n",
       "        98.80084371, 105.95297652,  98.37481387, 106.54654286])"
      ]
     },
     "execution_count": 8,
     "metadata": {},
     "output_type": "execute_result"
    }
   ],
   "source": [
    "# 03\n",
    "# looking at the first 2 rows of the dataset\n",
    "dataset[2]"
   ]
  },
  {
   "cell_type": "code",
   "execution_count": 10,
   "id": "36be242c-a3cd-41cb-9e30-1936f125a881",
   "metadata": {},
   "outputs": [
    {
     "data": {
      "text/plain": [
       "100.20466135250001"
      ]
     },
     "execution_count": 10,
     "metadata": {},
     "output_type": "execute_result"
    }
   ],
   "source": [
    "# 04\n",
    "# calculating the mean for the 3rd row\n",
    "np.mean(dataset[2])"
   ]
  },
  {
   "cell_type": "code",
   "execution_count": 12,
   "id": "b68214fe-fd8a-4ce3-9196-bf6f97b82bf6",
   "metadata": {},
   "outputs": [
    {
     "data": {
      "text/plain": [
       "array([ 98.56783189, 101.23162942, 106.54654286,  95.08715803,\n",
       "        94.20019732, 101.13442416, 106.83273763,  92.5748759 ,\n",
       "       106.03868807, 103.29147111,  95.85284217,  97.59572169,\n",
       "       102.35313953,  99.58664719, 103.93383957,  98.07122664,\n",
       "       104.15899829, 104.70526438,  99.92159953, 102.20618501,\n",
       "        98.00253006,  94.76253572, 103.83852459, 100.07721494])"
      ]
     },
     "execution_count": 12,
     "metadata": {},
     "output_type": "execute_result"
    }
   ],
   "source": [
    "# 05 \n",
    "# last column of every row\n",
    "dataset[:, -1]"
   ]
  },
  {
   "cell_type": "code",
   "execution_count": 14,
   "id": "e1da0450-c0fc-4a5a-9d6e-cbd108456ee7",
   "metadata": {},
   "outputs": [
    {
     "data": {
      "text/plain": [
       "90.93318132"
      ]
     },
     "execution_count": 14,
     "metadata": {},
     "output_type": "execute_result"
    }
   ],
   "source": [
    "# 06 \n",
    "# \n",
    "dataset[2, 2]"
   ]
  }
 ],
 "metadata": {
  "kernelspec": {
   "display_name": "Python 3 (ipykernel)",
   "language": "python",
   "name": "python3"
  },
  "language_info": {
   "codemirror_mode": {
    "name": "ipython",
    "version": 3
   },
   "file_extension": ".py",
   "mimetype": "text/x-python",
   "name": "python",
   "nbconvert_exporter": "python",
   "pygments_lexer": "ipython3",
   "version": "3.12.4"
  }
 },
 "nbformat": 4,
 "nbformat_minor": 5
}
