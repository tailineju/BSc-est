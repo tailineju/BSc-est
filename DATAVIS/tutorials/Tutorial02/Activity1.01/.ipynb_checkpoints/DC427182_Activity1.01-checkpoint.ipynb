{
 "cells": [
  {
   "cell_type": "code",
   "execution_count": 4,
   "id": "f2d01302-9ed6-4fcb-acb3-5a7f33db2f2a",
   "metadata": {},
   "outputs": [],
   "source": [
    "# 01\n",
    "# import NumPy and give it the alias np\n",
    "import numpy as np"
   ]
  },
  {
   "cell_type": "code",
   "execution_count": 6,
   "id": "ed0e6340-677d-443c-a969-69d06022c91b",
   "metadata": {},
   "outputs": [],
   "source": [
    "# 02 \n",
    "# load the dataset\n",
    "dataset = np.genfromtxt('C:/Users/User/Documents/GitHub/gradest-1/DATAVIS/tutorials/Tutorial02/Datasets/normal_distribution.csv', delimiter=',')"
   ]
  },
  {
   "cell_type": "code",
   "execution_count": 8,
   "id": "5ee77425-6dd7-4581-be76-b40f3346c02c",
   "metadata": {},
   "outputs": [
    {
     "data": {
      "text/plain": [
       "array([ 95.66253664,  95.17750125,  90.93318132, 110.18889465,\n",
       "        98.80084371, 105.95297652,  98.37481387, 106.54654286])"
      ]
     },
     "execution_count": 8,
     "metadata": {},
     "output_type": "execute_result"
    }
   ],
   "source": [
    "# 03\n",
    "# looking at the first 2 rows of the dataset\n",
    "dataset[0:2]"
   ]
  },
  {
   "cell_type": "code",
   "execution_count": 10,
   "id": "36be242c-a3cd-41cb-9e30-1936f125a881",
   "metadata": {},
   "outputs": [
    {
     "data": {
      "text/plain": [
       "100.20466135250001"
      ]
     },
     "execution_count": 10,
     "metadata": {},
     "output_type": "execute_result"
    }
   ],
   "source": [
    "# 04\n",
    "# calculating the mean for the 3rd row\n",
    "np.mean(dataset[2])"
   ]
  },
  {
   "cell_type": "code",
   "execution_count": 20,
   "id": "b68214fe-fd8a-4ce3-9196-bf6f97b82bf6",
   "metadata": {},
   "outputs": [
    {
     "data": {
      "text/plain": [
       "100.07721494"
      ]
     },
     "execution_count": 20,
     "metadata": {},
     "output_type": "execute_result"
    }
   ],
   "source": [
    "# 05 \n",
    "# last element of the dataset\n",
    "dataset[-1][-1]"
   ]
  },
  {
   "cell_type": "code",
   "execution_count": 18,
   "id": "e1da0450-c0fc-4a5a-9d6e-cbd108456ee7",
   "metadata": {},
   "outputs": [
    {
     "data": {
      "text/plain": [
       "array([[ 99.14931546, 104.03852715, 107.43534677],\n",
       "       [ 92.02628776,  97.10439252,  99.32066924],\n",
       "       [ 95.66253664,  95.17750125,  90.93318132]])"
      ]
     },
     "execution_count": 18,
     "metadata": {},
     "output_type": "execute_result"
    }
   ],
   "source": [
    "# 06 \n",
    "# submatrix of the first three elements of every row of the first three columns \n",
    "dataset [:3,:3]"
   ]
  },
  {
   "cell_type": "code",
   "execution_count": 22,
   "id": "6b5ea21a-8283-4928-aa47-cf7ddfa2e1bd",
   "metadata": {},
   "outputs": [
    {
     "data": {
      "text/plain": [
       "99.18748092"
      ]
     },
     "execution_count": 22,
     "metadata": {},
     "output_type": "execute_result"
    }
   ],
   "source": [
    "# 07 \n",
    "np.median(dataset[-1])"
   ]
  },
  {
   "cell_type": "code",
   "execution_count": null,
   "id": "28ac9578-b582-44c8-9b95-8fc17f1f1500",
   "metadata": {},
   "outputs": [],
   "source": [
    "# 08\n"
   ]
  },
  {
   "cell_type": "code",
   "execution_count": null,
   "id": "1ce52272-3fb8-4b6f-a209-93c4b3a6fdf8",
   "metadata": {},
   "outputs": [],
   "source": [
    "# 09"
   ]
  },
  {
   "cell_type": "code",
   "execution_count": null,
   "id": "7df8aa51-a7f0-442a-ac6c-a808815d2bec",
   "metadata": {},
   "outputs": [],
   "source": [
    "# 10"
   ]
  },
  {
   "cell_type": "code",
   "execution_count": 28,
   "id": "e94bd478-4f1b-4f36-b8fc-f3f2308efd0a",
   "metadata": {},
   "outputs": [
    {
     "data": {
      "text/plain": [
       "4.674691991769191"
      ]
     },
     "execution_count": 28,
     "metadata": {},
     "output_type": "execute_result"
    }
   ],
   "source": [
    "# 11\n",
    "np.var(dataset[-2:,:2])"
   ]
  },
  {
   "cell_type": "code",
   "execution_count": 24,
   "id": "50aa705e-29da-4bad-acb5-925ca8d2c7a8",
   "metadata": {},
   "outputs": [],
   "source": [
    "# 12"
   ]
  },
  {
   "cell_type": "code",
   "execution_count": null,
   "id": "11bfbb0b-6813-4464-86aa-a943a2a07c69",
   "metadata": {},
   "outputs": [],
   "source": []
  }
 ],
 "metadata": {
  "kernelspec": {
   "display_name": "Python 3 (ipykernel)",
   "language": "python",
   "name": "python3"
  },
  "language_info": {
   "codemirror_mode": {
    "name": "ipython",
    "version": 3
   },
   "file_extension": ".py",
   "mimetype": "text/x-python",
   "name": "python",
   "nbconvert_exporter": "python",
   "pygments_lexer": "ipython3",
   "version": "3.12.4"
  }
 },
 "nbformat": 4,
 "nbformat_minor": 5
}
