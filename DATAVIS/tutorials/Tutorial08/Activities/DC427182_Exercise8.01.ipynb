{
 "cells": [
  {
   "cell_type": "markdown",
   "id": "de6bbace-b784-4a87-97d4-5e7b72482606",
   "metadata": {},
   "source": [
    "# Exercise 8.01"
   ]
  },
  {
   "cell_type": "code",
   "execution_count": null,
   "id": "565fb3cb-7131-4a26-9fae-35a5ca3c4b16",
   "metadata": {},
   "outputs": [],
   "source": []
  }
 ],
 "metadata": {
  "kernelspec": {
   "display_name": "Python 3 (ipykernel)",
   "language": "python",
   "name": "python3"
  },
  "language_info": {
   "codemirror_mode": {
    "name": "ipython",
    "version": 3
   },
   "file_extension": ".py",
   "mimetype": "text/x-python",
   "name": "python",
   "nbconvert_exporter": "python",
   "pygments_lexer": "ipython3",
   "version": "3.12.4"
  }
 },
 "nbformat": 4,
 "nbformat_minor": 5
}
