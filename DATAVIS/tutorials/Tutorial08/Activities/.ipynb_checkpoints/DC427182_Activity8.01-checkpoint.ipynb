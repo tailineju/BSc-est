{
 "cells": [
  {
   "cell_type": "markdown",
   "metadata": {},
   "source": [
    "# Activity 8.01\n",
    "\n",
    "Student: DC427182"
   ]
  },
  {
   "cell_type": "code",
   "execution_count": 31,
   "metadata": {},
   "outputs": [
    {
     "data": {
      "text/html": [
       "    <style>\n",
       "        .bk-notebook-logo {\n",
       "            display: block;\n",
       "            width: 20px;\n",
       "            height: 20px;\n",
       "            background-image: url(data:image/png;base64,iVBORw0KGgoAAAANSUhEUgAAABQAAAAUCAYAAACNiR0NAAAABHNCSVQICAgIfAhkiAAAAAlwSFlzAAALEgAACxIB0t1+/AAAABx0RVh0U29mdHdhcmUAQWRvYmUgRmlyZXdvcmtzIENTNui8sowAAAOkSURBVDiNjZRtaJVlGMd/1/08zzln5zjP1LWcU9N0NkN8m2CYjpgQYQXqSs0I84OLIC0hkEKoPtiH3gmKoiJDU7QpLgoLjLIQCpEsNJ1vqUOdO7ppbuec5+V+rj4ctwzd8IIbbi6u+8f1539dt3A78eXC7QizUF7gyV1fD1Yqg4JWz84yffhm0qkFqBogB9rM8tZdtwVsPUhWhGcFJngGeWrPzHm5oaMmkfEg1usvLFyc8jLRqDOMru7AyC8saQr7GG7f5fvDeH7Ej8CM66nIF+8yngt6HWaKh7k49Soy9nXurCi1o3qUbS3zWfrYeQDTB/Qj6kX6Ybhw4B+bOYoLKCC9H3Nu/leUTZ1JdRWkkn2ldcCamzrcf47KKXdAJllSlxAOkRgyHsGC/zRday5Qld9DyoM4/q/rUoy/CXh3jzOu3bHUVZeU+DEn8FInkPBFlu3+nW3Nw0mk6vCDiWg8CeJaxEwuHS3+z5RgY+YBR6V1Z1nxSOfoaPa4LASWxxdNp+VWTk7+4vzaou8v8PN+xo+KY2xsw6une2frhw05CTYOmQvsEhjhWjn0bmXPjpE1+kplmmkP3suftwTubK9Vq22qKmrBhpY4jvd5afdRA3wGjFAgcnTK2s4hY0/GPNIb0nErGMCRxWOOX64Z8RAC4oCXdklmEvcL8o0BfkNK4lUg9HTl+oPlQxdNo3Mg4Nv175e/1LDGzZen30MEjRUtmXSfiTVu1kK8W4txyV6BMKlbgk3lMwYCiusNy9fVfvvwMxv8Ynl6vxoByANLTWplvuj/nF9m2+PDtt1eiHPBr1oIfhCChQMBw6Aw0UulqTKZdfVvfG7VcfIqLG9bcldL/+pdWTLxLUy8Qq38heUIjh4XlzZxzQm19lLFlr8vdQ97rjZVOLf8nclzckbcD4wxXMidpX30sFd37Fv/GtwwhzhxGVAprjbg0gCAEeIgwCZyTV2Z1REEW8O4py0wsjeloKoMr6iCY6dP92H6Vw/oTyICIthibxjm/DfN9lVz8IqtqKYLUXfoKVMVQVVJOElGjrnnUt9T9wbgp8AyYKaGlqingHZU/uG2NTZSVqwHQTWkx9hxjkpWDaCg6Ckj5qebgBVbT3V3NNXMSiWSDdGV3hrtzla7J+duwPOToIg42ChPQOQjspnSlp1V+Gjdged7+8UN5CRAV7a5EdFNwCjEaBR27b3W890TE7g24NAP/mMDXRWrGoFPQI9ls/MWO2dWFAar/xcOIImbbpA3zgAAAABJRU5ErkJggg==);\n",
       "        }\n",
       "    </style>\n",
       "    <div>\n",
       "        <a href=\"https://bokeh.org\" target=\"_blank\" class=\"bk-notebook-logo\"></a>\n",
       "        <span id=\"bf33626a-7ff0-4890-86c7-2e27256bfcf4\">Loading BokehJS ...</span>\n",
       "    </div>\n"
      ]
     },
     "metadata": {},
     "output_type": "display_data"
    },
    {
     "data": {
      "application/javascript": "'use strict';\n(function(root) {\n  function now() {\n    return new Date();\n  }\n\n  const force = true;\n\n  if (typeof root._bokeh_onload_callbacks === \"undefined\" || force === true) {\n    root._bokeh_onload_callbacks = [];\n    root._bokeh_is_loading = undefined;\n  }\n\nconst JS_MIME_TYPE = 'application/javascript';\n  const HTML_MIME_TYPE = 'text/html';\n  const EXEC_MIME_TYPE = 'application/vnd.bokehjs_exec.v0+json';\n  const CLASS_NAME = 'output_bokeh rendered_html';\n\n  /**\n   * Render data to the DOM node\n   */\n  function render(props, node) {\n    const script = document.createElement(\"script\");\n    node.appendChild(script);\n  }\n\n  /**\n   * Handle when an output is cleared or removed\n   */\n  function handleClearOutput(event, handle) {\n    function drop(id) {\n      const view = Bokeh.index.get_by_id(id)\n      if (view != null) {\n        view.model.document.clear()\n        Bokeh.index.delete(view)\n      }\n    }\n\n    const cell = handle.cell;\n\n    const id = cell.output_area._bokeh_element_id;\n    const server_id = cell.output_area._bokeh_server_id;\n\n    // Clean up Bokeh references\n    if (id != null) {\n      drop(id)\n    }\n\n    if (server_id !== undefined) {\n      // Clean up Bokeh references\n      const cmd_clean = \"from bokeh.io.state import curstate; print(curstate().uuid_to_server['\" + server_id + \"'].get_sessions()[0].document.roots[0]._id)\";\n      cell.notebook.kernel.execute(cmd_clean, {\n        iopub: {\n          output: function(msg) {\n            const id = msg.content.text.trim()\n            drop(id)\n          }\n        }\n      });\n      // Destroy server and session\n      const cmd_destroy = \"import bokeh.io.notebook as ion; ion.destroy_server('\" + server_id + \"')\";\n      cell.notebook.kernel.execute(cmd_destroy);\n    }\n  }\n\n  /**\n   * Handle when a new output is added\n   */\n  function handleAddOutput(event, handle) {\n    const output_area = handle.output_area;\n    const output = handle.output;\n\n    // limit handleAddOutput to display_data with EXEC_MIME_TYPE content only\n    if ((output.output_type != \"display_data\") || (!Object.prototype.hasOwnProperty.call(output.data, EXEC_MIME_TYPE))) {\n      return\n    }\n\n    const toinsert = output_area.element.find(\".\" + CLASS_NAME.split(' ')[0]);\n\n    if (output.metadata[EXEC_MIME_TYPE][\"id\"] !== undefined) {\n      toinsert[toinsert.length - 1].firstChild.textContent = output.data[JS_MIME_TYPE];\n      // store reference to embed id on output_area\n      output_area._bokeh_element_id = output.metadata[EXEC_MIME_TYPE][\"id\"];\n    }\n    if (output.metadata[EXEC_MIME_TYPE][\"server_id\"] !== undefined) {\n      const bk_div = document.createElement(\"div\");\n      bk_div.innerHTML = output.data[HTML_MIME_TYPE];\n      const script_attrs = bk_div.children[0].attributes;\n      for (let i = 0; i < script_attrs.length; i++) {\n        toinsert[toinsert.length - 1].firstChild.setAttribute(script_attrs[i].name, script_attrs[i].value);\n        toinsert[toinsert.length - 1].firstChild.textContent = bk_div.children[0].textContent\n      }\n      // store reference to server id on output_area\n      output_area._bokeh_server_id = output.metadata[EXEC_MIME_TYPE][\"server_id\"];\n    }\n  }\n\n  function register_renderer(events, OutputArea) {\n\n    function append_mime(data, metadata, element) {\n      // create a DOM node to render to\n      const toinsert = this.create_output_subarea(\n        metadata,\n        CLASS_NAME,\n        EXEC_MIME_TYPE\n      );\n      this.keyboard_manager.register_events(toinsert);\n      // Render to node\n      const props = {data: data, metadata: metadata[EXEC_MIME_TYPE]};\n      render(props, toinsert[toinsert.length - 1]);\n      element.append(toinsert);\n      return toinsert\n    }\n\n    /* Handle when an output is cleared or removed */\n    events.on('clear_output.CodeCell', handleClearOutput);\n    events.on('delete.Cell', handleClearOutput);\n\n    /* Handle when a new output is added */\n    events.on('output_added.OutputArea', handleAddOutput);\n\n    /**\n     * Register the mime type and append_mime function with output_area\n     */\n    OutputArea.prototype.register_mime_type(EXEC_MIME_TYPE, append_mime, {\n      /* Is output safe? */\n      safe: true,\n      /* Index of renderer in `output_area.display_order` */\n      index: 0\n    });\n  }\n\n  // register the mime type if in Jupyter Notebook environment and previously unregistered\n  if (root.Jupyter !== undefined) {\n    const events = require('base/js/events');\n    const OutputArea = require('notebook/js/outputarea').OutputArea;\n\n    if (OutputArea.prototype.mime_types().indexOf(EXEC_MIME_TYPE) == -1) {\n      register_renderer(events, OutputArea);\n    }\n  }\n  if (typeof (root._bokeh_timeout) === \"undefined\" || force === true) {\n    root._bokeh_timeout = Date.now() + 5000;\n    root._bokeh_failed_load = false;\n  }\n\n  const NB_LOAD_WARNING = {'data': {'text/html':\n     \"<div style='background-color: #fdd'>\\n\"+\n     \"<p>\\n\"+\n     \"BokehJS does not appear to have successfully loaded. If loading BokehJS from CDN, this \\n\"+\n     \"may be due to a slow or bad network connection. Possible fixes:\\n\"+\n     \"</p>\\n\"+\n     \"<ul>\\n\"+\n     \"<li>re-rerun `output_notebook()` to attempt to load from CDN again, or</li>\\n\"+\n     \"<li>use INLINE resources instead, as so:</li>\\n\"+\n     \"</ul>\\n\"+\n     \"<code>\\n\"+\n     \"from bokeh.resources import INLINE\\n\"+\n     \"output_notebook(resources=INLINE)\\n\"+\n     \"</code>\\n\"+\n     \"</div>\"}};\n\n  function display_loaded(error = null) {\n    const el = document.getElementById(\"bf33626a-7ff0-4890-86c7-2e27256bfcf4\");\n    if (el != null) {\n      const html = (() => {\n        if (typeof root.Bokeh === \"undefined\") {\n          if (error == null) {\n            return \"BokehJS is loading ...\";\n          } else {\n            return \"BokehJS failed to load.\";\n          }\n        } else {\n          const prefix = `BokehJS ${root.Bokeh.version}`;\n          if (error == null) {\n            return `${prefix} successfully loaded.`;\n          } else {\n            return `${prefix} <b>encountered errors</b> while loading and may not function as expected.`;\n          }\n        }\n      })();\n      el.innerHTML = html;\n\n      if (error != null) {\n        const wrapper = document.createElement(\"div\");\n        wrapper.style.overflow = \"auto\";\n        wrapper.style.height = \"5em\";\n        wrapper.style.resize = \"vertical\";\n        const content = document.createElement(\"div\");\n        content.style.fontFamily = \"monospace\";\n        content.style.whiteSpace = \"pre-wrap\";\n        content.style.backgroundColor = \"rgb(255, 221, 221)\";\n        content.textContent = error.stack ?? error.toString();\n        wrapper.append(content);\n        el.append(wrapper);\n      }\n    } else if (Date.now() < root._bokeh_timeout) {\n      setTimeout(() => display_loaded(error), 100);\n    }\n  }\n\n  function run_callbacks() {\n    try {\n      root._bokeh_onload_callbacks.forEach(function(callback) {\n        if (callback != null)\n          callback();\n      });\n    } finally {\n      delete root._bokeh_onload_callbacks\n    }\n    console.debug(\"Bokeh: all callbacks have finished\");\n  }\n\n  function load_libs(css_urls, js_urls, callback) {\n    if (css_urls == null) css_urls = [];\n    if (js_urls == null) js_urls = [];\n\n    root._bokeh_onload_callbacks.push(callback);\n    if (root._bokeh_is_loading > 0) {\n      console.debug(\"Bokeh: BokehJS is being loaded, scheduling callback at\", now());\n      return null;\n    }\n    if (js_urls == null || js_urls.length === 0) {\n      run_callbacks();\n      return null;\n    }\n    console.debug(\"Bokeh: BokehJS not loaded, scheduling load and callback at\", now());\n    root._bokeh_is_loading = css_urls.length + js_urls.length;\n\n    function on_load() {\n      root._bokeh_is_loading--;\n      if (root._bokeh_is_loading === 0) {\n        console.debug(\"Bokeh: all BokehJS libraries/stylesheets loaded\");\n        run_callbacks()\n      }\n    }\n\n    function on_error(url) {\n      console.error(\"failed to load \" + url);\n    }\n\n    for (let i = 0; i < css_urls.length; i++) {\n      const url = css_urls[i];\n      const element = document.createElement(\"link\");\n      element.onload = on_load;\n      element.onerror = on_error.bind(null, url);\n      element.rel = \"stylesheet\";\n      element.type = \"text/css\";\n      element.href = url;\n      console.debug(\"Bokeh: injecting link tag for BokehJS stylesheet: \", url);\n      document.body.appendChild(element);\n    }\n\n    for (let i = 0; i < js_urls.length; i++) {\n      const url = js_urls[i];\n      const element = document.createElement('script');\n      element.onload = on_load;\n      element.onerror = on_error.bind(null, url);\n      element.async = false;\n      element.src = url;\n      console.debug(\"Bokeh: injecting script tag for BokehJS library: \", url);\n      document.head.appendChild(element);\n    }\n  };\n\n  function inject_raw_css(css) {\n    const element = document.createElement(\"style\");\n    element.appendChild(document.createTextNode(css));\n    document.body.appendChild(element);\n  }\n\n  const js_urls = [\"https://cdn.bokeh.org/bokeh/release/bokeh-3.6.0.min.js\", \"https://cdn.bokeh.org/bokeh/release/bokeh-gl-3.6.0.min.js\", \"https://cdn.bokeh.org/bokeh/release/bokeh-widgets-3.6.0.min.js\", \"https://cdn.bokeh.org/bokeh/release/bokeh-tables-3.6.0.min.js\", \"https://cdn.bokeh.org/bokeh/release/bokeh-mathjax-3.6.0.min.js\"];\n  const css_urls = [];\n\n  const inline_js = [    function(Bokeh) {\n      Bokeh.set_log_level(\"info\");\n    },\nfunction(Bokeh) {\n    }\n  ];\n\n  function run_inline_js() {\n    if (root.Bokeh !== undefined || force === true) {\n      try {\n            for (let i = 0; i < inline_js.length; i++) {\n      inline_js[i].call(root, root.Bokeh);\n    }\n\n      } catch (error) {display_loaded(error);throw error;\n      }if (force === true) {\n        display_loaded();\n      }} else if (Date.now() < root._bokeh_timeout) {\n      setTimeout(run_inline_js, 100);\n    } else if (!root._bokeh_failed_load) {\n      console.log(\"Bokeh: BokehJS failed to load within specified timeout.\");\n      root._bokeh_failed_load = true;\n    } else if (force !== true) {\n      const cell = $(document.getElementById(\"bf33626a-7ff0-4890-86c7-2e27256bfcf4\")).parents('.cell').data().cell;\n      cell.output_area.append_execute_result(NB_LOAD_WARNING)\n    }\n  }\n\n  if (root._bokeh_is_loading === 0) {\n    console.debug(\"Bokeh: BokehJS loaded, going straight to plotting\");\n    run_inline_js();\n  } else {\n    load_libs(css_urls, js_urls, function() {\n      console.debug(\"Bokeh: BokehJS plotting callback run at\", now());\n      run_inline_js();\n    });\n  }\n}(window));",
      "application/vnd.bokehjs_load.v0+json": ""
     },
     "metadata": {},
     "output_type": "display_data"
    }
   ],
   "source": [
    "# 02: importing needed libraries and opening the notebook\n",
    "import numpy as np\n",
    "import pandas as pd\n",
    "from bokeh.io import output_notebook\n",
    "output_notebook()"
   ]
  },
  {
   "cell_type": "code",
   "execution_count": 32,
   "metadata": {},
   "outputs": [
    {
     "data": {
      "text/html": [
       "<div>\n",
       "<style scoped>\n",
       "    .dataframe tbody tr th:only-of-type {\n",
       "        vertical-align: middle;\n",
       "    }\n",
       "\n",
       "    .dataframe tbody tr th {\n",
       "        vertical-align: top;\n",
       "    }\n",
       "\n",
       "    .dataframe thead th {\n",
       "        text-align: right;\n",
       "    }\n",
       "</style>\n",
       "<table border=\"1\" class=\"dataframe\">\n",
       "  <thead>\n",
       "    <tr style=\"text-align: right;\">\n",
       "      <th></th>\n",
       "      <th>make</th>\n",
       "      <th>fuel-type</th>\n",
       "      <th>num-of-doors</th>\n",
       "      <th>body-style</th>\n",
       "      <th>engine-location</th>\n",
       "      <th>length</th>\n",
       "      <th>width</th>\n",
       "      <th>height</th>\n",
       "      <th>num-of-cylinders</th>\n",
       "      <th>horsepower</th>\n",
       "      <th>peak-rpm</th>\n",
       "      <th>city-mpg</th>\n",
       "      <th>highway-mpg</th>\n",
       "      <th>price</th>\n",
       "    </tr>\n",
       "  </thead>\n",
       "  <tbody>\n",
       "    <tr>\n",
       "      <th>0</th>\n",
       "      <td>alfa-romero</td>\n",
       "      <td>gas</td>\n",
       "      <td>two</td>\n",
       "      <td>convertible</td>\n",
       "      <td>front</td>\n",
       "      <td>168.8</td>\n",
       "      <td>64.1</td>\n",
       "      <td>48.8</td>\n",
       "      <td>four</td>\n",
       "      <td>111</td>\n",
       "      <td>5000</td>\n",
       "      <td>21</td>\n",
       "      <td>27</td>\n",
       "      <td>13495</td>\n",
       "    </tr>\n",
       "    <tr>\n",
       "      <th>1</th>\n",
       "      <td>alfa-romero</td>\n",
       "      <td>gas</td>\n",
       "      <td>two</td>\n",
       "      <td>convertible</td>\n",
       "      <td>front</td>\n",
       "      <td>168.8</td>\n",
       "      <td>64.1</td>\n",
       "      <td>48.8</td>\n",
       "      <td>four</td>\n",
       "      <td>111</td>\n",
       "      <td>5000</td>\n",
       "      <td>21</td>\n",
       "      <td>27</td>\n",
       "      <td>16500</td>\n",
       "    </tr>\n",
       "    <tr>\n",
       "      <th>2</th>\n",
       "      <td>alfa-romero</td>\n",
       "      <td>gas</td>\n",
       "      <td>two</td>\n",
       "      <td>hatchback</td>\n",
       "      <td>front</td>\n",
       "      <td>171.2</td>\n",
       "      <td>65.5</td>\n",
       "      <td>52.4</td>\n",
       "      <td>six</td>\n",
       "      <td>154</td>\n",
       "      <td>5000</td>\n",
       "      <td>19</td>\n",
       "      <td>26</td>\n",
       "      <td>16500</td>\n",
       "    </tr>\n",
       "    <tr>\n",
       "      <th>3</th>\n",
       "      <td>audi</td>\n",
       "      <td>gas</td>\n",
       "      <td>four</td>\n",
       "      <td>sedan</td>\n",
       "      <td>front</td>\n",
       "      <td>176.6</td>\n",
       "      <td>66.2</td>\n",
       "      <td>54.3</td>\n",
       "      <td>four</td>\n",
       "      <td>102</td>\n",
       "      <td>5500</td>\n",
       "      <td>24</td>\n",
       "      <td>30</td>\n",
       "      <td>13950</td>\n",
       "    </tr>\n",
       "    <tr>\n",
       "      <th>4</th>\n",
       "      <td>audi</td>\n",
       "      <td>gas</td>\n",
       "      <td>four</td>\n",
       "      <td>sedan</td>\n",
       "      <td>front</td>\n",
       "      <td>176.6</td>\n",
       "      <td>66.4</td>\n",
       "      <td>54.3</td>\n",
       "      <td>five</td>\n",
       "      <td>115</td>\n",
       "      <td>5500</td>\n",
       "      <td>18</td>\n",
       "      <td>22</td>\n",
       "      <td>17450</td>\n",
       "    </tr>\n",
       "  </tbody>\n",
       "</table>\n",
       "</div>"
      ],
      "text/plain": [
       "          make fuel-type num-of-doors   body-style engine-location  length  \\\n",
       "0  alfa-romero       gas          two  convertible           front   168.8   \n",
       "1  alfa-romero       gas          two  convertible           front   168.8   \n",
       "2  alfa-romero       gas          two    hatchback           front   171.2   \n",
       "3         audi       gas         four        sedan           front   176.6   \n",
       "4         audi       gas         four        sedan           front   176.6   \n",
       "\n",
       "   width  height num-of-cylinders horsepower peak-rpm  city-mpg  highway-mpg  \\\n",
       "0   64.1    48.8             four        111     5000        21           27   \n",
       "1   64.1    48.8             four        111     5000        21           27   \n",
       "2   65.5    52.4              six        154     5000        19           26   \n",
       "3   66.2    54.3             four        102     5500        24           30   \n",
       "4   66.4    54.3             five        115     5500        18           22   \n",
       "\n",
       "   price  \n",
       "0  13495  \n",
       "1  16500  \n",
       "2  16500  \n",
       "3  13950  \n",
       "4  17450  "
      ]
     },
     "execution_count": 32,
     "metadata": {},
     "output_type": "execute_result"
    }
   ],
   "source": [
    "# 03: reading the dataset\n",
    "dataset = pd.read_csv('C:/Users/User/Documents/GitHub/gradest-1/DATAVIS/tutorials/Tutorial08/Datasets/automobiles.csv')\n",
    "dataset.head()"
   ]
  },
  {
   "cell_type": "code",
   "execution_count": 33,
   "metadata": {},
   "outputs": [],
   "source": [
    "# 04: Import figure and show from Bokeh's plotting interface.\n",
    "from bokeh.plotting import figure, show"
   ]
  },
  {
   "cell_type": "code",
   "execution_count": 34,
   "metadata": {},
   "outputs": [],
   "source": [
    "# 05: Add a new column index to our dataset by assigning it to the values from our dataset.index.\n",
    "dataset['index'] = dataset.index"
   ]
  },
  {
   "cell_type": "code",
   "execution_count": 35,
   "metadata": {},
   "outputs": [
    {
     "data": {
      "text/html": [
       "\n",
       "  <div id=\"eea6235a-8b57-4dc8-b3c2-e280937e1bd9\" data-root-id=\"p1595\" style=\"display: contents;\"></div>\n"
      ]
     },
     "metadata": {},
     "output_type": "display_data"
    },
    {
     "data": {
      "application/javascript": "(function(root) {\n  function embed_document(root) {\n  const docs_json = {\"f6192e69-70b5-4158-8db3-04a60beefac5\":{\"version\":\"3.6.0\",\"title\":\"Bokeh Application\",\"roots\":[{\"type\":\"object\",\"name\":\"Figure\",\"id\":\"p1595\",\"attributes\":{\"x_range\":{\"type\":\"object\",\"name\":\"DataRange1d\",\"id\":\"p1596\"},\"y_range\":{\"type\":\"object\",\"name\":\"DataRange1d\",\"id\":\"p1597\"},\"x_scale\":{\"type\":\"object\",\"name\":\"LinearScale\",\"id\":\"p1605\"},\"y_scale\":{\"type\":\"object\",\"name\":\"LinearScale\",\"id\":\"p1606\"},\"title\":{\"type\":\"object\",\"name\":\"Title\",\"id\":\"p1598\",\"attributes\":{\"text\":\"Car prices\"}},\"renderers\":[{\"type\":\"object\",\"name\":\"GlyphRenderer\",\"id\":\"p1639\",\"attributes\":{\"data_source\":{\"type\":\"object\",\"name\":\"ColumnDataSource\",\"id\":\"p1630\",\"attributes\":{\"selected\":{\"type\":\"object\",\"name\":\"Selection\",\"id\":\"p1631\",\"attributes\":{\"indices\":[],\"line_indices\":[]}},\"selection_policy\":{\"type\":\"object\",\"name\":\"UnionRenderers\",\"id\":\"p1632\"},\"data\":{\"type\":\"map\",\"entries\":[[\"level_0\",{\"type\":\"ndarray\",\"array\":{\"type\":\"bytes\",\"data\":\"AAAAAAEAAAACAAAAAwAAAAQAAAAFAAAABgAAAAcAAAAIAAAACQAAAAoAAAALAAAADAAAAA0AAAAOAAAADwAAABAAAAARAAAAEgAAABMAAAAUAAAAFQAAABYAAAAXAAAAGAAAABkAAAAaAAAAGwAAABwAAAAdAAAAHgAAAB8AAAAgAAAAIQAAACIAAAAjAAAAJAAAACUAAAAmAAAAJwAAACgAAAApAAAAKgAAACsAAAAsAAAALQAAAC4AAAAvAAAAMAAAADEAAAAyAAAAMwAAADQAAAA1AAAANgAAADcAAAA4AAAAOQAAADoAAAA7AAAAPAAAAD0AAAA+AAAAPwAAAEAAAABBAAAAQgAAAEMAAABEAAAARQAAAEYAAABHAAAASAAAAEkAAABKAAAASwAAAEwAAABNAAAATgAAAE8AAABQAAAAUQAAAFIAAABTAAAAVAAAAFUAAABWAAAAVwAAAFgAAABZAAAAWgAAAFsAAABcAAAAXQAAAF4AAABfAAAAYAAAAGEAAABiAAAAYwAAAGQAAABlAAAAZgAAAGcAAABoAAAAaQAAAGoAAABrAAAAbAAAAG0AAABuAAAAbwAAAHAAAABxAAAAcgAAAHMAAAB0AAAAdQAAAHYAAAB3AAAAeAAAAHkAAAB6AAAAewAAAHwAAAB9AAAAfgAAAH8AAACAAAAAgQAAAIIAAACDAAAAhAAAAIUAAACGAAAAhwAAAIgAAACJAAAAigAAAIsAAACMAAAAjQAAAI4AAACPAAAAkAAAAJEAAACSAAAAkwAAAJQAAACVAAAAlgAAAJcAAACYAAAAmQAAAJoAAACbAAAAnAAAAJ0AAACeAAAAnwAAAKAAAAChAAAAogAAAKMAAACkAAAApQAAAKYAAACnAAAAqAAAAKkAAACqAAAAqwAAAKwAAACtAAAArgAAAK8AAACwAAAAsQAAALIAAACzAAAAtAAAALUAAAC2AAAAtwAAALgAAAC5AAAAugAAALsAAAC8AAAAvQAAAL4AAAC/AAAAwAAAAMEAAADCAAAAwwAAAMQAAADFAAAAxgAAAMcAAADIAAAA\"},\"shape\":[201],\"dtype\":\"int32\",\"order\":\"little\"}],[\"make\",{\"type\":\"ndarray\",\"array\":[\"alfa-romero\",\"alfa-romero\",\"alfa-romero\",\"audi\",\"audi\",\"audi\",\"audi\",\"audi\",\"audi\",\"bmw\",\"bmw\",\"bmw\",\"bmw\",\"bmw\",\"bmw\",\"bmw\",\"bmw\",\"chevrolet\",\"chevrolet\",\"chevrolet\",\"dodge\",\"dodge\",\"dodge\",\"dodge\",\"dodge\",\"dodge\",\"dodge\",\"dodge\",\"dodge\",\"honda\",\"honda\",\"honda\",\"honda\",\"honda\",\"honda\",\"honda\",\"honda\",\"honda\",\"honda\",\"honda\",\"honda\",\"honda\",\"isuzu\",\"isuzu\",\"jaguar\",\"jaguar\",\"jaguar\",\"mazda\",\"mazda\",\"mazda\",\"mazda\",\"mazda\",\"mazda\",\"mazda\",\"mazda\",\"mazda\",\"mazda\",\"mazda\",\"mazda\",\"mazda\",\"mazda\",\"mazda\",\"mazda\",\"mazda\",\"mercedes-benz\",\"mercedes-benz\",\"mercedes-benz\",\"mercedes-benz\",\"mercedes-benz\",\"mercedes-benz\",\"mercedes-benz\",\"mercedes-benz\",\"mercury\",\"mitsubishi\",\"mitsubishi\",\"mitsubishi\",\"mitsubishi\",\"mitsubishi\",\"mitsubishi\",\"mitsubishi\",\"mitsubishi\",\"mitsubishi\",\"mitsubishi\",\"mitsubishi\",\"mitsubishi\",\"mitsubishi\",\"nissan\",\"nissan\",\"nissan\",\"nissan\",\"nissan\",\"nissan\",\"nissan\",\"nissan\",\"nissan\",\"nissan\",\"nissan\",\"nissan\",\"nissan\",\"nissan\",\"nissan\",\"nissan\",\"nissan\",\"nissan\",\"peugot\",\"peugot\",\"peugot\",\"peugot\",\"peugot\",\"peugot\",\"peugot\",\"peugot\",\"peugot\",\"peugot\",\"peugot\",\"plymouth\",\"plymouth\",\"plymouth\",\"plymouth\",\"plymouth\",\"plymouth\",\"plymouth\",\"porsche\",\"porsche\",\"porsche\",\"porsche\",\"renault\",\"renault\",\"saab\",\"saab\",\"saab\",\"saab\",\"saab\",\"saab\",\"subaru\",\"subaru\",\"subaru\",\"subaru\",\"subaru\",\"subaru\",\"subaru\",\"subaru\",\"subaru\",\"subaru\",\"subaru\",\"subaru\",\"toyota\",\"toyota\",\"toyota\",\"toyota\",\"toyota\",\"toyota\",\"toyota\",\"toyota\",\"toyota\",\"toyota\",\"toyota\",\"toyota\",\"toyota\",\"toyota\",\"toyota\",\"toyota\",\"toyota\",\"toyota\",\"toyota\",\"toyota\",\"toyota\",\"toyota\",\"toyota\",\"toyota\",\"toyota\",\"toyota\",\"toyota\",\"toyota\",\"toyota\",\"toyota\",\"toyota\",\"toyota\",\"volkswagen\",\"volkswagen\",\"volkswagen\",\"volkswagen\",\"volkswagen\",\"volkswagen\",\"volkswagen\",\"volkswagen\",\"volkswagen\",\"volkswagen\",\"volkswagen\",\"volkswagen\",\"volvo\",\"volvo\",\"volvo\",\"volvo\",\"volvo\",\"volvo\",\"volvo\",\"volvo\",\"volvo\",\"volvo\",\"volvo\"],\"shape\":[201],\"dtype\":\"object\",\"order\":\"little\"}],[\"fuel-type\",{\"type\":\"ndarray\",\"array\":[\"gas\",\"gas\",\"gas\",\"gas\",\"gas\",\"gas\",\"gas\",\"gas\",\"gas\",\"gas\",\"gas\",\"gas\",\"gas\",\"gas\",\"gas\",\"gas\",\"gas\",\"gas\",\"gas\",\"gas\",\"gas\",\"gas\",\"gas\",\"gas\",\"gas\",\"gas\",\"gas\",\"gas\",\"gas\",\"gas\",\"gas\",\"gas\",\"gas\",\"gas\",\"gas\",\"gas\",\"gas\",\"gas\",\"gas\",\"gas\",\"gas\",\"gas\",\"gas\",\"gas\",\"gas\",\"gas\",\"gas\",\"gas\",\"gas\",\"gas\",\"gas\",\"gas\",\"gas\",\"gas\",\"gas\",\"gas\",\"gas\",\"gas\",\"gas\",\"gas\",\"diesel\",\"gas\",\"gas\",\"diesel\",\"diesel\",\"diesel\",\"diesel\",\"diesel\",\"gas\",\"gas\",\"gas\",\"gas\",\"gas\",\"gas\",\"gas\",\"gas\",\"gas\",\"gas\",\"gas\",\"gas\",\"gas\",\"gas\",\"gas\",\"gas\",\"gas\",\"gas\",\"gas\",\"diesel\",\"gas\",\"gas\",\"gas\",\"gas\",\"gas\",\"gas\",\"gas\",\"gas\",\"gas\",\"gas\",\"gas\",\"gas\",\"gas\",\"gas\",\"gas\",\"gas\",\"gas\",\"diesel\",\"gas\",\"diesel\",\"gas\",\"diesel\",\"gas\",\"diesel\",\"gas\",\"diesel\",\"gas\",\"gas\",\"gas\",\"gas\",\"gas\",\"gas\",\"gas\",\"gas\",\"gas\",\"gas\",\"gas\",\"gas\",\"gas\",\"gas\",\"gas\",\"gas\",\"gas\",\"gas\",\"gas\",\"gas\",\"gas\",\"gas\",\"gas\",\"gas\",\"gas\",\"gas\",\"gas\",\"gas\",\"gas\",\"gas\",\"gas\",\"gas\",\"gas\",\"gas\",\"gas\",\"gas\",\"gas\",\"gas\",\"gas\",\"gas\",\"diesel\",\"diesel\",\"gas\",\"gas\",\"gas\",\"gas\",\"gas\",\"gas\",\"gas\",\"gas\",\"gas\",\"gas\",\"gas\",\"gas\",\"gas\",\"gas\",\"diesel\",\"gas\",\"gas\",\"gas\",\"gas\",\"gas\",\"gas\",\"gas\",\"diesel\",\"gas\",\"diesel\",\"gas\",\"gas\",\"diesel\",\"gas\",\"gas\",\"gas\",\"gas\",\"diesel\",\"gas\",\"gas\",\"gas\",\"gas\",\"gas\",\"gas\",\"gas\",\"gas\",\"gas\",\"gas\",\"diesel\",\"gas\"],\"shape\":[201],\"dtype\":\"object\",\"order\":\"little\"}],[\"num-of-doors\",{\"type\":\"ndarray\",\"array\":[\"two\",\"two\",\"two\",\"four\",\"four\",\"two\",\"four\",\"four\",\"four\",\"two\",\"four\",\"two\",\"four\",\"four\",\"four\",\"two\",\"four\",\"two\",\"two\",\"four\",\"two\",\"two\",\"two\",\"four\",\"four\",\"four\",\"?\",\"four\",\"two\",\"two\",\"two\",\"two\",\"two\",\"two\",\"four\",\"four\",\"two\",\"two\",\"four\",\"four\",\"four\",\"two\",\"four\",\"two\",\"four\",\"four\",\"two\",\"two\",\"two\",\"two\",\"four\",\"four\",\"two\",\"two\",\"two\",\"two\",\"two\",\"four\",\"two\",\"four\",\"?\",\"four\",\"four\",\"four\",\"four\",\"four\",\"two\",\"four\",\"four\",\"two\",\"four\",\"two\",\"two\",\"two\",\"two\",\"two\",\"two\",\"two\",\"two\",\"two\",\"two\",\"two\",\"four\",\"four\",\"four\",\"four\",\"two\",\"two\",\"two\",\"four\",\"four\",\"two\",\"two\",\"four\",\"four\",\"two\",\"four\",\"four\",\"four\",\"four\",\"four\",\"two\",\"two\",\"two\",\"four\",\"four\",\"four\",\"four\",\"four\",\"four\",\"four\",\"four\",\"four\",\"four\",\"four\",\"two\",\"two\",\"four\",\"four\",\"four\",\"four\",\"two\",\"two\",\"two\",\"two\",\"two\",\"four\",\"two\",\"two\",\"four\",\"two\",\"four\",\"two\",\"four\",\"two\",\"two\",\"two\",\"four\",\"four\",\"four\",\"four\",\"four\",\"four\",\"four\",\"four\",\"four\",\"two\",\"two\",\"four\",\"four\",\"four\",\"four\",\"four\",\"four\",\"four\",\"four\",\"four\",\"four\",\"four\",\"two\",\"two\",\"two\",\"two\",\"two\",\"two\",\"two\",\"two\",\"two\",\"two\",\"four\",\"four\",\"four\",\"four\",\"four\",\"two\",\"two\",\"four\",\"four\",\"two\",\"two\",\"four\",\"four\",\"four\",\"four\",\"four\",\"two\",\"two\",\"four\",\"four\",\"four\",\"four\",\"four\",\"four\",\"four\",\"four\",\"four\",\"four\",\"four\",\"four\",\"four\",\"four\"],\"shape\":[201],\"dtype\":\"object\",\"order\":\"little\"}],[\"body-style\",{\"type\":\"ndarray\",\"array\":[\"convertible\",\"convertible\",\"hatchback\",\"sedan\",\"sedan\",\"sedan\",\"sedan\",\"wagon\",\"sedan\",\"sedan\",\"sedan\",\"sedan\",\"sedan\",\"sedan\",\"sedan\",\"sedan\",\"sedan\",\"hatchback\",\"hatchback\",\"sedan\",\"hatchback\",\"hatchback\",\"hatchback\",\"hatchback\",\"sedan\",\"sedan\",\"sedan\",\"wagon\",\"hatchback\",\"hatchback\",\"hatchback\",\"hatchback\",\"hatchback\",\"hatchback\",\"sedan\",\"wagon\",\"hatchback\",\"hatchback\",\"sedan\",\"sedan\",\"sedan\",\"sedan\",\"sedan\",\"hatchback\",\"sedan\",\"sedan\",\"sedan\",\"hatchback\",\"hatchback\",\"hatchback\",\"sedan\",\"sedan\",\"hatchback\",\"hatchback\",\"hatchback\",\"hatchback\",\"hatchback\",\"sedan\",\"hatchback\",\"sedan\",\"sedan\",\"hatchback\",\"sedan\",\"sedan\",\"sedan\",\"wagon\",\"hardtop\",\"sedan\",\"sedan\",\"convertible\",\"sedan\",\"hardtop\",\"hatchback\",\"hatchback\",\"hatchback\",\"hatchback\",\"hatchback\",\"hatchback\",\"hatchback\",\"hatchback\",\"hatchback\",\"hatchback\",\"sedan\",\"sedan\",\"sedan\",\"sedan\",\"sedan\",\"sedan\",\"sedan\",\"sedan\",\"wagon\",\"sedan\",\"hatchback\",\"sedan\",\"wagon\",\"hardtop\",\"hatchback\",\"sedan\",\"sedan\",\"wagon\",\"sedan\",\"hatchback\",\"hatchback\",\"hatchback\",\"sedan\",\"sedan\",\"wagon\",\"wagon\",\"sedan\",\"sedan\",\"wagon\",\"wagon\",\"sedan\",\"sedan\",\"sedan\",\"hatchback\",\"hatchback\",\"hatchback\",\"sedan\",\"sedan\",\"wagon\",\"hatchback\",\"hatchback\",\"hardtop\",\"hardtop\",\"convertible\",\"wagon\",\"hatchback\",\"hatchback\",\"sedan\",\"hatchback\",\"sedan\",\"hatchback\",\"sedan\",\"hatchback\",\"hatchback\",\"hatchback\",\"sedan\",\"sedan\",\"sedan\",\"sedan\",\"sedan\",\"wagon\",\"wagon\",\"wagon\",\"wagon\",\"hatchback\",\"hatchback\",\"hatchback\",\"wagon\",\"wagon\",\"wagon\",\"sedan\",\"hatchback\",\"sedan\",\"hatchback\",\"sedan\",\"hatchback\",\"sedan\",\"sedan\",\"hatchback\",\"sedan\",\"hatchback\",\"hardtop\",\"hardtop\",\"hatchback\",\"hardtop\",\"hatchback\",\"convertible\",\"sedan\",\"sedan\",\"hatchback\",\"sedan\",\"hatchback\",\"hatchback\",\"hatchback\",\"sedan\",\"wagon\",\"sedan\",\"sedan\",\"sedan\",\"sedan\",\"sedan\",\"sedan\",\"sedan\",\"convertible\",\"hatchback\",\"sedan\",\"sedan\",\"wagon\",\"sedan\",\"wagon\",\"sedan\",\"wagon\",\"sedan\",\"wagon\",\"sedan\",\"sedan\",\"sedan\",\"sedan\",\"sedan\"],\"shape\":[201],\"dtype\":\"object\",\"order\":\"little\"}],[\"engine-location\",{\"type\":\"ndarray\",\"array\":[\"front\",\"front\",\"front\",\"front\",\"front\",\"front\",\"front\",\"front\",\"front\",\"front\",\"front\",\"front\",\"front\",\"front\",\"front\",\"front\",\"front\",\"front\",\"front\",\"front\",\"front\",\"front\",\"front\",\"front\",\"front\",\"front\",\"front\",\"front\",\"front\",\"front\",\"front\",\"front\",\"front\",\"front\",\"front\",\"front\",\"front\",\"front\",\"front\",\"front\",\"front\",\"front\",\"front\",\"front\",\"front\",\"front\",\"front\",\"front\",\"front\",\"front\",\"front\",\"front\",\"front\",\"front\",\"front\",\"front\",\"front\",\"front\",\"front\",\"front\",\"front\",\"front\",\"front\",\"front\",\"front\",\"front\",\"front\",\"front\",\"front\",\"front\",\"front\",\"front\",\"front\",\"front\",\"front\",\"front\",\"front\",\"front\",\"front\",\"front\",\"front\",\"front\",\"front\",\"front\",\"front\",\"front\",\"front\",\"front\",\"front\",\"front\",\"front\",\"front\",\"front\",\"front\",\"front\",\"front\",\"front\",\"front\",\"front\",\"front\",\"front\",\"front\",\"front\",\"front\",\"front\",\"front\",\"front\",\"front\",\"front\",\"front\",\"front\",\"front\",\"front\",\"front\",\"front\",\"front\",\"front\",\"front\",\"front\",\"front\",\"front\",\"front\",\"front\",\"rear\",\"rear\",\"rear\",\"front\",\"front\",\"front\",\"front\",\"front\",\"front\",\"front\",\"front\",\"front\",\"front\",\"front\",\"front\",\"front\",\"front\",\"front\",\"front\",\"front\",\"front\",\"front\",\"front\",\"front\",\"front\",\"front\",\"front\",\"front\",\"front\",\"front\",\"front\",\"front\",\"front\",\"front\",\"front\",\"front\",\"front\",\"front\",\"front\",\"front\",\"front\",\"front\",\"front\",\"front\",\"front\",\"front\",\"front\",\"front\",\"front\",\"front\",\"front\",\"front\",\"front\",\"front\",\"front\",\"front\",\"front\",\"front\",\"front\",\"front\",\"front\",\"front\",\"front\",\"front\",\"front\",\"front\",\"front\",\"front\",\"front\",\"front\",\"front\",\"front\",\"front\",\"front\",\"front\",\"front\",\"front\",\"front\"],\"shape\":[201],\"dtype\":\"object\",\"order\":\"little\"}],[\"length\",{\"type\":\"ndarray\",\"array\":{\"type\":\"bytes\",\"data\":\"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\"},\"shape\":[201],\"dtype\":\"float64\",\"order\":\"little\"}],[\"width\",{\"type\":\"ndarray\",\"array\":{\"type\":\"bytes\",\"data\":\"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\"},\"shape\":[201],\"dtype\":\"float64\",\"order\":\"little\"}],[\"height\",{\"type\":\"ndarray\",\"array\":{\"type\":\"bytes\",\"data\":\"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\"},\"shape\":[201],\"dtype\":\"float64\",\"order\":\"little\"}],[\"num-of-cylinders\",{\"type\":\"ndarray\",\"array\":[\"four\",\"four\",\"six\",\"four\",\"five\",\"five\",\"five\",\"five\",\"five\",\"four\",\"four\",\"six\",\"six\",\"six\",\"six\",\"six\",\"six\",\"three\",\"four\",\"four\",\"four\",\"four\",\"four\",\"four\",\"four\",\"four\",\"four\",\"four\",\"four\",\"four\",\"four\",\"four\",\"four\",\"four\",\"four\",\"four\",\"four\",\"four\",\"four\",\"four\",\"four\",\"four\",\"four\",\"four\",\"six\",\"six\",\"twelve\",\"four\",\"four\",\"four\",\"four\",\"four\",\"two\",\"two\",\"two\",\"two\",\"four\",\"four\",\"four\",\"four\",\"four\",\"four\",\"four\",\"four\",\"five\",\"five\",\"five\",\"five\",\"eight\",\"eight\",\"eight\",\"eight\",\"four\",\"four\",\"four\",\"four\",\"four\",\"four\",\"four\",\"four\",\"four\",\"four\",\"four\",\"four\",\"four\",\"four\",\"four\",\"four\",\"four\",\"four\",\"four\",\"four\",\"four\",\"four\",\"four\",\"four\",\"four\",\"four\",\"six\",\"six\",\"six\",\"six\",\"six\",\"six\",\"four\",\"four\",\"four\",\"four\",\"four\",\"four\",\"four\",\"four\",\"four\",\"four\",\"four\",\"four\",\"four\",\"four\",\"four\",\"four\",\"four\",\"four\",\"four\",\"six\",\"six\",\"six\",\"four\",\"four\",\"four\",\"four\",\"four\",\"four\",\"four\",\"four\",\"four\",\"four\",\"four\",\"four\",\"four\",\"four\",\"four\",\"four\",\"four\",\"four\",\"four\",\"four\",\"four\",\"four\",\"four\",\"four\",\"four\",\"four\",\"four\",\"four\",\"four\",\"four\",\"four\",\"four\",\"four\",\"four\",\"four\",\"four\",\"four\",\"four\",\"four\",\"four\",\"four\",\"four\",\"four\",\"four\",\"four\",\"four\",\"four\",\"four\",\"six\",\"six\",\"six\",\"six\",\"four\",\"four\",\"four\",\"four\",\"four\",\"four\",\"four\",\"four\",\"four\",\"five\",\"four\",\"four\",\"four\",\"four\",\"four\",\"four\",\"four\",\"four\",\"four\",\"four\",\"six\",\"six\",\"four\"],\"shape\":[201],\"dtype\":\"object\",\"order\":\"little\"}],[\"horsepower\",{\"type\":\"ndarray\",\"array\":[\"111\",\"111\",\"154\",\"102\",\"115\",\"110\",\"110\",\"110\",\"140\",\"101\",\"101\",\"121\",\"121\",\"121\",\"182\",\"182\",\"182\",\"48\",\"70\",\"70\",\"68\",\"68\",\"102\",\"68\",\"68\",\"68\",\"102\",\"88\",\"145\",\"58\",\"76\",\"60\",\"76\",\"76\",\"76\",\"76\",\"86\",\"86\",\"86\",\"86\",\"101\",\"100\",\"78\",\"90\",\"176\",\"176\",\"262\",\"68\",\"68\",\"68\",\"68\",\"68\",\"101\",\"101\",\"101\",\"135\",\"84\",\"84\",\"84\",\"84\",\"64\",\"84\",\"120\",\"72\",\"123\",\"123\",\"123\",\"123\",\"155\",\"155\",\"184\",\"184\",\"175\",\"68\",\"68\",\"68\",\"102\",\"116\",\"88\",\"145\",\"145\",\"145\",\"88\",\"88\",\"116\",\"116\",\"69\",\"55\",\"69\",\"69\",\"69\",\"69\",\"69\",\"69\",\"69\",\"69\",\"97\",\"97\",\"152\",\"152\",\"152\",\"160\",\"200\",\"160\",\"97\",\"95\",\"97\",\"95\",\"95\",\"95\",\"95\",\"95\",\"97\",\"95\",\"142\",\"68\",\"102\",\"68\",\"68\",\"68\",\"88\",\"145\",\"143\",\"207\",\"207\",\"207\",\"?\",\"?\",\"110\",\"110\",\"110\",\"110\",\"160\",\"160\",\"69\",\"73\",\"73\",\"82\",\"82\",\"94\",\"82\",\"111\",\"82\",\"94\",\"82\",\"111\",\"62\",\"62\",\"62\",\"62\",\"62\",\"62\",\"70\",\"70\",\"56\",\"56\",\"70\",\"70\",\"70\",\"70\",\"70\",\"112\",\"112\",\"116\",\"116\",\"116\",\"116\",\"116\",\"116\",\"92\",\"73\",\"92\",\"92\",\"92\",\"161\",\"161\",\"156\",\"156\",\"52\",\"85\",\"52\",\"85\",\"85\",\"68\",\"100\",\"90\",\"90\",\"110\",\"68\",\"88\",\"114\",\"114\",\"114\",\"114\",\"162\",\"162\",\"114\",\"160\",\"134\",\"106\",\"114\"],\"shape\":[201],\"dtype\":\"object\",\"order\":\"little\"}],[\"peak-rpm\",{\"type\":\"ndarray\",\"array\":[\"5000\",\"5000\",\"5000\",\"5500\",\"5500\",\"5500\",\"5500\",\"5500\",\"5500\",\"5800\",\"5800\",\"4250\",\"4250\",\"4250\",\"5400\",\"5400\",\"5400\",\"5100\",\"5400\",\"5400\",\"5500\",\"5500\",\"5500\",\"5500\",\"5500\",\"5500\",\"5500\",\"5000\",\"5000\",\"4800\",\"6000\",\"5500\",\"6000\",\"6000\",\"6000\",\"6000\",\"5800\",\"5800\",\"5800\",\"5800\",\"5800\",\"5500\",\"4800\",\"5000\",\"4750\",\"4750\",\"5000\",\"5000\",\"5000\",\"5000\",\"5000\",\"5000\",\"6000\",\"6000\",\"6000\",\"6000\",\"4800\",\"4800\",\"4800\",\"4800\",\"4650\",\"4800\",\"5000\",\"4200\",\"4350\",\"4350\",\"4350\",\"4350\",\"4750\",\"4750\",\"4500\",\"4500\",\"5000\",\"5500\",\"5500\",\"5500\",\"5500\",\"5500\",\"5000\",\"5000\",\"5000\",\"5000\",\"5000\",\"5000\",\"5500\",\"5500\",\"5200\",\"4800\",\"5200\",\"5200\",\"5200\",\"5200\",\"5200\",\"5200\",\"5200\",\"5200\",\"5200\",\"5200\",\"5200\",\"5200\",\"5200\",\"5200\",\"5200\",\"5200\",\"5000\",\"4150\",\"5000\",\"4150\",\"5000\",\"4150\",\"5000\",\"4150\",\"5000\",\"4150\",\"5600\",\"5500\",\"5500\",\"5500\",\"5500\",\"5500\",\"5000\",\"5000\",\"5500\",\"5900\",\"5900\",\"5900\",\"?\",\"?\",\"5250\",\"5250\",\"5250\",\"5250\",\"5500\",\"5500\",\"4900\",\"4400\",\"4400\",\"4800\",\"4400\",\"5200\",\"4800\",\"4800\",\"4800\",\"5200\",\"4800\",\"4800\",\"4800\",\"4800\",\"4800\",\"4800\",\"4800\",\"4800\",\"4800\",\"4800\",\"4500\",\"4500\",\"4800\",\"4800\",\"4800\",\"4800\",\"4800\",\"6600\",\"6600\",\"4800\",\"4800\",\"4800\",\"4800\",\"4800\",\"4800\",\"4200\",\"4500\",\"4200\",\"4200\",\"4200\",\"5200\",\"5200\",\"5200\",\"5200\",\"4800\",\"5250\",\"4800\",\"5250\",\"5250\",\"4500\",\"5500\",\"5500\",\"5500\",\"5500\",\"4500\",\"5500\",\"5400\",\"5400\",\"5400\",\"5400\",\"5100\",\"5100\",\"5400\",\"5300\",\"5500\",\"4800\",\"5400\"],\"shape\":[201],\"dtype\":\"object\",\"order\":\"little\"}],[\"city-mpg\",{\"type\":\"ndarray\",\"array\":{\"type\":\"bytes\",\"data\":\"FQAAABUAAAATAAAAGAAAABIAAAATAAAAEwAAABMAAAARAAAAFwAAABcAAAAVAAAAFQAAABQAAAAQAAAAEAAAAA8AAAAvAAAAJgAAACYAAAAlAAAAHwAAABgAAAAfAAAAHwAAAB8AAAAYAAAAGAAAABMAAAAxAAAAHwAAACYAAAAeAAAAHgAAAB4AAAAeAAAAGwAAABsAAAAbAAAAGwAAABgAAAAZAAAAGAAAABgAAAAPAAAADwAAAA0AAAAeAAAAHwAAAB8AAAAfAAAAHwAAABEAAAARAAAAEQAAABAAAAAaAAAAGgAAABoAAAAaAAAAJAAAABoAAAATAAAAHwAAABYAAAAWAAAAFgAAABYAAAAQAAAAEAAAAA4AAAAOAAAAEwAAACUAAAAfAAAAHwAAABgAAAAXAAAAGQAAABMAAAATAAAAEwAAABkAAAAZAAAAFwAAABcAAAAfAAAALQAAAB8AAAAfAAAAHwAAAB8AAAAfAAAAHwAAAB8AAAAfAAAAGwAAABsAAAARAAAAEQAAABMAAAATAAAAEQAAABMAAAATAAAAHAAAABMAAAAZAAAAEwAAABwAAAATAAAAGQAAABMAAAAcAAAAEgAAACUAAAAYAAAAHwAAAB8AAAAfAAAAGAAAABMAAAATAAAAEQAAABEAAAARAAAAFwAAABcAAAAVAAAAFQAAABUAAAAVAAAAEwAAABMAAAAfAAAAGgAAABoAAAAgAAAAHAAAABoAAAAYAAAAGAAAABwAAAAZAAAAFwAAABcAAAAjAAAAHwAAAB8AAAAfAAAAGwAAABsAAAAeAAAAHgAAACIAAAAmAAAAJgAAABwAAAAcAAAAHQAAAB0AAAAaAAAAGgAAABgAAAAYAAAAGAAAABgAAAAYAAAAGAAAAB0AAAAeAAAAGwAAABsAAAAbAAAAFAAAABMAAAAUAAAAEwAAACUAAAAbAAAAJQAAABsAAAAbAAAAJQAAABoAAAAYAAAAGAAAABMAAAAhAAAAGQAAABcAAAAXAAAAGAAAABgAAAARAAAAEQAAABcAAAATAAAAEgAAABoAAAATAAAA\"},\"shape\":[201],\"dtype\":\"int32\",\"order\":\"little\"}],[\"highway-mpg\",{\"type\":\"ndarray\",\"array\":{\"type\":\"bytes\",\"data\":\"GwAAABsAAAAaAAAAHgAAABYAAAAZAAAAGQAAABkAAAAUAAAAHQAAAB0AAAAcAAAAHAAAABkAAAAWAAAAFgAAABQAAAA1AAAAKwAAACsAAAApAAAAJgAAAB4AAAAmAAAAJgAAACYAAAAeAAAAHgAAABgAAAA2AAAAJgAAACoAAAAiAAAAIgAAACIAAAAiAAAAIQAAACEAAAAhAAAAIQAAABwAAAAfAAAAHQAAAB0AAAATAAAAEwAAABEAAAAfAAAAJgAAACYAAAAmAAAAJgAAABcAAAAXAAAAFwAAABcAAAAgAAAAIAAAACAAAAAgAAAAKgAAACAAAAAbAAAAJwAAABkAAAAZAAAAGQAAABkAAAASAAAAEgAAABAAAAAQAAAAGAAAACkAAAAmAAAAJgAAAB4AAAAeAAAAIAAAABgAAAAYAAAAGAAAACAAAAAgAAAAHgAAAB4AAAAlAAAAMgAAACUAAAAlAAAAJQAAACUAAAAlAAAAJQAAACUAAAAlAAAAIgAAACIAAAAWAAAAFgAAABkAAAAZAAAAFwAAABkAAAAYAAAAIQAAABgAAAAZAAAAGAAAACEAAAAYAAAAGQAAABgAAAAhAAAAGAAAACkAAAAeAAAAJgAAACYAAAAmAAAAHgAAABgAAAAbAAAAGQAAABkAAAAZAAAAHwAAAB8AAAAcAAAAHAAAABwAAAAcAAAAGgAAABoAAAAkAAAAHwAAAB8AAAAlAAAAIQAAACAAAAAZAAAAHQAAACAAAAAfAAAAHQAAABcAAAAnAAAAJgAAACYAAAAlAAAAIAAAACAAAAAlAAAAJQAAACQAAAAvAAAALwAAACIAAAAiAAAAIgAAACIAAAAdAAAAHQAAAB4AAAAeAAAAHgAAAB4AAAAeAAAAHgAAACIAAAAhAAAAIAAAACAAAAAgAAAAGAAAABgAAAAYAAAAGAAAAC4AAAAiAAAALgAAACIAAAAiAAAAKgAAACAAAAAdAAAAHQAAABgAAAAmAAAAHwAAABwAAAAcAAAAHAAAABwAAAAWAAAAFgAAABwAAAAZAAAAFwAAABsAAAAZAAAA\"},\"shape\":[201],\"dtype\":\"int32\",\"order\":\"little\"}],[\"price\",{\"type\":\"ndarray\",\"array\":{\"type\":\"bytes\",\"data\":\"tzQAAHRAAAB0QAAAfjYAACpEAACSOwAALkUAAOhJAABDXQAALkAAAB1CAADqUQAAcVIAAPVfAAAoeAAAY6EAABCQAAAfFAAAlxgAAK8ZAADEFQAA6RgAABUfAABVGAAAJBoAALkdAABuIQAA2SIAAKQyAABPGQAAxxoAABcVAACBGQAA2RsAAH8cAAB/HAAA1x4AAIcjAACNIgAANygAAJEyAABpKAAAgRoAACgrAAD6fQAA3ooAAKCMAABLFAAAzxcAAIsaAAAnGgAA4xwAAMEqAABFLgAATTUAAB09AACNIgAALyEAAGMpAAAFKAAAKyoAAO0rAABoRwAAqEcAANBjAABYbgAAEG4AAHB7AACIhQAA8IgAAACgAABYsQAAd0AAAA0VAAAtGAAADRoAAAkeAADnJgAAMyEAAFUxAAAVOgAAmTgAAE0bAAD9HwAAPyQAAD8kAAB7FQAAuxsAAPkZAADBGgAAtRwAAIMcAAB3HgAASx0AAD8fAAA5IAAA9SIAAE0lAAC7NAAAPzgAALs0AAAvQwAA80wAAN9HAAB8LgAAkDMAAJgwAAAkNgAA3DwAAARCAAA3QQAAs0IAAPZAAAAeRgAA5kYAAMQVAAAVHwAAVRgAACQaAAC5HQAA2SIAANwxAAACVgAAEH8AAOyEAACkkAAATyQAAKcmAABKLgAAii8AAMA6AACWPAAA5kYAALxIAAD+EwAAjRsAALMdAADWGwAAXx4AAOgmAAARJAAA+ysAACcdAADWJwAATR8AAK4tAADkFAAAwhgAAFgZAAAGGwAA2h4AAEoiAAAaGwAAHhwAANoeAABsHgAAOh4AAKYgAAAqJAAAeh8AAC4gAABSJAAAQiUAAAEhAACnJQAABScAAL8rAAAdLQAABUUAAPQiAADKKQAABCcAAJIqAADwKwAArkAAAH4+AABKPQAAhj0AAF8eAAAnHwAAOx8AAAMgAAAvIQAAFyUAAAsnAABLLQAA/CYAAO8zAAAVNgAAAjAAAIwyAABnNAAAcT4AAINAAAD0RwAABkoAAM1BAABlSgAA7VMAAMZXAABhWAAA\"},\"shape\":[201],\"dtype\":\"int32\",\"order\":\"little\"}],[\"index\",{\"type\":\"ndarray\",\"array\":{\"type\":\"bytes\",\"data\":\"AAAAAAEAAAACAAAAAwAAAAQAAAAFAAAABgAAAAcAAAAIAAAACQAAAAoAAAALAAAADAAAAA0AAAAOAAAADwAAABAAAAARAAAAEgAAABMAAAAUAAAAFQAAABYAAAAXAAAAGAAAABkAAAAaAAAAGwAAABwAAAAdAAAAHgAAAB8AAAAgAAAAIQAAACIAAAAjAAAAJAAAACUAAAAmAAAAJwAAACgAAAApAAAAKgAAACsAAAAsAAAALQAAAC4AAAAvAAAAMAAAADEAAAAyAAAAMwAAADQAAAA1AAAANgAAADcAAAA4AAAAOQAAADoAAAA7AAAAPAAAAD0AAAA+AAAAPwAAAEAAAABBAAAAQgAAAEMAAABEAAAARQAAAEYAAABHAAAASAAAAEkAAABKAAAASwAAAEwAAABNAAAATgAAAE8AAABQAAAAUQAAAFIAAABTAAAAVAAAAFUAAABWAAAAVwAAAFgAAABZAAAAWgAAAFsAAABcAAAAXQAAAF4AAABfAAAAYAAAAGEAAABiAAAAYwAAAGQAAABlAAAAZgAAAGcAAABoAAAAaQAAAGoAAABrAAAAbAAAAG0AAABuAAAAbwAAAHAAAABxAAAAcgAAAHMAAAB0AAAAdQAAAHYAAAB3AAAAeAAAAHkAAAB6AAAAewAAAHwAAAB9AAAAfgAAAH8AAACAAAAAgQAAAIIAAACDAAAAhAAAAIUAAACGAAAAhwAAAIgAAACJAAAAigAAAIsAAACMAAAAjQAAAI4AAACPAAAAkAAAAJEAAACSAAAAkwAAAJQAAACVAAAAlgAAAJcAAACYAAAAmQAAAJoAAACbAAAAnAAAAJ0AAACeAAAAnwAAAKAAAAChAAAAogAAAKMAAACkAAAApQAAAKYAAACnAAAAqAAAAKkAAACqAAAAqwAAAKwAAACtAAAArgAAAK8AAACwAAAAsQAAALIAAACzAAAAtAAAALUAAAC2AAAAtwAAALgAAAC5AAAAugAAALsAAAC8AAAAvQAAAL4AAAC/AAAAwAAAAMEAAADCAAAAwwAAAMQAAADFAAAAxgAAAMcAAADIAAAA\"},\"shape\":[201],\"dtype\":\"int32\",\"order\":\"little\"}]]}}},\"view\":{\"type\":\"object\",\"name\":\"CDSView\",\"id\":\"p1640\",\"attributes\":{\"filter\":{\"type\":\"object\",\"name\":\"AllIndices\",\"id\":\"p1641\"}}},\"glyph\":{\"type\":\"object\",\"name\":\"Scatter\",\"id\":\"p1636\",\"attributes\":{\"x\":{\"type\":\"field\",\"field\":\"index\"},\"y\":{\"type\":\"field\",\"field\":\"price\"},\"line_color\":{\"type\":\"value\",\"value\":\"#1f77b4\"},\"fill_color\":{\"type\":\"value\",\"value\":\"#1f77b4\"}}},\"nonselection_glyph\":{\"type\":\"object\",\"name\":\"Scatter\",\"id\":\"p1637\",\"attributes\":{\"x\":{\"type\":\"field\",\"field\":\"index\"},\"y\":{\"type\":\"field\",\"field\":\"price\"},\"line_color\":{\"type\":\"value\",\"value\":\"#1f77b4\"},\"line_alpha\":{\"type\":\"value\",\"value\":0.1},\"fill_color\":{\"type\":\"value\",\"value\":\"#1f77b4\"},\"fill_alpha\":{\"type\":\"value\",\"value\":0.1},\"hatch_alpha\":{\"type\":\"value\",\"value\":0.1}}},\"muted_glyph\":{\"type\":\"object\",\"name\":\"Scatter\",\"id\":\"p1638\",\"attributes\":{\"x\":{\"type\":\"field\",\"field\":\"index\"},\"y\":{\"type\":\"field\",\"field\":\"price\"},\"line_color\":{\"type\":\"value\",\"value\":\"#1f77b4\"},\"line_alpha\":{\"type\":\"value\",\"value\":0.2},\"fill_color\":{\"type\":\"value\",\"value\":\"#1f77b4\"},\"fill_alpha\":{\"type\":\"value\",\"value\":0.2},\"hatch_alpha\":{\"type\":\"value\",\"value\":0.2}}}}}],\"toolbar\":{\"type\":\"object\",\"name\":\"Toolbar\",\"id\":\"p1604\",\"attributes\":{\"tools\":[{\"type\":\"object\",\"name\":\"PanTool\",\"id\":\"p1617\"},{\"type\":\"object\",\"name\":\"WheelZoomTool\",\"id\":\"p1618\",\"attributes\":{\"renderers\":\"auto\"}},{\"type\":\"object\",\"name\":\"BoxZoomTool\",\"id\":\"p1619\",\"attributes\":{\"overlay\":{\"type\":\"object\",\"name\":\"BoxAnnotation\",\"id\":\"p1620\",\"attributes\":{\"syncable\":false,\"line_color\":\"black\",\"line_alpha\":1.0,\"line_width\":2,\"line_dash\":[4,4],\"fill_color\":\"lightgrey\",\"fill_alpha\":0.5,\"level\":\"overlay\",\"visible\":false,\"left\":{\"type\":\"number\",\"value\":\"nan\"},\"right\":{\"type\":\"number\",\"value\":\"nan\"},\"top\":{\"type\":\"number\",\"value\":\"nan\"},\"bottom\":{\"type\":\"number\",\"value\":\"nan\"},\"left_units\":\"canvas\",\"right_units\":\"canvas\",\"top_units\":\"canvas\",\"bottom_units\":\"canvas\",\"handles\":{\"type\":\"object\",\"name\":\"BoxInteractionHandles\",\"id\":\"p1626\",\"attributes\":{\"all\":{\"type\":\"object\",\"name\":\"AreaVisuals\",\"id\":\"p1625\",\"attributes\":{\"fill_color\":\"white\",\"hover_fill_color\":\"lightgray\"}}}}}}}},{\"type\":\"object\",\"name\":\"SaveTool\",\"id\":\"p1627\"},{\"type\":\"object\",\"name\":\"ResetTool\",\"id\":\"p1628\"},{\"type\":\"object\",\"name\":\"HelpTool\",\"id\":\"p1629\"}]}},\"left\":[{\"type\":\"object\",\"name\":\"LinearAxis\",\"id\":\"p1612\",\"attributes\":{\"ticker\":{\"type\":\"object\",\"name\":\"BasicTicker\",\"id\":\"p1613\",\"attributes\":{\"mantissas\":[1,2,5]}},\"formatter\":{\"type\":\"object\",\"name\":\"BasicTickFormatter\",\"id\":\"p1614\"},\"axis_label\":\"Price\",\"major_label_policy\":{\"type\":\"object\",\"name\":\"AllLabels\",\"id\":\"p1615\"}}}],\"below\":[{\"type\":\"object\",\"name\":\"LinearAxis\",\"id\":\"p1607\",\"attributes\":{\"ticker\":{\"type\":\"object\",\"name\":\"BasicTicker\",\"id\":\"p1608\",\"attributes\":{\"mantissas\":[1,2,5]}},\"formatter\":{\"type\":\"object\",\"name\":\"BasicTickFormatter\",\"id\":\"p1609\"},\"axis_label\":\"Car Index\",\"major_label_policy\":{\"type\":\"object\",\"name\":\"AllLabels\",\"id\":\"p1610\"}}}],\"center\":[{\"type\":\"object\",\"name\":\"Grid\",\"id\":\"p1611\",\"attributes\":{\"axis\":{\"id\":\"p1607\"}}},{\"type\":\"object\",\"name\":\"Grid\",\"id\":\"p1616\",\"attributes\":{\"dimension\":1,\"axis\":{\"id\":\"p1612\"}}}]}}]}};\n  const render_items = [{\"docid\":\"f6192e69-70b5-4158-8db3-04a60beefac5\",\"roots\":{\"p1595\":\"eea6235a-8b57-4dc8-b3c2-e280937e1bd9\"},\"root_ids\":[\"p1595\"]}];\n  void root.Bokeh.embed.embed_items_notebook(docs_json, render_items);\n  }\n  if (root.Bokeh !== undefined) {\n    embed_document(root);\n  } else {\n    let attempts = 0;\n    const timer = setInterval(function(root) {\n      if (root.Bokeh !== undefined) {\n        clearInterval(timer);\n        embed_document(root);\n      } else {\n        attempts++;\n        if (attempts > 100) {\n          clearInterval(timer);\n          console.log(\"Bokeh: ERROR: Unable to run BokehJS code because BokehJS library is missing\");\n        }\n      }\n    }, 10, root)\n  }\n})(window);",
      "application/vnd.bokehjs_exec.v0+json": ""
     },
     "metadata": {
      "application/vnd.bokehjs_exec.v0+json": {
       "id": "p1595"
      }
     },
     "output_type": "display_data"
    }
   ],
   "source": [
    "# 06: Create a new figure and plot each car using a scatter plot with the index and price column. \n",
    "# Give the visualization a title of Car prices and name the x-axis Car Index. \n",
    "# The y-axis should be named Price.\n",
    "\n",
    "p = figure(title='Car prices', x_axis_label='Car Index', y_axis_label='Price')\n",
    "p.scatter('index', 'price', source=dataset)\n",
    "show(p)"
   ]
  },
  {
   "cell_type": "code",
   "execution_count": 36,
   "metadata": {},
   "outputs": [
    {
     "data": {
      "text/html": [
       "<div>\n",
       "<style scoped>\n",
       "    .dataframe tbody tr th:only-of-type {\n",
       "        vertical-align: middle;\n",
       "    }\n",
       "\n",
       "    .dataframe tbody tr th {\n",
       "        vertical-align: top;\n",
       "    }\n",
       "\n",
       "    .dataframe thead th {\n",
       "        text-align: right;\n",
       "    }\n",
       "</style>\n",
       "<table border=\"1\" class=\"dataframe\">\n",
       "  <thead>\n",
       "    <tr style=\"text-align: right;\">\n",
       "      <th></th>\n",
       "      <th>make</th>\n",
       "      <th>length</th>\n",
       "      <th>width</th>\n",
       "      <th>height</th>\n",
       "      <th>city-mpg</th>\n",
       "      <th>highway-mpg</th>\n",
       "      <th>price</th>\n",
       "      <th>index</th>\n",
       "    </tr>\n",
       "  </thead>\n",
       "  <tbody>\n",
       "    <tr>\n",
       "      <th>0</th>\n",
       "      <td>alfa-romero</td>\n",
       "      <td>169.600000</td>\n",
       "      <td>64.566667</td>\n",
       "      <td>50.000000</td>\n",
       "      <td>20.333333</td>\n",
       "      <td>26.666667</td>\n",
       "      <td>15498.333333</td>\n",
       "      <td>1.0</td>\n",
       "    </tr>\n",
       "    <tr>\n",
       "      <th>1</th>\n",
       "      <td>audi</td>\n",
       "      <td>184.766667</td>\n",
       "      <td>68.850000</td>\n",
       "      <td>54.833333</td>\n",
       "      <td>19.333333</td>\n",
       "      <td>24.500000</td>\n",
       "      <td>17859.166667</td>\n",
       "      <td>5.5</td>\n",
       "    </tr>\n",
       "    <tr>\n",
       "      <th>2</th>\n",
       "      <td>bmw</td>\n",
       "      <td>184.500000</td>\n",
       "      <td>66.475000</td>\n",
       "      <td>54.825000</td>\n",
       "      <td>19.375000</td>\n",
       "      <td>25.375000</td>\n",
       "      <td>26118.750000</td>\n",
       "      <td>12.5</td>\n",
       "    </tr>\n",
       "    <tr>\n",
       "      <th>3</th>\n",
       "      <td>chevrolet</td>\n",
       "      <td>151.933333</td>\n",
       "      <td>62.500000</td>\n",
       "      <td>52.400000</td>\n",
       "      <td>41.000000</td>\n",
       "      <td>46.333333</td>\n",
       "      <td>6007.000000</td>\n",
       "      <td>18.0</td>\n",
       "    </tr>\n",
       "    <tr>\n",
       "      <th>4</th>\n",
       "      <td>dodge</td>\n",
       "      <td>160.988889</td>\n",
       "      <td>64.166667</td>\n",
       "      <td>51.644444</td>\n",
       "      <td>28.000000</td>\n",
       "      <td>34.111111</td>\n",
       "      <td>7875.444444</td>\n",
       "      <td>24.0</td>\n",
       "    </tr>\n",
       "    <tr>\n",
       "      <th>5</th>\n",
       "      <td>honda</td>\n",
       "      <td>160.769231</td>\n",
       "      <td>64.384615</td>\n",
       "      <td>53.238462</td>\n",
       "      <td>30.384615</td>\n",
       "      <td>35.461538</td>\n",
       "      <td>8184.692308</td>\n",
       "      <td>35.0</td>\n",
       "    </tr>\n",
       "    <tr>\n",
       "      <th>6</th>\n",
       "      <td>isuzu</td>\n",
       "      <td>171.650000</td>\n",
       "      <td>63.500000</td>\n",
       "      <td>52.450000</td>\n",
       "      <td>24.000000</td>\n",
       "      <td>29.000000</td>\n",
       "      <td>8916.500000</td>\n",
       "      <td>42.5</td>\n",
       "    </tr>\n",
       "    <tr>\n",
       "      <th>7</th>\n",
       "      <td>jaguar</td>\n",
       "      <td>196.966667</td>\n",
       "      <td>69.933333</td>\n",
       "      <td>51.133333</td>\n",
       "      <td>14.333333</td>\n",
       "      <td>18.333333</td>\n",
       "      <td>34600.000000</td>\n",
       "      <td>45.0</td>\n",
       "    </tr>\n",
       "    <tr>\n",
       "      <th>8</th>\n",
       "      <td>mazda</td>\n",
       "      <td>170.805882</td>\n",
       "      <td>65.588235</td>\n",
       "      <td>53.358824</td>\n",
       "      <td>25.705882</td>\n",
       "      <td>31.941176</td>\n",
       "      <td>10652.882353</td>\n",
       "      <td>55.0</td>\n",
       "    </tr>\n",
       "    <tr>\n",
       "      <th>9</th>\n",
       "      <td>mercedes-benz</td>\n",
       "      <td>195.262500</td>\n",
       "      <td>71.062500</td>\n",
       "      <td>55.725000</td>\n",
       "      <td>18.500000</td>\n",
       "      <td>21.000000</td>\n",
       "      <td>33647.000000</td>\n",
       "      <td>67.5</td>\n",
       "    </tr>\n",
       "    <tr>\n",
       "      <th>10</th>\n",
       "      <td>mercury</td>\n",
       "      <td>178.400000</td>\n",
       "      <td>68.000000</td>\n",
       "      <td>54.800000</td>\n",
       "      <td>19.000000</td>\n",
       "      <td>24.000000</td>\n",
       "      <td>16503.000000</td>\n",
       "      <td>72.0</td>\n",
       "    </tr>\n",
       "    <tr>\n",
       "      <th>11</th>\n",
       "      <td>mitsubishi</td>\n",
       "      <td>168.030769</td>\n",
       "      <td>65.253846</td>\n",
       "      <td>50.692308</td>\n",
       "      <td>24.923077</td>\n",
       "      <td>31.153846</td>\n",
       "      <td>9239.769231</td>\n",
       "      <td>79.0</td>\n",
       "    </tr>\n",
       "    <tr>\n",
       "      <th>12</th>\n",
       "      <td>nissan</td>\n",
       "      <td>170.988889</td>\n",
       "      <td>65.088889</td>\n",
       "      <td>53.633333</td>\n",
       "      <td>27.000000</td>\n",
       "      <td>32.944444</td>\n",
       "      <td>10415.666667</td>\n",
       "      <td>94.5</td>\n",
       "    </tr>\n",
       "    <tr>\n",
       "      <th>13</th>\n",
       "      <td>peugot</td>\n",
       "      <td>191.136364</td>\n",
       "      <td>68.390909</td>\n",
       "      <td>57.181818</td>\n",
       "      <td>22.454545</td>\n",
       "      <td>26.636364</td>\n",
       "      <td>15489.090909</td>\n",
       "      <td>109.0</td>\n",
       "    </tr>\n",
       "    <tr>\n",
       "      <th>14</th>\n",
       "      <td>plymouth</td>\n",
       "      <td>164.900000</td>\n",
       "      <td>64.271429</td>\n",
       "      <td>51.971429</td>\n",
       "      <td>28.142857</td>\n",
       "      <td>34.142857</td>\n",
       "      <td>7963.428571</td>\n",
       "      <td>118.0</td>\n",
       "    </tr>\n",
       "    <tr>\n",
       "      <th>15</th>\n",
       "      <td>porsche</td>\n",
       "      <td>168.900000</td>\n",
       "      <td>65.825000</td>\n",
       "      <td>51.250000</td>\n",
       "      <td>17.500000</td>\n",
       "      <td>25.500000</td>\n",
       "      <td>31400.500000</td>\n",
       "      <td>123.5</td>\n",
       "    </tr>\n",
       "    <tr>\n",
       "      <th>16</th>\n",
       "      <td>renault</td>\n",
       "      <td>179.150000</td>\n",
       "      <td>66.550000</td>\n",
       "      <td>52.850000</td>\n",
       "      <td>23.000000</td>\n",
       "      <td>31.000000</td>\n",
       "      <td>9595.000000</td>\n",
       "      <td>126.5</td>\n",
       "    </tr>\n",
       "    <tr>\n",
       "      <th>17</th>\n",
       "      <td>saab</td>\n",
       "      <td>186.600000</td>\n",
       "      <td>66.500000</td>\n",
       "      <td>56.100000</td>\n",
       "      <td>20.333333</td>\n",
       "      <td>27.333333</td>\n",
       "      <td>15223.333333</td>\n",
       "      <td>130.5</td>\n",
       "    </tr>\n",
       "    <tr>\n",
       "      <th>18</th>\n",
       "      <td>subaru</td>\n",
       "      <td>168.858333</td>\n",
       "      <td>64.950000</td>\n",
       "      <td>53.750000</td>\n",
       "      <td>26.333333</td>\n",
       "      <td>30.750000</td>\n",
       "      <td>8541.250000</td>\n",
       "      <td>139.5</td>\n",
       "    </tr>\n",
       "    <tr>\n",
       "      <th>19</th>\n",
       "      <td>toyota</td>\n",
       "      <td>171.934375</td>\n",
       "      <td>65.090625</td>\n",
       "      <td>53.721875</td>\n",
       "      <td>27.500000</td>\n",
       "      <td>32.906250</td>\n",
       "      <td>9885.812500</td>\n",
       "      <td>161.5</td>\n",
       "    </tr>\n",
       "    <tr>\n",
       "      <th>20</th>\n",
       "      <td>volkswagen</td>\n",
       "      <td>172.533333</td>\n",
       "      <td>65.616667</td>\n",
       "      <td>55.183333</td>\n",
       "      <td>28.583333</td>\n",
       "      <td>34.916667</td>\n",
       "      <td>10077.500000</td>\n",
       "      <td>183.5</td>\n",
       "    </tr>\n",
       "    <tr>\n",
       "      <th>21</th>\n",
       "      <td>volvo</td>\n",
       "      <td>188.800000</td>\n",
       "      <td>67.963636</td>\n",
       "      <td>56.236364</td>\n",
       "      <td>21.181818</td>\n",
       "      <td>25.818182</td>\n",
       "      <td>18063.181818</td>\n",
       "      <td>195.0</td>\n",
       "    </tr>\n",
       "  </tbody>\n",
       "</table>\n",
       "</div>"
      ],
      "text/plain": [
       "             make      length      width     height   city-mpg  highway-mpg  \\\n",
       "0     alfa-romero  169.600000  64.566667  50.000000  20.333333    26.666667   \n",
       "1            audi  184.766667  68.850000  54.833333  19.333333    24.500000   \n",
       "2             bmw  184.500000  66.475000  54.825000  19.375000    25.375000   \n",
       "3       chevrolet  151.933333  62.500000  52.400000  41.000000    46.333333   \n",
       "4           dodge  160.988889  64.166667  51.644444  28.000000    34.111111   \n",
       "5           honda  160.769231  64.384615  53.238462  30.384615    35.461538   \n",
       "6           isuzu  171.650000  63.500000  52.450000  24.000000    29.000000   \n",
       "7          jaguar  196.966667  69.933333  51.133333  14.333333    18.333333   \n",
       "8           mazda  170.805882  65.588235  53.358824  25.705882    31.941176   \n",
       "9   mercedes-benz  195.262500  71.062500  55.725000  18.500000    21.000000   \n",
       "10        mercury  178.400000  68.000000  54.800000  19.000000    24.000000   \n",
       "11     mitsubishi  168.030769  65.253846  50.692308  24.923077    31.153846   \n",
       "12         nissan  170.988889  65.088889  53.633333  27.000000    32.944444   \n",
       "13         peugot  191.136364  68.390909  57.181818  22.454545    26.636364   \n",
       "14       plymouth  164.900000  64.271429  51.971429  28.142857    34.142857   \n",
       "15        porsche  168.900000  65.825000  51.250000  17.500000    25.500000   \n",
       "16        renault  179.150000  66.550000  52.850000  23.000000    31.000000   \n",
       "17           saab  186.600000  66.500000  56.100000  20.333333    27.333333   \n",
       "18         subaru  168.858333  64.950000  53.750000  26.333333    30.750000   \n",
       "19         toyota  171.934375  65.090625  53.721875  27.500000    32.906250   \n",
       "20     volkswagen  172.533333  65.616667  55.183333  28.583333    34.916667   \n",
       "21          volvo  188.800000  67.963636  56.236364  21.181818    25.818182   \n",
       "\n",
       "           price  index  \n",
       "0   15498.333333    1.0  \n",
       "1   17859.166667    5.5  \n",
       "2   26118.750000   12.5  \n",
       "3    6007.000000   18.0  \n",
       "4    7875.444444   24.0  \n",
       "5    8184.692308   35.0  \n",
       "6    8916.500000   42.5  \n",
       "7   34600.000000   45.0  \n",
       "8   10652.882353   55.0  \n",
       "9   33647.000000   67.5  \n",
       "10  16503.000000   72.0  \n",
       "11   9239.769231   79.0  \n",
       "12  10415.666667   94.5  \n",
       "13  15489.090909  109.0  \n",
       "14   7963.428571  118.0  \n",
       "15  31400.500000  123.5  \n",
       "16   9595.000000  126.5  \n",
       "17  15223.333333  130.5  \n",
       "18   8541.250000  139.5  \n",
       "19   9885.812500  161.5  \n",
       "20  10077.500000  183.5  \n",
       "21  18063.181818  195.0  "
      ]
     },
     "execution_count": 36,
     "metadata": {},
     "output_type": "execute_result"
    }
   ],
   "source": [
    "# 07: Group the dataset using groupby and the column make. \n",
    "# Then use the mean method to get the mean value for each column. \n",
    "# We don't want the make column to be used as an index, so provide the as_index=False argument to groupby.\n",
    "\n",
    "grouped = dataset.groupby('make', as_index=False).mean(numeric_only=True)\n",
    "grouped"
   ]
  },
  {
   "cell_type": "code",
   "execution_count": 37,
   "metadata": {},
   "outputs": [
    {
     "data": {
      "text/html": [
       "<div style=\"display: table;\"><div style=\"display: table-row;\"><div style=\"display: table-cell;\"><b title=\"bokeh.models.renderers.glyph_renderer.GlyphRenderer\">GlyphRenderer</b>(</div><div style=\"display: table-cell;\">id&nbsp;=&nbsp;'p1695', <span id=\"p1699\" style=\"cursor: pointer;\">&hellip;)</span></div></div><div class=\"p1698\" style=\"display: none;\"><div style=\"display: table-cell;\"></div><div style=\"display: table-cell;\">context_menu&nbsp;=&nbsp;None,</div></div><div class=\"p1698\" style=\"display: none;\"><div style=\"display: table-cell;\"></div><div style=\"display: table-cell;\">coordinates&nbsp;=&nbsp;None,</div></div><div class=\"p1698\" style=\"display: none;\"><div style=\"display: table-cell;\"></div><div style=\"display: table-cell;\">css_classes&nbsp;=&nbsp;[],</div></div><div class=\"p1698\" style=\"display: none;\"><div style=\"display: table-cell;\"></div><div style=\"display: table-cell;\">css_variables&nbsp;=&nbsp;{},</div></div><div class=\"p1698\" style=\"display: none;\"><div style=\"display: table-cell;\"></div><div style=\"display: table-cell;\">data_source&nbsp;=&nbsp;ColumnDataSource(id='p1686', ...),</div></div><div class=\"p1698\" style=\"display: none;\"><div style=\"display: table-cell;\"></div><div style=\"display: table-cell;\">glyph&nbsp;=&nbsp;VBar(id='p1692', ...),</div></div><div class=\"p1698\" style=\"display: none;\"><div style=\"display: table-cell;\"></div><div style=\"display: table-cell;\">group&nbsp;=&nbsp;None,</div></div><div class=\"p1698\" style=\"display: none;\"><div style=\"display: table-cell;\"></div><div style=\"display: table-cell;\">hover_glyph&nbsp;=&nbsp;None,</div></div><div class=\"p1698\" style=\"display: none;\"><div style=\"display: table-cell;\"></div><div style=\"display: table-cell;\">js_event_callbacks&nbsp;=&nbsp;{},</div></div><div class=\"p1698\" style=\"display: none;\"><div style=\"display: table-cell;\"></div><div style=\"display: table-cell;\">js_property_callbacks&nbsp;=&nbsp;{},</div></div><div class=\"p1698\" style=\"display: none;\"><div style=\"display: table-cell;\"></div><div style=\"display: table-cell;\">level&nbsp;=&nbsp;'glyph',</div></div><div class=\"p1698\" style=\"display: none;\"><div style=\"display: table-cell;\"></div><div style=\"display: table-cell;\">muted&nbsp;=&nbsp;False,</div></div><div class=\"p1698\" style=\"display: none;\"><div style=\"display: table-cell;\"></div><div style=\"display: table-cell;\">muted_glyph&nbsp;=&nbsp;VBar(id='p1694', ...),</div></div><div class=\"p1698\" style=\"display: none;\"><div style=\"display: table-cell;\"></div><div style=\"display: table-cell;\">name&nbsp;=&nbsp;None,</div></div><div class=\"p1698\" style=\"display: none;\"><div style=\"display: table-cell;\"></div><div style=\"display: table-cell;\">nonselection_glyph&nbsp;=&nbsp;VBar(id='p1693', ...),</div></div><div class=\"p1698\" style=\"display: none;\"><div style=\"display: table-cell;\"></div><div style=\"display: table-cell;\">propagate_hover&nbsp;=&nbsp;False,</div></div><div class=\"p1698\" style=\"display: none;\"><div style=\"display: table-cell;\"></div><div style=\"display: table-cell;\">selection_glyph&nbsp;=&nbsp;'auto',</div></div><div class=\"p1698\" style=\"display: none;\"><div style=\"display: table-cell;\"></div><div style=\"display: table-cell;\">styles&nbsp;=&nbsp;{},</div></div><div class=\"p1698\" style=\"display: none;\"><div style=\"display: table-cell;\"></div><div style=\"display: table-cell;\">stylesheets&nbsp;=&nbsp;[],</div></div><div class=\"p1698\" style=\"display: none;\"><div style=\"display: table-cell;\"></div><div style=\"display: table-cell;\">subscribed_events&nbsp;=&nbsp;PropertyValueSet(),</div></div><div class=\"p1698\" style=\"display: none;\"><div style=\"display: table-cell;\"></div><div style=\"display: table-cell;\">syncable&nbsp;=&nbsp;True,</div></div><div class=\"p1698\" style=\"display: none;\"><div style=\"display: table-cell;\"></div><div style=\"display: table-cell;\">tags&nbsp;=&nbsp;[],</div></div><div class=\"p1698\" style=\"display: none;\"><div style=\"display: table-cell;\"></div><div style=\"display: table-cell;\">view&nbsp;=&nbsp;CDSView(id='p1696', ...),</div></div><div class=\"p1698\" style=\"display: none;\"><div style=\"display: table-cell;\"></div><div style=\"display: table-cell;\">visible&nbsp;=&nbsp;True,</div></div><div class=\"p1698\" style=\"display: none;\"><div style=\"display: table-cell;\"></div><div style=\"display: table-cell;\">x_range_name&nbsp;=&nbsp;'default',</div></div><div class=\"p1698\" style=\"display: none;\"><div style=\"display: table-cell;\"></div><div style=\"display: table-cell;\">y_range_name&nbsp;=&nbsp;'default')</div></div></div>\n",
       "<script>\n",
       "(function() {\n",
       "  let expanded = false;\n",
       "  const ellipsis = document.getElementById(\"p1699\");\n",
       "  ellipsis.addEventListener(\"click\", function() {\n",
       "    const rows = document.getElementsByClassName(\"p1698\");\n",
       "    for (let i = 0; i < rows.length; i++) {\n",
       "      const el = rows[i];\n",
       "      el.style.display = expanded ? \"none\" : \"table-row\";\n",
       "    }\n",
       "    ellipsis.innerHTML = expanded ? \"&hellip;)\" : \"&lsaquo;&lsaquo;&lsaquo;\";\n",
       "    expanded = !expanded;\n",
       "  });\n",
       "})();\n",
       "</script>\n"
      ],
      "text/plain": [
       "GlyphRenderer(id='p1695', ...)"
      ]
     },
     "execution_count": 37,
     "metadata": {},
     "output_type": "execute_result"
    }
   ],
   "source": [
    "# 08: Create a new figure with a title of Car Manufacturer Mean Prices, an x-axis of Car Manufacturer, and a y-label of Mean Price. \n",
    "# In addition to that, handle the categorical data by providing the x_range argument to the figure with the make column.\n",
    "\n",
    "p = figure(title='Car Manufacturer Mean Prices', x_axis_label='Car Manufacturer', y_axis_label='Mean Price', x_range=grouped['make'])\n",
    "p.vbar(x='make', top='price', source=grouped, width=0.5)"
   ]
  },
  {
   "cell_type": "code",
   "execution_count": 38,
   "metadata": {},
   "outputs": [
    {
     "data": {
      "text/html": [
       "\n",
       "  <div id=\"d80fe8c9-c0e6-4c5d-93dd-68884007de81\" data-root-id=\"p1650\" style=\"display: contents;\"></div>\n"
      ]
     },
     "metadata": {},
     "output_type": "display_data"
    },
    {
     "data": {
      "application/javascript": "(function(root) {\n  function embed_document(root) {\n  const docs_json = {\"620e7eac-8fe9-4321-add7-8e7c212f573a\":{\"version\":\"3.6.0\",\"title\":\"Bokeh Application\",\"roots\":[{\"type\":\"object\",\"name\":\"Figure\",\"id\":\"p1650\",\"attributes\":{\"x_range\":{\"type\":\"object\",\"name\":\"FactorRange\",\"id\":\"p1660\",\"attributes\":{\"factors\":[\"alfa-romero\",\"audi\",\"bmw\",\"chevrolet\",\"dodge\",\"honda\",\"isuzu\",\"jaguar\",\"mazda\",\"mercedes-benz\",\"mercury\",\"mitsubishi\",\"nissan\",\"peugot\",\"plymouth\",\"porsche\",\"renault\",\"saab\",\"subaru\",\"toyota\",\"volkswagen\",\"volvo\"]}},\"y_range\":{\"type\":\"object\",\"name\":\"DataRange1d\",\"id\":\"p1652\"},\"x_scale\":{\"type\":\"object\",\"name\":\"CategoricalScale\",\"id\":\"p1661\"},\"y_scale\":{\"type\":\"object\",\"name\":\"LinearScale\",\"id\":\"p1662\"},\"title\":{\"type\":\"object\",\"name\":\"Title\",\"id\":\"p1653\",\"attributes\":{\"text\":\"Car Manufacturer Mean Prices\"}},\"renderers\":[{\"type\":\"object\",\"name\":\"GlyphRenderer\",\"id\":\"p1695\",\"attributes\":{\"data_source\":{\"type\":\"object\",\"name\":\"ColumnDataSource\",\"id\":\"p1686\",\"attributes\":{\"selected\":{\"type\":\"object\",\"name\":\"Selection\",\"id\":\"p1687\",\"attributes\":{\"indices\":[],\"line_indices\":[]}},\"selection_policy\":{\"type\":\"object\",\"name\":\"UnionRenderers\",\"id\":\"p1688\"},\"data\":{\"type\":\"map\",\"entries\":[[\"level_0\",{\"type\":\"ndarray\",\"array\":{\"type\":\"bytes\",\"data\":\"AAAAAAEAAAACAAAAAwAAAAQAAAAFAAAABgAAAAcAAAAIAAAACQAAAAoAAAALAAAADAAAAA0AAAAOAAAADwAAABAAAAARAAAAEgAAABMAAAAUAAAAFQAAAA==\"},\"shape\":[22],\"dtype\":\"int32\",\"order\":\"little\"}],[\"make\",{\"type\":\"ndarray\",\"array\":[\"alfa-romero\",\"audi\",\"bmw\",\"chevrolet\",\"dodge\",\"honda\",\"isuzu\",\"jaguar\",\"mazda\",\"mercedes-benz\",\"mercury\",\"mitsubishi\",\"nissan\",\"peugot\",\"plymouth\",\"porsche\",\"renault\",\"saab\",\"subaru\",\"toyota\",\"volkswagen\",\"volvo\"],\"shape\":[22],\"dtype\":\"object\",\"order\":\"little\"}],[\"length\",{\"type\":\"ndarray\",\"array\":{\"type\":\"bytes\",\"data\":\"MzMzMzMzZUCIiIiIiBhnQAAAAAAAEGdA3t3d3d39YkD7pE/6pB9kQIqd2ImdGGRAzMzMzMx0ZUDv7u7u7p5oQMrJycnJWWVAZmZmZmZoaEDNzMzMzExmQBD8wA/8AGVA+6RP+qRfZUB00UUXXeRnQM3MzMzMnGRAzczMzMwcZUDNzMzMzGRmQDMzMzMzU2dAd3d3d3cbZUBmZmZm5n1lQBERERERkWVAmpmZmZmZZ0A=\"},\"shape\":[22],\"dtype\":\"float64\",\"order\":\"little\"}],[\"width\",{\"type\":\"ndarray\",\"array\":{\"type\":\"bytes\",\"data\":\"REREREQkUEBnZmZmZjZRQGZmZmZmnlBAAAAAAABAT0CrqqqqqgpQQIqd2ImdGFBAAAAAAADAT0C7u7u7u3tRQKalpaWlZVBAAAAAAADEUUAAAAAAAABRQAQ/8AM/UFBAW7AFW7BFUEB5SpCnBBlRQBZf8RVfEVBAzczMzMx0UEAzMzMzM6NQQAAAAAAAoFBAzczMzMw8UEDNzMzMzEVQQHd3d3d3Z1BAfsPaN6z9UEA=\"},\"shape\":[22],\"dtype\":\"float64\",\"order\":\"little\"}],[\"height\",{\"type\":\"ndarray\",\"array\":{\"type\":\"bytes\",\"data\":\"AAAAAAAASUCrqqqqqmpLQJqZmZmZaUtAMzMzMzMzSkAofdInfdJJQOmFXuiFnkpAmpmZmZk5SkAQEREREZFJQO7t7e3trUpAzczMzMzcS0BmZmZmZmZLQIqd2ImdWElAERERERHRSkAXXXTRRZdMQMZXfMVX/ElAAAAAAACgSUDNzMzMzGxKQM3MzMzMDExAAAAAAADgSkBmZmZmZtxKQHh3d3d3l0tAnxLkKUEeTEA=\"},\"shape\":[22],\"dtype\":\"float64\",\"order\":\"little\"}],[\"city-mpg\",{\"type\":\"ndarray\",\"array\":{\"type\":\"bytes\",\"data\":\"VVVVVVVVNEBVVVVVVVUzQAAAAAAAYDNAAAAAAACAREAAAAAAAAA8QCd2Yid2Yj5AAAAAAAAAOECrqqqqqqosQLW0tLS0tDlAAAAAAACAMkAAAAAAAAAzQMVO7MRO7DhAAAAAAAAAO0B00UUXXXQ2QEmSJEmSJDxAAAAAAACAMUAAAAAAAAA3QFVVVVVVVTRAVVVVVVVVOkAAAAAAAIA7QFVVVVVVlTxAL7rooosuNUA=\"},\"shape\":[22],\"dtype\":\"float64\",\"order\":\"little\"}],[\"highway-mpg\",{\"type\":\"ndarray\",\"array\":{\"type\":\"bytes\",\"data\":\"q6qqqqqqOkAAAAAAAIA4QAAAAAAAYDlAq6qqqqoqR0DkOI7jOA5BQLETO7ETu0FAAAAAAAAAPUBVVVVVVVUyQPHw8PDw8D9AAAAAAAAANUAAAAAAAAA4QHZiJ3ZiJz9AjuM4juN4QECjiy666KI6QCVJkiRJEkFAAAAAAACAOUAAAAAAAAA/QFVVVVVVVTtAAAAAAADAPkAAAAAAAHRAQFVVVVVVdUFA0UUXXXTROUA=\"},\"shape\":[22],\"dtype\":\"float64\",\"order\":\"little\"}],[\"price\",{\"type\":\"ndarray\",\"array\":{\"type\":\"bytes\",\"data\":\"q6qqqipFzkCrqqqqynDRQAAAAACwgdlAAAAAAAB3t0DHcRzHccO+QDuxEzux+L9AAAAAAEBqwUAAAAAAAOXgQPHw8PBwzsRAAAAAAOBt4EAAAAAAwB3QQHZiJ3biC8JAVVVVVdVXxEAvuuiii0DOQLdt27ZtG79AAAAAACCq3kAAAAAAgL3CQKuqqqqqu81AAAAAAKCuwEAAAAAA6E7DQAAAAADArsNAL7roosuj0UA=\"},\"shape\":[22],\"dtype\":\"float64\",\"order\":\"little\"}],[\"index\",{\"type\":\"ndarray\",\"array\":{\"type\":\"bytes\",\"data\":\"AAAAAAAA8D8AAAAAAAAWQAAAAAAAAClAAAAAAAAAMkAAAAAAAAA4QAAAAAAAgEFAAAAAAABARUAAAAAAAIBGQAAAAAAAgEtAAAAAAADgUEAAAAAAAABSQAAAAAAAwFNAAAAAAACgV0AAAAAAAEBbQAAAAAAAgF1AAAAAAADgXkAAAAAAAKBfQAAAAAAAUGBAAAAAAABwYUAAAAAAADBkQAAAAAAA8GZAAAAAAABgaEA=\"},\"shape\":[22],\"dtype\":\"float64\",\"order\":\"little\"}]]}}},\"view\":{\"type\":\"object\",\"name\":\"CDSView\",\"id\":\"p1696\",\"attributes\":{\"filter\":{\"type\":\"object\",\"name\":\"AllIndices\",\"id\":\"p1697\"}}},\"glyph\":{\"type\":\"object\",\"name\":\"VBar\",\"id\":\"p1692\",\"attributes\":{\"x\":{\"type\":\"field\",\"field\":\"make\"},\"width\":{\"type\":\"value\",\"value\":0.5},\"top\":{\"type\":\"field\",\"field\":\"price\"},\"line_color\":{\"type\":\"value\",\"value\":\"#1f77b4\"},\"fill_color\":{\"type\":\"value\",\"value\":\"#1f77b4\"}}},\"nonselection_glyph\":{\"type\":\"object\",\"name\":\"VBar\",\"id\":\"p1693\",\"attributes\":{\"x\":{\"type\":\"field\",\"field\":\"make\"},\"width\":{\"type\":\"value\",\"value\":0.5},\"top\":{\"type\":\"field\",\"field\":\"price\"},\"line_color\":{\"type\":\"value\",\"value\":\"#1f77b4\"},\"line_alpha\":{\"type\":\"value\",\"value\":0.1},\"fill_color\":{\"type\":\"value\",\"value\":\"#1f77b4\"},\"fill_alpha\":{\"type\":\"value\",\"value\":0.1},\"hatch_alpha\":{\"type\":\"value\",\"value\":0.1}}},\"muted_glyph\":{\"type\":\"object\",\"name\":\"VBar\",\"id\":\"p1694\",\"attributes\":{\"x\":{\"type\":\"field\",\"field\":\"make\"},\"width\":{\"type\":\"value\",\"value\":0.5},\"top\":{\"type\":\"field\",\"field\":\"price\"},\"line_color\":{\"type\":\"value\",\"value\":\"#1f77b4\"},\"line_alpha\":{\"type\":\"value\",\"value\":0.2},\"fill_color\":{\"type\":\"value\",\"value\":\"#1f77b4\"},\"fill_alpha\":{\"type\":\"value\",\"value\":0.2},\"hatch_alpha\":{\"type\":\"value\",\"value\":0.2}}}}}],\"toolbar\":{\"type\":\"object\",\"name\":\"Toolbar\",\"id\":\"p1659\",\"attributes\":{\"tools\":[{\"type\":\"object\",\"name\":\"PanTool\",\"id\":\"p1673\"},{\"type\":\"object\",\"name\":\"WheelZoomTool\",\"id\":\"p1674\",\"attributes\":{\"renderers\":\"auto\"}},{\"type\":\"object\",\"name\":\"BoxZoomTool\",\"id\":\"p1675\",\"attributes\":{\"overlay\":{\"type\":\"object\",\"name\":\"BoxAnnotation\",\"id\":\"p1676\",\"attributes\":{\"syncable\":false,\"line_color\":\"black\",\"line_alpha\":1.0,\"line_width\":2,\"line_dash\":[4,4],\"fill_color\":\"lightgrey\",\"fill_alpha\":0.5,\"level\":\"overlay\",\"visible\":false,\"left\":{\"type\":\"number\",\"value\":\"nan\"},\"right\":{\"type\":\"number\",\"value\":\"nan\"},\"top\":{\"type\":\"number\",\"value\":\"nan\"},\"bottom\":{\"type\":\"number\",\"value\":\"nan\"},\"left_units\":\"canvas\",\"right_units\":\"canvas\",\"top_units\":\"canvas\",\"bottom_units\":\"canvas\",\"handles\":{\"type\":\"object\",\"name\":\"BoxInteractionHandles\",\"id\":\"p1682\",\"attributes\":{\"all\":{\"type\":\"object\",\"name\":\"AreaVisuals\",\"id\":\"p1681\",\"attributes\":{\"fill_color\":\"white\",\"hover_fill_color\":\"lightgray\"}}}}}}}},{\"type\":\"object\",\"name\":\"SaveTool\",\"id\":\"p1683\"},{\"type\":\"object\",\"name\":\"ResetTool\",\"id\":\"p1684\"},{\"type\":\"object\",\"name\":\"HelpTool\",\"id\":\"p1685\"}]}},\"left\":[{\"type\":\"object\",\"name\":\"LinearAxis\",\"id\":\"p1668\",\"attributes\":{\"ticker\":{\"type\":\"object\",\"name\":\"BasicTicker\",\"id\":\"p1669\",\"attributes\":{\"mantissas\":[1,2,5]}},\"formatter\":{\"type\":\"object\",\"name\":\"BasicTickFormatter\",\"id\":\"p1670\"},\"axis_label\":\"Mean Price\",\"major_label_policy\":{\"type\":\"object\",\"name\":\"AllLabels\",\"id\":\"p1671\"}}}],\"below\":[{\"type\":\"object\",\"name\":\"CategoricalAxis\",\"id\":\"p1663\",\"attributes\":{\"ticker\":{\"type\":\"object\",\"name\":\"CategoricalTicker\",\"id\":\"p1664\"},\"formatter\":{\"type\":\"object\",\"name\":\"CategoricalTickFormatter\",\"id\":\"p1665\"},\"axis_label\":\"Car Manufacturer\",\"major_label_orientation\":\"vertical\",\"major_label_policy\":{\"type\":\"object\",\"name\":\"AllLabels\",\"id\":\"p1666\"}}}],\"center\":[{\"type\":\"object\",\"name\":\"Grid\",\"id\":\"p1667\",\"attributes\":{\"axis\":{\"id\":\"p1663\"}}},{\"type\":\"object\",\"name\":\"Grid\",\"id\":\"p1672\",\"attributes\":{\"dimension\":1,\"axis\":{\"id\":\"p1668\"}}}]}}]}};\n  const render_items = [{\"docid\":\"620e7eac-8fe9-4321-add7-8e7c212f573a\",\"roots\":{\"p1650\":\"d80fe8c9-c0e6-4c5d-93dd-68884007de81\"},\"root_ids\":[\"p1650\"]}];\n  void root.Bokeh.embed.embed_items_notebook(docs_json, render_items);\n  }\n  if (root.Bokeh !== undefined) {\n    embed_document(root);\n  } else {\n    let attempts = 0;\n    const timer = setInterval(function(root) {\n      if (root.Bokeh !== undefined) {\n        clearInterval(timer);\n        embed_document(root);\n      } else {\n        attempts++;\n        if (attempts > 100) {\n          clearInterval(timer);\n          console.log(\"Bokeh: ERROR: Unable to run BokehJS code because BokehJS library is missing\");\n        }\n      }\n    }, 10, root)\n  }\n})(window);",
      "application/vnd.bokehjs_exec.v0+json": ""
     },
     "metadata": {
      "application/vnd.bokehjs_exec.v0+json": {
       "id": "p1650"
      }
     },
     "output_type": "display_data"
    }
   ],
   "source": [
    "# 09: Assign the value of vertical to the xaxis.major_label_orientation attribute of our grouped_plot. Call the show method again to display the visualization.\n",
    "p.xaxis.major_label_orientation = 'vertical'\n",
    "show(p)"
   ]
  },
  {
   "cell_type": "code",
   "execution_count": 39,
   "metadata": {},
   "outputs": [],
   "source": [
    "# 10: Import and set up a new LinearColorMapper object with a palette of Magma256, and the min and max prices for the low and high arguments.\n",
    "from bokeh.models import LinearColorMapper\n",
    "from bokeh.transform import transform\n",
    "\n",
    "mapper = LinearColorMapper(palette='Magma256', low=grouped['price'].min(), high=grouped['price'].max())"
   ]
  },
  {
   "cell_type": "code",
   "execution_count": 40,
   "metadata": {},
   "outputs": [],
   "source": [
    "# 11: Create a new figure with the same name, labels, and x_range as before.\n",
    "p = figure(title='Car Manufacturer Mean Prices', \n",
    "           x_axis_label='Car Manufacturer', y_axis_label='Mean Price', \n",
    "           x_range=grouped['make'])"
   ]
  },
  {
   "cell_type": "code",
   "execution_count": 41,
   "metadata": {},
   "outputs": [
    {
     "data": {
      "text/html": [
       "\n",
       "  <div id=\"f16ecea0-7235-4f97-9be6-f538b322a28f\" data-root-id=\"p1709\" style=\"display: contents;\"></div>\n"
      ]
     },
     "metadata": {},
     "output_type": "display_data"
    },
    {
     "data": {
      "application/javascript": "(function(root) {\n  function embed_document(root) {\n  const docs_json = {\"d7f15f39-217e-4cb8-bf6f-2290b8a8609f\":{\"version\":\"3.6.0\",\"title\":\"Bokeh Application\",\"roots\":[{\"type\":\"object\",\"name\":\"Figure\",\"id\":\"p1709\",\"attributes\":{\"x_range\":{\"type\":\"object\",\"name\":\"FactorRange\",\"id\":\"p1719\",\"attributes\":{\"factors\":[\"alfa-romero\",\"audi\",\"bmw\",\"chevrolet\",\"dodge\",\"honda\",\"isuzu\",\"jaguar\",\"mazda\",\"mercedes-benz\",\"mercury\",\"mitsubishi\",\"nissan\",\"peugot\",\"plymouth\",\"porsche\",\"renault\",\"saab\",\"subaru\",\"toyota\",\"volkswagen\",\"volvo\"]}},\"y_range\":{\"type\":\"object\",\"name\":\"DataRange1d\",\"id\":\"p1711\"},\"x_scale\":{\"type\":\"object\",\"name\":\"CategoricalScale\",\"id\":\"p1720\"},\"y_scale\":{\"type\":\"object\",\"name\":\"LinearScale\",\"id\":\"p1721\"},\"title\":{\"type\":\"object\",\"name\":\"Title\",\"id\":\"p1712\",\"attributes\":{\"text\":\"Car Manufacturer Mean Prices\"}},\"renderers\":[{\"type\":\"object\",\"name\":\"GlyphRenderer\",\"id\":\"p1754\",\"attributes\":{\"data_source\":{\"type\":\"object\",\"name\":\"ColumnDataSource\",\"id\":\"p1745\",\"attributes\":{\"selected\":{\"type\":\"object\",\"name\":\"Selection\",\"id\":\"p1746\",\"attributes\":{\"indices\":[],\"line_indices\":[]}},\"selection_policy\":{\"type\":\"object\",\"name\":\"UnionRenderers\",\"id\":\"p1747\"},\"data\":{\"type\":\"map\",\"entries\":[[\"level_0\",{\"type\":\"ndarray\",\"array\":{\"type\":\"bytes\",\"data\":\"AAAAAAEAAAACAAAAAwAAAAQAAAAFAAAABgAAAAcAAAAIAAAACQAAAAoAAAALAAAADAAAAA0AAAAOAAAADwAAABAAAAARAAAAEgAAABMAAAAUAAAAFQAAAA==\"},\"shape\":[22],\"dtype\":\"int32\",\"order\":\"little\"}],[\"make\",{\"type\":\"ndarray\",\"array\":[\"alfa-romero\",\"audi\",\"bmw\",\"chevrolet\",\"dodge\",\"honda\",\"isuzu\",\"jaguar\",\"mazda\",\"mercedes-benz\",\"mercury\",\"mitsubishi\",\"nissan\",\"peugot\",\"plymouth\",\"porsche\",\"renault\",\"saab\",\"subaru\",\"toyota\",\"volkswagen\",\"volvo\"],\"shape\":[22],\"dtype\":\"object\",\"order\":\"little\"}],[\"length\",{\"type\":\"ndarray\",\"array\":{\"type\":\"bytes\",\"data\":\"MzMzMzMzZUCIiIiIiBhnQAAAAAAAEGdA3t3d3d39YkD7pE/6pB9kQIqd2ImdGGRAzMzMzMx0ZUDv7u7u7p5oQMrJycnJWWVAZmZmZmZoaEDNzMzMzExmQBD8wA/8AGVA+6RP+qRfZUB00UUXXeRnQM3MzMzMnGRAzczMzMwcZUDNzMzMzGRmQDMzMzMzU2dAd3d3d3cbZUBmZmZm5n1lQBERERERkWVAmpmZmZmZZ0A=\"},\"shape\":[22],\"dtype\":\"float64\",\"order\":\"little\"}],[\"width\",{\"type\":\"ndarray\",\"array\":{\"type\":\"bytes\",\"data\":\"REREREQkUEBnZmZmZjZRQGZmZmZmnlBAAAAAAABAT0CrqqqqqgpQQIqd2ImdGFBAAAAAAADAT0C7u7u7u3tRQKalpaWlZVBAAAAAAADEUUAAAAAAAABRQAQ/8AM/UFBAW7AFW7BFUEB5SpCnBBlRQBZf8RVfEVBAzczMzMx0UEAzMzMzM6NQQAAAAAAAoFBAzczMzMw8UEDNzMzMzEVQQHd3d3d3Z1BAfsPaN6z9UEA=\"},\"shape\":[22],\"dtype\":\"float64\",\"order\":\"little\"}],[\"height\",{\"type\":\"ndarray\",\"array\":{\"type\":\"bytes\",\"data\":\"AAAAAAAASUCrqqqqqmpLQJqZmZmZaUtAMzMzMzMzSkAofdInfdJJQOmFXuiFnkpAmpmZmZk5SkAQEREREZFJQO7t7e3trUpAzczMzMzcS0BmZmZmZmZLQIqd2ImdWElAERERERHRSkAXXXTRRZdMQMZXfMVX/ElAAAAAAACgSUDNzMzMzGxKQM3MzMzMDExAAAAAAADgSkBmZmZmZtxKQHh3d3d3l0tAnxLkKUEeTEA=\"},\"shape\":[22],\"dtype\":\"float64\",\"order\":\"little\"}],[\"city-mpg\",{\"type\":\"ndarray\",\"array\":{\"type\":\"bytes\",\"data\":\"VVVVVVVVNEBVVVVVVVUzQAAAAAAAYDNAAAAAAACAREAAAAAAAAA8QCd2Yid2Yj5AAAAAAAAAOECrqqqqqqosQLW0tLS0tDlAAAAAAACAMkAAAAAAAAAzQMVO7MRO7DhAAAAAAAAAO0B00UUXXXQ2QEmSJEmSJDxAAAAAAACAMUAAAAAAAAA3QFVVVVVVVTRAVVVVVVVVOkAAAAAAAIA7QFVVVVVVlTxAL7rooosuNUA=\"},\"shape\":[22],\"dtype\":\"float64\",\"order\":\"little\"}],[\"highway-mpg\",{\"type\":\"ndarray\",\"array\":{\"type\":\"bytes\",\"data\":\"q6qqqqqqOkAAAAAAAIA4QAAAAAAAYDlAq6qqqqoqR0DkOI7jOA5BQLETO7ETu0FAAAAAAAAAPUBVVVVVVVUyQPHw8PDw8D9AAAAAAAAANUAAAAAAAAA4QHZiJ3ZiJz9AjuM4juN4QECjiy666KI6QCVJkiRJEkFAAAAAAACAOUAAAAAAAAA/QFVVVVVVVTtAAAAAAADAPkAAAAAAAHRAQFVVVVVVdUFA0UUXXXTROUA=\"},\"shape\":[22],\"dtype\":\"float64\",\"order\":\"little\"}],[\"price\",{\"type\":\"ndarray\",\"array\":{\"type\":\"bytes\",\"data\":\"q6qqqipFzkCrqqqqynDRQAAAAACwgdlAAAAAAAB3t0DHcRzHccO+QDuxEzux+L9AAAAAAEBqwUAAAAAAAOXgQPHw8PBwzsRAAAAAAOBt4EAAAAAAwB3QQHZiJ3biC8JAVVVVVdVXxEAvuuiii0DOQLdt27ZtG79AAAAAACCq3kAAAAAAgL3CQKuqqqqqu81AAAAAAKCuwEAAAAAA6E7DQAAAAADArsNAL7roosuj0UA=\"},\"shape\":[22],\"dtype\":\"float64\",\"order\":\"little\"}],[\"index\",{\"type\":\"ndarray\",\"array\":{\"type\":\"bytes\",\"data\":\"AAAAAAAA8D8AAAAAAAAWQAAAAAAAAClAAAAAAAAAMkAAAAAAAAA4QAAAAAAAgEFAAAAAAABARUAAAAAAAIBGQAAAAAAAgEtAAAAAAADgUEAAAAAAAABSQAAAAAAAwFNAAAAAAACgV0AAAAAAAEBbQAAAAAAAgF1AAAAAAADgXkAAAAAAAKBfQAAAAAAAUGBAAAAAAABwYUAAAAAAADBkQAAAAAAA8GZAAAAAAABgaEA=\"},\"shape\":[22],\"dtype\":\"float64\",\"order\":\"little\"}]]}}},\"view\":{\"type\":\"object\",\"name\":\"CDSView\",\"id\":\"p1755\",\"attributes\":{\"filter\":{\"type\":\"object\",\"name\":\"AllIndices\",\"id\":\"p1756\"}}},\"glyph\":{\"type\":\"object\",\"name\":\"Scatter\",\"id\":\"p1751\",\"attributes\":{\"x\":{\"type\":\"field\",\"field\":\"make\"},\"y\":{\"type\":\"field\",\"field\":\"price\"},\"size\":{\"type\":\"value\",\"value\":15},\"line_color\":{\"type\":\"value\",\"value\":\"#1f77b4\"},\"fill_color\":{\"type\":\"value\",\"value\":\"#1f77b4\"}}},\"nonselection_glyph\":{\"type\":\"object\",\"name\":\"Scatter\",\"id\":\"p1752\",\"attributes\":{\"x\":{\"type\":\"field\",\"field\":\"make\"},\"y\":{\"type\":\"field\",\"field\":\"price\"},\"size\":{\"type\":\"value\",\"value\":15},\"line_color\":{\"type\":\"value\",\"value\":\"#1f77b4\"},\"line_alpha\":{\"type\":\"value\",\"value\":0.1},\"fill_color\":{\"type\":\"value\",\"value\":\"#1f77b4\"},\"fill_alpha\":{\"type\":\"value\",\"value\":0.1},\"hatch_alpha\":{\"type\":\"value\",\"value\":0.1}}},\"muted_glyph\":{\"type\":\"object\",\"name\":\"Scatter\",\"id\":\"p1753\",\"attributes\":{\"x\":{\"type\":\"field\",\"field\":\"make\"},\"y\":{\"type\":\"field\",\"field\":\"price\"},\"size\":{\"type\":\"value\",\"value\":15},\"line_color\":{\"type\":\"value\",\"value\":\"#1f77b4\"},\"line_alpha\":{\"type\":\"value\",\"value\":0.2},\"fill_color\":{\"type\":\"value\",\"value\":\"#1f77b4\"},\"fill_alpha\":{\"type\":\"value\",\"value\":0.2},\"hatch_alpha\":{\"type\":\"value\",\"value\":0.2}}}}}],\"toolbar\":{\"type\":\"object\",\"name\":\"Toolbar\",\"id\":\"p1718\",\"attributes\":{\"tools\":[{\"type\":\"object\",\"name\":\"PanTool\",\"id\":\"p1732\"},{\"type\":\"object\",\"name\":\"WheelZoomTool\",\"id\":\"p1733\",\"attributes\":{\"renderers\":\"auto\"}},{\"type\":\"object\",\"name\":\"BoxZoomTool\",\"id\":\"p1734\",\"attributes\":{\"overlay\":{\"type\":\"object\",\"name\":\"BoxAnnotation\",\"id\":\"p1735\",\"attributes\":{\"syncable\":false,\"line_color\":\"black\",\"line_alpha\":1.0,\"line_width\":2,\"line_dash\":[4,4],\"fill_color\":\"lightgrey\",\"fill_alpha\":0.5,\"level\":\"overlay\",\"visible\":false,\"left\":{\"type\":\"number\",\"value\":\"nan\"},\"right\":{\"type\":\"number\",\"value\":\"nan\"},\"top\":{\"type\":\"number\",\"value\":\"nan\"},\"bottom\":{\"type\":\"number\",\"value\":\"nan\"},\"left_units\":\"canvas\",\"right_units\":\"canvas\",\"top_units\":\"canvas\",\"bottom_units\":\"canvas\",\"handles\":{\"type\":\"object\",\"name\":\"BoxInteractionHandles\",\"id\":\"p1741\",\"attributes\":{\"all\":{\"type\":\"object\",\"name\":\"AreaVisuals\",\"id\":\"p1740\",\"attributes\":{\"fill_color\":\"white\",\"hover_fill_color\":\"lightgray\"}}}}}}}},{\"type\":\"object\",\"name\":\"SaveTool\",\"id\":\"p1742\"},{\"type\":\"object\",\"name\":\"ResetTool\",\"id\":\"p1743\"},{\"type\":\"object\",\"name\":\"HelpTool\",\"id\":\"p1744\"}]}},\"left\":[{\"type\":\"object\",\"name\":\"LinearAxis\",\"id\":\"p1727\",\"attributes\":{\"ticker\":{\"type\":\"object\",\"name\":\"BasicTicker\",\"id\":\"p1728\",\"attributes\":{\"mantissas\":[1,2,5]}},\"formatter\":{\"type\":\"object\",\"name\":\"BasicTickFormatter\",\"id\":\"p1729\"},\"axis_label\":\"Mean Price\",\"major_label_policy\":{\"type\":\"object\",\"name\":\"AllLabels\",\"id\":\"p1730\"}}}],\"below\":[{\"type\":\"object\",\"name\":\"CategoricalAxis\",\"id\":\"p1722\",\"attributes\":{\"ticker\":{\"type\":\"object\",\"name\":\"CategoricalTicker\",\"id\":\"p1723\"},\"formatter\":{\"type\":\"object\",\"name\":\"CategoricalTickFormatter\",\"id\":\"p1724\"},\"axis_label\":\"Car Manufacturer\",\"major_label_policy\":{\"type\":\"object\",\"name\":\"AllLabels\",\"id\":\"p1725\"}}}],\"center\":[{\"type\":\"object\",\"name\":\"Grid\",\"id\":\"p1726\",\"attributes\":{\"axis\":{\"id\":\"p1722\"}}},{\"type\":\"object\",\"name\":\"Grid\",\"id\":\"p1731\",\"attributes\":{\"dimension\":1,\"axis\":{\"id\":\"p1727\"}}}]}}]}};\n  const render_items = [{\"docid\":\"d7f15f39-217e-4cb8-bf6f-2290b8a8609f\",\"roots\":{\"p1709\":\"f16ecea0-7235-4f97-9be6-f538b322a28f\"},\"root_ids\":[\"p1709\"]}];\n  void root.Bokeh.embed.embed_items_notebook(docs_json, render_items);\n  }\n  if (root.Bokeh !== undefined) {\n    embed_document(root);\n  } else {\n    let attempts = 0;\n    const timer = setInterval(function(root) {\n      if (root.Bokeh !== undefined) {\n        clearInterval(timer);\n        embed_document(root);\n      } else {\n        attempts++;\n        if (attempts > 100) {\n          clearInterval(timer);\n          console.log(\"Bokeh: ERROR: Unable to run BokehJS code because BokehJS library is missing\");\n        }\n      }\n    }, 10, root)\n  }\n})(window);",
      "application/vnd.bokehjs_exec.v0+json": ""
     },
     "metadata": {
      "application/vnd.bokehjs_exec.v0+json": {
       "id": "p1709"
      }
     },
     "output_type": "display_data"
    }
   ],
   "source": [
    "# 12: Plot each manufacturer and provide a size argument with a size of 15.\n",
    "p.scatter('make', 'price', source=grouped, size=15)\n",
    "show(p)"
   ]
  },
  {
   "cell_type": "code",
   "execution_count": 42,
   "metadata": {},
   "outputs": [
    {
     "data": {
      "text/html": [
       "\n",
       "  <div id=\"f0b42be0-94b9-4028-aed6-8c5e20cd3a1c\" data-root-id=\"p1709\" style=\"display: contents;\"></div>\n"
      ]
     },
     "metadata": {},
     "output_type": "display_data"
    },
    {
     "data": {
      "application/javascript": "(function(root) {\n  function embed_document(root) {\n  const docs_json = {\"bf34990a-1eda-45de-92e0-ac2ee59c90f1\":{\"version\":\"3.6.0\",\"title\":\"Bokeh Application\",\"roots\":[{\"type\":\"object\",\"name\":\"Figure\",\"id\":\"p1709\",\"attributes\":{\"x_range\":{\"type\":\"object\",\"name\":\"FactorRange\",\"id\":\"p1719\",\"attributes\":{\"factors\":[\"alfa-romero\",\"audi\",\"bmw\",\"chevrolet\",\"dodge\",\"honda\",\"isuzu\",\"jaguar\",\"mazda\",\"mercedes-benz\",\"mercury\",\"mitsubishi\",\"nissan\",\"peugot\",\"plymouth\",\"porsche\",\"renault\",\"saab\",\"subaru\",\"toyota\",\"volkswagen\",\"volvo\"]}},\"y_range\":{\"type\":\"object\",\"name\":\"DataRange1d\",\"id\":\"p1711\"},\"x_scale\":{\"type\":\"object\",\"name\":\"CategoricalScale\",\"id\":\"p1720\"},\"y_scale\":{\"type\":\"object\",\"name\":\"LinearScale\",\"id\":\"p1721\"},\"title\":{\"type\":\"object\",\"name\":\"Title\",\"id\":\"p1712\",\"attributes\":{\"text\":\"Car Manufacturer Mean Prices\"}},\"renderers\":[{\"type\":\"object\",\"name\":\"GlyphRenderer\",\"id\":\"p1754\",\"attributes\":{\"data_source\":{\"type\":\"object\",\"name\":\"ColumnDataSource\",\"id\":\"p1745\",\"attributes\":{\"selected\":{\"type\":\"object\",\"name\":\"Selection\",\"id\":\"p1746\",\"attributes\":{\"indices\":[],\"line_indices\":[]}},\"selection_policy\":{\"type\":\"object\",\"name\":\"UnionRenderers\",\"id\":\"p1747\"},\"data\":{\"type\":\"map\",\"entries\":[[\"level_0\",{\"type\":\"ndarray\",\"array\":{\"type\":\"bytes\",\"data\":\"AAAAAAEAAAACAAAAAwAAAAQAAAAFAAAABgAAAAcAAAAIAAAACQAAAAoAAAALAAAADAAAAA0AAAAOAAAADwAAABAAAAARAAAAEgAAABMAAAAUAAAAFQAAAA==\"},\"shape\":[22],\"dtype\":\"int32\",\"order\":\"little\"}],[\"make\",{\"type\":\"ndarray\",\"array\":[\"alfa-romero\",\"audi\",\"bmw\",\"chevrolet\",\"dodge\",\"honda\",\"isuzu\",\"jaguar\",\"mazda\",\"mercedes-benz\",\"mercury\",\"mitsubishi\",\"nissan\",\"peugot\",\"plymouth\",\"porsche\",\"renault\",\"saab\",\"subaru\",\"toyota\",\"volkswagen\",\"volvo\"],\"shape\":[22],\"dtype\":\"object\",\"order\":\"little\"}],[\"length\",{\"type\":\"ndarray\",\"array\":{\"type\":\"bytes\",\"data\":\"MzMzMzMzZUCIiIiIiBhnQAAAAAAAEGdA3t3d3d39YkD7pE/6pB9kQIqd2ImdGGRAzMzMzMx0ZUDv7u7u7p5oQMrJycnJWWVAZmZmZmZoaEDNzMzMzExmQBD8wA/8AGVA+6RP+qRfZUB00UUXXeRnQM3MzMzMnGRAzczMzMwcZUDNzMzMzGRmQDMzMzMzU2dAd3d3d3cbZUBmZmZm5n1lQBERERERkWVAmpmZmZmZZ0A=\"},\"shape\":[22],\"dtype\":\"float64\",\"order\":\"little\"}],[\"width\",{\"type\":\"ndarray\",\"array\":{\"type\":\"bytes\",\"data\":\"REREREQkUEBnZmZmZjZRQGZmZmZmnlBAAAAAAABAT0CrqqqqqgpQQIqd2ImdGFBAAAAAAADAT0C7u7u7u3tRQKalpaWlZVBAAAAAAADEUUAAAAAAAABRQAQ/8AM/UFBAW7AFW7BFUEB5SpCnBBlRQBZf8RVfEVBAzczMzMx0UEAzMzMzM6NQQAAAAAAAoFBAzczMzMw8UEDNzMzMzEVQQHd3d3d3Z1BAfsPaN6z9UEA=\"},\"shape\":[22],\"dtype\":\"float64\",\"order\":\"little\"}],[\"height\",{\"type\":\"ndarray\",\"array\":{\"type\":\"bytes\",\"data\":\"AAAAAAAASUCrqqqqqmpLQJqZmZmZaUtAMzMzMzMzSkAofdInfdJJQOmFXuiFnkpAmpmZmZk5SkAQEREREZFJQO7t7e3trUpAzczMzMzcS0BmZmZmZmZLQIqd2ImdWElAERERERHRSkAXXXTRRZdMQMZXfMVX/ElAAAAAAACgSUDNzMzMzGxKQM3MzMzMDExAAAAAAADgSkBmZmZmZtxKQHh3d3d3l0tAnxLkKUEeTEA=\"},\"shape\":[22],\"dtype\":\"float64\",\"order\":\"little\"}],[\"city-mpg\",{\"type\":\"ndarray\",\"array\":{\"type\":\"bytes\",\"data\":\"VVVVVVVVNEBVVVVVVVUzQAAAAAAAYDNAAAAAAACAREAAAAAAAAA8QCd2Yid2Yj5AAAAAAAAAOECrqqqqqqosQLW0tLS0tDlAAAAAAACAMkAAAAAAAAAzQMVO7MRO7DhAAAAAAAAAO0B00UUXXXQ2QEmSJEmSJDxAAAAAAACAMUAAAAAAAAA3QFVVVVVVVTRAVVVVVVVVOkAAAAAAAIA7QFVVVVVVlTxAL7rooosuNUA=\"},\"shape\":[22],\"dtype\":\"float64\",\"order\":\"little\"}],[\"highway-mpg\",{\"type\":\"ndarray\",\"array\":{\"type\":\"bytes\",\"data\":\"q6qqqqqqOkAAAAAAAIA4QAAAAAAAYDlAq6qqqqoqR0DkOI7jOA5BQLETO7ETu0FAAAAAAAAAPUBVVVVVVVUyQPHw8PDw8D9AAAAAAAAANUAAAAAAAAA4QHZiJ3ZiJz9AjuM4juN4QECjiy666KI6QCVJkiRJEkFAAAAAAACAOUAAAAAAAAA/QFVVVVVVVTtAAAAAAADAPkAAAAAAAHRAQFVVVVVVdUFA0UUXXXTROUA=\"},\"shape\":[22],\"dtype\":\"float64\",\"order\":\"little\"}],[\"price\",{\"type\":\"ndarray\",\"array\":{\"type\":\"bytes\",\"data\":\"q6qqqipFzkCrqqqqynDRQAAAAACwgdlAAAAAAAB3t0DHcRzHccO+QDuxEzux+L9AAAAAAEBqwUAAAAAAAOXgQPHw8PBwzsRAAAAAAOBt4EAAAAAAwB3QQHZiJ3biC8JAVVVVVdVXxEAvuuiii0DOQLdt27ZtG79AAAAAACCq3kAAAAAAgL3CQKuqqqqqu81AAAAAAKCuwEAAAAAA6E7DQAAAAADArsNAL7roosuj0UA=\"},\"shape\":[22],\"dtype\":\"float64\",\"order\":\"little\"}],[\"index\",{\"type\":\"ndarray\",\"array\":{\"type\":\"bytes\",\"data\":\"AAAAAAAA8D8AAAAAAAAWQAAAAAAAAClAAAAAAAAAMkAAAAAAAAA4QAAAAAAAgEFAAAAAAABARUAAAAAAAIBGQAAAAAAAgEtAAAAAAADgUEAAAAAAAABSQAAAAAAAwFNAAAAAAACgV0AAAAAAAEBbQAAAAAAAgF1AAAAAAADgXkAAAAAAAKBfQAAAAAAAUGBAAAAAAABwYUAAAAAAADBkQAAAAAAA8GZAAAAAAABgaEA=\"},\"shape\":[22],\"dtype\":\"float64\",\"order\":\"little\"}]]}}},\"view\":{\"type\":\"object\",\"name\":\"CDSView\",\"id\":\"p1755\",\"attributes\":{\"filter\":{\"type\":\"object\",\"name\":\"AllIndices\",\"id\":\"p1756\"}}},\"glyph\":{\"type\":\"object\",\"name\":\"Scatter\",\"id\":\"p1751\",\"attributes\":{\"x\":{\"type\":\"field\",\"field\":\"make\"},\"y\":{\"type\":\"field\",\"field\":\"price\"},\"size\":{\"type\":\"value\",\"value\":15},\"line_color\":{\"type\":\"value\",\"value\":\"#1f77b4\"},\"fill_color\":{\"type\":\"value\",\"value\":\"#1f77b4\"}}},\"nonselection_glyph\":{\"type\":\"object\",\"name\":\"Scatter\",\"id\":\"p1752\",\"attributes\":{\"x\":{\"type\":\"field\",\"field\":\"make\"},\"y\":{\"type\":\"field\",\"field\":\"price\"},\"size\":{\"type\":\"value\",\"value\":15},\"line_color\":{\"type\":\"value\",\"value\":\"#1f77b4\"},\"line_alpha\":{\"type\":\"value\",\"value\":0.1},\"fill_color\":{\"type\":\"value\",\"value\":\"#1f77b4\"},\"fill_alpha\":{\"type\":\"value\",\"value\":0.1},\"hatch_alpha\":{\"type\":\"value\",\"value\":0.1}}},\"muted_glyph\":{\"type\":\"object\",\"name\":\"Scatter\",\"id\":\"p1753\",\"attributes\":{\"x\":{\"type\":\"field\",\"field\":\"make\"},\"y\":{\"type\":\"field\",\"field\":\"price\"},\"size\":{\"type\":\"value\",\"value\":15},\"line_color\":{\"type\":\"value\",\"value\":\"#1f77b4\"},\"line_alpha\":{\"type\":\"value\",\"value\":0.2},\"fill_color\":{\"type\":\"value\",\"value\":\"#1f77b4\"},\"fill_alpha\":{\"type\":\"value\",\"value\":0.2},\"hatch_alpha\":{\"type\":\"value\",\"value\":0.2}}}}},{\"type\":\"object\",\"name\":\"GlyphRenderer\",\"id\":\"p1774\",\"attributes\":{\"data_source\":{\"type\":\"object\",\"name\":\"ColumnDataSource\",\"id\":\"p1765\",\"attributes\":{\"selected\":{\"type\":\"object\",\"name\":\"Selection\",\"id\":\"p1766\",\"attributes\":{\"indices\":[],\"line_indices\":[]}},\"selection_policy\":{\"type\":\"object\",\"name\":\"UnionRenderers\",\"id\":\"p1767\"},\"data\":{\"type\":\"map\",\"entries\":[[\"level_0\",{\"type\":\"ndarray\",\"array\":{\"type\":\"bytes\",\"data\":\"AAAAAAEAAAACAAAAAwAAAAQAAAAFAAAABgAAAAcAAAAIAAAACQAAAAoAAAALAAAADAAAAA0AAAAOAAAADwAAABAAAAARAAAAEgAAABMAAAAUAAAAFQAAAA==\"},\"shape\":[22],\"dtype\":\"int32\",\"order\":\"little\"}],[\"make\",{\"type\":\"ndarray\",\"array\":[\"alfa-romero\",\"audi\",\"bmw\",\"chevrolet\",\"dodge\",\"honda\",\"isuzu\",\"jaguar\",\"mazda\",\"mercedes-benz\",\"mercury\",\"mitsubishi\",\"nissan\",\"peugot\",\"plymouth\",\"porsche\",\"renault\",\"saab\",\"subaru\",\"toyota\",\"volkswagen\",\"volvo\"],\"shape\":[22],\"dtype\":\"object\",\"order\":\"little\"}],[\"length\",{\"type\":\"ndarray\",\"array\":{\"type\":\"bytes\",\"data\":\"MzMzMzMzZUCIiIiIiBhnQAAAAAAAEGdA3t3d3d39YkD7pE/6pB9kQIqd2ImdGGRAzMzMzMx0ZUDv7u7u7p5oQMrJycnJWWVAZmZmZmZoaEDNzMzMzExmQBD8wA/8AGVA+6RP+qRfZUB00UUXXeRnQM3MzMzMnGRAzczMzMwcZUDNzMzMzGRmQDMzMzMzU2dAd3d3d3cbZUBmZmZm5n1lQBERERERkWVAmpmZmZmZZ0A=\"},\"shape\":[22],\"dtype\":\"float64\",\"order\":\"little\"}],[\"width\",{\"type\":\"ndarray\",\"array\":{\"type\":\"bytes\",\"data\":\"REREREQkUEBnZmZmZjZRQGZmZmZmnlBAAAAAAABAT0CrqqqqqgpQQIqd2ImdGFBAAAAAAADAT0C7u7u7u3tRQKalpaWlZVBAAAAAAADEUUAAAAAAAABRQAQ/8AM/UFBAW7AFW7BFUEB5SpCnBBlRQBZf8RVfEVBAzczMzMx0UEAzMzMzM6NQQAAAAAAAoFBAzczMzMw8UEDNzMzMzEVQQHd3d3d3Z1BAfsPaN6z9UEA=\"},\"shape\":[22],\"dtype\":\"float64\",\"order\":\"little\"}],[\"height\",{\"type\":\"ndarray\",\"array\":{\"type\":\"bytes\",\"data\":\"AAAAAAAASUCrqqqqqmpLQJqZmZmZaUtAMzMzMzMzSkAofdInfdJJQOmFXuiFnkpAmpmZmZk5SkAQEREREZFJQO7t7e3trUpAzczMzMzcS0BmZmZmZmZLQIqd2ImdWElAERERERHRSkAXXXTRRZdMQMZXfMVX/ElAAAAAAACgSUDNzMzMzGxKQM3MzMzMDExAAAAAAADgSkBmZmZmZtxKQHh3d3d3l0tAnxLkKUEeTEA=\"},\"shape\":[22],\"dtype\":\"float64\",\"order\":\"little\"}],[\"city-mpg\",{\"type\":\"ndarray\",\"array\":{\"type\":\"bytes\",\"data\":\"VVVVVVVVNEBVVVVVVVUzQAAAAAAAYDNAAAAAAACAREAAAAAAAAA8QCd2Yid2Yj5AAAAAAAAAOECrqqqqqqosQLW0tLS0tDlAAAAAAACAMkAAAAAAAAAzQMVO7MRO7DhAAAAAAAAAO0B00UUXXXQ2QEmSJEmSJDxAAAAAAACAMUAAAAAAAAA3QFVVVVVVVTRAVVVVVVVVOkAAAAAAAIA7QFVVVVVVlTxAL7rooosuNUA=\"},\"shape\":[22],\"dtype\":\"float64\",\"order\":\"little\"}],[\"highway-mpg\",{\"type\":\"ndarray\",\"array\":{\"type\":\"bytes\",\"data\":\"q6qqqqqqOkAAAAAAAIA4QAAAAAAAYDlAq6qqqqoqR0DkOI7jOA5BQLETO7ETu0FAAAAAAAAAPUBVVVVVVVUyQPHw8PDw8D9AAAAAAAAANUAAAAAAAAA4QHZiJ3ZiJz9AjuM4juN4QECjiy666KI6QCVJkiRJEkFAAAAAAACAOUAAAAAAAAA/QFVVVVVVVTtAAAAAAADAPkAAAAAAAHRAQFVVVVVVdUFA0UUXXXTROUA=\"},\"shape\":[22],\"dtype\":\"float64\",\"order\":\"little\"}],[\"price\",{\"type\":\"ndarray\",\"array\":{\"type\":\"bytes\",\"data\":\"q6qqqipFzkCrqqqqynDRQAAAAACwgdlAAAAAAAB3t0DHcRzHccO+QDuxEzux+L9AAAAAAEBqwUAAAAAAAOXgQPHw8PBwzsRAAAAAAOBt4EAAAAAAwB3QQHZiJ3biC8JAVVVVVdVXxEAvuuiii0DOQLdt27ZtG79AAAAAACCq3kAAAAAAgL3CQKuqqqqqu81AAAAAAKCuwEAAAAAA6E7DQAAAAADArsNAL7roosuj0UA=\"},\"shape\":[22],\"dtype\":\"float64\",\"order\":\"little\"}],[\"index\",{\"type\":\"ndarray\",\"array\":{\"type\":\"bytes\",\"data\":\"AAAAAAAA8D8AAAAAAAAWQAAAAAAAAClAAAAAAAAAMkAAAAAAAAA4QAAAAAAAgEFAAAAAAABARUAAAAAAAIBGQAAAAAAAgEtAAAAAAADgUEAAAAAAAABSQAAAAAAAwFNAAAAAAACgV0AAAAAAAEBbQAAAAAAAgF1AAAAAAADgXkAAAAAAAKBfQAAAAAAAUGBAAAAAAABwYUAAAAAAADBkQAAAAAAA8GZAAAAAAABgaEA=\"},\"shape\":[22],\"dtype\":\"float64\",\"order\":\"little\"}]]}}},\"view\":{\"type\":\"object\",\"name\":\"CDSView\",\"id\":\"p1775\",\"attributes\":{\"filter\":{\"type\":\"object\",\"name\":\"AllIndices\",\"id\":\"p1776\"}}},\"glyph\":{\"type\":\"object\",\"name\":\"Scatter\",\"id\":\"p1771\",\"attributes\":{\"x\":{\"type\":\"field\",\"field\":\"make\"},\"y\":{\"type\":\"field\",\"field\":\"price\"},\"size\":{\"type\":\"value\",\"value\":15},\"line_color\":{\"type\":\"field\",\"field\":\"price\",\"transform\":{\"type\":\"object\",\"name\":\"LinearColorMapper\",\"id\":\"p1708\",\"attributes\":{\"palette\":[\"#000003\",\"#000004\",\"#000006\",\"#010007\",\"#010109\",\"#01010B\",\"#02020D\",\"#02020F\",\"#030311\",\"#040313\",\"#040415\",\"#050417\",\"#060519\",\"#07051B\",\"#08061D\",\"#09071F\",\"#0A0722\",\"#0B0824\",\"#0C0926\",\"#0D0A28\",\"#0E0A2A\",\"#0F0B2C\",\"#100C2F\",\"#110C31\",\"#120D33\",\"#140D35\",\"#150E38\",\"#160E3A\",\"#170F3C\",\"#180F3F\",\"#1A1041\",\"#1B1044\",\"#1C1046\",\"#1E1049\",\"#1F114B\",\"#20114D\",\"#221150\",\"#231152\",\"#251155\",\"#261157\",\"#281159\",\"#2A115C\",\"#2B115E\",\"#2D1060\",\"#2F1062\",\"#301065\",\"#321067\",\"#341068\",\"#350F6A\",\"#370F6C\",\"#390F6E\",\"#3B0F6F\",\"#3C0F71\",\"#3E0F72\",\"#400F73\",\"#420F74\",\"#430F75\",\"#450F76\",\"#470F77\",\"#481078\",\"#4A1079\",\"#4B1079\",\"#4D117A\",\"#4F117B\",\"#50127B\",\"#52127C\",\"#53137C\",\"#55137D\",\"#57147D\",\"#58157E\",\"#5A157E\",\"#5B167E\",\"#5D177E\",\"#5E177F\",\"#60187F\",\"#61187F\",\"#63197F\",\"#651A80\",\"#661A80\",\"#681B80\",\"#691C80\",\"#6B1C80\",\"#6C1D80\",\"#6E1E81\",\"#6F1E81\",\"#711F81\",\"#731F81\",\"#742081\",\"#762181\",\"#772181\",\"#792281\",\"#7A2281\",\"#7C2381\",\"#7E2481\",\"#7F2481\",\"#812581\",\"#822581\",\"#842681\",\"#852681\",\"#872781\",\"#892881\",\"#8A2881\",\"#8C2980\",\"#8D2980\",\"#8F2A80\",\"#912A80\",\"#922B80\",\"#942B80\",\"#952C80\",\"#972C7F\",\"#992D7F\",\"#9A2D7F\",\"#9C2E7F\",\"#9E2E7E\",\"#9F2F7E\",\"#A12F7E\",\"#A3307E\",\"#A4307D\",\"#A6317D\",\"#A7317D\",\"#A9327C\",\"#AB337C\",\"#AC337B\",\"#AE347B\",\"#B0347B\",\"#B1357A\",\"#B3357A\",\"#B53679\",\"#B63679\",\"#B83778\",\"#B93778\",\"#BB3877\",\"#BD3977\",\"#BE3976\",\"#C03A75\",\"#C23A75\",\"#C33B74\",\"#C53C74\",\"#C63C73\",\"#C83D72\",\"#CA3E72\",\"#CB3E71\",\"#CD3F70\",\"#CE4070\",\"#D0416F\",\"#D1426E\",\"#D3426D\",\"#D4436D\",\"#D6446C\",\"#D7456B\",\"#D9466A\",\"#DA4769\",\"#DC4869\",\"#DD4968\",\"#DE4A67\",\"#E04B66\",\"#E14C66\",\"#E24D65\",\"#E44E64\",\"#E55063\",\"#E65162\",\"#E75262\",\"#E85461\",\"#EA5560\",\"#EB5660\",\"#EC585F\",\"#ED595F\",\"#EE5B5E\",\"#EE5D5D\",\"#EF5E5D\",\"#F0605D\",\"#F1615C\",\"#F2635C\",\"#F3655C\",\"#F3675B\",\"#F4685B\",\"#F56A5B\",\"#F56C5B\",\"#F66E5B\",\"#F6705B\",\"#F7715B\",\"#F7735C\",\"#F8755C\",\"#F8775C\",\"#F9795C\",\"#F97B5D\",\"#F97D5D\",\"#FA7F5E\",\"#FA805E\",\"#FA825F\",\"#FB8460\",\"#FB8660\",\"#FB8861\",\"#FB8A62\",\"#FC8C63\",\"#FC8E63\",\"#FC9064\",\"#FC9265\",\"#FC9366\",\"#FD9567\",\"#FD9768\",\"#FD9969\",\"#FD9B6A\",\"#FD9D6B\",\"#FD9F6C\",\"#FDA16E\",\"#FDA26F\",\"#FDA470\",\"#FEA671\",\"#FEA873\",\"#FEAA74\",\"#FEAC75\",\"#FEAE76\",\"#FEAF78\",\"#FEB179\",\"#FEB37B\",\"#FEB57C\",\"#FEB77D\",\"#FEB97F\",\"#FEBB80\",\"#FEBC82\",\"#FEBE83\",\"#FEC085\",\"#FEC286\",\"#FEC488\",\"#FEC689\",\"#FEC78B\",\"#FEC98D\",\"#FECB8E\",\"#FDCD90\",\"#FDCF92\",\"#FDD193\",\"#FDD295\",\"#FDD497\",\"#FDD698\",\"#FDD89A\",\"#FDDA9C\",\"#FDDC9D\",\"#FDDD9F\",\"#FDDFA1\",\"#FDE1A3\",\"#FCE3A5\",\"#FCE5A6\",\"#FCE6A8\",\"#FCE8AA\",\"#FCEAAC\",\"#FCECAE\",\"#FCEEB0\",\"#FCF0B1\",\"#FCF1B3\",\"#FCF3B5\",\"#FCF5B7\",\"#FBF7B9\",\"#FBF9BB\",\"#FBFABD\",\"#FBFCBF\"],\"low\":6007.0,\"high\":34600.0}}},\"fill_color\":{\"type\":\"field\",\"field\":\"price\",\"transform\":{\"id\":\"p1708\"}},\"hatch_color\":{\"type\":\"field\",\"field\":\"price\",\"transform\":{\"id\":\"p1708\"}}}},\"nonselection_glyph\":{\"type\":\"object\",\"name\":\"Scatter\",\"id\":\"p1772\",\"attributes\":{\"x\":{\"type\":\"field\",\"field\":\"make\"},\"y\":{\"type\":\"field\",\"field\":\"price\"},\"size\":{\"type\":\"value\",\"value\":15},\"line_color\":{\"type\":\"field\",\"field\":\"price\",\"transform\":{\"id\":\"p1708\"}},\"line_alpha\":{\"type\":\"value\",\"value\":0.1},\"fill_color\":{\"type\":\"field\",\"field\":\"price\",\"transform\":{\"id\":\"p1708\"}},\"fill_alpha\":{\"type\":\"value\",\"value\":0.1},\"hatch_color\":{\"type\":\"field\",\"field\":\"price\",\"transform\":{\"id\":\"p1708\"}},\"hatch_alpha\":{\"type\":\"value\",\"value\":0.1}}},\"muted_glyph\":{\"type\":\"object\",\"name\":\"Scatter\",\"id\":\"p1773\",\"attributes\":{\"x\":{\"type\":\"field\",\"field\":\"make\"},\"y\":{\"type\":\"field\",\"field\":\"price\"},\"size\":{\"type\":\"value\",\"value\":15},\"line_color\":{\"type\":\"field\",\"field\":\"price\",\"transform\":{\"id\":\"p1708\"}},\"line_alpha\":{\"type\":\"value\",\"value\":0.2},\"fill_color\":{\"type\":\"field\",\"field\":\"price\",\"transform\":{\"id\":\"p1708\"}},\"fill_alpha\":{\"type\":\"value\",\"value\":0.2},\"hatch_color\":{\"type\":\"field\",\"field\":\"price\",\"transform\":{\"id\":\"p1708\"}},\"hatch_alpha\":{\"type\":\"value\",\"value\":0.2}}}}}],\"toolbar\":{\"type\":\"object\",\"name\":\"Toolbar\",\"id\":\"p1718\",\"attributes\":{\"tools\":[{\"type\":\"object\",\"name\":\"PanTool\",\"id\":\"p1732\"},{\"type\":\"object\",\"name\":\"WheelZoomTool\",\"id\":\"p1733\",\"attributes\":{\"renderers\":\"auto\"}},{\"type\":\"object\",\"name\":\"BoxZoomTool\",\"id\":\"p1734\",\"attributes\":{\"overlay\":{\"type\":\"object\",\"name\":\"BoxAnnotation\",\"id\":\"p1735\",\"attributes\":{\"syncable\":false,\"line_color\":\"black\",\"line_alpha\":1.0,\"line_width\":2,\"line_dash\":[4,4],\"fill_color\":\"lightgrey\",\"fill_alpha\":0.5,\"level\":\"overlay\",\"visible\":false,\"left\":{\"type\":\"number\",\"value\":\"nan\"},\"right\":{\"type\":\"number\",\"value\":\"nan\"},\"top\":{\"type\":\"number\",\"value\":\"nan\"},\"bottom\":{\"type\":\"number\",\"value\":\"nan\"},\"left_units\":\"canvas\",\"right_units\":\"canvas\",\"top_units\":\"canvas\",\"bottom_units\":\"canvas\",\"handles\":{\"type\":\"object\",\"name\":\"BoxInteractionHandles\",\"id\":\"p1741\",\"attributes\":{\"all\":{\"type\":\"object\",\"name\":\"AreaVisuals\",\"id\":\"p1740\",\"attributes\":{\"fill_color\":\"white\",\"hover_fill_color\":\"lightgray\"}}}}}}}},{\"type\":\"object\",\"name\":\"SaveTool\",\"id\":\"p1742\"},{\"type\":\"object\",\"name\":\"ResetTool\",\"id\":\"p1743\"},{\"type\":\"object\",\"name\":\"HelpTool\",\"id\":\"p1744\"}]}},\"left\":[{\"type\":\"object\",\"name\":\"LinearAxis\",\"id\":\"p1727\",\"attributes\":{\"ticker\":{\"type\":\"object\",\"name\":\"BasicTicker\",\"id\":\"p1728\",\"attributes\":{\"mantissas\":[1,2,5]}},\"formatter\":{\"type\":\"object\",\"name\":\"BasicTickFormatter\",\"id\":\"p1729\"},\"axis_label\":\"Mean Price\",\"major_label_policy\":{\"type\":\"object\",\"name\":\"AllLabels\",\"id\":\"p1730\"}}}],\"below\":[{\"type\":\"object\",\"name\":\"CategoricalAxis\",\"id\":\"p1722\",\"attributes\":{\"ticker\":{\"type\":\"object\",\"name\":\"CategoricalTicker\",\"id\":\"p1723\"},\"formatter\":{\"type\":\"object\",\"name\":\"CategoricalTickFormatter\",\"id\":\"p1724\"},\"axis_label\":\"Car Manufacturer\",\"major_label_policy\":{\"type\":\"object\",\"name\":\"AllLabels\",\"id\":\"p1725\"}}}],\"center\":[{\"type\":\"object\",\"name\":\"Grid\",\"id\":\"p1726\",\"attributes\":{\"axis\":{\"id\":\"p1722\"}}},{\"type\":\"object\",\"name\":\"Grid\",\"id\":\"p1731\",\"attributes\":{\"dimension\":1,\"axis\":{\"id\":\"p1727\"}}}]}}]}};\n  const render_items = [{\"docid\":\"bf34990a-1eda-45de-92e0-ac2ee59c90f1\",\"roots\":{\"p1709\":\"f0b42be0-94b9-4028-aed6-8c5e20cd3a1c\"},\"root_ids\":[\"p1709\"]}];\n  void root.Bokeh.embed.embed_items_notebook(docs_json, render_items);\n  }\n  if (root.Bokeh !== undefined) {\n    embed_document(root);\n  } else {\n    let attempts = 0;\n    const timer = setInterval(function(root) {\n      if (root.Bokeh !== undefined) {\n        clearInterval(timer);\n        embed_document(root);\n      } else {\n        attempts++;\n        if (attempts > 100) {\n          clearInterval(timer);\n          console.log(\"Bokeh: ERROR: Unable to run BokehJS code because BokehJS library is missing\");\n        }\n      }\n    }, 10, root)\n  }\n})(window);",
      "application/vnd.bokehjs_exec.v0+json": ""
     },
     "metadata": {
      "application/vnd.bokehjs_exec.v0+json": {
       "id": "p1709"
      }
     },
     "output_type": "display_data"
    }
   ],
   "source": [
    "# 13: Provide the color argument to the scatter method and use the field and transform attributes to provide the column 'price' and the color_mapper.\n",
    "p.scatter('make', 'price', source=grouped, size=15, color=transform('price', mapper))\n",
    "show(p)"
   ]
  },
  {
   "cell_type": "code",
   "execution_count": 43,
   "metadata": {},
   "outputs": [
    {
     "data": {
      "text/html": [
       "\n",
       "  <div id=\"d4c092e1-c5ab-4830-8f51-57c89e7bbe33\" data-root-id=\"p1709\" style=\"display: contents;\"></div>\n"
      ]
     },
     "metadata": {},
     "output_type": "display_data"
    },
    {
     "data": {
      "application/javascript": "(function(root) {\n  function embed_document(root) {\n  const docs_json = {\"cae25f83-867d-4f1d-9c17-449e2b6c943d\":{\"version\":\"3.6.0\",\"title\":\"Bokeh Application\",\"roots\":[{\"type\":\"object\",\"name\":\"Figure\",\"id\":\"p1709\",\"attributes\":{\"x_range\":{\"type\":\"object\",\"name\":\"FactorRange\",\"id\":\"p1719\",\"attributes\":{\"factors\":[\"alfa-romero\",\"audi\",\"bmw\",\"chevrolet\",\"dodge\",\"honda\",\"isuzu\",\"jaguar\",\"mazda\",\"mercedes-benz\",\"mercury\",\"mitsubishi\",\"nissan\",\"peugot\",\"plymouth\",\"porsche\",\"renault\",\"saab\",\"subaru\",\"toyota\",\"volkswagen\",\"volvo\"]}},\"y_range\":{\"type\":\"object\",\"name\":\"DataRange1d\",\"id\":\"p1711\"},\"x_scale\":{\"type\":\"object\",\"name\":\"CategoricalScale\",\"id\":\"p1720\"},\"y_scale\":{\"type\":\"object\",\"name\":\"LinearScale\",\"id\":\"p1721\"},\"title\":{\"type\":\"object\",\"name\":\"Title\",\"id\":\"p1712\",\"attributes\":{\"text\":\"Car Manufacturer Mean Prices\"}},\"renderers\":[{\"type\":\"object\",\"name\":\"GlyphRenderer\",\"id\":\"p1754\",\"attributes\":{\"data_source\":{\"type\":\"object\",\"name\":\"ColumnDataSource\",\"id\":\"p1745\",\"attributes\":{\"selected\":{\"type\":\"object\",\"name\":\"Selection\",\"id\":\"p1746\",\"attributes\":{\"indices\":[],\"line_indices\":[]}},\"selection_policy\":{\"type\":\"object\",\"name\":\"UnionRenderers\",\"id\":\"p1747\"},\"data\":{\"type\":\"map\",\"entries\":[[\"level_0\",{\"type\":\"ndarray\",\"array\":{\"type\":\"bytes\",\"data\":\"AAAAAAEAAAACAAAAAwAAAAQAAAAFAAAABgAAAAcAAAAIAAAACQAAAAoAAAALAAAADAAAAA0AAAAOAAAADwAAABAAAAARAAAAEgAAABMAAAAUAAAAFQAAAA==\"},\"shape\":[22],\"dtype\":\"int32\",\"order\":\"little\"}],[\"make\",{\"type\":\"ndarray\",\"array\":[\"alfa-romero\",\"audi\",\"bmw\",\"chevrolet\",\"dodge\",\"honda\",\"isuzu\",\"jaguar\",\"mazda\",\"mercedes-benz\",\"mercury\",\"mitsubishi\",\"nissan\",\"peugot\",\"plymouth\",\"porsche\",\"renault\",\"saab\",\"subaru\",\"toyota\",\"volkswagen\",\"volvo\"],\"shape\":[22],\"dtype\":\"object\",\"order\":\"little\"}],[\"length\",{\"type\":\"ndarray\",\"array\":{\"type\":\"bytes\",\"data\":\"MzMzMzMzZUCIiIiIiBhnQAAAAAAAEGdA3t3d3d39YkD7pE/6pB9kQIqd2ImdGGRAzMzMzMx0ZUDv7u7u7p5oQMrJycnJWWVAZmZmZmZoaEDNzMzMzExmQBD8wA/8AGVA+6RP+qRfZUB00UUXXeRnQM3MzMzMnGRAzczMzMwcZUDNzMzMzGRmQDMzMzMzU2dAd3d3d3cbZUBmZmZm5n1lQBERERERkWVAmpmZmZmZZ0A=\"},\"shape\":[22],\"dtype\":\"float64\",\"order\":\"little\"}],[\"width\",{\"type\":\"ndarray\",\"array\":{\"type\":\"bytes\",\"data\":\"REREREQkUEBnZmZmZjZRQGZmZmZmnlBAAAAAAABAT0CrqqqqqgpQQIqd2ImdGFBAAAAAAADAT0C7u7u7u3tRQKalpaWlZVBAAAAAAADEUUAAAAAAAABRQAQ/8AM/UFBAW7AFW7BFUEB5SpCnBBlRQBZf8RVfEVBAzczMzMx0UEAzMzMzM6NQQAAAAAAAoFBAzczMzMw8UEDNzMzMzEVQQHd3d3d3Z1BAfsPaN6z9UEA=\"},\"shape\":[22],\"dtype\":\"float64\",\"order\":\"little\"}],[\"height\",{\"type\":\"ndarray\",\"array\":{\"type\":\"bytes\",\"data\":\"AAAAAAAASUCrqqqqqmpLQJqZmZmZaUtAMzMzMzMzSkAofdInfdJJQOmFXuiFnkpAmpmZmZk5SkAQEREREZFJQO7t7e3trUpAzczMzMzcS0BmZmZmZmZLQIqd2ImdWElAERERERHRSkAXXXTRRZdMQMZXfMVX/ElAAAAAAACgSUDNzMzMzGxKQM3MzMzMDExAAAAAAADgSkBmZmZmZtxKQHh3d3d3l0tAnxLkKUEeTEA=\"},\"shape\":[22],\"dtype\":\"float64\",\"order\":\"little\"}],[\"city-mpg\",{\"type\":\"ndarray\",\"array\":{\"type\":\"bytes\",\"data\":\"VVVVVVVVNEBVVVVVVVUzQAAAAAAAYDNAAAAAAACAREAAAAAAAAA8QCd2Yid2Yj5AAAAAAAAAOECrqqqqqqosQLW0tLS0tDlAAAAAAACAMkAAAAAAAAAzQMVO7MRO7DhAAAAAAAAAO0B00UUXXXQ2QEmSJEmSJDxAAAAAAACAMUAAAAAAAAA3QFVVVVVVVTRAVVVVVVVVOkAAAAAAAIA7QFVVVVVVlTxAL7rooosuNUA=\"},\"shape\":[22],\"dtype\":\"float64\",\"order\":\"little\"}],[\"highway-mpg\",{\"type\":\"ndarray\",\"array\":{\"type\":\"bytes\",\"data\":\"q6qqqqqqOkAAAAAAAIA4QAAAAAAAYDlAq6qqqqoqR0DkOI7jOA5BQLETO7ETu0FAAAAAAAAAPUBVVVVVVVUyQPHw8PDw8D9AAAAAAAAANUAAAAAAAAA4QHZiJ3ZiJz9AjuM4juN4QECjiy666KI6QCVJkiRJEkFAAAAAAACAOUAAAAAAAAA/QFVVVVVVVTtAAAAAAADAPkAAAAAAAHRAQFVVVVVVdUFA0UUXXXTROUA=\"},\"shape\":[22],\"dtype\":\"float64\",\"order\":\"little\"}],[\"price\",{\"type\":\"ndarray\",\"array\":{\"type\":\"bytes\",\"data\":\"q6qqqipFzkCrqqqqynDRQAAAAACwgdlAAAAAAAB3t0DHcRzHccO+QDuxEzux+L9AAAAAAEBqwUAAAAAAAOXgQPHw8PBwzsRAAAAAAOBt4EAAAAAAwB3QQHZiJ3biC8JAVVVVVdVXxEAvuuiii0DOQLdt27ZtG79AAAAAACCq3kAAAAAAgL3CQKuqqqqqu81AAAAAAKCuwEAAAAAA6E7DQAAAAADArsNAL7roosuj0UA=\"},\"shape\":[22],\"dtype\":\"float64\",\"order\":\"little\"}],[\"index\",{\"type\":\"ndarray\",\"array\":{\"type\":\"bytes\",\"data\":\"AAAAAAAA8D8AAAAAAAAWQAAAAAAAAClAAAAAAAAAMkAAAAAAAAA4QAAAAAAAgEFAAAAAAABARUAAAAAAAIBGQAAAAAAAgEtAAAAAAADgUEAAAAAAAABSQAAAAAAAwFNAAAAAAACgV0AAAAAAAEBbQAAAAAAAgF1AAAAAAADgXkAAAAAAAKBfQAAAAAAAUGBAAAAAAABwYUAAAAAAADBkQAAAAAAA8GZAAAAAAABgaEA=\"},\"shape\":[22],\"dtype\":\"float64\",\"order\":\"little\"}]]}}},\"view\":{\"type\":\"object\",\"name\":\"CDSView\",\"id\":\"p1755\",\"attributes\":{\"filter\":{\"type\":\"object\",\"name\":\"AllIndices\",\"id\":\"p1756\"}}},\"glyph\":{\"type\":\"object\",\"name\":\"Scatter\",\"id\":\"p1751\",\"attributes\":{\"x\":{\"type\":\"field\",\"field\":\"make\"},\"y\":{\"type\":\"field\",\"field\":\"price\"},\"size\":{\"type\":\"value\",\"value\":15},\"line_color\":{\"type\":\"value\",\"value\":\"#1f77b4\"},\"fill_color\":{\"type\":\"value\",\"value\":\"#1f77b4\"}}},\"nonselection_glyph\":{\"type\":\"object\",\"name\":\"Scatter\",\"id\":\"p1752\",\"attributes\":{\"x\":{\"type\":\"field\",\"field\":\"make\"},\"y\":{\"type\":\"field\",\"field\":\"price\"},\"size\":{\"type\":\"value\",\"value\":15},\"line_color\":{\"type\":\"value\",\"value\":\"#1f77b4\"},\"line_alpha\":{\"type\":\"value\",\"value\":0.1},\"fill_color\":{\"type\":\"value\",\"value\":\"#1f77b4\"},\"fill_alpha\":{\"type\":\"value\",\"value\":0.1},\"hatch_alpha\":{\"type\":\"value\",\"value\":0.1}}},\"muted_glyph\":{\"type\":\"object\",\"name\":\"Scatter\",\"id\":\"p1753\",\"attributes\":{\"x\":{\"type\":\"field\",\"field\":\"make\"},\"y\":{\"type\":\"field\",\"field\":\"price\"},\"size\":{\"type\":\"value\",\"value\":15},\"line_color\":{\"type\":\"value\",\"value\":\"#1f77b4\"},\"line_alpha\":{\"type\":\"value\",\"value\":0.2},\"fill_color\":{\"type\":\"value\",\"value\":\"#1f77b4\"},\"fill_alpha\":{\"type\":\"value\",\"value\":0.2},\"hatch_alpha\":{\"type\":\"value\",\"value\":0.2}}}}},{\"type\":\"object\",\"name\":\"GlyphRenderer\",\"id\":\"p1774\",\"attributes\":{\"data_source\":{\"type\":\"object\",\"name\":\"ColumnDataSource\",\"id\":\"p1765\",\"attributes\":{\"selected\":{\"type\":\"object\",\"name\":\"Selection\",\"id\":\"p1766\",\"attributes\":{\"indices\":[],\"line_indices\":[]}},\"selection_policy\":{\"type\":\"object\",\"name\":\"UnionRenderers\",\"id\":\"p1767\"},\"data\":{\"type\":\"map\",\"entries\":[[\"level_0\",{\"type\":\"ndarray\",\"array\":{\"type\":\"bytes\",\"data\":\"AAAAAAEAAAACAAAAAwAAAAQAAAAFAAAABgAAAAcAAAAIAAAACQAAAAoAAAALAAAADAAAAA0AAAAOAAAADwAAABAAAAARAAAAEgAAABMAAAAUAAAAFQAAAA==\"},\"shape\":[22],\"dtype\":\"int32\",\"order\":\"little\"}],[\"make\",{\"type\":\"ndarray\",\"array\":[\"alfa-romero\",\"audi\",\"bmw\",\"chevrolet\",\"dodge\",\"honda\",\"isuzu\",\"jaguar\",\"mazda\",\"mercedes-benz\",\"mercury\",\"mitsubishi\",\"nissan\",\"peugot\",\"plymouth\",\"porsche\",\"renault\",\"saab\",\"subaru\",\"toyota\",\"volkswagen\",\"volvo\"],\"shape\":[22],\"dtype\":\"object\",\"order\":\"little\"}],[\"length\",{\"type\":\"ndarray\",\"array\":{\"type\":\"bytes\",\"data\":\"MzMzMzMzZUCIiIiIiBhnQAAAAAAAEGdA3t3d3d39YkD7pE/6pB9kQIqd2ImdGGRAzMzMzMx0ZUDv7u7u7p5oQMrJycnJWWVAZmZmZmZoaEDNzMzMzExmQBD8wA/8AGVA+6RP+qRfZUB00UUXXeRnQM3MzMzMnGRAzczMzMwcZUDNzMzMzGRmQDMzMzMzU2dAd3d3d3cbZUBmZmZm5n1lQBERERERkWVAmpmZmZmZZ0A=\"},\"shape\":[22],\"dtype\":\"float64\",\"order\":\"little\"}],[\"width\",{\"type\":\"ndarray\",\"array\":{\"type\":\"bytes\",\"data\":\"REREREQkUEBnZmZmZjZRQGZmZmZmnlBAAAAAAABAT0CrqqqqqgpQQIqd2ImdGFBAAAAAAADAT0C7u7u7u3tRQKalpaWlZVBAAAAAAADEUUAAAAAAAABRQAQ/8AM/UFBAW7AFW7BFUEB5SpCnBBlRQBZf8RVfEVBAzczMzMx0UEAzMzMzM6NQQAAAAAAAoFBAzczMzMw8UEDNzMzMzEVQQHd3d3d3Z1BAfsPaN6z9UEA=\"},\"shape\":[22],\"dtype\":\"float64\",\"order\":\"little\"}],[\"height\",{\"type\":\"ndarray\",\"array\":{\"type\":\"bytes\",\"data\":\"AAAAAAAASUCrqqqqqmpLQJqZmZmZaUtAMzMzMzMzSkAofdInfdJJQOmFXuiFnkpAmpmZmZk5SkAQEREREZFJQO7t7e3trUpAzczMzMzcS0BmZmZmZmZLQIqd2ImdWElAERERERHRSkAXXXTRRZdMQMZXfMVX/ElAAAAAAACgSUDNzMzMzGxKQM3MzMzMDExAAAAAAADgSkBmZmZmZtxKQHh3d3d3l0tAnxLkKUEeTEA=\"},\"shape\":[22],\"dtype\":\"float64\",\"order\":\"little\"}],[\"city-mpg\",{\"type\":\"ndarray\",\"array\":{\"type\":\"bytes\",\"data\":\"VVVVVVVVNEBVVVVVVVUzQAAAAAAAYDNAAAAAAACAREAAAAAAAAA8QCd2Yid2Yj5AAAAAAAAAOECrqqqqqqosQLW0tLS0tDlAAAAAAACAMkAAAAAAAAAzQMVO7MRO7DhAAAAAAAAAO0B00UUXXXQ2QEmSJEmSJDxAAAAAAACAMUAAAAAAAAA3QFVVVVVVVTRAVVVVVVVVOkAAAAAAAIA7QFVVVVVVlTxAL7rooosuNUA=\"},\"shape\":[22],\"dtype\":\"float64\",\"order\":\"little\"}],[\"highway-mpg\",{\"type\":\"ndarray\",\"array\":{\"type\":\"bytes\",\"data\":\"q6qqqqqqOkAAAAAAAIA4QAAAAAAAYDlAq6qqqqoqR0DkOI7jOA5BQLETO7ETu0FAAAAAAAAAPUBVVVVVVVUyQPHw8PDw8D9AAAAAAAAANUAAAAAAAAA4QHZiJ3ZiJz9AjuM4juN4QECjiy666KI6QCVJkiRJEkFAAAAAAACAOUAAAAAAAAA/QFVVVVVVVTtAAAAAAADAPkAAAAAAAHRAQFVVVVVVdUFA0UUXXXTROUA=\"},\"shape\":[22],\"dtype\":\"float64\",\"order\":\"little\"}],[\"price\",{\"type\":\"ndarray\",\"array\":{\"type\":\"bytes\",\"data\":\"q6qqqipFzkCrqqqqynDRQAAAAACwgdlAAAAAAAB3t0DHcRzHccO+QDuxEzux+L9AAAAAAEBqwUAAAAAAAOXgQPHw8PBwzsRAAAAAAOBt4EAAAAAAwB3QQHZiJ3biC8JAVVVVVdVXxEAvuuiii0DOQLdt27ZtG79AAAAAACCq3kAAAAAAgL3CQKuqqqqqu81AAAAAAKCuwEAAAAAA6E7DQAAAAADArsNAL7roosuj0UA=\"},\"shape\":[22],\"dtype\":\"float64\",\"order\":\"little\"}],[\"index\",{\"type\":\"ndarray\",\"array\":{\"type\":\"bytes\",\"data\":\"AAAAAAAA8D8AAAAAAAAWQAAAAAAAAClAAAAAAAAAMkAAAAAAAAA4QAAAAAAAgEFAAAAAAABARUAAAAAAAIBGQAAAAAAAgEtAAAAAAADgUEAAAAAAAABSQAAAAAAAwFNAAAAAAACgV0AAAAAAAEBbQAAAAAAAgF1AAAAAAADgXkAAAAAAAKBfQAAAAAAAUGBAAAAAAABwYUAAAAAAADBkQAAAAAAA8GZAAAAAAABgaEA=\"},\"shape\":[22],\"dtype\":\"float64\",\"order\":\"little\"}]]}}},\"view\":{\"type\":\"object\",\"name\":\"CDSView\",\"id\":\"p1775\",\"attributes\":{\"filter\":{\"type\":\"object\",\"name\":\"AllIndices\",\"id\":\"p1776\"}}},\"glyph\":{\"type\":\"object\",\"name\":\"Scatter\",\"id\":\"p1771\",\"attributes\":{\"x\":{\"type\":\"field\",\"field\":\"make\"},\"y\":{\"type\":\"field\",\"field\":\"price\"},\"size\":{\"type\":\"value\",\"value\":15},\"line_color\":{\"type\":\"field\",\"field\":\"price\",\"transform\":{\"type\":\"object\",\"name\":\"LinearColorMapper\",\"id\":\"p1708\",\"attributes\":{\"palette\":[\"#000003\",\"#000004\",\"#000006\",\"#010007\",\"#010109\",\"#01010B\",\"#02020D\",\"#02020F\",\"#030311\",\"#040313\",\"#040415\",\"#050417\",\"#060519\",\"#07051B\",\"#08061D\",\"#09071F\",\"#0A0722\",\"#0B0824\",\"#0C0926\",\"#0D0A28\",\"#0E0A2A\",\"#0F0B2C\",\"#100C2F\",\"#110C31\",\"#120D33\",\"#140D35\",\"#150E38\",\"#160E3A\",\"#170F3C\",\"#180F3F\",\"#1A1041\",\"#1B1044\",\"#1C1046\",\"#1E1049\",\"#1F114B\",\"#20114D\",\"#221150\",\"#231152\",\"#251155\",\"#261157\",\"#281159\",\"#2A115C\",\"#2B115E\",\"#2D1060\",\"#2F1062\",\"#301065\",\"#321067\",\"#341068\",\"#350F6A\",\"#370F6C\",\"#390F6E\",\"#3B0F6F\",\"#3C0F71\",\"#3E0F72\",\"#400F73\",\"#420F74\",\"#430F75\",\"#450F76\",\"#470F77\",\"#481078\",\"#4A1079\",\"#4B1079\",\"#4D117A\",\"#4F117B\",\"#50127B\",\"#52127C\",\"#53137C\",\"#55137D\",\"#57147D\",\"#58157E\",\"#5A157E\",\"#5B167E\",\"#5D177E\",\"#5E177F\",\"#60187F\",\"#61187F\",\"#63197F\",\"#651A80\",\"#661A80\",\"#681B80\",\"#691C80\",\"#6B1C80\",\"#6C1D80\",\"#6E1E81\",\"#6F1E81\",\"#711F81\",\"#731F81\",\"#742081\",\"#762181\",\"#772181\",\"#792281\",\"#7A2281\",\"#7C2381\",\"#7E2481\",\"#7F2481\",\"#812581\",\"#822581\",\"#842681\",\"#852681\",\"#872781\",\"#892881\",\"#8A2881\",\"#8C2980\",\"#8D2980\",\"#8F2A80\",\"#912A80\",\"#922B80\",\"#942B80\",\"#952C80\",\"#972C7F\",\"#992D7F\",\"#9A2D7F\",\"#9C2E7F\",\"#9E2E7E\",\"#9F2F7E\",\"#A12F7E\",\"#A3307E\",\"#A4307D\",\"#A6317D\",\"#A7317D\",\"#A9327C\",\"#AB337C\",\"#AC337B\",\"#AE347B\",\"#B0347B\",\"#B1357A\",\"#B3357A\",\"#B53679\",\"#B63679\",\"#B83778\",\"#B93778\",\"#BB3877\",\"#BD3977\",\"#BE3976\",\"#C03A75\",\"#C23A75\",\"#C33B74\",\"#C53C74\",\"#C63C73\",\"#C83D72\",\"#CA3E72\",\"#CB3E71\",\"#CD3F70\",\"#CE4070\",\"#D0416F\",\"#D1426E\",\"#D3426D\",\"#D4436D\",\"#D6446C\",\"#D7456B\",\"#D9466A\",\"#DA4769\",\"#DC4869\",\"#DD4968\",\"#DE4A67\",\"#E04B66\",\"#E14C66\",\"#E24D65\",\"#E44E64\",\"#E55063\",\"#E65162\",\"#E75262\",\"#E85461\",\"#EA5560\",\"#EB5660\",\"#EC585F\",\"#ED595F\",\"#EE5B5E\",\"#EE5D5D\",\"#EF5E5D\",\"#F0605D\",\"#F1615C\",\"#F2635C\",\"#F3655C\",\"#F3675B\",\"#F4685B\",\"#F56A5B\",\"#F56C5B\",\"#F66E5B\",\"#F6705B\",\"#F7715B\",\"#F7735C\",\"#F8755C\",\"#F8775C\",\"#F9795C\",\"#F97B5D\",\"#F97D5D\",\"#FA7F5E\",\"#FA805E\",\"#FA825F\",\"#FB8460\",\"#FB8660\",\"#FB8861\",\"#FB8A62\",\"#FC8C63\",\"#FC8E63\",\"#FC9064\",\"#FC9265\",\"#FC9366\",\"#FD9567\",\"#FD9768\",\"#FD9969\",\"#FD9B6A\",\"#FD9D6B\",\"#FD9F6C\",\"#FDA16E\",\"#FDA26F\",\"#FDA470\",\"#FEA671\",\"#FEA873\",\"#FEAA74\",\"#FEAC75\",\"#FEAE76\",\"#FEAF78\",\"#FEB179\",\"#FEB37B\",\"#FEB57C\",\"#FEB77D\",\"#FEB97F\",\"#FEBB80\",\"#FEBC82\",\"#FEBE83\",\"#FEC085\",\"#FEC286\",\"#FEC488\",\"#FEC689\",\"#FEC78B\",\"#FEC98D\",\"#FECB8E\",\"#FDCD90\",\"#FDCF92\",\"#FDD193\",\"#FDD295\",\"#FDD497\",\"#FDD698\",\"#FDD89A\",\"#FDDA9C\",\"#FDDC9D\",\"#FDDD9F\",\"#FDDFA1\",\"#FDE1A3\",\"#FCE3A5\",\"#FCE5A6\",\"#FCE6A8\",\"#FCE8AA\",\"#FCEAAC\",\"#FCECAE\",\"#FCEEB0\",\"#FCF0B1\",\"#FCF1B3\",\"#FCF3B5\",\"#FCF5B7\",\"#FBF7B9\",\"#FBF9BB\",\"#FBFABD\",\"#FBFCBF\"],\"low\":6007.0,\"high\":34600.0}}},\"fill_color\":{\"type\":\"field\",\"field\":\"price\",\"transform\":{\"id\":\"p1708\"}},\"hatch_color\":{\"type\":\"field\",\"field\":\"price\",\"transform\":{\"id\":\"p1708\"}}}},\"nonselection_glyph\":{\"type\":\"object\",\"name\":\"Scatter\",\"id\":\"p1772\",\"attributes\":{\"x\":{\"type\":\"field\",\"field\":\"make\"},\"y\":{\"type\":\"field\",\"field\":\"price\"},\"size\":{\"type\":\"value\",\"value\":15},\"line_color\":{\"type\":\"field\",\"field\":\"price\",\"transform\":{\"id\":\"p1708\"}},\"line_alpha\":{\"type\":\"value\",\"value\":0.1},\"fill_color\":{\"type\":\"field\",\"field\":\"price\",\"transform\":{\"id\":\"p1708\"}},\"fill_alpha\":{\"type\":\"value\",\"value\":0.1},\"hatch_color\":{\"type\":\"field\",\"field\":\"price\",\"transform\":{\"id\":\"p1708\"}},\"hatch_alpha\":{\"type\":\"value\",\"value\":0.1}}},\"muted_glyph\":{\"type\":\"object\",\"name\":\"Scatter\",\"id\":\"p1773\",\"attributes\":{\"x\":{\"type\":\"field\",\"field\":\"make\"},\"y\":{\"type\":\"field\",\"field\":\"price\"},\"size\":{\"type\":\"value\",\"value\":15},\"line_color\":{\"type\":\"field\",\"field\":\"price\",\"transform\":{\"id\":\"p1708\"}},\"line_alpha\":{\"type\":\"value\",\"value\":0.2},\"fill_color\":{\"type\":\"field\",\"field\":\"price\",\"transform\":{\"id\":\"p1708\"}},\"fill_alpha\":{\"type\":\"value\",\"value\":0.2},\"hatch_color\":{\"type\":\"field\",\"field\":\"price\",\"transform\":{\"id\":\"p1708\"}},\"hatch_alpha\":{\"type\":\"value\",\"value\":0.2}}}}}],\"toolbar\":{\"type\":\"object\",\"name\":\"Toolbar\",\"id\":\"p1718\",\"attributes\":{\"tools\":[{\"type\":\"object\",\"name\":\"PanTool\",\"id\":\"p1732\"},{\"type\":\"object\",\"name\":\"WheelZoomTool\",\"id\":\"p1733\",\"attributes\":{\"renderers\":\"auto\"}},{\"type\":\"object\",\"name\":\"BoxZoomTool\",\"id\":\"p1734\",\"attributes\":{\"overlay\":{\"type\":\"object\",\"name\":\"BoxAnnotation\",\"id\":\"p1735\",\"attributes\":{\"syncable\":false,\"line_color\":\"black\",\"line_alpha\":1.0,\"line_width\":2,\"line_dash\":[4,4],\"fill_color\":\"lightgrey\",\"fill_alpha\":0.5,\"level\":\"overlay\",\"visible\":false,\"left\":{\"type\":\"number\",\"value\":\"nan\"},\"right\":{\"type\":\"number\",\"value\":\"nan\"},\"top\":{\"type\":\"number\",\"value\":\"nan\"},\"bottom\":{\"type\":\"number\",\"value\":\"nan\"},\"left_units\":\"canvas\",\"right_units\":\"canvas\",\"top_units\":\"canvas\",\"bottom_units\":\"canvas\",\"handles\":{\"type\":\"object\",\"name\":\"BoxInteractionHandles\",\"id\":\"p1741\",\"attributes\":{\"all\":{\"type\":\"object\",\"name\":\"AreaVisuals\",\"id\":\"p1740\",\"attributes\":{\"fill_color\":\"white\",\"hover_fill_color\":\"lightgray\"}}}}}}}},{\"type\":\"object\",\"name\":\"SaveTool\",\"id\":\"p1742\"},{\"type\":\"object\",\"name\":\"ResetTool\",\"id\":\"p1743\"},{\"type\":\"object\",\"name\":\"HelpTool\",\"id\":\"p1744\"}]}},\"left\":[{\"type\":\"object\",\"name\":\"LinearAxis\",\"id\":\"p1727\",\"attributes\":{\"ticker\":{\"type\":\"object\",\"name\":\"BasicTicker\",\"id\":\"p1728\",\"attributes\":{\"mantissas\":[1,2,5]}},\"formatter\":{\"type\":\"object\",\"name\":\"BasicTickFormatter\",\"id\":\"p1729\"},\"axis_label\":\"Mean Price\",\"major_label_policy\":{\"type\":\"object\",\"name\":\"AllLabels\",\"id\":\"p1730\"}}}],\"below\":[{\"type\":\"object\",\"name\":\"CategoricalAxis\",\"id\":\"p1722\",\"attributes\":{\"ticker\":{\"type\":\"object\",\"name\":\"CategoricalTicker\",\"id\":\"p1723\"},\"formatter\":{\"type\":\"object\",\"name\":\"CategoricalTickFormatter\",\"id\":\"p1724\"},\"axis_label\":\"Car Manufacturer\",\"major_label_orientation\":\"vertical\",\"major_label_policy\":{\"type\":\"object\",\"name\":\"AllLabels\",\"id\":\"p1725\"}}}],\"center\":[{\"type\":\"object\",\"name\":\"Grid\",\"id\":\"p1726\",\"attributes\":{\"axis\":{\"id\":\"p1722\"}}},{\"type\":\"object\",\"name\":\"Grid\",\"id\":\"p1731\",\"attributes\":{\"dimension\":1,\"axis\":{\"id\":\"p1727\"}}}]}}]}};\n  const render_items = [{\"docid\":\"cae25f83-867d-4f1d-9c17-449e2b6c943d\",\"roots\":{\"p1709\":\"d4c092e1-c5ab-4830-8f51-57c89e7bbe33\"},\"root_ids\":[\"p1709\"]}];\n  void root.Bokeh.embed.embed_items_notebook(docs_json, render_items);\n  }\n  if (root.Bokeh !== undefined) {\n    embed_document(root);\n  } else {\n    let attempts = 0;\n    const timer = setInterval(function(root) {\n      if (root.Bokeh !== undefined) {\n        clearInterval(timer);\n        embed_document(root);\n      } else {\n        attempts++;\n        if (attempts > 100) {\n          clearInterval(timer);\n          console.log(\"Bokeh: ERROR: Unable to run BokehJS code because BokehJS library is missing\");\n        }\n      }\n    }, 10, root)\n  }\n})(window);",
      "application/vnd.bokehjs_exec.v0+json": ""
     },
     "metadata": {
      "application/vnd.bokehjs_exec.v0+json": {
       "id": "p1709"
      }
     },
     "output_type": "display_data"
    }
   ],
   "source": [
    "# 14: Set the label orientation to vertical.\n",
    "p.xaxis.major_label_orientation = 'vertical'\n",
    "show(p)"
   ]
  },
  {
   "cell_type": "code",
   "execution_count": null,
   "metadata": {},
   "outputs": [],
   "source": []
  }
 ],
 "metadata": {
  "kernelspec": {
   "display_name": "tutorial8",
   "language": "python",
   "name": "python3"
  },
  "language_info": {
   "codemirror_mode": {
    "name": "ipython",
    "version": 3
   },
   "file_extension": ".py",
   "mimetype": "text/x-python",
   "name": "python",
   "nbconvert_exporter": "python",
   "pygments_lexer": "ipython3",
   "version": "3.12.7"
  }
 },
 "nbformat": 4,
 "nbformat_minor": 2
}
