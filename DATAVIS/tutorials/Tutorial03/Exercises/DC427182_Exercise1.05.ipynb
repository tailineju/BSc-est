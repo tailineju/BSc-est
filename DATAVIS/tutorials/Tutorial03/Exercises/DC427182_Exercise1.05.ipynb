{
 "cells": [
  {
   "cell_type": "markdown",
   "id": "d6cd7753-168a-4ab5-8de3-c931014db15c",
   "metadata": {},
   "source": [
    "# Exercise 1.05\n",
    "Student: DC427182"
   ]
  },
  {
   "cell_type": "code",
   "execution_count": 3,
   "id": "5c0a354e-fb66-4f2a-a754-fbb613986b42",
   "metadata": {},
   "outputs": [],
   "source": [
    "# 02: importing pandas with an alias\n",
    "import pandas as pd"
   ]
  },
  {
   "cell_type": "code",
   "execution_count": 5,
   "id": "7908dc5a-c6b2-4ba5-b261-08fa09701546",
   "metadata": {},
   "outputs": [],
   "source": [
    "# 03: loading the dataset\n",
    "dataset = pd.read_csv('C:/Users/User/Documents/GitHub/gradest-1/DATAVIS/tutorials/Tutorial03/Datasets/world_population.csv', index_col=0)"
   ]
  },
  {
   "cell_type": "code",
   "execution_count": 7,
   "id": "645f9568-7a4b-446b-9b0d-26dcf0ce24eb",
   "metadata": {},
   "outputs": [
    {
     "data": {
      "text/html": [
       "<div>\n",
       "<style scoped>\n",
       "    .dataframe tbody tr th:only-of-type {\n",
       "        vertical-align: middle;\n",
       "    }\n",
       "\n",
       "    .dataframe tbody tr th {\n",
       "        vertical-align: top;\n",
       "    }\n",
       "\n",
       "    .dataframe thead th {\n",
       "        text-align: right;\n",
       "    }\n",
       "</style>\n",
       "<table border=\"1\" class=\"dataframe\">\n",
       "  <thead>\n",
       "    <tr style=\"text-align: right;\">\n",
       "      <th></th>\n",
       "      <th>Country Code</th>\n",
       "      <th>Indicator Name</th>\n",
       "      <th>Indicator Code</th>\n",
       "      <th>1960</th>\n",
       "      <th>1961</th>\n",
       "      <th>1962</th>\n",
       "      <th>1963</th>\n",
       "      <th>1964</th>\n",
       "      <th>1965</th>\n",
       "      <th>1966</th>\n",
       "      <th>...</th>\n",
       "      <th>2007</th>\n",
       "      <th>2008</th>\n",
       "      <th>2009</th>\n",
       "      <th>2010</th>\n",
       "      <th>2011</th>\n",
       "      <th>2012</th>\n",
       "      <th>2013</th>\n",
       "      <th>2014</th>\n",
       "      <th>2015</th>\n",
       "      <th>2016</th>\n",
       "    </tr>\n",
       "    <tr>\n",
       "      <th>Country Name</th>\n",
       "      <th></th>\n",
       "      <th></th>\n",
       "      <th></th>\n",
       "      <th></th>\n",
       "      <th></th>\n",
       "      <th></th>\n",
       "      <th></th>\n",
       "      <th></th>\n",
       "      <th></th>\n",
       "      <th></th>\n",
       "      <th></th>\n",
       "      <th></th>\n",
       "      <th></th>\n",
       "      <th></th>\n",
       "      <th></th>\n",
       "      <th></th>\n",
       "      <th></th>\n",
       "      <th></th>\n",
       "      <th></th>\n",
       "      <th></th>\n",
       "      <th></th>\n",
       "    </tr>\n",
       "  </thead>\n",
       "  <tbody>\n",
       "    <tr>\n",
       "      <th>Aruba</th>\n",
       "      <td>ABW</td>\n",
       "      <td>Population density (people per sq. km of land ...</td>\n",
       "      <td>EN.POP.DNST</td>\n",
       "      <td>NaN</td>\n",
       "      <td>307.972222</td>\n",
       "      <td>312.366667</td>\n",
       "      <td>314.983333</td>\n",
       "      <td>316.827778</td>\n",
       "      <td>318.666667</td>\n",
       "      <td>320.622222</td>\n",
       "      <td>...</td>\n",
       "      <td>562.322222</td>\n",
       "      <td>563.011111</td>\n",
       "      <td>563.422222</td>\n",
       "      <td>564.427778</td>\n",
       "      <td>566.311111</td>\n",
       "      <td>568.850000</td>\n",
       "      <td>571.783333</td>\n",
       "      <td>574.672222</td>\n",
       "      <td>577.161111</td>\n",
       "      <td>NaN</td>\n",
       "    </tr>\n",
       "    <tr>\n",
       "      <th>Andorra</th>\n",
       "      <td>AND</td>\n",
       "      <td>Population density (people per sq. km of land ...</td>\n",
       "      <td>EN.POP.DNST</td>\n",
       "      <td>NaN</td>\n",
       "      <td>30.587234</td>\n",
       "      <td>32.714894</td>\n",
       "      <td>34.914894</td>\n",
       "      <td>37.170213</td>\n",
       "      <td>39.470213</td>\n",
       "      <td>41.800000</td>\n",
       "      <td>...</td>\n",
       "      <td>180.591489</td>\n",
       "      <td>182.161702</td>\n",
       "      <td>181.859574</td>\n",
       "      <td>179.614894</td>\n",
       "      <td>175.161702</td>\n",
       "      <td>168.757447</td>\n",
       "      <td>161.493617</td>\n",
       "      <td>154.863830</td>\n",
       "      <td>149.942553</td>\n",
       "      <td>NaN</td>\n",
       "    </tr>\n",
       "  </tbody>\n",
       "</table>\n",
       "<p>2 rows × 60 columns</p>\n",
       "</div>"
      ],
      "text/plain": [
       "             Country Code                                     Indicator Name  \\\n",
       "Country Name                                                                   \n",
       "Aruba                 ABW  Population density (people per sq. km of land ...   \n",
       "Andorra               AND  Population density (people per sq. km of land ...   \n",
       "\n",
       "             Indicator Code  1960        1961        1962        1963  \\\n",
       "Country Name                                                            \n",
       "Aruba           EN.POP.DNST   NaN  307.972222  312.366667  314.983333   \n",
       "Andorra         EN.POP.DNST   NaN   30.587234   32.714894   34.914894   \n",
       "\n",
       "                    1964        1965        1966  ...        2007        2008  \\\n",
       "Country Name                                      ...                           \n",
       "Aruba         316.827778  318.666667  320.622222  ...  562.322222  563.011111   \n",
       "Andorra        37.170213   39.470213   41.800000  ...  180.591489  182.161702   \n",
       "\n",
       "                    2009        2010        2011        2012        2013  \\\n",
       "Country Name                                                               \n",
       "Aruba         563.422222  564.427778  566.311111  568.850000  571.783333   \n",
       "Andorra       181.859574  179.614894  175.161702  168.757447  161.493617   \n",
       "\n",
       "                    2014        2015  2016  \n",
       "Country Name                                \n",
       "Aruba         574.672222  577.161111   NaN  \n",
       "Andorra       154.863830  149.942553   NaN  \n",
       "\n",
       "[2 rows x 60 columns]"
      ]
     },
     "execution_count": 7,
     "metadata": {},
     "output_type": "execute_result"
    }
   ],
   "source": [
    "# 04: checking the first 2 rows of the dataset\n",
    "dataset[0:2]"
   ]
  },
  {
   "cell_type": "code",
   "execution_count": 15,
   "id": "c49c0d87-ece4-48cf-808f-20a61c9f1c84",
   "metadata": {},
   "outputs": [
    {
     "data": {
      "text/plain": [
       "Country Name\n",
       "Afghanistan    25.373379\n",
       "dtype: float64"
      ]
     },
     "execution_count": 15,
     "metadata": {},
     "output_type": "execute_result"
    }
   ],
   "source": [
    "# 05: calculating the mean of the third row\n",
    "\n",
    "dataset.iloc[[2]].mean(axis=1, numeric_only=True)\n",
    "\n",
    "# notice that we use iloc when we want to locate/slice by the index"
   ]
  },
  {
   "cell_type": "code",
   "execution_count": 17,
   "id": "b28de4e3-3a1c-4321-8919-8a215310f69b",
   "metadata": {},
   "outputs": [
    {
     "data": {
      "text/plain": [
       "Country Name\n",
       "Zimbabwe    24.520532\n",
       "dtype: float64"
      ]
     },
     "execution_count": 17,
     "metadata": {},
     "output_type": "execute_result"
    }
   ],
   "source": [
    "# 06: calculating the mean of the last row\n",
    "dataset.iloc[[-1]].mean(axis=1, numeric_only=True)"
   ]
  },
  {
   "cell_type": "code",
   "execution_count": 21,
   "id": "8f062777-2aeb-4d7e-b416-c72a6ec6c721",
   "metadata": {},
   "outputs": [
    {
     "data": {
      "text/plain": [
       "Country Name\n",
       "Germany    227.773688\n",
       "dtype: float64"
      ]
     },
     "execution_count": 21,
     "metadata": {},
     "output_type": "execute_result"
    }
   ],
   "source": [
    "# 07: calculating the mean for Germany\n",
    "dataset.loc[[\"Germany\"]].mean(axis=1, numeric_only=True)\n",
    "\n",
    "#notice that we use loc when we want to locate/slice by the value"
   ]
  },
  {
   "cell_type": "code",
   "execution_count": 23,
   "id": "3ae37404-e084-4d48-b6d1-bbebb1417c18",
   "metadata": {},
   "outputs": [
    {
     "data": {
      "text/plain": [
       "Country Name\n",
       "Zimbabwe    25.505431\n",
       "dtype: float64"
      ]
     },
     "execution_count": 23,
     "metadata": {},
     "output_type": "execute_result"
    }
   ],
   "source": [
    "# 08: calculating the median for the last row\n",
    "dataset.iloc[[-1]].median(axis=1, numeric_only=True)"
   ]
  },
  {
   "cell_type": "code",
   "execution_count": 25,
   "id": "0fb907b7-237b-40e1-8ba5-3ceb64a3891e",
   "metadata": {},
   "outputs": [
    {
     "data": {
      "text/plain": [
       "Country Name\n",
       "Congo, Dem. Rep.    14.419050\n",
       "Zambia              10.352668\n",
       "Zimbabwe            25.505431\n",
       "dtype: float64"
      ]
     },
     "execution_count": 25,
     "metadata": {},
     "output_type": "execute_result"
    }
   ],
   "source": [
    "# 09: calculating the median for the three last rows\n",
    "dataset[-3:].median(axis=1, numeric_only=True)"
   ]
  },
  {
   "cell_type": "code",
   "execution_count": 29,
   "id": "0510971e-5963-49cb-ae41-c2cfa1e978a5",
   "metadata": {},
   "outputs": [
    {
     "data": {
      "text/plain": [
       "Country Name\n",
       "Aruba                   348.022222\n",
       "Andorra                 107.300000\n",
       "Afghanistan              19.998926\n",
       "Angola                    8.458253\n",
       "Albania                 106.001058\n",
       "Arab World               15.307283\n",
       "United Arab Emirates     19.305072\n",
       "Argentina                11.618238\n",
       "Armenia                 105.898033\n",
       "American Samoa          220.245000\n",
       "dtype: float64"
      ]
     },
     "execution_count": 29,
     "metadata": {},
     "output_type": "execute_result"
    }
   ],
   "source": [
    "# 10: using head instead of index to calculate the median of the first 10 rows\n",
    "dataset.head(10).median(axis=1, numeric_only=True)"
   ]
  },
  {
   "cell_type": "code",
   "execution_count": 37,
   "id": "271a20aa-a8f3-4872-82f7-91d37258c3b3",
   "metadata": {},
   "outputs": [
    {
     "data": {
      "text/plain": [
       "2012    3.063475e+06\n",
       "2013    3.094597e+06\n",
       "2014    3.157111e+06\n",
       "2015    3.220634e+06\n",
       "2016             NaN\n",
       "dtype: float64"
      ]
     },
     "execution_count": 37,
     "metadata": {},
     "output_type": "execute_result"
    }
   ],
   "source": [
    "# 11: calculating the variance and printing only the last 5 rows\n",
    "dataset.var(numeric_only=True).tail()\n",
    "\n",
    "# tail=5 by default"
   ]
  },
  {
   "cell_type": "code",
   "execution_count": 43,
   "id": "8c13d891-13a4-4074-a642-34bded4260d4",
   "metadata": {},
   "outputs": [
    {
     "name": "stdout",
     "output_type": "stream",
     "text": [
      "pandas 368.70660104001837\n",
      "numpy 368.70660104001837\n"
     ]
    }
   ],
   "source": [
    "# 12: comparing usage of numpy and pandas for the calculation of the mean for 2015\n",
    "import numpy as np\n",
    "print(\"pandas\", dataset[\"2015\"].mean(numeric_only=True))\n",
    "print(\"numpy\", np.mean(dataset[\"2015\"]))"
   ]
  },
  {
   "cell_type": "code",
   "execution_count": null,
   "id": "5a9f20b9-4357-4dfd-a002-dbb6385b87e6",
   "metadata": {},
   "outputs": [],
   "source": []
  }
 ],
 "metadata": {
  "kernelspec": {
   "display_name": "Python 3 (ipykernel)",
   "language": "python",
   "name": "python3"
  },
  "language_info": {
   "codemirror_mode": {
    "name": "ipython",
    "version": 3
   },
   "file_extension": ".py",
   "mimetype": "text/x-python",
   "name": "python",
   "nbconvert_exporter": "python",
   "pygments_lexer": "ipython3",
   "version": "3.12.4"
  }
 },
 "nbformat": 4,
 "nbformat_minor": 5
}
