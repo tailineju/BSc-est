{
 "cells": [
  {
   "cell_type": "code",
   "execution_count": 1,
   "id": "9d7bc2d2-36ff-409a-a209-6b5a52003a01",
   "metadata": {},
   "outputs": [],
   "source": [
    "import geoplotlib\n",
    "from geoplotlib.utils import read_csv"
   ]
  },
  {
   "cell_type": "code",
   "execution_count": 2,
   "id": "4081a406-e66d-492b-85f8-7e622fbd9065",
   "metadata": {},
   "outputs": [],
   "source": [
    "import pandas as pd\n",
    "import numpy as np"
   ]
  },
  {
   "cell_type": "code",
   "execution_count": 3,
   "id": "757cb96d-a1dd-4e6b-a390-4229473f10c6",
   "metadata": {},
   "outputs": [],
   "source": [
    "np.int = np.int32\n",
    "np.float = np.float64\n",
    "np.bool = np.bool_"
   ]
  },
  {
   "cell_type": "code",
   "execution_count": 4,
   "id": "af80a54c-b02f-40de-b316-c6d45e1cb135",
   "metadata": {},
   "outputs": [
    {
     "name": "stderr",
     "output_type": "stream",
     "text": [
      "C:\\Users\\86137\\AppData\\Local\\Temp\\ipykernel_17780\\3947710181.py:1: DtypeWarning: Columns (3) have mixed types. Specify dtype option on import or set low_memory=False.\n",
      "  dataset = pd.read_csv('D:/Data/world_cities_pop.csv')\n"
     ]
    }
   ],
   "source": [
    "dataset = pd.read_csv('D:/Data/world_cities_pop.csv')"
   ]
  },
  {
   "cell_type": "code",
   "execution_count": 5,
   "id": "ba977969-a208-4bd0-9d07-e4359be9bac6",
   "metadata": {},
   "outputs": [
    {
     "data": {
      "text/html": [
       "<div>\n",
       "<style scoped>\n",
       "    .dataframe tbody tr th:only-of-type {\n",
       "        vertical-align: middle;\n",
       "    }\n",
       "\n",
       "    .dataframe tbody tr th {\n",
       "        vertical-align: top;\n",
       "    }\n",
       "\n",
       "    .dataframe thead th {\n",
       "        text-align: right;\n",
       "    }\n",
       "</style>\n",
       "<table border=\"1\" class=\"dataframe\">\n",
       "  <thead>\n",
       "    <tr style=\"text-align: right;\">\n",
       "      <th></th>\n",
       "      <th>Country</th>\n",
       "      <th>City</th>\n",
       "      <th>AccentCity</th>\n",
       "      <th>Region</th>\n",
       "      <th>Population</th>\n",
       "      <th>Latitude</th>\n",
       "      <th>Longitude</th>\n",
       "    </tr>\n",
       "  </thead>\n",
       "  <tbody>\n",
       "    <tr>\n",
       "      <th>0</th>\n",
       "      <td>ad</td>\n",
       "      <td>aixas</td>\n",
       "      <td>Aixàs</td>\n",
       "      <td>6.0</td>\n",
       "      <td>NaN</td>\n",
       "      <td>42.483333</td>\n",
       "      <td>1.466667</td>\n",
       "    </tr>\n",
       "    <tr>\n",
       "      <th>1</th>\n",
       "      <td>ad</td>\n",
       "      <td>aixirivali</td>\n",
       "      <td>Aixirivali</td>\n",
       "      <td>6.0</td>\n",
       "      <td>NaN</td>\n",
       "      <td>42.466667</td>\n",
       "      <td>1.500000</td>\n",
       "    </tr>\n",
       "    <tr>\n",
       "      <th>2</th>\n",
       "      <td>ad</td>\n",
       "      <td>aixirivall</td>\n",
       "      <td>Aixirivall</td>\n",
       "      <td>6.0</td>\n",
       "      <td>NaN</td>\n",
       "      <td>42.466667</td>\n",
       "      <td>1.500000</td>\n",
       "    </tr>\n",
       "    <tr>\n",
       "      <th>3</th>\n",
       "      <td>ad</td>\n",
       "      <td>aixirvall</td>\n",
       "      <td>Aixirvall</td>\n",
       "      <td>6.0</td>\n",
       "      <td>NaN</td>\n",
       "      <td>42.466667</td>\n",
       "      <td>1.500000</td>\n",
       "    </tr>\n",
       "    <tr>\n",
       "      <th>4</th>\n",
       "      <td>ad</td>\n",
       "      <td>aixovall</td>\n",
       "      <td>Aixovall</td>\n",
       "      <td>6.0</td>\n",
       "      <td>NaN</td>\n",
       "      <td>42.466667</td>\n",
       "      <td>1.483333</td>\n",
       "    </tr>\n",
       "  </tbody>\n",
       "</table>\n",
       "</div>"
      ],
      "text/plain": [
       "  Country        City  AccentCity Region  Population   Latitude  Longitude\n",
       "0      ad       aixas       Aixàs    6.0         NaN  42.483333   1.466667\n",
       "1      ad  aixirivali  Aixirivali    6.0         NaN  42.466667   1.500000\n",
       "2      ad  aixirivall  Aixirivall    6.0         NaN  42.466667   1.500000\n",
       "3      ad   aixirvall   Aixirvall    6.0         NaN  42.466667   1.500000\n",
       "4      ad    aixovall    Aixovall    6.0         NaN  42.466667   1.483333"
      ]
     },
     "execution_count": 5,
     "metadata": {},
     "output_type": "execute_result"
    }
   ],
   "source": [
    "dataset.head(5)"
   ]
  },
  {
   "cell_type": "code",
   "execution_count": 6,
   "id": "69554117-6e16-493a-88a6-39699a1e29ff",
   "metadata": {},
   "outputs": [],
   "source": [
    "dataset = dataset.rename(columns={'Latitude': 'lat', 'Longitude': 'lon'})"
   ]
  },
  {
   "cell_type": "code",
   "execution_count": 7,
   "id": "5b6d15a2-f372-4b65-b5c4-cc288da216a4",
   "metadata": {},
   "outputs": [],
   "source": [
    "europe_country_codes = ['al', 'ad', 'at', 'by', 'be', 'ba', 'bg', 'hr', 'cy', 'cz', 'dk', 'ee', 'fo', 'fi', 'fr', 'de'\n",
    "                        , 'gi', 'gr', 'hu', 'is', 'ie', 'im', 'it', 'xk', 'lv', 'li', 'lt', 'lu', 'mk', 'mt', 'md', 'mc'\n",
    "                        , 'me', 'nl', 'no', 'pl', 'pt', 'ro', 'sm', 'rs', 'sk', 'si', 'es', 'se', 'ch', 'ua', 'gb'\n",
    "                        , 'va']"
   ]
  },
  {
   "cell_type": "code",
   "execution_count": 8,
   "id": "0b12521f-1f0d-46fa-8bbb-84b398e00b90",
   "metadata": {},
   "outputs": [],
   "source": [
    "filtered_dataset = dataset[dataset['Country'].isin(europe_country_codes)]"
   ]
  },
  {
   "cell_type": "code",
   "execution_count": 9,
   "id": "005b4a25-a5a0-4e40-8a02-b9e1d34d07b5",
   "metadata": {},
   "outputs": [
    {
     "data": {
      "text/plain": [
       "3173958"
      ]
     },
     "execution_count": 9,
     "metadata": {},
     "output_type": "execute_result"
    }
   ],
   "source": [
    "len(dataset)"
   ]
  },
  {
   "cell_type": "code",
   "execution_count": 10,
   "id": "e6657cba-5ae6-4302-9597-0a364e240112",
   "metadata": {},
   "outputs": [
    {
     "data": {
      "text/plain": [
       "682348"
      ]
     },
     "execution_count": 10,
     "metadata": {},
     "output_type": "execute_result"
    }
   ],
   "source": [
    "len(filtered_dataset)"
   ]
  },
  {
   "cell_type": "code",
   "execution_count": 11,
   "id": "04ef2a56-37d6-48d0-8810-78f3db00544c",
   "metadata": {},
   "outputs": [],
   "source": [
    "z_cities = filtered_dataset[filtered_dataset['AccentCity'].str.startswith('Z',na=False)]"
   ]
  },
  {
   "cell_type": "code",
   "execution_count": 12,
   "id": "9687f957-2d21-4730-be33-9e135d9c1ef6",
   "metadata": {},
   "outputs": [
    {
     "data": {
      "text/plain": [
       "13218"
      ]
     },
     "execution_count": 12,
     "metadata": {},
     "output_type": "execute_result"
    }
   ],
   "source": [
    "len(z_cities)"
   ]
  },
  {
   "cell_type": "code",
   "execution_count": 13,
   "id": "3b5a523a-4ee0-49f9-a02a-e2375bf79fdd",
   "metadata": {},
   "outputs": [
    {
     "data": {
      "text/html": [
       "<div>\n",
       "<style scoped>\n",
       "    .dataframe tbody tr th:only-of-type {\n",
       "        vertical-align: middle;\n",
       "    }\n",
       "\n",
       "    .dataframe tbody tr th {\n",
       "        vertical-align: top;\n",
       "    }\n",
       "\n",
       "    .dataframe thead th {\n",
       "        text-align: right;\n",
       "    }\n",
       "</style>\n",
       "<table border=\"1\" class=\"dataframe\">\n",
       "  <thead>\n",
       "    <tr style=\"text-align: right;\">\n",
       "      <th></th>\n",
       "      <th>Country</th>\n",
       "      <th>City</th>\n",
       "      <th>AccentCity</th>\n",
       "      <th>Region</th>\n",
       "      <th>Population</th>\n",
       "      <th>lat</th>\n",
       "      <th>lon</th>\n",
       "    </tr>\n",
       "  </thead>\n",
       "  <tbody>\n",
       "    <tr>\n",
       "      <th>104206</th>\n",
       "      <td>al</td>\n",
       "      <td>zaane</td>\n",
       "      <td>ZÄane</td>\n",
       "      <td>44.0</td>\n",
       "      <td>NaN</td>\n",
       "      <td>40.932778</td>\n",
       "      <td>19.783056</td>\n",
       "    </tr>\n",
       "    <tr>\n",
       "      <th>104207</th>\n",
       "      <td>al</td>\n",
       "      <td>zabarzani</td>\n",
       "      <td>Zabarzani</td>\n",
       "      <td>40.0</td>\n",
       "      <td>NaN</td>\n",
       "      <td>40.427778</td>\n",
       "      <td>20.269167</td>\n",
       "    </tr>\n",
       "    <tr>\n",
       "      <th>104208</th>\n",
       "      <td>al</td>\n",
       "      <td>zabarzan</td>\n",
       "      <td>Zabarzan</td>\n",
       "      <td>40.0</td>\n",
       "      <td>NaN</td>\n",
       "      <td>40.427778</td>\n",
       "      <td>20.269167</td>\n",
       "    </tr>\n",
       "    <tr>\n",
       "      <th>104209</th>\n",
       "      <td>al</td>\n",
       "      <td>zaberzane</td>\n",
       "      <td>Zabërzanë</td>\n",
       "      <td>40.0</td>\n",
       "      <td>NaN</td>\n",
       "      <td>40.427778</td>\n",
       "      <td>20.269167</td>\n",
       "    </tr>\n",
       "    <tr>\n",
       "      <th>104210</th>\n",
       "      <td>al</td>\n",
       "      <td>zaberzan i siperm</td>\n",
       "      <td>Zaberzan i Sipërm</td>\n",
       "      <td>40.0</td>\n",
       "      <td>NaN</td>\n",
       "      <td>40.427778</td>\n",
       "      <td>20.269167</td>\n",
       "    </tr>\n",
       "  </tbody>\n",
       "</table>\n",
       "</div>"
      ],
      "text/plain": [
       "       Country               City         AccentCity Region  Population  \\\n",
       "104206      al             zaane             ZÄane   44.0         NaN   \n",
       "104207      al          zabarzani          Zabarzani   40.0         NaN   \n",
       "104208      al           zabarzan           Zabarzan   40.0         NaN   \n",
       "104209      al          zaberzane          Zabërzanë   40.0         NaN   \n",
       "104210      al  zaberzan i siperm  Zaberzan i Sipërm   40.0         NaN   \n",
       "\n",
       "              lat        lon  \n",
       "104206  40.932778  19.783056  \n",
       "104207  40.427778  20.269167  \n",
       "104208  40.427778  20.269167  \n",
       "104209  40.427778  20.269167  \n",
       "104210  40.427778  20.269167  "
      ]
     },
     "execution_count": 13,
     "metadata": {},
     "output_type": "execute_result"
    }
   ],
   "source": [
    "z_cities.head(5)"
   ]
  },
  {
   "cell_type": "code",
   "execution_count": 14,
   "id": "1c9a5c67-c03a-4bcb-b60d-d3f490234a2d",
   "metadata": {},
   "outputs": [],
   "source": [
    "from geoplotlib.utils import DataAccessObject\n",
    "geoplotlib_data = DataAccessObject(z_cities)\n",
    "geoplotlib.dot(geoplotlib_data, f_tooltip=lambda d: '{} - {}'.format(d['Country'].upper(), d['City']).title())\n",
    "geoplotlib.show()"
   ]
  },
  {
   "cell_type": "code",
   "execution_count": 15,
   "id": "46f50465-5e81-49ab-968a-e05bd3cda63b",
   "metadata": {},
   "outputs": [],
   "source": [
    "geoplotlib.voronoi(z_cities, cmap='Reds_r', alpha=50)\n",
    "geoplotlib.show()"
   ]
  },
  {
   "cell_type": "code",
   "execution_count": 16,
   "id": "e0c6414f-dcce-4177-9cec-06eddb7afe48",
   "metadata": {},
   "outputs": [],
   "source": [
    "start_letters = ['A', 'B', 'C', 'D', 'E', 'F', 'G', 'H', 'I', 'H', 'K', 'L'\n",
    "                , 'M', 'N', 'O', 'P', 'Q', 'R', 'S', 'T', 'U', 'V', 'W'\n",
    "                , 'X', 'Y', 'Z']"
   ]
  },
  {
   "cell_type": "code",
   "execution_count": 32,
   "id": "dc502b58-8b8f-46c4-80fc-2aa75cca6637",
   "metadata": {},
   "outputs": [],
   "source": [
    "import pyglet\n",
    "from geoplotlib.layers import BaseLayer\n",
    "from geoplotlib.core import BatchPainter\n",
    "from geoplotlib.utils import BoundingBox\n",
    "class FilterLayer (BaseLayer):\n",
    "    def __init__(self, dataset, bbox=BoundingBox.WORLD):\n",
    "        self.data = dataset\n",
    "        self.start_letter = 0\n",
    "        self.view = bbox"
   ]
  },
  {
   "cell_type": "code",
   "execution_count": 33,
   "id": "8ab78090-bf29-4388-8740-a996df9b89a8",
   "metadata": {},
   "outputs": [],
   "source": [
    "def invalidate(self, proj):\n",
    "        start_letter_data =  self.data[self.data['AccentCity'].str.startswith(start_letters[self.start_letter])]\n",
    "        self.painter = BatchPainter()\n",
    "        x, y = proj.lonlat_to_screen(start_letter_data['lon'], start_letter_data['lat'])\n",
    "        self.painter.points(x, y, 2)"
   ]
  },
  {
   "cell_type": "code",
   "execution_count": 34,
   "id": "760b5b32-9d76-4c0e-a42f-b606cfff4fe0",
   "metadata": {},
   "outputs": [],
   "source": [
    "def draw(self, proj, mouse_x, mouse_y, ui_manager):  \n",
    "        self.painter.batch_draw()\n",
    "        ui_manager.info('Displaying cities starting with {}'.format(start_letters[self.start_letter]))"
   ]
  },
  {
   "cell_type": "code",
   "execution_count": 39,
   "id": "b330ee21-c922-40ae-83f3-647717023bf6",
   "metadata": {},
   "outputs": [],
   "source": [
    "def on_key_release(self, key, modifiers):\n",
    "        if key == pyglet.window.key.RIGHT:\n",
    "            self.start_letter = (self.start_letter + 1) % len(start_letters)\n",
    "            return True\n",
    "        elif key == pyglet.window.key.LEFT:\n",
    "            self.start_letter = (self.start_letter - 1) % len(start_letters)\n",
    "            return True\n",
    "            \n",
    "        return False\n",
    "def bbox(self):\n",
    "    return self.view"
   ]
  },
  {
   "cell_type": "code",
   "execution_count": 40,
   "id": "6f8655c4-7b06-479e-b226-8edf270a6364",
   "metadata": {},
   "outputs": [],
   "source": [
    "europe_bbox = BoundingBox(north=68.574309, west=-25.298424, south=34.266013, east=47.387123)\n",
    "geoplotlib.add_layer(FilterLayer(filtered_dataset, europe_bbox))\n",
    "geoplotlib.show()"
   ]
  },
  {
   "cell_type": "code",
   "execution_count": null,
   "id": "f4297fe0-32de-46db-bc2c-7ab229eb7435",
   "metadata": {},
   "outputs": [],
   "source": []
  }
 ],
 "metadata": {
  "kernelspec": {
   "display_name": "Python 3 (ipykernel)",
   "language": "python",
   "name": "python3"
  },
  "language_info": {
   "codemirror_mode": {
    "name": "ipython",
    "version": 3
   },
   "file_extension": ".py",
   "mimetype": "text/x-python",
   "name": "python",
   "nbconvert_exporter": "python",
   "pygments_lexer": "ipython3",
   "version": "3.11.10"
  }
 },
 "nbformat": 4,
 "nbformat_minor": 5
}
