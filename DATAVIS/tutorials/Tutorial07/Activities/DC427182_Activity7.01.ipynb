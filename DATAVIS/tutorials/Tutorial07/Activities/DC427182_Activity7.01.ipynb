{
 "cells": [
  {
   "cell_type": "markdown",
   "id": "ce74465c-8e53-4a35-a7f2-8b19a4d75f3a",
   "metadata": {},
   "source": [
    "# Activity 7.01\n",
    "\n",
    "Student: DC427182"
   ]
  },
  {
   "cell_type": "code",
   "execution_count": 1,
   "id": "37af092d-e642-4530-be91-d840fa68c039",
   "metadata": {},
   "outputs": [],
   "source": [
    "# 01: importing libraries\n",
    "import geoplotlib\n",
    "from geoplotlib.utils import read_csv\n",
    "import numpy as np\n",
    "import pandas as pd"
   ]
  },
  {
   "cell_type": "code",
   "execution_count": 2,
   "id": "b08bb288-a83f-4e38-b3c2-2a9043b70079",
   "metadata": {},
   "outputs": [
    {
     "name": "stderr",
     "output_type": "stream",
     "text": [
      "C:\\Users\\User\\AppData\\Local\\Temp\\ipykernel_12960\\748664837.py:2: DtypeWarning: Columns (3) have mixed types. Specify dtype option on import or set low_memory=False.\n",
      "  dataset = pd.read_csv('C:/Users/User/Documents/GitHub/gradest-1/DATAVIS/tutorials/Tutorial07/Datasets/world_cities_pop.csv')\n"
     ]
    }
   ],
   "source": [
    "# 02: loading the dataset\n",
    "dataset = pd.read_csv('C:/Users/User/Documents/GitHub/gradest-1/DATAVIS/tutorials/Tutorial07/Datasets/world_cities_pop.csv')"
   ]
  },
  {
   "cell_type": "code",
   "execution_count": 3,
   "id": "3c38a8cc",
   "metadata": {},
   "outputs": [
    {
     "name": "stdout",
     "output_type": "stream",
     "text": [
      "Country        object\n",
      "City           object\n",
      "AccentCity     object\n",
      "Region         object\n",
      "Population    float64\n",
      "Latitude      float64\n",
      "Longitude     float64\n",
      "dtype: object\n"
     ]
    }
   ],
   "source": [
    "# 03.1: List all the datatypes that are present in it and verify that they are correct. \n",
    "print(dataset.dtypes)"
   ]
  },
  {
   "cell_type": "code",
   "execution_count": 4,
   "id": "13d2956f",
   "metadata": {},
   "outputs": [
    {
     "data": {
      "text/plain": [
       "Index(['Country', 'City', 'AccentCity', 'Region', 'Population', 'Latitude',\n",
       "       'Longitude', 'lat', 'lon'],\n",
       "      dtype='object')"
      ]
     },
     "execution_count": 4,
     "metadata": {},
     "output_type": "execute_result"
    }
   ],
   "source": [
    "# 03.2: Then, map the Latitude and Longitude columns to lat and lon.\n",
    "dataset['lat'] = dataset['Latitude']\n",
    "dataset['lon'] = dataset['Longitude']\n",
    "dataset.columns "
   ]
  },
  {
   "cell_type": "code",
   "execution_count": 5,
   "id": "1f1f3014",
   "metadata": {},
   "outputs": [],
   "source": [
    "# 04: Now, plot the data points on a dot density plot.\n",
    "geoplotlib.dot(dataset)\n",
    "geoplotlib.show()"
   ]
  },
  {
   "cell_type": "code",
   "execution_count": 9,
   "id": "0f2cd733",
   "metadata": {},
   "outputs": [
    {
     "name": "stdout",
     "output_type": "stream",
     "text": [
      "          City\n",
      "Country       \n",
      "ad          92\n",
      "ae         446\n",
      "af       88749\n",
      "ag         183\n",
      "ai          42\n",
      "...        ...\n",
      "yt         122\n",
      "za       12693\n",
      "zm       13027\n",
      "zr       23012\n",
      "zw        1341\n",
      "\n",
      "[234 rows x 1 columns]\n"
     ]
    }
   ],
   "source": [
    "# 05: Use the agg method of pandas to get the average number of cities per country.\n",
    "print(dataset.groupby('Country').agg({'City': 'count'}))"
   ]
  },
  {
   "cell_type": "code",
   "execution_count": 10,
   "id": "dd23a36d",
   "metadata": {},
   "outputs": [
    {
     "name": "stdout",
     "output_type": "stream",
     "text": [
      "          City\n",
      "Country       \n",
      "ad          92\n",
      "ae         446\n",
      "af       88749\n",
      "ag         183\n",
      "ai          42\n",
      "al       15122\n",
      "am        2890\n",
      "an         269\n",
      "ao       19560\n",
      "ar        8738\n",
      "at       14788\n",
      "au       10941\n",
      "aw         115\n",
      "az       11223\n",
      "ba       15999\n",
      "bb         536\n",
      "bd       26414\n",
      "be       16218\n",
      "bf       10468\n",
      "bg       20106\n"
     ]
    }
   ],
   "source": [
    "# 06.1: Obtain the number of cities per country (the first 20 entries)\n",
    "print(dataset.groupby('Country').agg({'City': 'count'}).head(20))"
   ]
  },
  {
   "cell_type": "code",
   "execution_count": 8,
   "id": "10a17e0f",
   "metadata": {},
   "outputs": [
    {
     "name": "stdout",
     "output_type": "stream",
     "text": [
      "['ad' 'ae' 'af' 'ag' 'ai' 'al' 'am' 'an' 'ao' 'ar' 'at' 'au' 'aw' 'az'\n",
      " 'ba' 'bb' 'bd' 'be' 'bf' 'bg' 'bh' 'bi' 'bj' 'bm' 'bo' 'br' 'bs' 'bt'\n",
      " 'bw' 'by' 'bz' 'ca' 'cd' 'cf' 'cg' 'ch' 'ci' 'ck' 'cl' 'cm' 'cn' 'co'\n",
      " 'cr' 'cu' 'cv' 'cy' 'cz' 'de' 'dj' 'dk' 'dm' 'do' 'dz' 'ec' 'ee' 'eg'\n",
      " 'er' 'es' 'et' 'fi' 'fo' 'fr' 'ga' 'gb' 'gd' 'ge' 'gf' 'gh' 'gi' 'gl'\n",
      " 'gm' 'gn' 'gp' 'gq' 'gr' 'gt' 'gw' 'gy' 'hn' 'hr' 'ht' 'hu' 'id' 'ie'\n",
      " 'il' 'in' 'iq' 'ir' 'is' 'it' 'jm' 'jo' 'jp' 'ke' 'kg' 'kh' 'ki' 'km'\n",
      " 'kn' 'kr' 'kw' 'ky' 'kz' 'la' 'lb' 'lc' 'li' 'lk' 'lr' 'ls' 'lt' 'lu'\n",
      " 'lv' 'ly' 'ma' 'mc' 'md' 'me' 'mg' 'mk' 'ml' 'mm' 'mn' 'mq' 'mr' 'mt'\n",
      " 'mu' 'mv' 'mw' 'mx' 'my' 'mz' 'na' 'nc' 'ne' 'ng' 'ni' 'nl' 'no' 'np'\n",
      " 'nu' 'nz' 'om' 'pa' 'pe' 'pf' 'pg' 'ph' 'pk' 'pl' 'pm' 'pt' 'pw' 'py'\n",
      " 'qa' 're' 'ro' 'rs' 'ru' 'rw' 'sa' 'sb' 'sc' 'sd' 'se' 'sg' 'sh' 'si'\n",
      " 'sj' 'sk' 'sl' 'sm' 'sn' 'so' 'sr' 'sv' 'sy' 'sz' 'tc' 'td' 'tf' 'tg'\n",
      " 'th' 'tj' 'tm' 'tn' 'to' 'tr' 'tt' 'tv' 'tw' 'tz' 'ua' 'ug' 'us' 'uy'\n",
      " 'uz' 'vc' 've' 'vg' 'vn' 'vu' 'wf' 'ws' 'ye' 'yt' 'za' 'zm' 'zw']\n"
     ]
    }
   ],
   "source": [
    "# 06.2: extract the countries that have a population of greater than zero.\n",
    "filtered = dataset[dataset['Population'] > 0]\n",
    "print(dataset[dataset['Population'] > 0]['Country'].unique())"
   ]
  },
  {
   "cell_type": "code",
   "execution_count": 10,
   "id": "89e860b3",
   "metadata": {},
   "outputs": [],
   "source": [
    "# 07: Plot the remaining data on a dot plot.\n",
    "geoplotlib.dot(filtered)\n",
    "geoplotlib.show()"
   ]
  },
  {
   "cell_type": "code",
   "execution_count": 9,
   "id": "e5cdac0b",
   "metadata": {},
   "outputs": [],
   "source": [
    "# 08: Again, filter your remaining data for cities with a population of greater than 100,000.\n",
    "filtered2 = filtered[filtered['Population'] > 100000]\n",
    "geoplotlib.dot(filtered2)\n",
    "geoplotlib.show()"
   ]
  },
  {
   "cell_type": "code",
   "execution_count": 11,
   "id": "8313a068",
   "metadata": {},
   "outputs": [],
   "source": [
    "# 10: Filter down the data even further to only cities in countries such as Germany and Great Britain.\n",
    "filtered3 = filtered2[filtered2['Country'].isin(['de', 'gb'])]\n",
    "geoplotlib.voronoi(filtered3, cmap='hot', max_area=1e5)\n",
    "geoplotlib.tiles_provider('darkmatter')\n",
    "geoplotlib.show()"
   ]
  },
  {
   "cell_type": "code",
   "execution_count": 16,
   "id": "b301603b",
   "metadata": {},
   "outputs": [],
   "source": [
    "# 11: Finally, use a Delaunay triangulation layer to find the most densely populated areas.\n",
    "geoplotlib.delaunay(filtered3, cmap='autumn')\n",
    "geoplotlib.tiles_provider('darkmatter')\n",
    "geoplotlib.show()"
   ]
  },
  {
   "cell_type": "code",
   "execution_count": null,
   "id": "d3571469",
   "metadata": {},
   "outputs": [],
   "source": [
    "# 12: Observe the expected output of the dot plot.\n",
    "geoplotlib.dot(filtered3)\n",
    "geoplotlib.show()"
   ]
  },
  {
   "cell_type": "code",
   "execution_count": null,
   "id": "520a4f62",
   "metadata": {},
   "outputs": [],
   "source": []
  }
 ],
 "metadata": {
  "kernelspec": {
   "display_name": "Python 3 (ipykernel)",
   "language": "python",
   "name": "python3"
  },
  "language_info": {
   "codemirror_mode": {
    "name": "ipython",
    "version": 3
   },
   "file_extension": ".py",
   "mimetype": "text/x-python",
   "name": "python",
   "nbconvert_exporter": "python",
   "pygments_lexer": "ipython3",
   "version": "3.8.20"
  }
 },
 "nbformat": 4,
 "nbformat_minor": 5
}
