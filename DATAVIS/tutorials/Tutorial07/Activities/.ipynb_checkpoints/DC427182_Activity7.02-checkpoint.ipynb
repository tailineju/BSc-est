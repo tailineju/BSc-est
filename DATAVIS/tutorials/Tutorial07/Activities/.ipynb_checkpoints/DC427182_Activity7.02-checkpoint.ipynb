{
 "cells": [
  {
   "cell_type": "markdown",
   "id": "7708bf63-213e-4d00-ac3a-d8946e5c7d36",
   "metadata": {},
   "source": [
    "# Activity 7.02\n",
    "\n",
    "Student: DC427182"
   ]
  },
  {
   "cell_type": "code",
   "execution_count": 24,
   "id": "7b511a41-10dd-4606-bea1-dd80d2f18c1a",
   "metadata": {},
   "outputs": [],
   "source": [
    "# 02: importing the necessary dependencies\n",
    "import pandas as pd\n",
    "import geoplotlib\n",
    "import numpy as np\n",
    "from geoplotlib.utils import DataAccessObject, BoundingBox, epoch_to_str\n",
    "from geoplotlib.layers import BaseLayer\n",
    "from geoplotlib.core import BatchPainter\n",
    "from geoplotlib.colors import colorbrewer\n",
    "import pyglet"
   ]
  },
  {
   "cell_type": "code",
   "execution_count": 2,
   "id": "081fcdc4-a4d0-4b1c-9830-1dea4b36777c",
   "metadata": {},
   "outputs": [
    {
     "name": "stderr",
     "output_type": "stream",
     "text": [
      "C:\\Users\\User\\AppData\\Local\\Temp\\ipykernel_8452\\1074976747.py:2: DtypeWarning: Columns (3) have mixed types. Specify dtype option on import or set low_memory=False.\n",
      "  dataset = pd.read_csv('C:/Users/User/Documents/GitHub/gradest-1/DATAVIS/tutorials/Tutorial07/Datasets/world_cities_pop.csv', encoding='utf-8')\n"
     ]
    },
    {
     "data": {
      "text/html": [
       "<div>\n",
       "<style scoped>\n",
       "    .dataframe tbody tr th:only-of-type {\n",
       "        vertical-align: middle;\n",
       "    }\n",
       "\n",
       "    .dataframe tbody tr th {\n",
       "        vertical-align: top;\n",
       "    }\n",
       "\n",
       "    .dataframe thead th {\n",
       "        text-align: right;\n",
       "    }\n",
       "</style>\n",
       "<table border=\"1\" class=\"dataframe\">\n",
       "  <thead>\n",
       "    <tr style=\"text-align: right;\">\n",
       "      <th></th>\n",
       "      <th>Country</th>\n",
       "      <th>City</th>\n",
       "      <th>AccentCity</th>\n",
       "      <th>Region</th>\n",
       "      <th>Population</th>\n",
       "      <th>Latitude</th>\n",
       "      <th>Longitude</th>\n",
       "    </tr>\n",
       "  </thead>\n",
       "  <tbody>\n",
       "    <tr>\n",
       "      <th>0</th>\n",
       "      <td>ad</td>\n",
       "      <td>aixas</td>\n",
       "      <td>Aixàs</td>\n",
       "      <td>6.0</td>\n",
       "      <td>NaN</td>\n",
       "      <td>42.483333</td>\n",
       "      <td>1.466667</td>\n",
       "    </tr>\n",
       "    <tr>\n",
       "      <th>1</th>\n",
       "      <td>ad</td>\n",
       "      <td>aixirivali</td>\n",
       "      <td>Aixirivali</td>\n",
       "      <td>6.0</td>\n",
       "      <td>NaN</td>\n",
       "      <td>42.466667</td>\n",
       "      <td>1.500000</td>\n",
       "    </tr>\n",
       "    <tr>\n",
       "      <th>2</th>\n",
       "      <td>ad</td>\n",
       "      <td>aixirivall</td>\n",
       "      <td>Aixirivall</td>\n",
       "      <td>6.0</td>\n",
       "      <td>NaN</td>\n",
       "      <td>42.466667</td>\n",
       "      <td>1.500000</td>\n",
       "    </tr>\n",
       "    <tr>\n",
       "      <th>3</th>\n",
       "      <td>ad</td>\n",
       "      <td>aixirvall</td>\n",
       "      <td>Aixirvall</td>\n",
       "      <td>6.0</td>\n",
       "      <td>NaN</td>\n",
       "      <td>42.466667</td>\n",
       "      <td>1.500000</td>\n",
       "    </tr>\n",
       "    <tr>\n",
       "      <th>4</th>\n",
       "      <td>ad</td>\n",
       "      <td>aixovall</td>\n",
       "      <td>Aixovall</td>\n",
       "      <td>6.0</td>\n",
       "      <td>NaN</td>\n",
       "      <td>42.466667</td>\n",
       "      <td>1.483333</td>\n",
       "    </tr>\n",
       "  </tbody>\n",
       "</table>\n",
       "</div>"
      ],
      "text/plain": [
       "  Country        City  AccentCity Region  Population   Latitude  Longitude\n",
       "0      ad       aixas       Aixàs    6.0         NaN  42.483333   1.466667\n",
       "1      ad  aixirivali  Aixirivali    6.0         NaN  42.466667   1.500000\n",
       "2      ad  aixirivall  Aixirivall    6.0         NaN  42.466667   1.500000\n",
       "3      ad   aixirvall   Aixirvall    6.0         NaN  42.466667   1.500000\n",
       "4      ad    aixovall    Aixovall    6.0         NaN  42.466667   1.483333"
      ]
     },
     "execution_count": 2,
     "metadata": {},
     "output_type": "execute_result"
    }
   ],
   "source": [
    "# 03: loading the dataset\n",
    "dataset = pd.read_csv('C:/Users/User/Documents/GitHub/gradest-1/DATAVIS/tutorials/Tutorial07/Datasets/world_cities_pop.csv', encoding='utf-8')\n",
    "dataset.head()"
   ]
  },
  {
   "cell_type": "code",
   "execution_count": 3,
   "id": "d88d343f",
   "metadata": {},
   "outputs": [
    {
     "data": {
      "text/plain": [
       "Index(['Country', 'City', 'AccentCity', 'Region', 'Population', 'Latitude',\n",
       "       'Longitude', 'lat', 'lon'],\n",
       "      dtype='object')"
      ]
     },
     "execution_count": 3,
     "metadata": {},
     "output_type": "execute_result"
    }
   ],
   "source": [
    "# 04:  map the Latitude and Longitude columns to lat and lon.\n",
    "dataset['lat'] = dataset['Latitude']\n",
    "dataset['lon'] = dataset['Longitude']\n",
    "dataset.columns "
   ]
  },
  {
   "cell_type": "code",
   "execution_count": 4,
   "id": "1e521cf2",
   "metadata": {},
   "outputs": [
    {
     "data": {
      "text/html": [
       "<div>\n",
       "<style scoped>\n",
       "    .dataframe tbody tr th:only-of-type {\n",
       "        vertical-align: middle;\n",
       "    }\n",
       "\n",
       "    .dataframe tbody tr th {\n",
       "        vertical-align: top;\n",
       "    }\n",
       "\n",
       "    .dataframe thead th {\n",
       "        text-align: right;\n",
       "    }\n",
       "</style>\n",
       "<table border=\"1\" class=\"dataframe\">\n",
       "  <thead>\n",
       "    <tr style=\"text-align: right;\">\n",
       "      <th></th>\n",
       "      <th>Country</th>\n",
       "      <th>City</th>\n",
       "      <th>AccentCity</th>\n",
       "      <th>Region</th>\n",
       "      <th>Population</th>\n",
       "      <th>Latitude</th>\n",
       "      <th>Longitude</th>\n",
       "      <th>lat</th>\n",
       "      <th>lon</th>\n",
       "    </tr>\n",
       "  </thead>\n",
       "  <tbody>\n",
       "    <tr>\n",
       "      <th>0</th>\n",
       "      <td>ad</td>\n",
       "      <td>aixas</td>\n",
       "      <td>Aixàs</td>\n",
       "      <td>6.0</td>\n",
       "      <td>NaN</td>\n",
       "      <td>42.483333</td>\n",
       "      <td>1.466667</td>\n",
       "      <td>42.483333</td>\n",
       "      <td>1.466667</td>\n",
       "    </tr>\n",
       "    <tr>\n",
       "      <th>1</th>\n",
       "      <td>ad</td>\n",
       "      <td>aixirivali</td>\n",
       "      <td>Aixirivali</td>\n",
       "      <td>6.0</td>\n",
       "      <td>NaN</td>\n",
       "      <td>42.466667</td>\n",
       "      <td>1.500000</td>\n",
       "      <td>42.466667</td>\n",
       "      <td>1.500000</td>\n",
       "    </tr>\n",
       "    <tr>\n",
       "      <th>2</th>\n",
       "      <td>ad</td>\n",
       "      <td>aixirivall</td>\n",
       "      <td>Aixirivall</td>\n",
       "      <td>6.0</td>\n",
       "      <td>NaN</td>\n",
       "      <td>42.466667</td>\n",
       "      <td>1.500000</td>\n",
       "      <td>42.466667</td>\n",
       "      <td>1.500000</td>\n",
       "    </tr>\n",
       "    <tr>\n",
       "      <th>3</th>\n",
       "      <td>ad</td>\n",
       "      <td>aixirvall</td>\n",
       "      <td>Aixirvall</td>\n",
       "      <td>6.0</td>\n",
       "      <td>NaN</td>\n",
       "      <td>42.466667</td>\n",
       "      <td>1.500000</td>\n",
       "      <td>42.466667</td>\n",
       "      <td>1.500000</td>\n",
       "    </tr>\n",
       "    <tr>\n",
       "      <th>4</th>\n",
       "      <td>ad</td>\n",
       "      <td>aixovall</td>\n",
       "      <td>Aixovall</td>\n",
       "      <td>6.0</td>\n",
       "      <td>NaN</td>\n",
       "      <td>42.466667</td>\n",
       "      <td>1.483333</td>\n",
       "      <td>42.466667</td>\n",
       "      <td>1.483333</td>\n",
       "    </tr>\n",
       "  </tbody>\n",
       "</table>\n",
       "</div>"
      ],
      "text/plain": [
       "  Country        City  AccentCity Region  Population   Latitude  Longitude  \\\n",
       "0      ad       aixas       Aixàs    6.0         NaN  42.483333   1.466667   \n",
       "1      ad  aixirivali  Aixirivali    6.0         NaN  42.466667   1.500000   \n",
       "2      ad  aixirivall  Aixirivall    6.0         NaN  42.466667   1.500000   \n",
       "3      ad   aixirvall   Aixirvall    6.0         NaN  42.466667   1.500000   \n",
       "4      ad    aixovall    Aixovall    6.0         NaN  42.466667   1.483333   \n",
       "\n",
       "         lat       lon  \n",
       "0  42.483333  1.466667  \n",
       "1  42.466667  1.500000  \n",
       "2  42.466667  1.500000  \n",
       "3  42.466667  1.500000  \n",
       "4  42.466667  1.483333  "
      ]
     },
     "execution_count": 4,
     "metadata": {},
     "output_type": "execute_result"
    }
   ],
   "source": [
    "# 05: Filter the dataset to only contain European cities by using the given europe_country_codes list.\n",
    "europe_country_codes = ['al', 'ad', 'at', 'by', 'be', 'ba', 'bg', 'hr', 'cy', 'cz', 'dk', 'ee', 'fi', 'fr', 'de', 'gr', 'hu', 'is', 'ie', 'it', 'xk', 'lv', 'li', 'lt', 'lu', 'mk', 'mt', 'md', 'mc', 'me', 'nl', 'no', 'pl', 'pt', 'ro', 'ru', 'sm', 'rs', 'sk', 'si', 'es', 'se', 'ch', 'ua', 'gb', 'va']\n",
    "filtered = dataset[dataset['Country'].str.lower().isin(europe_country_codes)]\n",
    "filtered.head()"
   ]
  },
  {
   "cell_type": "code",
   "execution_count": 5,
   "id": "0d5dc6f3",
   "metadata": {},
   "outputs": [
    {
     "name": "stdout",
     "output_type": "stream",
     "text": [
      "Full dataset length: 3173958\n",
      "Filtered (European) dataset length: 897803\n"
     ]
    }
   ],
   "source": [
    "# 06: Compare the length of all data with the filtered data of Europe by printing the length of both.\n",
    "print('Full dataset length:', len(dataset))\n",
    "print('Filtered (European) dataset length:', len(filtered))\n"
   ]
  },
  {
   "cell_type": "code",
   "execution_count": 6,
   "id": "8898c1e4",
   "metadata": {},
   "outputs": [
    {
     "name": "stderr",
     "output_type": "stream",
     "text": [
      "C:\\Users\\User\\AppData\\Local\\Temp\\ipykernel_8452\\969528175.py:2: SettingWithCopyWarning: \n",
      "A value is trying to be set on a copy of a slice from a DataFrame.\n",
      "Try using .loc[row_indexer,col_indexer] = value instead\n",
      "\n",
      "See the caveats in the documentation: https://pandas.pydata.org/pandas-docs/stable/user_guide/indexing.html#returning-a-view-versus-a-copy\n",
      "  filtered['City'] = filtered['City'].astype(str)\n"
     ]
    }
   ],
   "source": [
    "# 07: Filter down the European dataset to get a dataset that only contains cities that start with the letter Z.\n",
    "filtered['City'] = filtered['City'].astype(str)\n",
    "filtered2 = filtered.loc[filtered['City'].str.startswith('z')]"
   ]
  },
  {
   "cell_type": "code",
   "execution_count": 7,
   "id": "895cb0f7",
   "metadata": {},
   "outputs": [
    {
     "name": "stdout",
     "output_type": "stream",
     "text": [
      "Filtered (European) dataset length: 20738\n"
     ]
    },
    {
     "data": {
      "text/html": [
       "<div>\n",
       "<style scoped>\n",
       "    .dataframe tbody tr th:only-of-type {\n",
       "        vertical-align: middle;\n",
       "    }\n",
       "\n",
       "    .dataframe tbody tr th {\n",
       "        vertical-align: top;\n",
       "    }\n",
       "\n",
       "    .dataframe thead th {\n",
       "        text-align: right;\n",
       "    }\n",
       "</style>\n",
       "<table border=\"1\" class=\"dataframe\">\n",
       "  <thead>\n",
       "    <tr style=\"text-align: right;\">\n",
       "      <th></th>\n",
       "      <th>Country</th>\n",
       "      <th>City</th>\n",
       "      <th>AccentCity</th>\n",
       "      <th>Region</th>\n",
       "      <th>Population</th>\n",
       "      <th>Latitude</th>\n",
       "      <th>Longitude</th>\n",
       "      <th>lat</th>\n",
       "      <th>lon</th>\n",
       "    </tr>\n",
       "  </thead>\n",
       "  <tbody>\n",
       "    <tr>\n",
       "      <th>104206</th>\n",
       "      <td>al</td>\n",
       "      <td>zaane</td>\n",
       "      <td>ZÄane</td>\n",
       "      <td>44.0</td>\n",
       "      <td>NaN</td>\n",
       "      <td>40.932778</td>\n",
       "      <td>19.783056</td>\n",
       "      <td>40.932778</td>\n",
       "      <td>19.783056</td>\n",
       "    </tr>\n",
       "    <tr>\n",
       "      <th>104207</th>\n",
       "      <td>al</td>\n",
       "      <td>zabarzani</td>\n",
       "      <td>Zabarzani</td>\n",
       "      <td>40.0</td>\n",
       "      <td>NaN</td>\n",
       "      <td>40.427778</td>\n",
       "      <td>20.269167</td>\n",
       "      <td>40.427778</td>\n",
       "      <td>20.269167</td>\n",
       "    </tr>\n",
       "    <tr>\n",
       "      <th>104208</th>\n",
       "      <td>al</td>\n",
       "      <td>zabarzan</td>\n",
       "      <td>Zabarzan</td>\n",
       "      <td>40.0</td>\n",
       "      <td>NaN</td>\n",
       "      <td>40.427778</td>\n",
       "      <td>20.269167</td>\n",
       "      <td>40.427778</td>\n",
       "      <td>20.269167</td>\n",
       "    </tr>\n",
       "    <tr>\n",
       "      <th>104209</th>\n",
       "      <td>al</td>\n",
       "      <td>zaberzane</td>\n",
       "      <td>Zabërzanë</td>\n",
       "      <td>40.0</td>\n",
       "      <td>NaN</td>\n",
       "      <td>40.427778</td>\n",
       "      <td>20.269167</td>\n",
       "      <td>40.427778</td>\n",
       "      <td>20.269167</td>\n",
       "    </tr>\n",
       "    <tr>\n",
       "      <th>104210</th>\n",
       "      <td>al</td>\n",
       "      <td>zaberzan i siperm</td>\n",
       "      <td>Zaberzan i Sipërm</td>\n",
       "      <td>40.0</td>\n",
       "      <td>NaN</td>\n",
       "      <td>40.427778</td>\n",
       "      <td>20.269167</td>\n",
       "      <td>40.427778</td>\n",
       "      <td>20.269167</td>\n",
       "    </tr>\n",
       "  </tbody>\n",
       "</table>\n",
       "</div>"
      ],
      "text/plain": [
       "       Country               City         AccentCity Region  Population  \\\n",
       "104206      al             zaane             ZÄane   44.0         NaN   \n",
       "104207      al          zabarzani          Zabarzani   40.0         NaN   \n",
       "104208      al           zabarzan           Zabarzan   40.0         NaN   \n",
       "104209      al          zaberzane          Zabërzanë   40.0         NaN   \n",
       "104210      al  zaberzan i siperm  Zaberzan i Sipërm   40.0         NaN   \n",
       "\n",
       "         Latitude  Longitude        lat        lon  \n",
       "104206  40.932778  19.783056  40.932778  19.783056  \n",
       "104207  40.427778  20.269167  40.427778  20.269167  \n",
       "104208  40.427778  20.269167  40.427778  20.269167  \n",
       "104209  40.427778  20.269167  40.427778  20.269167  \n",
       "104210  40.427778  20.269167  40.427778  20.269167  "
      ]
     },
     "execution_count": 7,
     "metadata": {},
     "output_type": "execute_result"
    }
   ],
   "source": [
    "# 08: Print its length and the first five rows using the head method.\n",
    "print('Filtered (European) dataset length:', len(filtered2))\n",
    "filtered2.head()"
   ]
  },
  {
   "cell_type": "code",
   "execution_count": 8,
   "id": "b2114b17",
   "metadata": {},
   "outputs": [
    {
     "data": {
      "text/plain": [
       "DataAccessObject(['Country', 'City', 'AccentCity', 'Region', 'Population', 'Latitude', 'Longitude', 'lat', 'lon'] x 20738)"
      ]
     },
     "execution_count": 8,
     "metadata": {},
     "output_type": "execute_result"
    }
   ],
   "source": [
    "# 09: Create a dot density plot with a tooltip that shows the country code and the name of the city separated by a -. \n",
    "# Use the DataAccessObject to create a copy of our dataset, which allows the use of f_tooltip. \n",
    "\n",
    "# create data access object\n",
    "dao = DataAccessObject(filtered2)\n",
    "dao"
   ]
  },
  {
   "cell_type": "code",
   "execution_count": 28,
   "id": "fd01277e",
   "metadata": {},
   "outputs": [],
   "source": [
    "# 09.2: create a dot plot\n",
    "geoplotlib.dot(dao, f_tooltip=lambda d: d['Country'] + ' - ' + d['City'], point_size=1)\n",
    "geoplotlib.show()"
   ]
  },
  {
   "cell_type": "code",
   "execution_count": 29,
   "id": "5d7b3228",
   "metadata": {},
   "outputs": [],
   "source": [
    "# 10: Create a Voronoi plot with the same dataset that only contains cities that start with Z. Use the 'Reds_r' color map and set the alpha value to 50 to make sure you still see the map tiles.\n",
    "geoplotlib.voronoi(dao, cmap='Reds_r', alpha=50)\n",
    "geoplotlib.tiles_provider('darkmatter')\n",
    "geoplotlib.show()"
   ]
  },
  {
   "cell_type": "code",
   "execution_count": 30,
   "id": "d2c20333",
   "metadata": {},
   "outputs": [],
   "source": [
    "# 12: Create a new BatchPainter() function and project the lon and lat values to x and y values. Use the BatchPainter function to paint the points on the map with a size of 2.\n",
    "class MyLayer(BaseLayer):\n",
    "    \n",
    "        def __init__(self, data):\n",
    "            self.data = data\n",
    "    \n",
    "        def invalidate(self, proj):\n",
    "            self.painter = BatchPainter()\n",
    "            x, y = proj.lonlat_to_screen(self.data['lon'], self.data['lat'])\n",
    "            self.painter.points(x, y, 2)\n",
    "    \n",
    "        def draw(self, proj, mouse_x, mouse_y, ui_manager):\n",
    "            self.painter.batch_draw()\n",
    "    \n",
    "        def bbox(self):\n",
    "            return BoundingBox.from_points(lons=self.data['lon'], lats=self.data['lat'])\n"
   ]
  },
  {
   "cell_type": "code",
   "execution_count": 31,
   "id": "e0f20c39",
   "metadata": {},
   "outputs": [],
   "source": [
    "# 13: Call the batch_draw() method in the draw method and use the ui_manager to add an info dialog to the screen telling the user which starting letter is currently being used.\n",
    "layer = MyLayer(filtered2)\n",
    "geoplotlib.add_layer(layer)\n",
    "geoplotlib.show()"
   ]
  },
  {
   "cell_type": "code",
   "execution_count": 32,
   "id": "6d997623",
   "metadata": {},
   "outputs": [],
   "source": [
    "# 14: Check which key is pressed using pyglet: pyglet.window.key.RIGHT. If the right or left key is pressed, increment or decrement the start_letter value of the FilterLayer class accordingly.\n",
    "# (Use modulo to allow rotation, which should happen when A->Z or Z->A). Make sure that you return True in the on_key_release method if you changed the start_letter to trigger a redrawing of the points.\n",
    "\n",
    "from pyglet.window import key\n",
    "\n",
    "class FilterLayer(BaseLayer):\n",
    "        \n",
    "        def __init__(self, data):\n",
    "            self.data = data\n",
    "            self.start_letter = 0\n",
    "        \n",
    "        def invalidate(self, proj):\n",
    "            self.painter = BatchPainter()\n",
    "            x, y = proj.lonlat_to_screen(self.data['lon'], self.data['lat'])\n",
    "            self.painter.points(x, y, 2)\n",
    "        \n",
    "        def draw(self, proj, mouse_x, mouse_y, ui_manager):\n",
    "            self.painter.batch_draw()\n",
    "            ui_manager.info('Starting letter: {}'.format(chr(ord('a') + self.start_letter)))\n",
    "        \n",
    "        def bbox(self):\n",
    "            return BoundingBox.from_points(lons=self.data['lon'], lats=self.data['lat'])\n",
    "        \n",
    "        def on_key_release(self, key, modifiers):\n",
    "            if key == pyglet.window.key.RIGHT:\n",
    "                self.start_letter += 1\n",
    "            elif key == pyglet.window.key.LEFT:\n",
    "                self.start_letter -= 1\n",
    "            self.start_letter = max(0, min(25, self.start_letter))\n",
    "            return True"
   ]
  },
  {
   "cell_type": "code",
   "execution_count": 33,
   "id": "560e0a2f",
   "metadata": {},
   "outputs": [],
   "source": [
    "# 15: Add the custom layer using the add_layer method and provide the given europe_bbox as a BoundingBox class.\n",
    "layer = FilterLayer(filtered2)\n",
    "geoplotlib.add_layer(layer)\n",
    "geoplotlib.set_bbox(BoundingBox.USA)\n",
    "geoplotlib.show()"
   ]
  },
  {
   "cell_type": "code",
   "execution_count": null,
   "id": "20c9f96e",
   "metadata": {},
   "outputs": [],
   "source": []
  }
 ],
 "metadata": {
  "kernelspec": {
   "display_name": "tutorial7c",
   "language": "python",
   "name": "python3"
  },
  "language_info": {
   "codemirror_mode": {
    "name": "ipython",
    "version": 3
   },
   "file_extension": ".py",
   "mimetype": "text/x-python",
   "name": "python",
   "nbconvert_exporter": "python",
   "pygments_lexer": "ipython3",
   "version": "3.8.20"
  }
 },
 "nbformat": 4,
 "nbformat_minor": 5
}
