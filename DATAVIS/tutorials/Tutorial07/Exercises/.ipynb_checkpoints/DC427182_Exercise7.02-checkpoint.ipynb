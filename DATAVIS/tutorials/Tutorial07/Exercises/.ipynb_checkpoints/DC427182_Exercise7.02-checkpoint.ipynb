{
 "cells": [
  {
   "cell_type": "markdown",
   "id": "36a4c357",
   "metadata": {},
   "source": [
    "# Exercise 7.01\n",
    "Student: DC427182"
   ]
  },
  {
   "cell_type": "code",
   "execution_count": 1,
   "id": "ad996220-5610-4d4c-bb0e-85f3ccf4bfff",
   "metadata": {},
   "outputs": [],
   "source": [
    "# 01: importing the necessary dependencies\n",
    "import json\n",
    "import geoplotlib\n",
    "from geoplotlib.colors import ColorMap\n",
    "from geoplotlib.utils import BoundingBox"
   ]
  },
  {
   "cell_type": "code",
   "execution_count": 2,
   "id": "5c9c1b09",
   "metadata": {},
   "outputs": [
    {
     "name": "stdout",
     "output_type": "stream",
     "text": [
      "{\n",
      "    \"type\": \"Feature\",\n",
      "    \"properties\": {\n",
      "        \"GEO_ID\": \"0400000US05\",\n",
      "        \"STATE\": \"05\",\n",
      "        \"NAME\": \"Arkansas\",\n",
      "        \"LSAD\": \"\",\n",
      "        \"CENSUSAREA\": 52035.477\n",
      "    },\n",
      "    \"geometry\": {\n",
      "        \"type\": \"Polygon\",\n",
      "        \"coordinates\": [\n",
      "            -94.042964,\n",
      "            33.019219\n",
      "        ]\n",
      "    }\n",
      "}\n"
     ]
    }
   ],
   "source": [
    "# 02: displaying the fourth entry of the states dataset\n",
    "with open('C:/Users/User/Documents/GitHub/gradest-1/DATAVIS/tutorials/Tutorial07/Datasets/us_states.json') as data:\n",
    "    dataset = json.load(data)\n",
    "   \n",
    "    fourth_state = dataset.get('features')[3]\n",
    "   \n",
    "    # only showing one coordinate instead of all points\n",
    "    fourth_state['geometry']['coordinates'] = \\\n",
    "        fourth_state['geometry']['coordinates'][0][0]\n",
    "    print(json.dumps(fourth_state, indent=4))"
   ]
  },
  {
   "cell_type": "code",
   "execution_count": 3,
   "id": "f73b1404",
   "metadata": {},
   "outputs": [
    {
     "name": "stdout",
     "output_type": "stream",
     "text": [
      "Number of states: 52\n",
      "['Alabama', 'Alaska', 'Arizona', 'Arkansas', 'California', 'Colorado', 'Connecticut', 'Delaware', 'District of Columbia', 'Florida', 'Georgia', 'Hawaii', 'Idaho', 'Illinois', 'Indiana', 'Iowa', 'Kansas', 'Kentucky', 'Louisiana', 'Maine', 'Maryland', 'Massachusetts', 'Michigan', 'Minnesota', 'Mississippi', 'Missouri', 'Montana', 'Nebraska', 'Nevada', 'New Hampshire', 'New Jersey', 'New Mexico', 'New York', 'North Carolina', 'North Dakota', 'Ohio', 'Oklahoma', 'Oregon', 'Pennsylvania', 'Rhode Island', 'South Carolina', 'South Dakota', 'Tennessee', 'Texas', 'Utah', 'Vermont', 'Virginia', 'Washington', 'West Virginia', 'Wisconsin', 'Wyoming', 'Puerto Rico']\n"
     ]
    }
   ],
   "source": [
    "# 03: listing the states in the dataset\n",
    "with open('C:/Users/User/Documents/GitHub/gradest-1/DATAVIS/tutorials/Tutorial07/Datasets/us_states.json') as data:\n",
    "    dataset = json.load(data)\n",
    "   \n",
    "    states = [feature['properties']['NAME'] for feature in \\\n",
    "             dataset.get('features')]\n",
    "    print('Number of states:', len(states))\n",
    "    print(states)"
   ]
  },
  {
   "cell_type": "code",
   "execution_count": 10,
   "id": "6b7e9b7e",
   "metadata": {},
   "outputs": [],
   "source": [
    "# 04: plotting the information from the geojson file\n",
    "geoplotlib.geojson('C:/Users/User/Documents/GitHub/gradest-1/DATAVIS/tutorials/Tutorial07/Datasets/us_states.json')\n",
    "geoplotlib.show()"
   ]
  },
  {
   "cell_type": "code",
   "execution_count": 20,
   "id": "7a8f9304",
   "metadata": {},
   "outputs": [
    {
     "data": {
      "text/plain": [
       "<function __main__.get_color(properties)>"
      ]
     },
     "execution_count": 20,
     "metadata": {},
     "output_type": "execute_result"
    }
   ],
   "source": [
    "# 05: creating properties for the color map\n",
    "cmap = ColorMap('Reds', alpha=255, levels=10)\n",
    "def get_color(properties):\n",
    "    return cmap.to_color(properties['CENSUSAREA'], maxvalue=300000,scale='lin')\n",
    "get_color"
   ]
  },
  {
   "cell_type": "code",
   "execution_count": 21,
   "id": "9a4eddd6",
   "metadata": {},
   "outputs": [],
   "source": [
    "# 06: plotting the shaded states and adding another layer which plots the state outlines in white our BoundingBox should focus the USA\n",
    "geoplotlib.geojson('C:/Users/User/Documents/GitHub/gradest-1/DATAVIS/tutorials/Tutorial07/Datasets/us_states.json', fill=True, color=get_color)\n",
    "geoplotlib.geojson('C:/Users/User/Documents/GitHub/gradest-1/DATAVIS/tutorials/Tutorial07/Datasets/us_states.json', fill=False, color=[0, 0, 0, 255])\n",
    "geoplotlib.set_bbox(BoundingBox.USA)\n",
    "geoplotlib.show()"
   ]
  },
  {
   "cell_type": "code",
   "execution_count": 22,
   "id": "365d13a1",
   "metadata": {},
   "outputs": [],
   "source": [
    "# 07: adding the f_tooltip that\n",
    "geoplotlib.geojson('C:/Users/User/Documents/GitHub/gradest-1/DATAVIS/tutorials/Tutorial07/Datasets/us_states.json', \\\n",
    "                   fill=True, color=get_color, \\\n",
    "                   f_tooltip=lambda properties: \\\n",
    "                             properties['NAME'] \\\n",
    "                             + ' - Census Areas: ' \\\n",
    "                             + str(properties['CENSUSAREA']))\n",
    "geoplotlib.geojson('C:/Users/User/Documents/GitHub/gradest-1/DATAVIS/tutorials/Tutorial07/Datasets/us_states.json', \\\n",
    "                   fill=False, color=[0, 0, 0, 255])\n",
    "geoplotlib.set_bbox(BoundingBox.USA)\n",
    "geoplotlib.show()"
   ]
  },
  {
   "cell_type": "code",
   "execution_count": null,
   "id": "64f6b190",
   "metadata": {},
   "outputs": [],
   "source": []
  }
 ],
 "metadata": {
  "kernelspec": {
   "display_name": "tutorial7c",
   "language": "python",
   "name": "python3"
  },
  "language_info": {
   "codemirror_mode": {
    "name": "ipython",
    "version": 3
   },
   "file_extension": ".py",
   "mimetype": "text/x-python",
   "name": "python",
   "nbconvert_exporter": "python",
   "pygments_lexer": "ipython3",
   "version": "3.8.20"
  }
 },
 "nbformat": 4,
 "nbformat_minor": 5
}
