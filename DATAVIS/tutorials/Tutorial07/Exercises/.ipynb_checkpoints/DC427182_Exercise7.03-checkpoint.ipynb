{
 "cells": [
  {
   "cell_type": "markdown",
   "id": "67eb069a",
   "metadata": {},
   "source": [
    "# Exercise 7.03\n",
    "Student: DC427182"
   ]
  },
  {
   "cell_type": "code",
   "execution_count": 4,
   "id": "ad996220-5610-4d4c-bb0e-85f3ccf4bfff",
   "metadata": {},
   "outputs": [],
   "source": [
    "# 01: importing libraries\n",
    "import geoplotlib\n",
    "from geoplotlib.utils import read_csv\n",
    "import pandas as pd\n",
    "import numpy as np"
   ]
  },
  {
   "cell_type": "code",
   "execution_count": 5,
   "id": "ddf9f95d",
   "metadata": {},
   "outputs": [],
   "source": [
    "# 02: printing the default map\n",
    "geoplotlib.show()"
   ]
  },
  {
   "cell_type": "code",
   "execution_count": 6,
   "id": "5dba6776",
   "metadata": {},
   "outputs": [],
   "source": [
    "# 03: using map tiles from the dark matter tile provider\n",
    "geoplotlib.tiles_provider('darkmatter')\n",
    "geoplotlib.show()"
   ]
  },
  {
   "cell_type": "code",
   "execution_count": 7,
   "id": "c6fdff60",
   "metadata": {},
   "outputs": [],
   "source": [
    "# 04: \n",
    "geoplotlib.tiles_provider({\n",
    "                           'url': lambda zoom, \\\n",
    "                           xtile, ytile: \\\n",
    "                           'http://a.tile.openstreetmap.fr/'\\\n",
    "                           'hot/%d/%d/%d.png' \\\n",
    "                           % (zoom, xtile, ytile),\\\n",
    "                           'tiles_dir': 'custom_tiles',\n",
    "                           'attribution': 'Custom Tiles '\\\n",
    "                            'Provider – Humanitarian map style'\\\n",
    "})\n",
    "geoplotlib.show()"
   ]
  },
  {
   "cell_type": "code",
   "execution_count": null,
   "id": "f6f38316",
   "metadata": {},
   "outputs": [],
   "source": []
  }
 ],
 "metadata": {
  "kernelspec": {
   "display_name": "tutorial7c",
   "language": "python",
   "name": "python3"
  },
  "language_info": {
   "codemirror_mode": {
    "name": "ipython",
    "version": 3
   },
   "file_extension": ".py",
   "mimetype": "text/x-python",
   "name": "python",
   "nbconvert_exporter": "python",
   "pygments_lexer": "ipython3",
   "version": "3.8.20"
  }
 },
 "nbformat": 4,
 "nbformat_minor": 5
}
