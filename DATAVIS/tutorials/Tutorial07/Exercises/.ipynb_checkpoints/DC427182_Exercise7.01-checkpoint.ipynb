{
 "cells": [
  {
   "cell_type": "markdown",
   "id": "80cc7f84-44e9-4d29-90f1-a0efed8b6d48",
   "metadata": {},
   "source": [
    "# Exercise 7.01\n",
    "\n",
    "Student: DC427182"
   ]
  },
  {
   "cell_type": "code",
   "execution_count": 9,
   "id": "ea2b513c-a3fa-4bcb-98b1-7214f298f462",
   "metadata": {},
   "outputs": [],
   "source": [
    "# 02: importing libraries\n",
    "import geoplotlib\n",
    "from geoplotlib.utils import read_csv\n",
    "import pandas as pd\n",
    "import numpy as np"
   ]
  },
  {
   "cell_type": "code",
   "execution_count": 10,
   "id": "edf90d6a-1ce3-40d5-9bf2-87787a771e8e",
   "metadata": {},
   "outputs": [],
   "source": [
    "# correcting deprecations (numpy.int was deprecated in NumPy 1.20 and was removed in NumPy 1.24)\n",
    "np.int = np.int32\n",
    "np.float = np.float64\n",
    "np.bool = np.bool_"
   ]
  },
  {
   "cell_type": "code",
   "execution_count": 11,
   "id": "ca21760e",
   "metadata": {},
   "outputs": [],
   "source": [
    "# 03: using geoplotlib to read the csv file\n",
    "dataset = read_csv('C:/Users/User/Documents/GitHub/gradest-1/DATAVIS/tutorials/Tutorial07/Datasets/poaching_points_cleaned.csv')"
   ]
  },
  {
   "cell_type": "code",
   "execution_count": 12,
   "id": "6f8c3908-6577-480f-b487-cafd1f286ce4",
   "metadata": {},
   "outputs": [
    {
     "data": {
      "text/plain": [
       "DataAccessObject(['id_report', 'date_report', 'description', 'created_date', 'lat', 'lon'] x 268)"
      ]
     },
     "execution_count": 12,
     "metadata": {},
     "output_type": "execute_result"
    }
   ],
   "source": [
    "# 04: checking the dataset structure\n",
    "dataset"
   ]
  },
  {
   "cell_type": "code",
   "execution_count": 13,
   "id": "59826fd8",
   "metadata": {},
   "outputs": [
    {
     "data": {
      "text/html": [
       "<div>\n",
       "<style scoped>\n",
       "    .dataframe tbody tr th:only-of-type {\n",
       "        vertical-align: middle;\n",
       "    }\n",
       "\n",
       "    .dataframe tbody tr th {\n",
       "        vertical-align: top;\n",
       "    }\n",
       "\n",
       "    .dataframe thead th {\n",
       "        text-align: right;\n",
       "    }\n",
       "</style>\n",
       "<table border=\"1\" class=\"dataframe\">\n",
       "  <thead>\n",
       "    <tr style=\"text-align: right;\">\n",
       "      <th></th>\n",
       "      <th>id_report</th>\n",
       "      <th>date_report</th>\n",
       "      <th>description</th>\n",
       "      <th>created_date</th>\n",
       "      <th>lat</th>\n",
       "      <th>lon</th>\n",
       "    </tr>\n",
       "  </thead>\n",
       "  <tbody>\n",
       "    <tr>\n",
       "      <th>0</th>\n",
       "      <td>138</td>\n",
       "      <td>01/01/2005 12:00:00 AM</td>\n",
       "      <td>Poaching incident</td>\n",
       "      <td>2005/01/01 12:00:00 AM</td>\n",
       "      <td>-7.049359</td>\n",
       "      <td>34.841440</td>\n",
       "    </tr>\n",
       "    <tr>\n",
       "      <th>1</th>\n",
       "      <td>4</td>\n",
       "      <td>01/20/2005 12:00:00 AM</td>\n",
       "      <td>Poaching incident</td>\n",
       "      <td>2005/01/20 12:00:00 AM</td>\n",
       "      <td>-7.650840</td>\n",
       "      <td>34.480010</td>\n",
       "    </tr>\n",
       "    <tr>\n",
       "      <th>2</th>\n",
       "      <td>43</td>\n",
       "      <td>01/20/2005 12:00:00 AM</td>\n",
       "      <td>Poaching incident</td>\n",
       "      <td>2005/02/20 12:00:00 AM</td>\n",
       "      <td>-7.843202</td>\n",
       "      <td>34.005704</td>\n",
       "    </tr>\n",
       "    <tr>\n",
       "      <th>3</th>\n",
       "      <td>98</td>\n",
       "      <td>01/20/2005 12:00:00 AM</td>\n",
       "      <td>Poaching incident</td>\n",
       "      <td>2005/02/21 12:00:00 AM</td>\n",
       "      <td>-7.745846</td>\n",
       "      <td>33.948526</td>\n",
       "    </tr>\n",
       "    <tr>\n",
       "      <th>4</th>\n",
       "      <td>141</td>\n",
       "      <td>01/20/2005 12:00:00 AM</td>\n",
       "      <td>Poaching incident</td>\n",
       "      <td>2005/02/22 12:00:00 AM</td>\n",
       "      <td>-7.876673</td>\n",
       "      <td>33.690167</td>\n",
       "    </tr>\n",
       "  </tbody>\n",
       "</table>\n",
       "</div>"
      ],
      "text/plain": [
       "   id_report             date_report        description  \\\n",
       "0        138  01/01/2005 12:00:00 AM  Poaching incident   \n",
       "1          4  01/20/2005 12:00:00 AM  Poaching incident   \n",
       "2         43  01/20/2005 12:00:00 AM  Poaching incident   \n",
       "3         98  01/20/2005 12:00:00 AM  Poaching incident   \n",
       "4        141  01/20/2005 12:00:00 AM  Poaching incident   \n",
       "\n",
       "             created_date       lat        lon  \n",
       "0  2005/01/01 12:00:00 AM -7.049359  34.841440  \n",
       "1  2005/01/20 12:00:00 AM -7.650840  34.480010  \n",
       "2  2005/02/20 12:00:00 AM -7.843202  34.005704  \n",
       "3  2005/02/21 12:00:00 AM -7.745846  33.948526  \n",
       "4  2005/02/22 12:00:00 AM -7.876673  33.690167  "
      ]
     },
     "execution_count": 13,
     "metadata": {},
     "output_type": "execute_result"
    }
   ],
   "source": [
    "# 05: reading the data with pandas\n",
    "pd_dataset=pd.read_csv('C:/Users/User/Documents/GitHub/gradest-1/DATAVIS/tutorials/Tutorial07/Datasets/poaching_points_cleaned.csv')\n",
    "pd_dataset.head()"
   ]
  },
  {
   "cell_type": "code",
   "execution_count": 18,
   "id": "d9e1387b",
   "metadata": {},
   "outputs": [],
   "source": [
    "# 06: plotting our dataset with points\n",
    "geoplotlib.dot(dataset)\n",
    "geoplotlib.show()"
   ]
  },
  {
   "cell_type": "code",
   "execution_count": 19,
   "id": "a7e3f33c-f239-4890-88b6-c5765e48272c",
   "metadata": {},
   "outputs": [],
   "source": [
    "# 07: plotting our dataset as a histogram\n",
    "geoplotlib.hist(dataset, binsize=20)\n",
    "geoplotlib.show()"
   ]
  },
  {
   "cell_type": "code",
   "execution_count": 20,
   "id": "9297bcff-7bd3-4698-b9ca-07c77818e5cc",
   "metadata": {},
   "outputs": [],
   "source": [
    "# 08: plotting a voronoi map\n",
    "geoplotlib.voronoi(dataset, cmap='Blues_r', \\\n",
    "                   max_area=1e5, alpha=255)\n",
    "geoplotlib.show()"
   ]
  },
  {
   "cell_type": "code",
   "execution_count": null,
   "id": "43073f3b-117f-43a5-b3a5-4edfa7915be4",
   "metadata": {},
   "outputs": [],
   "source": []
  }
 ],
 "metadata": {
  "kernelspec": {
   "display_name": "Python 3 (ipykernel)",
   "language": "python",
   "name": "python3"
  },
  "language_info": {
   "codemirror_mode": {
    "name": "ipython",
    "version": 3
   },
   "file_extension": ".py",
   "mimetype": "text/x-python",
   "name": "python",
   "nbconvert_exporter": "python",
   "pygments_lexer": "ipython3",
   "version": "3.8.20"
  }
 },
 "nbformat": 4,
 "nbformat_minor": 5
}
