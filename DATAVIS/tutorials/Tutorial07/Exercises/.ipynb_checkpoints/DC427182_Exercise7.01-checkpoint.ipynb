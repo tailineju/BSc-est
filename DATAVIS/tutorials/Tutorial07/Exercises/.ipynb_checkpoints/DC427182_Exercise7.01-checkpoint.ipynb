{
 "cells": [
  {
   "cell_type": "markdown",
   "id": "80cc7f84-44e9-4d29-90f1-a0efed8b6d48",
   "metadata": {},
   "source": [
    "# Exercise 7.01\n",
    "\n",
    "Student: DC427182"
   ]
  },
  {
   "cell_type": "code",
   "execution_count": 30,
   "id": "c3c13f01-3040-45fc-8807-dccca1ecb52e",
   "metadata": {},
   "outputs": [
    {
     "name": "stdout",
     "output_type": "stream",
     "text": [
      "Collecting matplotlib\n",
      "  Using cached matplotlib-3.9.2-cp312-cp312-win_amd64.whl.metadata (11 kB)\n",
      "Collecting contourpy>=1.0.1 (from matplotlib)\n",
      "  Downloading contourpy-1.3.0-cp312-cp312-win_amd64.whl.metadata (5.4 kB)\n",
      "Collecting cycler>=0.10 (from matplotlib)\n",
      "  Using cached cycler-0.12.1-py3-none-any.whl.metadata (3.8 kB)\n",
      "Collecting fonttools>=4.22.0 (from matplotlib)\n",
      "  Downloading fonttools-4.54.1-cp312-cp312-win_amd64.whl.metadata (167 kB)\n",
      "Collecting kiwisolver>=1.3.1 (from matplotlib)\n",
      "  Downloading kiwisolver-1.4.7-cp312-cp312-win_amd64.whl.metadata (6.4 kB)\n",
      "Requirement already satisfied: numpy>=1.23 in c:\\users\\user\\anaconda3\\envs\\tutorial7\\lib\\site-packages (from matplotlib) (1.26.4)\n",
      "Requirement already satisfied: packaging>=20.0 in c:\\users\\user\\appdata\\roaming\\python\\python312\\site-packages (from matplotlib) (24.1)\n",
      "Collecting pillow>=8 (from matplotlib)\n",
      "  Downloading pillow-11.0.0-cp312-cp312-win_amd64.whl.metadata (9.3 kB)\n",
      "Collecting pyparsing>=2.3.1 (from matplotlib)\n",
      "  Downloading pyparsing-3.2.0-py3-none-any.whl.metadata (5.0 kB)\n",
      "Requirement already satisfied: python-dateutil>=2.7 in c:\\users\\user\\appdata\\roaming\\python\\python312\\site-packages (from matplotlib) (2.9.0.post0)\n",
      "Requirement already satisfied: six>=1.5 in c:\\users\\user\\appdata\\roaming\\python\\python312\\site-packages (from python-dateutil>=2.7->matplotlib) (1.16.0)\n",
      "Using cached matplotlib-3.9.2-cp312-cp312-win_amd64.whl (7.8 MB)\n",
      "Downloading contourpy-1.3.0-cp312-cp312-win_amd64.whl (218 kB)\n",
      "Using cached cycler-0.12.1-py3-none-any.whl (8.3 kB)\n",
      "Downloading fonttools-4.54.1-cp312-cp312-win_amd64.whl (2.2 MB)\n",
      "   ---------------------------------------- 0.0/2.2 MB ? eta -:--:--\n",
      "   -------------- ------------------------- 0.8/2.2 MB 3.7 MB/s eta 0:00:01\n",
      "   ---------------------------- ----------- 1.6/2.2 MB 4.0 MB/s eta 0:00:01\n",
      "   -------------------------------------- - 2.1/2.2 MB 3.2 MB/s eta 0:00:01\n",
      "   ---------------------------------------- 2.2/2.2 MB 3.0 MB/s eta 0:00:00\n",
      "Downloading kiwisolver-1.4.7-cp312-cp312-win_amd64.whl (55 kB)\n",
      "Downloading pillow-11.0.0-cp312-cp312-win_amd64.whl (2.6 MB)\n",
      "   ---------------------------------------- 0.0/2.6 MB ? eta -:--:--\n",
      "   ---- ----------------------------------- 0.3/2.6 MB ? eta -:--:--\n",
      "   ---------------- ----------------------- 1.0/2.6 MB 2.3 MB/s eta 0:00:01\n",
      "   -------------------- ------------------- 1.3/2.6 MB 2.3 MB/s eta 0:00:01\n",
      "   ---------------------------- ----------- 1.8/2.6 MB 2.1 MB/s eta 0:00:01\n",
      "   ------------------------------------ --- 2.4/2.6 MB 2.2 MB/s eta 0:00:01\n",
      "   ---------------------------------------- 2.6/2.6 MB 2.1 MB/s eta 0:00:00\n",
      "Downloading pyparsing-3.2.0-py3-none-any.whl (106 kB)\n",
      "Installing collected packages: pyparsing, pillow, kiwisolver, fonttools, cycler, contourpy, matplotlib\n",
      "Successfully installed contourpy-1.3.0 cycler-0.12.1 fonttools-4.54.1 kiwisolver-1.4.7 matplotlib-3.9.2 pillow-11.0.0 pyparsing-3.2.0\n",
      "Note: you may need to restart the kernel to use updated packages.\n"
     ]
    }
   ],
   "source": [
    "pip install matplotlib"
   ]
  },
  {
   "cell_type": "code",
   "execution_count": 29,
   "id": "ea2b513c-a3fa-4bcb-98b1-7214f298f462",
   "metadata": {},
   "outputs": [
    {
     "ename": "ModuleNotFoundError",
     "evalue": "No module named 'matplotlib'",
     "output_type": "error",
     "traceback": [
      "\u001b[1;31m---------------------------------------------------------------------------\u001b[0m",
      "\u001b[1;31mModuleNotFoundError\u001b[0m                       Traceback (most recent call last)",
      "Cell \u001b[1;32mIn[29], line 6\u001b[0m\n\u001b[0;32m      4\u001b[0m \u001b[38;5;28;01mimport\u001b[39;00m \u001b[38;5;21;01mpandas\u001b[39;00m \u001b[38;5;28;01mas\u001b[39;00m \u001b[38;5;21;01mpd\u001b[39;00m\n\u001b[0;32m      5\u001b[0m \u001b[38;5;28;01mimport\u001b[39;00m \u001b[38;5;21;01mnumpy\u001b[39;00m \u001b[38;5;28;01mas\u001b[39;00m \u001b[38;5;21;01mnp\u001b[39;00m\n\u001b[1;32m----> 6\u001b[0m \u001b[38;5;28;01mimport\u001b[39;00m \u001b[38;5;21;01mmatplotlib\u001b[39;00m\u001b[38;5;21;01m.\u001b[39;00m\u001b[38;5;21;01mpyplot\u001b[39;00m \u001b[38;5;28;01mas\u001b[39;00m \u001b[38;5;21;01mplt\u001b[39;00m\n",
      "\u001b[1;31mModuleNotFoundError\u001b[0m: No module named 'matplotlib'"
     ]
    }
   ],
   "source": [
    "# 02: importing libraries\n",
    "import geoplotlib\n",
    "from geoplotlib.utils import read_csv\n",
    "import pandas as pd\n",
    "import numpy as np\n",
    "import matplotlib.pyplot as plt"
   ]
  },
  {
   "cell_type": "code",
   "execution_count": 23,
   "id": "edf90d6a-1ce3-40d5-9bf2-87787a771e8e",
   "metadata": {},
   "outputs": [],
   "source": [
    "# correcting deprecations (numpy.int was deprecated in NumPy 1.20 and was removed in NumPy 1.24)\n",
    "np.int = np.int32\n",
    "np.float = np.float64\n",
    "np.bool = np.bool_"
   ]
  },
  {
   "cell_type": "code",
   "execution_count": 24,
   "id": "ca21760e",
   "metadata": {},
   "outputs": [],
   "source": [
    "# 03: using geoplotlib to read the csv file\n",
    "dataset = read_csv('C:/Users/User/Documents/GitHub/gradest-1/DATAVIS/tutorials/Tutorial07/Datasets/poaching_points_cleaned.csv')"
   ]
  },
  {
   "cell_type": "code",
   "execution_count": 25,
   "id": "6f8c3908-6577-480f-b487-cafd1f286ce4",
   "metadata": {},
   "outputs": [
    {
     "data": {
      "text/plain": [
       "DataAccessObject(['id_report', 'date_report', 'description', 'created_date', 'lat', 'lon'] x 268)"
      ]
     },
     "execution_count": 25,
     "metadata": {},
     "output_type": "execute_result"
    }
   ],
   "source": [
    "# 04: checking the dataset structure\n",
    "dataset"
   ]
  },
  {
   "cell_type": "code",
   "execution_count": 26,
   "id": "59826fd8",
   "metadata": {},
   "outputs": [
    {
     "data": {
      "text/html": [
       "<div>\n",
       "<style scoped>\n",
       "    .dataframe tbody tr th:only-of-type {\n",
       "        vertical-align: middle;\n",
       "    }\n",
       "\n",
       "    .dataframe tbody tr th {\n",
       "        vertical-align: top;\n",
       "    }\n",
       "\n",
       "    .dataframe thead th {\n",
       "        text-align: right;\n",
       "    }\n",
       "</style>\n",
       "<table border=\"1\" class=\"dataframe\">\n",
       "  <thead>\n",
       "    <tr style=\"text-align: right;\">\n",
       "      <th></th>\n",
       "      <th>id_report</th>\n",
       "      <th>date_report</th>\n",
       "      <th>description</th>\n",
       "      <th>created_date</th>\n",
       "      <th>lat</th>\n",
       "      <th>lon</th>\n",
       "    </tr>\n",
       "  </thead>\n",
       "  <tbody>\n",
       "    <tr>\n",
       "      <th>0</th>\n",
       "      <td>138</td>\n",
       "      <td>01/01/2005 12:00:00 AM</td>\n",
       "      <td>Poaching incident</td>\n",
       "      <td>2005/01/01 12:00:00 AM</td>\n",
       "      <td>-7.049359</td>\n",
       "      <td>34.841440</td>\n",
       "    </tr>\n",
       "    <tr>\n",
       "      <th>1</th>\n",
       "      <td>4</td>\n",
       "      <td>01/20/2005 12:00:00 AM</td>\n",
       "      <td>Poaching incident</td>\n",
       "      <td>2005/01/20 12:00:00 AM</td>\n",
       "      <td>-7.650840</td>\n",
       "      <td>34.480010</td>\n",
       "    </tr>\n",
       "    <tr>\n",
       "      <th>2</th>\n",
       "      <td>43</td>\n",
       "      <td>01/20/2005 12:00:00 AM</td>\n",
       "      <td>Poaching incident</td>\n",
       "      <td>2005/02/20 12:00:00 AM</td>\n",
       "      <td>-7.843202</td>\n",
       "      <td>34.005704</td>\n",
       "    </tr>\n",
       "    <tr>\n",
       "      <th>3</th>\n",
       "      <td>98</td>\n",
       "      <td>01/20/2005 12:00:00 AM</td>\n",
       "      <td>Poaching incident</td>\n",
       "      <td>2005/02/21 12:00:00 AM</td>\n",
       "      <td>-7.745846</td>\n",
       "      <td>33.948526</td>\n",
       "    </tr>\n",
       "    <tr>\n",
       "      <th>4</th>\n",
       "      <td>141</td>\n",
       "      <td>01/20/2005 12:00:00 AM</td>\n",
       "      <td>Poaching incident</td>\n",
       "      <td>2005/02/22 12:00:00 AM</td>\n",
       "      <td>-7.876673</td>\n",
       "      <td>33.690167</td>\n",
       "    </tr>\n",
       "  </tbody>\n",
       "</table>\n",
       "</div>"
      ],
      "text/plain": [
       "   id_report             date_report        description  \\\n",
       "0        138  01/01/2005 12:00:00 AM  Poaching incident   \n",
       "1          4  01/20/2005 12:00:00 AM  Poaching incident   \n",
       "2         43  01/20/2005 12:00:00 AM  Poaching incident   \n",
       "3         98  01/20/2005 12:00:00 AM  Poaching incident   \n",
       "4        141  01/20/2005 12:00:00 AM  Poaching incident   \n",
       "\n",
       "             created_date       lat        lon  \n",
       "0  2005/01/01 12:00:00 AM -7.049359  34.841440  \n",
       "1  2005/01/20 12:00:00 AM -7.650840  34.480010  \n",
       "2  2005/02/20 12:00:00 AM -7.843202  34.005704  \n",
       "3  2005/02/21 12:00:00 AM -7.745846  33.948526  \n",
       "4  2005/02/22 12:00:00 AM -7.876673  33.690167  "
      ]
     },
     "execution_count": 26,
     "metadata": {},
     "output_type": "execute_result"
    }
   ],
   "source": [
    "# 05: reading the data with pandas\n",
    "pd_dataset=pd.read_csv('C:/Users/User/Documents/GitHub/gradest-1/DATAVIS/tutorials/Tutorial07/Datasets/poaching_points_cleaned.csv')\n",
    "pd_dataset.head()"
   ]
  },
  {
   "cell_type": "code",
   "execution_count": 27,
   "id": "31de6ab9",
   "metadata": {},
   "outputs": [
    {
     "name": "stdout",
     "output_type": "stream",
     "text": [
      "Requirement already satisfied: pyglet in c:\\users\\user\\anaconda3\\envs\\tutorial7\\lib\\site-packages (2.0.18)\n",
      "Note: you may need to restart the kernel to use updated packages.\n"
     ]
    }
   ],
   "source": [
    "pip install --upgrade pyglet"
   ]
  },
  {
   "cell_type": "code",
   "execution_count": 28,
   "id": "d9e1387b",
   "metadata": {},
   "outputs": [
    {
     "name": "stdout",
     "output_type": "stream",
     "text": [
      "module 'pyglet.image' has no attribute 'TextureArrayRegion'\n",
      "module 'pyglet.image' has no attribute 'TextureArrayRegion'\n",
      "module 'pyglet.image' has no attribute 'TextureArrayRegion'\n",
      "module 'pyglet.image' has no attribute 'TextureArrayRegion'\n",
      "module 'pyglet.image' has no attribute 'TextureArrayRegion'\n",
      "module 'pyglet.image' has no attribute 'TextureArrayRegion'\n",
      "module 'pyglet.image' has no attribute 'TextureArrayRegion'\n",
      "module 'pyglet.image' has no attribute 'TextureArrayRegion'\n",
      "module 'pyglet.image' has no attribute 'TextureArrayRegion'\n",
      "module 'pyglet.image' has no attribute 'TextureArrayRegion'\n",
      "module 'pyglet.image' has no attribute 'TextureArrayRegion'\n",
      "module 'pyglet.image' has no attribute 'TextureArrayRegion'\n",
      "module 'pyglet.image' has no attribute 'TextureArrayRegion'\n",
      "module 'pyglet.image' has no attribute 'TextureArrayRegion'\n",
      "module 'pyglet.image' has no attribute 'TextureArrayRegion'\n",
      "module 'pyglet.image' has no attribute 'TextureArrayRegion'\n",
      "module 'pyglet.image' has no attribute 'TextureArrayRegion'\n",
      "module 'pyglet.image' has no attribute 'TextureArrayRegion'\n",
      "module 'pyglet.image' has no attribute 'TextureArrayRegion'\n",
      "module 'pyglet.image' has no attribute 'TextureArrayRegion'\n",
      "module 'pyglet.image' has no attribute 'TextureArrayRegion'\n",
      "module 'pyglet.image' has no attribute 'TextureArrayRegion'\n",
      "module 'pyglet.image' has no attribute 'TextureArrayRegion'\n",
      "module 'pyglet.image' has no attribute 'TextureArrayRegion'\n"
     ]
    },
    {
     "name": "stderr",
     "output_type": "stream",
     "text": [
      "Traceback (most recent call last):\n",
      "  File \"C:\\Users\\User\\anaconda3\\envs\\tutorial7\\Lib\\site-packages\\geoplotlib\\__init__.py\", line 32, in _runapp\n",
      "    app.start()\n",
      "  File \"C:\\Users\\User\\anaconda3\\envs\\tutorial7\\Lib\\site-packages\\geoplotlib\\core.py\", line 369, in start\n",
      "    pyglet.app.run()\n",
      "  File \"C:\\Users\\User\\anaconda3\\envs\\tutorial7\\Lib\\site-packages\\pyglet\\app\\__init__.py\", line 107, in run\n",
      "  File \"C:\\Users\\User\\anaconda3\\envs\\tutorial7\\Lib\\site-packages\\pyglet\\app\\base.py\", line 169, in run\n",
      "    platform_event_loop.stop()\n",
      "                  ^^^^^^^^^^^\n",
      "  File \"C:\\Users\\User\\anaconda3\\envs\\tutorial7\\Lib\\site-packages\\pyglet\\app\\base.py\", line 245, in idle\n",
      "    Thread-safe since pyglet 1.2.\n",
      "            ^^^^^^^^^^^^^^^^^^^^^^\n",
      "  File \"C:\\Users\\User\\anaconda3\\envs\\tutorial7\\Lib\\site-packages\\pyglet\\window\\__init__.py\", line 1353, in dispatch_event\n",
      "    \"\"\"A portion of the window needs to be redrawn.\n",
      "       ^^^^^^^^^^^^^^^^^^^^^^^^^^^^^^^^^^^^^^^^^^^\n",
      "  File \"C:\\Users\\User\\anaconda3\\envs\\tutorial7\\Lib\\site-packages\\pyglet\\event.py\", line 415, in dispatch_event\n",
      "    # Construct a more informative message\n",
      "           ^^^^^^^^^^^^^^^^^^^^^^^^^^^^^^^^\n",
      "  File \"C:\\Users\\User\\anaconda3\\envs\\tutorial7\\Lib\\site-packages\\geoplotlib\\core.py\", line 251, in on_draw\n",
      "    attribution = pyglet.text.Label(self.map_layer.attribution,\n",
      "                  ^^^^^^^^^^^^^^^^^^^^^^^^^^^^^^^^^^^^^^^^^^^^^\n",
      "  File \"C:\\Users\\User\\anaconda3\\envs\\tutorial7\\Lib\\site-packages\\pyglet\\text\\__init__.py\", line 469, in __init__\n",
      "    Anchor point of the Y coordinate: one of ``\"bottom\"``,\n",
      "  File \"C:\\Users\\User\\anaconda3\\envs\\tutorial7\\Lib\\site-packages\\pyglet\\text\\__init__.py\", line 268, in __init__\n",
      "    \"\"\"\n",
      "  File \"C:\\Users\\User\\anaconda3\\envs\\tutorial7\\Lib\\site-packages\\pyglet\\text\\layout.py\", line 858, in __init__\n",
      "  File \"C:\\Users\\User\\anaconda3\\envs\\tutorial7\\Lib\\site-packages\\pyglet\\text\\layout.py\", line 887, in document\n",
      "  File \"C:\\Users\\User\\anaconda3\\envs\\tutorial7\\Lib\\site-packages\\pyglet\\text\\layout.py\", line 1336, in _init_document\n",
      "  File \"C:\\Users\\User\\anaconda3\\envs\\tutorial7\\Lib\\site-packages\\pyglet\\text\\layout.py\", line 1247, in _update\n",
      "  File \"C:\\Users\\User\\anaconda3\\envs\\tutorial7\\Lib\\site-packages\\pyglet\\text\\layout.py\", line 1224, in _get_lines\n",
      "  File \"C:\\Users\\User\\anaconda3\\envs\\tutorial7\\Lib\\site-packages\\pyglet\\text\\layout.py\", line 1384, in _get_glyphs\n",
      "  File \"C:\\Users\\User\\anaconda3\\envs\\tutorial7\\Lib\\site-packages\\pyglet\\font\\base.py\", line 401, in get_glyphs\n",
      "  File \"C:\\Users\\User\\anaconda3\\envs\\tutorial7\\Lib\\site-packages\\pyglet\\font\\win32.py\", line 100, in __init__\n",
      "    gdiplus.GdipSetPageUnit(self._graphics, UnitPixel)\n",
      "    ^^^^^^^^^^^^^^^^^^^^^^^^^^^^^^^^^^\n",
      "  File \"C:\\Users\\User\\anaconda3\\envs\\tutorial7\\Lib\\site-packages\\pyglet\\font\\win32.py\", line 324, in _create_bitmap\n",
      "    num_count = ctypes.c_int()\n",
      "        ^^^^^^^^^^^^^^^^^^^^^^\n",
      "ctypes.ArgumentError: argument 5: TypeError: expected LP_c_ubyte instance instead of c_byte_Array_3520\n"
     ]
    }
   ],
   "source": [
    "geoplotlib.dot(dataset)\n",
    "geoplotlib.show()"
   ]
  },
  {
   "cell_type": "code",
   "execution_count": null,
   "id": "a7e3f33c-f239-4890-88b6-c5765e48272c",
   "metadata": {},
   "outputs": [],
   "source": []
  }
 ],
 "metadata": {
  "kernelspec": {
   "display_name": "Python 3 (ipykernel)",
   "language": "python",
   "name": "python3"
  },
  "language_info": {
   "codemirror_mode": {
    "name": "ipython",
    "version": 3
   },
   "file_extension": ".py",
   "mimetype": "text/x-python",
   "name": "python",
   "nbconvert_exporter": "python",
   "pygments_lexer": "ipython3",
   "version": "3.12.7"
  }
 },
 "nbformat": 4,
 "nbformat_minor": 5
}
