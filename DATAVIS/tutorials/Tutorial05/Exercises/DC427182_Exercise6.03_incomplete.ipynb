{
 "cells": [
  {
   "cell_type": "markdown",
   "id": "39398880",
   "metadata": {},
   "source": [
    "# Exercise 6.03\n",
    "\n",
    "Student: DC427182"
   ]
  },
  {
   "cell_type": "code",
   "execution_count": 3,
   "id": "ad996220-5610-4d4c-bb0e-85f3ccf4bfff",
   "metadata": {},
   "outputs": [],
   "source": [
    "# 02: importing libraries\n",
    "import pandas as pd\n",
    "import numpy as np\n",
    "import matplotlib.pyplot as plt\n",
    "%matplotlib inline"
   ]
  }
 ],
 "metadata": {
  "kernelspec": {
   "display_name": "base",
   "language": "python",
   "name": "python3"
  },
  "language_info": {
   "codemirror_mode": {
    "name": "ipython",
    "version": 3
   },
   "file_extension": ".py",
   "mimetype": "text/x-python",
   "name": "python",
   "nbconvert_exporter": "python",
   "pygments_lexer": "ipython3",
   "version": "3.12.4"
  }
 },
 "nbformat": 4,
 "nbformat_minor": 5
}
