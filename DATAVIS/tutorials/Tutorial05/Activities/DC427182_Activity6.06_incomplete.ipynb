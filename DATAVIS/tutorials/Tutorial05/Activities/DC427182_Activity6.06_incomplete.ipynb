{
 "cells": [
  {
   "cell_type": "markdown",
   "id": "91872f40",
   "metadata": {},
   "source": [
    "# Activity 6.6\n",
    "Student: DC427182"
   ]
  },
  {
   "cell_type": "code",
   "execution_count": 2,
   "id": "61e22489",
   "metadata": {},
   "outputs": [],
   "source": [
    "# 01: importing libraries\n",
    "import numpy as np\n",
    "import pandas as pd\n",
    "import matplotlib.pyplot as plt\n",
    "import seaborn as sns"
   ]
  }
 ],
 "metadata": {
  "kernelspec": {
   "display_name": "base",
   "language": "python",
   "name": "python3"
  },
  "language_info": {
   "codemirror_mode": {
    "name": "ipython",
    "version": 3
   },
   "file_extension": ".py",
   "mimetype": "text/x-python",
   "name": "python",
   "nbconvert_exporter": "python",
   "pygments_lexer": "ipython3",
   "version": "3.12.4"
  }
 },
 "nbformat": 4,
 "nbformat_minor": 5
}
