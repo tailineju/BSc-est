{
 "cells": [
  {
   "cell_type": "markdown",
   "id": "7708bf63-213e-4d00-ac3a-d8946e5c7d36",
   "metadata": {},
   "source": [
    "# Activity 6.02\n",
    "\n",
    "Student: DC427182"
   ]
  },
  {
   "cell_type": "code",
   "execution_count": 9,
   "id": "7b511a41-10dd-4606-bea1-dd80d2f18c1a",
   "metadata": {},
   "outputs": [],
   "source": [
    "# 0: importing libraries\n",
    "import pandas as pd\n",
    "import numpy as np\n",
    "import matplotlib.pyplot as plt\n",
    "%matplotlib inline\n",
    "import seaborn as sns"
   ]
  },
  {
   "cell_type": "code",
   "execution_count": 11,
   "id": "77a02843",
   "metadata": {},
   "outputs": [
    {
     "data": {
      "text/html": [
       "<div>\n",
       "<style scoped>\n",
       "    .dataframe tbody tr th:only-of-type {\n",
       "        vertical-align: middle;\n",
       "    }\n",
       "\n",
       "    .dataframe tbody tr th {\n",
       "        vertical-align: top;\n",
       "    }\n",
       "\n",
       "    .dataframe thead th {\n",
       "        text-align: right;\n",
       "    }\n",
       "</style>\n",
       "<table border=\"1\" class=\"dataframe\">\n",
       "  <thead>\n",
       "    <tr style=\"text-align: right;\">\n",
       "      <th></th>\n",
       "      <th>MovieTitle</th>\n",
       "      <th>Tomatometer</th>\n",
       "      <th>AudienceScore</th>\n",
       "    </tr>\n",
       "  </thead>\n",
       "  <tbody>\n",
       "    <tr>\n",
       "      <th>0</th>\n",
       "      <td>The Shape of Water</td>\n",
       "      <td>91</td>\n",
       "      <td>73</td>\n",
       "    </tr>\n",
       "    <tr>\n",
       "      <th>1</th>\n",
       "      <td>Black Panther</td>\n",
       "      <td>97</td>\n",
       "      <td>79</td>\n",
       "    </tr>\n",
       "    <tr>\n",
       "      <th>2</th>\n",
       "      <td>Dunkirk</td>\n",
       "      <td>92</td>\n",
       "      <td>81</td>\n",
       "    </tr>\n",
       "    <tr>\n",
       "      <th>3</th>\n",
       "      <td>The Martian</td>\n",
       "      <td>91</td>\n",
       "      <td>91</td>\n",
       "    </tr>\n",
       "    <tr>\n",
       "      <th>4</th>\n",
       "      <td>The Hobbit: An Unexpected Journey</td>\n",
       "      <td>64</td>\n",
       "      <td>83</td>\n",
       "    </tr>\n",
       "  </tbody>\n",
       "</table>\n",
       "</div>"
      ],
      "text/plain": [
       "                          MovieTitle  Tomatometer  AudienceScore\n",
       "0                 The Shape of Water           91             73\n",
       "1                      Black Panther           97             79\n",
       "2                            Dunkirk           92             81\n",
       "3                        The Martian           91             91\n",
       "4  The Hobbit: An Unexpected Journey           64             83"
      ]
     },
     "execution_count": 11,
     "metadata": {},
     "output_type": "execute_result"
    }
   ],
   "source": [
    "# 01: loading the dataset\n",
    "dataset = pd.read_csv('C:/Users/User/Documents/GitHub/gradest-1/DATAVIS/tutorials/Tutorial05/Datasets/movie_scores.csv', index_col=0)\n",
    "dataset"
   ]
  },
  {
   "cell_type": "code",
   "execution_count": 12,
   "id": "d22d2f28",
   "metadata": {},
   "outputs": [
    {
     "data": {
      "text/html": [
       "<div>\n",
       "<style scoped>\n",
       "    .dataframe tbody tr th:only-of-type {\n",
       "        vertical-align: middle;\n",
       "    }\n",
       "\n",
       "    .dataframe tbody tr th {\n",
       "        vertical-align: top;\n",
       "    }\n",
       "\n",
       "    .dataframe thead th {\n",
       "        text-align: right;\n",
       "    }\n",
       "</style>\n",
       "<table border=\"1\" class=\"dataframe\">\n",
       "  <thead>\n",
       "    <tr style=\"text-align: right;\">\n",
       "      <th></th>\n",
       "      <th>Movie</th>\n",
       "      <th>Score Type</th>\n",
       "      <th>Score</th>\n",
       "    </tr>\n",
       "  </thead>\n",
       "  <tbody>\n",
       "    <tr>\n",
       "      <th>0</th>\n",
       "      <td>The Shape of Water</td>\n",
       "      <td>Tomatometer</td>\n",
       "      <td>91</td>\n",
       "    </tr>\n",
       "    <tr>\n",
       "      <th>1</th>\n",
       "      <td>Black Panther</td>\n",
       "      <td>Tomatometer</td>\n",
       "      <td>97</td>\n",
       "    </tr>\n",
       "    <tr>\n",
       "      <th>2</th>\n",
       "      <td>Dunkirk</td>\n",
       "      <td>Tomatometer</td>\n",
       "      <td>92</td>\n",
       "    </tr>\n",
       "    <tr>\n",
       "      <th>3</th>\n",
       "      <td>The Martian</td>\n",
       "      <td>Tomatometer</td>\n",
       "      <td>91</td>\n",
       "    </tr>\n",
       "    <tr>\n",
       "      <th>4</th>\n",
       "      <td>The Hobbit:\\nAn Unexpected Journey</td>\n",
       "      <td>Tomatometer</td>\n",
       "      <td>64</td>\n",
       "    </tr>\n",
       "    <tr>\n",
       "      <th>5</th>\n",
       "      <td>The Shape of Water</td>\n",
       "      <td>Audience Score</td>\n",
       "      <td>73</td>\n",
       "    </tr>\n",
       "    <tr>\n",
       "      <th>6</th>\n",
       "      <td>Black Panther</td>\n",
       "      <td>Audience Score</td>\n",
       "      <td>79</td>\n",
       "    </tr>\n",
       "    <tr>\n",
       "      <th>7</th>\n",
       "      <td>Dunkirk</td>\n",
       "      <td>Audience Score</td>\n",
       "      <td>81</td>\n",
       "    </tr>\n",
       "    <tr>\n",
       "      <th>8</th>\n",
       "      <td>The Martian</td>\n",
       "      <td>Audience Score</td>\n",
       "      <td>91</td>\n",
       "    </tr>\n",
       "    <tr>\n",
       "      <th>9</th>\n",
       "      <td>The Hobbit:\\nAn Unexpected Journey</td>\n",
       "      <td>Audience Score</td>\n",
       "      <td>83</td>\n",
       "    </tr>\n",
       "  </tbody>\n",
       "</table>\n",
       "</div>"
      ],
      "text/plain": [
       "                                Movie      Score Type  Score\n",
       "0                  The Shape of Water     Tomatometer     91\n",
       "1                       Black Panther     Tomatometer     97\n",
       "2                             Dunkirk     Tomatometer     92\n",
       "3                         The Martian     Tomatometer     91\n",
       "4  The Hobbit:\\nAn Unexpected Journey     Tomatometer     64\n",
       "5                  The Shape of Water  Audience Score     73\n",
       "6                       Black Panther  Audience Score     79\n",
       "7                             Dunkirk  Audience Score     81\n",
       "8                         The Martian  Audience Score     91\n",
       "9  The Hobbit:\\nAn Unexpected Journey  Audience Score     83"
      ]
     },
     "execution_count": 12,
     "metadata": {},
     "output_type": "execute_result"
    }
   ],
   "source": [
    "# 02: transform the data into a useable format for Seaborn's barplot function.\n",
    "\n",
    "# renaming the columns\n",
    "dataset.columns = ['Movie', 'Tomatometer', 'Audience Score']\n",
    "# fixing one of the movie's name to fit the plot better\n",
    "dataset.loc[dataset['Movie'] == 'The Hobbit: An Unexpected Journey', 'Movie'] = 'The Hobbit:\\nAn Unexpected Journey'\n",
    "dataset\n",
    "# melt the dataset\n",
    "dataset_melted = pd.melt(dataset, id_vars='Movie', var_name='Score Type', value_name='Score')\n",
    "dataset_melted\n"
   ]
  },
  {
   "cell_type": "code",
   "execution_count": 16,
   "id": "a3ef919d",
   "metadata": {},
   "outputs": [
    {
     "data": {
      "image/png": "[encoded data removed]",
      "text/plain": [
       "<Figure size 1000x600 with 1 Axes>"
      ]
     },
     "metadata": {},
     "output_type": "display_data"
    }
   ],
   "source": [
    "# 03: Use Seaborn to create a visually appealing bar plot that compares the two scores for all five movies.\n",
    "# create the bar plot\n",
    "sns.set_style('whitegrid')\n",
    "plt.figure(figsize=(10, 6))\n",
    "sns.barplot(x='Movie', y='Score', hue='Score Type', data=dataset_melted)\n",
    "plt.title('Comparison of Tomatometer and Audience Scores for Five Movies')\n",
    "plt.xlabel('Movie')\n",
    "plt.ylabel('Score')\n",
    "plt.xticks()\n",
    "plt.yticks()\n",
    "plt.legend(loc='upper left')\n",
    "plt.show()\n"
   ]
  },
  {
   "cell_type": "code",
   "execution_count": null,
   "id": "0dbb4d57",
   "metadata": {},
   "outputs": [],
   "source": []
  }
 ],
 "metadata": {
  "kernelspec": {
   "display_name": "Python 3 (ipykernel)",
   "language": "python",
   "name": "python3"
  },
  "language_info": {
   "codemirror_mode": {
    "name": "ipython",
    "version": 3
   },
   "file_extension": ".py",
   "mimetype": "text/x-python",
   "name": "python",
   "nbconvert_exporter": "python",
   "pygments_lexer": "ipython3",
   "version": "3.12.4"
  }
 },
 "nbformat": 4,
 "nbformat_minor": 5
}
