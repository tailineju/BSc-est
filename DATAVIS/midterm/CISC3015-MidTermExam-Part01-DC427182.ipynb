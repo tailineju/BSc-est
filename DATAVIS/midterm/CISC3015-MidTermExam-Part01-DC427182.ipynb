{
 "cells": [
  {
   "cell_type": "markdown",
   "metadata": {},
   "source": [
    "# MidTerm Exam - Part 1\n",
    "Student: DC427182"
   ]
  },
  {
   "cell_type": "code",
   "execution_count": null,
   "metadata": {},
   "outputs": [
    {
     "name": "stdout",
     "output_type": "stream",
     "text": [
      "Collecting empiricaldist\n",
      "  Downloading empiricaldist-0.7.5.tar.gz (12 kB)\n",
      "  Installing build dependencies: started\n",
      "  Installing build dependencies: finished with status 'done'\n",
      "  Getting requirements to build wheel: started\n",
      "  Getting requirements to build wheel: finished with status 'done'\n",
      "  Preparing metadata (pyproject.toml): started\n",
      "  Preparing metadata (pyproject.toml): finished with status 'done'\n",
      "Building wheels for collected packages: empiricaldist\n",
      "  Building wheel for empiricaldist (pyproject.toml): started\n",
      "  Building wheel for empiricaldist (pyproject.toml): finished with status 'done'\n",
      "  Created wheel for empiricaldist: filename=empiricaldist-0.7.5-py3-none-any.whl size=12482 sha256=03f7217f0a90d4113916c128f2f9376142441398975829d848645d61ea4fbae4\n",
      "  Stored in directory: c:\\users\\user\\appdata\\local\\pip\\cache\\wheels\\50\\76\\80\\cd870fa069549e0ac217149202c957ab5a175bea03a287d358\n",
      "Successfully built empiricaldist\n",
      "Installing collected packages: empiricaldist\n",
      "Successfully installed empiricaldist-0.7.5\n",
      "Note: you may need to restart the kernel to use updated packages.\n"
     ]
    }
   ],
   "source": [
    "# Question 0\n",
    "pip install empiricaldist"
   ]
  },
  {
   "cell_type": "code",
   "execution_count": 7,
   "metadata": {},
   "outputs": [],
   "source": [
    "import empiricaldist as emp\n",
    "import numpy as np\n",
    "import pandas as pd"
   ]
  },
  {
   "cell_type": "code",
   "execution_count": 8,
   "metadata": {},
   "outputs": [
    {
     "data": {
      "text/html": [
       "<div>\n",
       "<style scoped>\n",
       "    .dataframe tbody tr th:only-of-type {\n",
       "        vertical-align: middle;\n",
       "    }\n",
       "\n",
       "    .dataframe tbody tr th {\n",
       "        vertical-align: top;\n",
       "    }\n",
       "\n",
       "    .dataframe thead th {\n",
       "        text-align: right;\n",
       "    }\n",
       "</style>\n",
       "<table border=\"1\" class=\"dataframe\">\n",
       "  <thead>\n",
       "    <tr style=\"text-align: right;\">\n",
       "      <th></th>\n",
       "      <th>year</th>\n",
       "      <th>id_</th>\n",
       "      <th>agewed</th>\n",
       "      <th>divorce</th>\n",
       "      <th>sibs</th>\n",
       "      <th>childs</th>\n",
       "      <th>age</th>\n",
       "      <th>educ</th>\n",
       "      <th>paeduc</th>\n",
       "      <th>maeduc</th>\n",
       "      <th>...</th>\n",
       "      <th>memchurh</th>\n",
       "      <th>realinc</th>\n",
       "      <th>cohort</th>\n",
       "      <th>marcohrt</th>\n",
       "      <th>ballot</th>\n",
       "      <th>wtssall</th>\n",
       "      <th>adults</th>\n",
       "      <th>compuse</th>\n",
       "      <th>databank</th>\n",
       "      <th>wtssnr</th>\n",
       "    </tr>\n",
       "  </thead>\n",
       "  <tbody>\n",
       "    <tr>\n",
       "      <th>0</th>\n",
       "      <td>1972</td>\n",
       "      <td>167</td>\n",
       "      <td>0</td>\n",
       "      <td>0</td>\n",
       "      <td>2</td>\n",
       "      <td>0</td>\n",
       "      <td>26.0</td>\n",
       "      <td>18.0</td>\n",
       "      <td>12</td>\n",
       "      <td>12</td>\n",
       "      <td>...</td>\n",
       "      <td>0</td>\n",
       "      <td>13537.0</td>\n",
       "      <td>1946.0</td>\n",
       "      <td>0</td>\n",
       "      <td>0</td>\n",
       "      <td>0.8893</td>\n",
       "      <td>2.0</td>\n",
       "      <td>0</td>\n",
       "      <td>0</td>\n",
       "      <td>1.0</td>\n",
       "    </tr>\n",
       "    <tr>\n",
       "      <th>1</th>\n",
       "      <td>1972</td>\n",
       "      <td>1256</td>\n",
       "      <td>30</td>\n",
       "      <td>2</td>\n",
       "      <td>0</td>\n",
       "      <td>1</td>\n",
       "      <td>38.0</td>\n",
       "      <td>12.0</td>\n",
       "      <td>97</td>\n",
       "      <td>99</td>\n",
       "      <td>...</td>\n",
       "      <td>0</td>\n",
       "      <td>18951.0</td>\n",
       "      <td>1934.0</td>\n",
       "      <td>1964</td>\n",
       "      <td>0</td>\n",
       "      <td>0.4446</td>\n",
       "      <td>1.0</td>\n",
       "      <td>0</td>\n",
       "      <td>0</td>\n",
       "      <td>1.0</td>\n",
       "    </tr>\n",
       "    <tr>\n",
       "      <th>2</th>\n",
       "      <td>1972</td>\n",
       "      <td>415</td>\n",
       "      <td>0</td>\n",
       "      <td>0</td>\n",
       "      <td>7</td>\n",
       "      <td>0</td>\n",
       "      <td>57.0</td>\n",
       "      <td>12.0</td>\n",
       "      <td>7</td>\n",
       "      <td>7</td>\n",
       "      <td>...</td>\n",
       "      <td>0</td>\n",
       "      <td>30458.0</td>\n",
       "      <td>1915.0</td>\n",
       "      <td>0</td>\n",
       "      <td>0</td>\n",
       "      <td>1.3339</td>\n",
       "      <td>3.0</td>\n",
       "      <td>0</td>\n",
       "      <td>0</td>\n",
       "      <td>1.0</td>\n",
       "    </tr>\n",
       "    <tr>\n",
       "      <th>3</th>\n",
       "      <td>1972</td>\n",
       "      <td>234</td>\n",
       "      <td>18</td>\n",
       "      <td>1</td>\n",
       "      <td>6</td>\n",
       "      <td>3</td>\n",
       "      <td>61.0</td>\n",
       "      <td>14.0</td>\n",
       "      <td>8</td>\n",
       "      <td>5</td>\n",
       "      <td>...</td>\n",
       "      <td>0</td>\n",
       "      <td>37226.0</td>\n",
       "      <td>1911.0</td>\n",
       "      <td>1929</td>\n",
       "      <td>0</td>\n",
       "      <td>0.8893</td>\n",
       "      <td>2.0</td>\n",
       "      <td>0</td>\n",
       "      <td>0</td>\n",
       "      <td>1.0</td>\n",
       "    </tr>\n",
       "    <tr>\n",
       "      <th>4</th>\n",
       "      <td>1972</td>\n",
       "      <td>554</td>\n",
       "      <td>22</td>\n",
       "      <td>2</td>\n",
       "      <td>3</td>\n",
       "      <td>3</td>\n",
       "      <td>59.0</td>\n",
       "      <td>12.0</td>\n",
       "      <td>6</td>\n",
       "      <td>11</td>\n",
       "      <td>...</td>\n",
       "      <td>0</td>\n",
       "      <td>30458.0</td>\n",
       "      <td>1913.0</td>\n",
       "      <td>1935</td>\n",
       "      <td>0</td>\n",
       "      <td>0.8893</td>\n",
       "      <td>2.0</td>\n",
       "      <td>0</td>\n",
       "      <td>0</td>\n",
       "      <td>1.0</td>\n",
       "    </tr>\n",
       "  </tbody>\n",
       "</table>\n",
       "<p>5 rows × 101 columns</p>\n",
       "</div>"
      ],
      "text/plain": [
       "   year   id_  agewed  divorce  sibs  childs   age  educ  paeduc  maeduc  ...  \\\n",
       "0  1972   167       0        0     2       0  26.0  18.0      12      12  ...   \n",
       "1  1972  1256      30        2     0       1  38.0  12.0      97      99  ...   \n",
       "2  1972   415       0        0     7       0  57.0  12.0       7       7  ...   \n",
       "3  1972   234      18        1     6       3  61.0  14.0       8       5  ...   \n",
       "4  1972   554      22        2     3       3  59.0  12.0       6      11  ...   \n",
       "\n",
       "   memchurh  realinc  cohort  marcohrt  ballot  wtssall  adults  compuse  \\\n",
       "0         0  13537.0  1946.0         0       0   0.8893     2.0        0   \n",
       "1         0  18951.0  1934.0      1964       0   0.4446     1.0        0   \n",
       "2         0  30458.0  1915.0         0       0   1.3339     3.0        0   \n",
       "3         0  37226.0  1911.0      1929       0   0.8893     2.0        0   \n",
       "4         0  30458.0  1913.0      1935       0   0.8893     2.0        0   \n",
       "\n",
       "   databank  wtssnr  \n",
       "0         0     1.0  \n",
       "1         0     1.0  \n",
       "2         0     1.0  \n",
       "3         0     1.0  \n",
       "4         0     1.0  \n",
       "\n",
       "[5 rows x 101 columns]"
      ]
     },
     "execution_count": 8,
     "metadata": {},
     "output_type": "execute_result"
    }
   ],
   "source": [
    "# loading the gss.hdf5 file\n",
    "gss = pd.read_hdf('gss.hdf5', 'gss')\n",
    "gss.head()"
   ]
  },
  {
   "cell_type": "code",
   "execution_count": 9,
   "metadata": {},
   "outputs": [
    {
     "name": "stdout",
     "output_type": "stream",
     "text": [
      "0        1972\n",
      "1        1972\n",
      "2        1972\n",
      "3        1972\n",
      "4        1972\n",
      "         ... \n",
      "62461    2016\n",
      "62462    2016\n",
      "62463    2016\n",
      "62464    2016\n",
      "62465    2016\n",
      "Name: year, Length: 62466, dtype: int64 \n",
      " The amount of respodents in 2026 is: 1973\n"
     ]
    }
   ],
   "source": [
    "# Question 1\n",
    "def answer_MidTermExam_Part01_one():\n",
    "    # 01.01: Make a PMF for year with normalize=False and display the result.\n",
    "    pmf_year = emp.Pmf(gss['year'])\n",
    "    # 01.02: How many respondents were interviewed in 2016?\n",
    "    y2026 = pmf_year[2016]\n",
    "    # display 1.1 and 1.2\n",
    "    return print(pmf_year, '\\n The amount of respodents in 2026 is:', y2026)\n",
    "\n",
    "answer_MidTermExam_Part01_one()"
   ]
  },
  {
   "cell_type": "code",
   "execution_count": 10,
   "metadata": {},
   "outputs": [
    {
     "data": {
      "text/html": [
       "<div>\n",
       "<style scoped>\n",
       "    .dataframe tbody tr th:only-of-type {\n",
       "        vertical-align: middle;\n",
       "    }\n",
       "\n",
       "    .dataframe tbody tr th {\n",
       "        vertical-align: top;\n",
       "    }\n",
       "\n",
       "    .dataframe thead th {\n",
       "        text-align: right;\n",
       "    }\n",
       "</style>\n",
       "<table border=\"1\" class=\"dataframe\">\n",
       "  <thead>\n",
       "    <tr style=\"text-align: right;\">\n",
       "      <th></th>\n",
       "      <th>probs</th>\n",
       "    </tr>\n",
       "  </thead>\n",
       "  <tbody>\n",
       "    <tr>\n",
       "      <th>0</th>\n",
       "      <td>26.0</td>\n",
       "    </tr>\n",
       "    <tr>\n",
       "      <th>1</th>\n",
       "      <td>38.0</td>\n",
       "    </tr>\n",
       "    <tr>\n",
       "      <th>2</th>\n",
       "      <td>57.0</td>\n",
       "    </tr>\n",
       "    <tr>\n",
       "      <th>3</th>\n",
       "      <td>61.0</td>\n",
       "    </tr>\n",
       "    <tr>\n",
       "      <th>4</th>\n",
       "      <td>59.0</td>\n",
       "    </tr>\n",
       "    <tr>\n",
       "      <th>...</th>\n",
       "      <td>...</td>\n",
       "    </tr>\n",
       "    <tr>\n",
       "      <th>62461</th>\n",
       "      <td>32.0</td>\n",
       "    </tr>\n",
       "    <tr>\n",
       "      <th>62462</th>\n",
       "      <td>61.0</td>\n",
       "    </tr>\n",
       "    <tr>\n",
       "      <th>62463</th>\n",
       "      <td>67.0</td>\n",
       "    </tr>\n",
       "    <tr>\n",
       "      <th>62464</th>\n",
       "      <td>57.0</td>\n",
       "    </tr>\n",
       "    <tr>\n",
       "      <th>62465</th>\n",
       "      <td>56.0</td>\n",
       "    </tr>\n",
       "  </tbody>\n",
       "</table>\n",
       "<p>62466 rows × 1 columns</p>\n",
       "</div>"
      ],
      "text/plain": [
       "0        26.0\n",
       "1        38.0\n",
       "2        57.0\n",
       "3        61.0\n",
       "4        59.0\n",
       "         ... \n",
       "62461    32.0\n",
       "62462    61.0\n",
       "62463    67.0\n",
       "62464    57.0\n",
       "62465    56.0\n",
       "Name: age, Length: 62466, dtype: float64"
      ]
     },
     "execution_count": 10,
     "metadata": {},
     "output_type": "execute_result"
    },
    {
     "data": {
      "image/png": "[encoded data removed]",
      "text/plain": [
       "<Figure size 640x480 with 1 Axes>"
      ]
     },
     "metadata": {},
     "output_type": "display_data"
    }
   ],
   "source": [
    "# Question 2\n",
    "\n",
    "def answer_MidTermExam_Part01_two():\n",
    "    # 02.01: Select the 'age' column from the gss DataFrame and store the result in age.\n",
    "    age = gss['age']\n",
    "    # 02.02: Make a normalized PMF of age. Store the result in pmf_age.\n",
    "    pmf_age = emp.Pmf(age)\n",
    "    # 02.03: Plot pmf_age as a bar chart.\n",
    "    pmf_age.bar()\n",
    "    return pmf_age\n",
    "\n",
    "answer_MidTermExam_Part01_two()"
   ]
  },
  {
   "cell_type": "code",
   "execution_count": 17,
   "metadata": {},
   "outputs": [
    {
     "name": "stdout",
     "output_type": "stream",
     "text": [
      "The probability of being older than 30 is: 0.7468382800243332\n"
     ]
    }
   ],
   "source": [
    "# Question 3 \n",
    "def answer_MidTermExam_Part01_three():\n",
    "    age = gss['age']\n",
    "    cdf_age = emp.Cdf(age)\n",
    "    cdf_age_30 = cdf_age[30]\n",
    "    older_than_30 = 1 - len(gss[gss['age'] <= 30]) / len(gss)\n",
    "    return print('The probability of being older than 30 is:', older_than_30)\n",
    "\n",
    "answer_MidTermExam_Part01_three()"
   ]
  },
  {
   "cell_type": "code",
   "execution_count": 12,
   "metadata": {},
   "outputs": [
    {
     "name": "stdout",
     "output_type": "stream",
     "text": [
      "The 75th percentile of income is: 43426.0 \n",
      "The 25th percentile of income is: 13750.0 \n",
      "The interquartile range of income is: 29676.0\n"
     ]
    }
   ],
   "source": [
    "# Question 4\n",
    "\n",
    "def answer_MidTermExam_Part01_four():\n",
    "    # 04.01: Calculate the 75th percentile of income and store it in percentile_75th.\n",
    "    percentile_75th = gss['realinc'].quantile(0.75)\n",
    "    # 04.02: Calculate the 25th percentile of income and store it in percentile_25th.\n",
    "    percentile_25th = gss['realinc'].quantile(0.25)\n",
    "    # 04.03: Calculate the interquartile range of income. Store the result in iqr.\n",
    "    iqr = percentile_75th - percentile_25th\n",
    "    # 04.04: What is the interquartile range (IQR) of income in the GSS dataset?\n",
    "    return print('The 75th percentile of income is:', percentile_75th, '\\nThe 25th percentile of income is:', percentile_25th, '\\nThe interquartile range of income is:', iqr)\n",
    "\n",
    "answer_MidTermExam_Part01_four()"
   ]
  },
  {
   "cell_type": "code",
   "execution_count": 13,
   "metadata": {},
   "outputs": [
    {
     "data": {
      "text/html": [
       "<div>\n",
       "<style scoped>\n",
       "    .dataframe tbody tr th:only-of-type {\n",
       "        vertical-align: middle;\n",
       "    }\n",
       "\n",
       "    .dataframe tbody tr th {\n",
       "        vertical-align: top;\n",
       "    }\n",
       "\n",
       "    .dataframe thead th {\n",
       "        text-align: right;\n",
       "    }\n",
       "</style>\n",
       "<table border=\"1\" class=\"dataframe\">\n",
       "  <thead>\n",
       "    <tr style=\"text-align: right;\">\n",
       "      <th></th>\n",
       "      <th>probs</th>\n",
       "    </tr>\n",
       "  </thead>\n",
       "  <tbody>\n",
       "    <tr>\n",
       "      <th>0</th>\n",
       "      <td>13537.0</td>\n",
       "    </tr>\n",
       "    <tr>\n",
       "      <th>1</th>\n",
       "      <td>18951.0</td>\n",
       "    </tr>\n",
       "    <tr>\n",
       "      <th>2</th>\n",
       "      <td>30458.0</td>\n",
       "    </tr>\n",
       "    <tr>\n",
       "      <th>3</th>\n",
       "      <td>37226.0</td>\n",
       "    </tr>\n",
       "    <tr>\n",
       "      <th>4</th>\n",
       "      <td>30458.0</td>\n",
       "    </tr>\n",
       "    <tr>\n",
       "      <th>...</th>\n",
       "      <td>...</td>\n",
       "    </tr>\n",
       "    <tr>\n",
       "      <th>62461</th>\n",
       "      <td>74880.0</td>\n",
       "    </tr>\n",
       "    <tr>\n",
       "      <th>62462</th>\n",
       "      <td>65520.0</td>\n",
       "    </tr>\n",
       "    <tr>\n",
       "      <th>62463</th>\n",
       "      <td>NaN</td>\n",
       "    </tr>\n",
       "    <tr>\n",
       "      <th>62464</th>\n",
       "      <td>9945.0</td>\n",
       "    </tr>\n",
       "    <tr>\n",
       "      <th>62465</th>\n",
       "      <td>38610.0</td>\n",
       "    </tr>\n",
       "  </tbody>\n",
       "</table>\n",
       "<p>62466 rows × 1 columns</p>\n",
       "</div>"
      ],
      "text/plain": [
       "0        13537.0\n",
       "1        18951.0\n",
       "2        30458.0\n",
       "3        37226.0\n",
       "4        30458.0\n",
       "          ...   \n",
       "62461    74880.0\n",
       "62462    65520.0\n",
       "62463        NaN\n",
       "62464     9945.0\n",
       "62465    38610.0\n",
       "Name: realinc, Length: 62466, dtype: float64"
      ]
     },
     "execution_count": 13,
     "metadata": {},
     "output_type": "execute_result"
    },
    {
     "data": {
      "image/png": "[encoded data removed]",
      "text/plain": [
       "<Figure size 640x480 with 1 Axes>"
      ]
     },
     "metadata": {},
     "output_type": "display_data"
    }
   ],
   "source": [
    "# Question 5\n",
    "\n",
    "def answer_MidTermExam_Part01_five():\n",
    "    realinc = gss['realinc']\n",
    "    cdf_income = emp.Cdf(realinc)\n",
    "    cdf_income.plot()\n",
    "    return cdf_income\n",
    "\n",
    "answer_MidTermExam_Part01_five()"
   ]
  },
  {
   "cell_type": "code",
   "execution_count": 18,
   "metadata": {},
   "outputs": [
    {
     "name": "stdout",
     "output_type": "stream",
     "text": [
      "The fraction of respondents that have 12 years of education or fewer is: 0.5334742099702239\n"
     ]
    }
   ],
   "source": [
    "# Question 6\n",
    "def answer_MidTermExam_Part01_six():\n",
    "    educ = gss['educ']\n",
    "    cdf_educ = emp.Cdf(educ)\n",
    "    cdf_12 = 1 - len(gss[gss['educ'] > 12]) / len(gss)\n",
    "    return print('The fraction of respondents that have 12 years of education or fewer is:', cdf_12)\n",
    "\n",
    "answer_MidTermExam_Part01_six()"
   ]
  },
  {
   "cell_type": "code",
   "execution_count": 19,
   "metadata": {},
   "outputs": [
    {
     "name": "stdout",
     "output_type": "stream",
     "text": [
      "The mean of high is: 0.045400697979700956\n"
     ]
    }
   ],
   "source": [
    "# Question 7\n",
    "def answer_MidTermExam_Part01_seven():\n",
    "    educ = gss['educ']\n",
    "    high = (educ > 14) & (educ < 16)\n",
    "    low = educ <= 12\n",
    "    mean_high = high.mean()\n",
    "    return print('The mean of high is:', mean_high)\n",
    "\n",
    "answer_MidTermExam_Part01_seven()"
   ]
  },
  {
   "cell_type": "code",
   "execution_count": 20,
   "metadata": {},
   "outputs": [
    {
     "data": {
      "image/png": "[encoded data removed]",
      "text/plain": [
       "<Figure size 640x480 with 1 Axes>"
      ]
     },
     "metadata": {},
     "output_type": "display_data"
    }
   ],
   "source": [
    "# Question 8\n",
    "def answer_MidTermExam_Part01_eight():\n",
    "    income = gss['realinc']\n",
    "    educ = gss['educ']\n",
    "    high = (educ > 14) & (educ < 16)\n",
    "    assoc = (educ > 12) & (educ < 14)\n",
    "    bach = educ == 16\n",
    "    postgrad = educ > 16\n",
    "    cdf_high = emp.Cdf(income[high])\n",
    "    cdf_assoc = emp.Cdf(income[assoc])\n",
    "    cdf_bach = emp.Cdf(income[bach])\n",
    "    cdf_postgrad = emp.Cdf(income[postgrad])\n",
    "    plt = emp.plt\n",
    "    cdf_high.plot(label='High school')\n",
    "    cdf_assoc.plot(label='Associate')\n",
    "    cdf_bach.plot(label='Bachelor')\n",
    "    cdf_postgrad.plot(label='Postgraduate')\n",
    "    plt.xlabel('Income (1986 USD)')\n",
    "    plt.ylabel('CDF')\n",
    "    plt.legend()\n",
    "\n",
    "\n",
    "answer_MidTermExam_Part01_eight()"
   ]
  },
  {
   "cell_type": "code",
   "execution_count": null,
   "metadata": {},
   "outputs": [],
   "source": []
  }
 ],
 "metadata": {
  "kernelspec": {
   "display_name": "Python 3 (ipykernel)",
   "language": "python",
   "name": "python3"
  },
  "language_info": {
   "codemirror_mode": {
    "name": "ipython",
    "version": 3
   },
   "file_extension": ".py",
   "mimetype": "text/x-python",
   "name": "python",
   "nbconvert_exporter": "python",
   "pygments_lexer": "ipython3",
   "version": "3.12.7"
  }
 },
 "nbformat": 4,
 "nbformat_minor": 4
}
