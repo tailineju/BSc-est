{
 "cells": [
  {
   "cell_type": "markdown",
   "metadata": {},
   "source": [
    "# Suggested Exercise 5\n",
    "\n",
    "Student: DC427182"
   ]
  },
  {
   "cell_type": "code",
   "execution_count": 37,
   "metadata": {},
   "outputs": [],
   "source": [
    "# importing libraries\n",
    "import pandas as pd\n",
    "import matplotlib.pyplot as plt"
   ]
  },
  {
   "cell_type": "code",
   "execution_count": 39,
   "metadata": {},
   "outputs": [],
   "source": [
    "# loading the data\n",
    "nsfg = pd.read_hdf('nsfg.hdf5')"
   ]
  },
  {
   "cell_type": "markdown",
   "metadata": {},
   "source": [
    "## Question 1"
   ]
  },
  {
   "cell_type": "markdown",
   "metadata": {},
   "source": [
    "- **01.01: How many respondents refused to answer this question?**\n",
    "\n",
    "One (1) respondent refused to answer this question.\n",
    "\n",
    "- **01.02: Show the screen(s) captured indicating the web address from which you discover the related data to answer the above question.**\n",
    "\n",
    "![01.02](./img/01.02.png)\n",
    "\n",
    "- **01.03: Print the full Web address (URL) in the forum under your REPLY.**\n",
    "\n",
    "https://www.cdc.gov/nchs/data/nsfg/2013-2015_NSFG_FemPregFile_Codebook-508.pdf"
   ]
  },
  {
   "cell_type": "markdown",
   "metadata": {},
   "source": [
    "## Question 2"
   ]
  },
  {
   "cell_type": "code",
   "execution_count": 44,
   "metadata": {},
   "outputs": [
    {
     "name": "stdout",
     "output_type": "stream",
     "text": [
      "1. The number of rows and columns in the DataFrame nsfg is: (9358, 10)\n",
      "2. The names of the columns in nsfg are: Index(['caseid', 'outcome', 'birthwgt_lb1', 'birthwgt_oz1', 'prglngth',\n",
      "       'nbrnaliv', 'agecon', 'agepreg', 'hpagelb', 'wgt2013_2015'],\n",
      "      dtype='object')\n",
      "4. The first 5 elements of ounces are: 0     4.0\n",
      "1    12.0\n",
      "2     4.0\n",
      "3     NaN\n",
      "4    13.0\n",
      "Name: birthwgt_oz1, dtype: float64\n"
     ]
    }
   ],
   "source": [
    "# defining the function\n",
    "def answer_SugExe5_Q2():\n",
    "    #02.01: Calculate the number of rows and columns in the DataFrame nsfg.\n",
    "    print('1. The number of rows and columns in the DataFrame nsfg is:', nsfg.shape)\n",
    "    #02.02: Display the names of the columns in nsfg.\n",
    "    print('2. The names of the columns in nsfg are:', nsfg.columns)\n",
    "    #02.03: Select the column 'birthwgt_oz1' and assign it to a new variable called ounces.\n",
    "    ounces = nsfg['birthwgt_oz1']\n",
    "    #02.04: Display the first 5 elements of ounces\n",
    "    print('4. The first 5 elements of ounces are:', ounces.head())\n",
    "\n",
    "# calling the function\n",
    "answer_SugExe5_Q2()\n"
   ]
  },
  {
   "cell_type": "markdown",
   "metadata": {},
   "source": [
    "## Question 3"
   ]
  },
  {
   "cell_type": "code",
   "execution_count": 47,
   "metadata": {},
   "outputs": [
    {
     "name": "stdout",
     "output_type": "stream",
     "text": [
      "op1. The number of pregnancies in this dataset that ended with a live birth is: 6489\n",
      "op2. The number of pregnancies in this dataset that ended with a live birth is: 6489\n"
     ]
    }
   ],
   "source": [
    "# defining the function\n",
    "def answer_SugExe5_Q3():\n",
    "    # 03.01: How many pregnancies in this dataset ended with a live birth?\n",
    "    # option 1\n",
    "    live_births = nsfg['outcome'] == 1\n",
    "    print('op1. The number of pregnancies in this dataset that ended with a live birth is:', live_births.sum())\n",
    "    # option 2\n",
    "    live_births = nsfg['outcome'].value_counts().sort_index()\n",
    "    print('op2. The number of pregnancies in this dataset that ended with a live birth is:', live_births[1])\n",
    "\n",
    "# calling the function\n",
    "answer_SugExe5_Q3()"
   ]
  },
  {
   "cell_type": "markdown",
   "metadata": {},
   "source": [
    "## Question 4"
   ]
  },
  {
   "cell_type": "code",
   "execution_count": 50,
   "metadata": {},
   "outputs": [
    {
     "name": "stdout",
     "output_type": "stream",
     "text": [
      "The values and their frequencies in the column nbrnaliv before any replacement are: nbrnaliv\n",
      "1.0    6379\n",
      "2.0     100\n",
      "3.0       5\n",
      "8.0       1\n",
      "Name: count, dtype: int64\n",
      "The values and their frequencies in the column nbrnaliv now are: nbrnaliv\n",
      "1.0    6379\n",
      "2.0     100\n",
      "3.0       5\n",
      "Name: count, dtype: int64\n"
     ]
    }
   ],
   "source": [
    "# defining the function\n",
    "def answer_SugExe5_Q4():\n",
    "    # 04.01: In the 'nbrnaliv' column, replace the value 8, in place, with the special value NaN.\n",
    "    # first check the values and their frequencies in the column 'nbrnaliv'\n",
    "    print('The values and their frequencies in the column nbrnaliv before any replacement are:', nsfg['nbrnaliv'].value_counts())\n",
    "    # then, replace the value 8 with NaN\n",
    "    nsfg.replace({'nbrnaliv': {8: pd.NA}}, inplace=True)\n",
    "    # 04.02: Confirm that the value 8 no longer appears in this column by printing the values and their frequencies.\n",
    "    print('The values and their frequencies in the column nbrnaliv now are:', nsfg['nbrnaliv'].value_counts())\n",
    "\n",
    "# calling the function\n",
    "answer_SugExe5_Q4()"
   ]
  },
  {
   "cell_type": "markdown",
   "metadata": {},
   "source": [
    "## Question 5"
   ]
  },
  {
   "cell_type": "code",
   "execution_count": 53,
   "metadata": {},
   "outputs": [
    {
     "name": "stdout",
     "output_type": "stream",
     "text": [
      "The summary statistics of the duration of the pregnancy are: count    9109.000000\n",
      "mean        0.552069\n",
      "std         0.271479\n",
      "min         0.000000\n",
      "25%         0.250000\n",
      "50%         0.670000\n",
      "75%         0.750000\n",
      "max         0.920000\n",
      "dtype: float64\n"
     ]
    }
   ],
   "source": [
    "# defining the function\n",
    "def answer_SugExe5_Q5():\n",
    "   # 05.01: Select 'agecon' and 'agepreg', divide them by 100, and assign them to the local variables agecon and agepreg.\n",
    "    agecon = nsfg['agecon'] / 100\n",
    "    agepreg = nsfg['agepreg'] / 100\n",
    "   # 05.02: Compute the difference, which is an estimate of the duration of the pregnancy. Keep in mind that for each pregnancy, agepreg will be larger than agecon.\n",
    "    preg_length = agepreg - agecon\n",
    "   # 05.03: Use .describe() to compute the mean duration and other summary statistics. Use the method on the preg_length variable.\n",
    "    print('The summary statistics of the duration of the pregnancy are:', preg_length.describe())\n",
    "\n",
    "# calling the function\n",
    "answer_SugExe5_Q5()"
   ]
  },
  {
   "cell_type": "markdown",
   "metadata": {},
   "source": [
    "## Question 6\n"
   ]
  },
  {
   "cell_type": "code",
   "execution_count": 56,
   "metadata": {},
   "outputs": [
    {
     "data": {
      "image/png": "[encoded data removed]",
      "text/plain": [
       "<Figure size 640x480 with 1 Axes>"
      ]
     },
     "metadata": {},
     "output_type": "display_data"
    },
    {
     "data": {
      "image/png": "[encoded data removed]",
      "text/plain": [
       "<Figure size 640x480 with 1 Axes>"
      ]
     },
     "metadata": {},
     "output_type": "display_data"
    }
   ],
   "source": [
    "# defining the function\n",
    "def answer_SugExe5_Q6():\n",
    "    # 06.01: Plot a histogram of agecon with 20 bins. Use plt.hist() to plot your histogram and be sure to set the bins parameter to 20. Label the x-axis as \"Age at conception\", and the y-axis as \"Number of Pregnancies\".\n",
    "    plt.hist(nsfg['agecon'], bins=20)\n",
    "    plt.xlabel('Age at conception')\n",
    "    plt.ylabel('Number of Pregnancies')\n",
    "    plt.show()\n",
    "\n",
    "    # 06.02: Adapt your code to make an unfilled histogram by setting the parameter histtype to be 'step'.\n",
    "    plt.hist(nsfg['agecon'], bins=20, histtype='step')\n",
    "    plt.xlabel('Age at conception')\n",
    "    plt.ylabel('Number of Pregnancies')\n",
    "    plt.show()\n",
    "\n",
    "# calling the function\n",
    "answer_SugExe5_Q6()"
   ]
  },
  {
   "cell_type": "markdown",
   "metadata": {},
   "source": [
    "## Question 7"
   ]
  },
  {
   "cell_type": "code",
   "execution_count": 58,
   "metadata": {},
   "outputs": [
    {
     "name": "stdout",
     "output_type": "stream",
     "text": [
      "The mean weight of full-term babies is: 8.255738880918221\n"
     ]
    }
   ],
   "source": [
    "# defining the function\n",
    "def answer_SugExe5_Q7():\n",
    "    # 07.00: Figure out as a research question on how the \"resample_rows_wighted()\" should be written - this is a pay-forward question.\n",
    "    # 07.01: Make a Boolean Series called full_term that is true for babies with 'prglngth' greater than or equal to 37 weeks.\n",
    "    full_term = nsfg['prglngth'] >= 37\n",
    "    # 07.02: Use full_term and birth_weight to select birth weight in pounds for full-term babies. Store the result in full_term_weight.\n",
    "    full_term_weight = nsfg.loc[full_term, 'birthwgt_lb1']\n",
    "    # 07.03: Compute the mean weight of full-term babies.\n",
    "    print('The mean weight of full-term babies is:', full_term_weight.mean())\n",
    "\n",
    "# calling the function\n",
    "answer_SugExe5_Q7()"
   ]
  },
  {
   "cell_type": "markdown",
   "metadata": {},
   "source": [
    "## Question 8"
   ]
  },
  {
   "cell_type": "code",
   "execution_count": 60,
   "metadata": {},
   "outputs": [
    {
     "name": "stdout",
     "output_type": "stream",
     "text": [
      "The mean weight of single, full-term babies is: 8.24669922228251\n",
      "The mean weight of multiple, full-term babies is: 7.391304347826087\n"
     ]
    }
   ],
   "source": [
    "# defining the function\n",
    "def answer_SugExe5_Q8():\n",
    "    # 08.01: Use the variable 'nbrnaliv' to make a Boolean Series that is True for single births (where 'nbrnaliv' equals 1) and False otherwise.\n",
    "    single = nsfg['nbrnaliv'] == 1\n",
    "    # 08.02: Use Boolean Series and logical operators to select single, full-term babies and compute their mean birth weight.\n",
    "    full_term = nsfg['prglngth'] >= 37\n",
    "    single_full_term_weight = nsfg.loc[single & full_term, 'birthwgt_lb1']\n",
    "    print('The mean weight of single, full-term babies is:', single_full_term_weight.mean())\n",
    "    # 08.03: For comparison, select multiple, full-term babies and compute their mean birth weight.\n",
    "    multiple = nsfg['nbrnaliv'] > 1\n",
    "    multiple_full_term_weight = nsfg.loc[multiple & full_term, 'birthwgt_lb1']\n",
    "    print('The mean weight of multiple, full-term babies is:', multiple_full_term_weight.mean())\n",
    "\n",
    "# calling the function\n",
    "answer_SugExe5_Q8()"
   ]
  },
  {
   "cell_type": "code",
   "execution_count": null,
   "metadata": {},
   "outputs": [],
   "source": []
  }
 ],
 "metadata": {
  "kernelspec": {
   "display_name": "base",
   "language": "python",
   "name": "python3"
  },
  "language_info": {
   "codemirror_mode": {
    "name": "ipython",
    "version": 3
   },
   "file_extension": ".py",
   "mimetype": "text/x-python",
   "name": "python",
   "nbconvert_exporter": "python",
   "pygments_lexer": "ipython3",
   "version": "3.12.4"
  }
 },
 "nbformat": 4,
 "nbformat_minor": 4
}
