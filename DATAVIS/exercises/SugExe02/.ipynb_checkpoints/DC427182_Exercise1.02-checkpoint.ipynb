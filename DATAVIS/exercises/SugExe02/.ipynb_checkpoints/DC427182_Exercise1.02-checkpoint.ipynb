{
 "cells": [
  {
   "cell_type": "markdown",
   "id": "dec925f9-b0c5-4bd0-a3a6-9ece02cf50b2",
   "metadata": {},
   "source": [
    "# Exercise 1.02\n",
    "Student: DC427182"
   ]
  },
  {
   "cell_type": "markdown",
   "id": "50f9661e-bf1a-46ee-a903-9b5dd7c76cd2",
   "metadata": {},
   "source": [
    "## Indexing"
   ]
  },
  {
   "cell_type": "code",
   "execution_count": 22,
   "id": "eeeb7341-49f5-495c-ae8c-3cf079a4cbf6",
   "metadata": {},
   "outputs": [],
   "source": [
    "# 02: importing numpy with an alias\n",
    "import numpy as np"
   ]
  },
  {
   "cell_type": "code",
   "execution_count": 56,
   "id": "603dc8d6-dd6e-417f-b9ed-b7a929caacc0",
   "metadata": {},
   "outputs": [
    {
     "data": {
      "text/plain": [
       "array([[ 99.14931546, 104.03852715, 107.43534677,  97.85230675,\n",
       "         98.74986914,  98.80833412,  96.81964892,  98.56783189,\n",
       "        101.34745901],\n",
       "       [ 92.02628776,  97.10439252,  99.32066924,  97.24584816,\n",
       "         92.9267508 ,  92.65657752, 105.7197853 , 101.23162942,\n",
       "         93.87155456],\n",
       "       [ 95.66253664,  95.17750125,  90.93318132, 110.18889465,\n",
       "         98.80084371, 105.95297652,  98.37481387, 106.54654286,\n",
       "        107.22482426],\n",
       "       [ 91.37294597, 100.96781394, 100.40118279, 113.42090475,\n",
       "        105.48508838,  91.6604946 , 106.1472841 ,  95.08715803,\n",
       "        103.40412146],\n",
       "       [101.20862522, 103.5730309 , 100.28690912, 105.85269352,\n",
       "         93.37126331, 108.57980357, 100.79478953,  94.20019732,\n",
       "         96.10020311],\n",
       "       [102.80387079,  98.29687616,  93.24376389,  97.24130034,\n",
       "         89.03452725,  96.2832753 , 104.60344836, 101.13442416,\n",
       "         97.62787811],\n",
       "       [106.71751618, 102.97585605,  98.45723272, 100.72418901,\n",
       "        106.39798503,  95.46493436,  94.35373179, 106.83273763,\n",
       "        100.07721494],\n",
       "       [ 96.02548256, 102.82360856, 106.47551845, 101.34745901,\n",
       "        102.45651798,  98.74767493,  97.57544275,  92.5748759 ,\n",
       "         91.37294597],\n",
       "       [105.30350449,  92.87730812, 103.19258339, 104.40518318,\n",
       "        101.29326772, 100.85447132, 101.2226037 , 106.03868807,\n",
       "         97.85230675],\n",
       "       [110.44484313,  93.87155456, 101.5363647 ,  97.65393524,\n",
       "         92.75048583, 101.72074646,  96.96851209, 103.29147111,\n",
       "         99.14931546],\n",
       "       [101.3514185 , 100.37372248, 106.6471081 , 100.61742813,\n",
       "        105.0320535 ,  99.35999981,  98.87007532,  95.85284217,\n",
       "         93.97853495],\n",
       "       [ 97.21315663, 107.02874163, 102.17642112,  96.74630281,\n",
       "         95.93799169, 102.62384733, 105.07475277,  97.59572169,\n",
       "        106.57364584],\n",
       "       [ 95.65982034, 107.22482426, 107.19119932, 102.93039474,\n",
       "         85.98839623,  95.19184343,  91.32093303, 102.35313953,\n",
       "        100.39303522],\n",
       "       [100.39303522,  92.0108226 ,  97.75887636,  93.18884302,\n",
       "        100.44940274, 108.09423367,  96.50342927,  99.58664719,\n",
       "         95.19184343],\n",
       "       [103.1521596 , 109.40523174,  93.83969256,  99.95827854,\n",
       "        101.83462816,  99.69982772, 103.05289628, 103.93383957,\n",
       "        104.15899829],\n",
       "       [106.11454989,  88.80221141,  94.5081787 ,  94.59300658,\n",
       "        101.08830521,  96.34622848,  96.89244283,  98.07122664,\n",
       "        100.28690912],\n",
       "       [ 96.78266211,  99.84251605, 104.03478031, 106.57052697,\n",
       "        105.13668343, 105.37011896,  99.07551254, 104.15899829,\n",
       "         98.75108352],\n",
       "       [101.86186193, 103.61720152,  99.57859892,  99.4889538 ,\n",
       "        103.05541444,  98.65912661,  98.72774132, 104.70526438,\n",
       "        110.44484313],\n",
       "       [ 97.49594839,  96.59385486, 104.63817694, 102.55198606,\n",
       "        105.86078488,  96.5937781 ,  93.04610867,  99.92159953,\n",
       "        100.96781394],\n",
       "       [ 96.76814836,  91.6779221 , 101.79132774, 101.20773355,\n",
       "         98.29243952, 101.83845792,  97.94046856, 102.20618501,\n",
       "         91.37294597],\n",
       "       [106.89005002, 106.57364584, 102.26648279, 107.40064604,\n",
       "         99.94318168, 103.40412146, 106.38276709,  98.00253006,\n",
       "         97.10439252],\n",
       "       [ 99.80873105, 101.63973121, 106.46476468, 110.43976681,\n",
       "        100.69156231,  99.99579473, 101.32113654,  94.76253572,\n",
       "         97.24130034],\n",
       "       [ 96.10020311,  94.57421727, 100.80409326, 105.02389857,\n",
       "         98.61325194,  95.62359311,  97.99762409, 103.83852459,\n",
       "        101.2226037 ],\n",
       "       [ 94.11176915,  99.62387832, 104.51786419,  97.62787811,\n",
       "         93.97853495,  98.75108352, 106.05042487, 100.07721494,\n",
       "        106.89005002]])"
      ]
     },
     "execution_count": 56,
     "metadata": {},
     "output_type": "execute_result"
    }
   ],
   "source": [
    "# 03: loading the dataset\n",
    "dataset = np.genfromtxt(\"normal_distribution_splittable.csv\",delimiter=',')\n",
    "dataset"
   ]
  },
  {
   "cell_type": "code",
   "execution_count": 26,
   "id": "881702be-4dbd-437e-8680-34d603ed67dd",
   "metadata": {},
   "outputs": [
    {
     "data": {
      "text/plain": [
       "96.90038836444445"
      ]
     },
     "execution_count": 26,
     "metadata": {},
     "output_type": "execute_result"
    }
   ],
   "source": [
    "# 04: calculating the mean for the second row\n",
    "np.mean(dataset[1])"
   ]
  },
  {
   "cell_type": "code",
   "execution_count": 30,
   "id": "7f7c757b-aca8-4e70-b9ba-b680f8bcdb25",
   "metadata": {},
   "outputs": [
    {
     "data": {
      "text/plain": [
       "100.18096645222221"
      ]
     },
     "execution_count": 30,
     "metadata": {},
     "output_type": "execute_result"
    }
   ],
   "source": [
    "# 05: calculating the mean for the last row\n",
    "np.mean(dataset[-1])"
   ]
  },
  {
   "cell_type": "code",
   "execution_count": 36,
   "id": "288f3628-b431-4056-9668-22c3f97f0397",
   "metadata": {},
   "outputs": [
    {
     "data": {
      "text/plain": [
       "99.14931546"
      ]
     },
     "execution_count": 36,
     "metadata": {},
     "output_type": "execute_result"
    }
   ],
   "source": [
    "# 06: indexing the first element of the first row \n",
    "# note that calculating the mean of one value would return the exact value\n",
    "dataset[0][0]"
   ]
  },
  {
   "cell_type": "code",
   "execution_count": 48,
   "id": "2e633fa2-4640-4402-8fd6-ad7278105890",
   "metadata": {},
   "outputs": [
    {
     "data": {
      "text/plain": [
       "101.2226037"
      ]
     },
     "execution_count": 48,
     "metadata": {},
     "output_type": "execute_result"
    }
   ],
   "source": [
    "# 07: last value of the second last row\n",
    "dataset[-2, -1]"
   ]
  },
  {
   "cell_type": "markdown",
   "id": "810ea6d4-a959-4d5e-a50d-9c938b1291cc",
   "metadata": {},
   "source": [
    "## Slicing"
   ]
  },
  {
   "cell_type": "code",
   "execution_count": 60,
   "id": "8d7b0ef0-834f-49c8-8180-593656c4951e",
   "metadata": {},
   "outputs": [
    {
     "name": "stdout",
     "output_type": "stream",
     "text": [
      "[[97.10439252 99.32066924]\n",
      " [95.17750125 90.93318132]]\n"
     ]
    },
    {
     "data": {
      "text/plain": [
       "95.63393608250001"
      ]
     },
     "execution_count": 60,
     "metadata": {},
     "output_type": "execute_result"
    }
   ],
   "source": [
    "# 01: mean of the intersection of the second and third rows and the second and third columns\n",
    "print(dataset[1:3, 1:3])\n",
    "np.mean(dataset[1:3, 1:3])"
   ]
  },
  {
   "cell_type": "code",
   "execution_count": 66,
   "id": "26fc3832-194d-4aef-8073-1186b82b8054",
   "metadata": {},
   "outputs": [
    {
     "name": "stdout",
     "output_type": "stream",
     "text": [
      "[101.20862522 100.28690912  93.37126331 100.79478953  96.10020311]\n"
     ]
    },
    {
     "data": {
      "text/plain": [
       "98.35235805800001"
      ]
     },
     "execution_count": 66,
     "metadata": {},
     "output_type": "execute_result"
    }
   ],
   "source": [
    "# 03: mean of the subset of every two elements from the 5th row\n",
    "print(dataset[4, ::2])\n",
    "np.mean(dataset[4,::2])"
   ]
  },
  {
   "cell_type": "code",
   "execution_count": null,
   "id": "45a7c296-b5fe-41ea-ad04-d38531d34cac",
   "metadata": {},
   "outputs": [],
   "source": []
  }
 ],
 "metadata": {
  "kernelspec": {
   "display_name": "Python 3 (ipykernel)",
   "language": "python",
   "name": "python3"
  },
  "language_info": {
   "codemirror_mode": {
    "name": "ipython",
    "version": 3
   },
   "file_extension": ".py",
   "mimetype": "text/x-python",
   "name": "python",
   "nbconvert_exporter": "python",
   "pygments_lexer": "ipython3",
   "version": "3.12.4"
  }
 },
 "nbformat": 4,
 "nbformat_minor": 5
}
