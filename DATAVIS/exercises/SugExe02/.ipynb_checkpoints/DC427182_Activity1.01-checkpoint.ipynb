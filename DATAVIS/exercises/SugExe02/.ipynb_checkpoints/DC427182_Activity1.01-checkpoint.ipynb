{
 "cells": [
  {
   "cell_type": "markdown",
   "id": "5579f7ac-eb45-484e-b23d-be15177740cb",
   "metadata": {},
   "source": [
    "# Activity 1.01\n",
    "Student: DC427182"
   ]
  },
  {
   "cell_type": "code",
   "execution_count": 48,
   "id": "f2d01302-9ed6-4fcb-acb3-5a7f33db2f2a",
   "metadata": {},
   "outputs": [],
   "source": [
    "# 01: Importnumpy with an alias\n",
    "import numpy as np"
   ]
  },
  {
   "cell_type": "code",
   "execution_count": 72,
   "id": "ed0e6340-677d-443c-a969-69d06022c91b",
   "metadata": {},
   "outputs": [],
   "source": [
    "# 02: Load the dataset\n",
    "dataset = np.genfromtxt('normal_distribution.csv', delimiter=',')"
   ]
  },
  {
   "cell_type": "code",
   "execution_count": 74,
   "id": "5ee77425-6dd7-4581-be76-b40f3346c02c",
   "metadata": {},
   "outputs": [
    {
     "data": {
      "text/plain": [
       "array([[ 99.14931546, 104.03852715, 107.43534677,  97.85230675,\n",
       "         98.74986914,  98.80833412,  96.81964892,  98.56783189],\n",
       "       [ 92.02628776,  97.10439252,  99.32066924,  97.24584816,\n",
       "         92.9267508 ,  92.65657752, 105.7197853 , 101.23162942]])"
      ]
     },
     "execution_count": 74,
     "metadata": {},
     "output_type": "execute_result"
    }
   ],
   "source": [
    "# 03: Subset of the first 2 rows of the dataset\n",
    "dataset[0:2]"
   ]
  },
  {
   "cell_type": "code",
   "execution_count": 54,
   "id": "36be242c-a3cd-41cb-9e30-1936f125a881",
   "metadata": {},
   "outputs": [
    {
     "data": {
      "text/plain": [
       "100.20466135250001"
      ]
     },
     "execution_count": 54,
     "metadata": {},
     "output_type": "execute_result"
    }
   ],
   "source": [
    "# 04: Calculating the mean for the 3rd row\n",
    "np.mean(dataset[2])"
   ]
  },
  {
   "cell_type": "code",
   "execution_count": 56,
   "id": "b68214fe-fd8a-4ce3-9196-bf6f97b82bf6",
   "metadata": {},
   "outputs": [
    {
     "data": {
      "text/plain": [
       "100.07721494"
      ]
     },
     "execution_count": 56,
     "metadata": {},
     "output_type": "execute_result"
    }
   ],
   "source": [
    "# 05: Last element of the dataset\n",
    "dataset[-1,-1]"
   ]
  },
  {
   "cell_type": "code",
   "execution_count": 58,
   "id": "e1da0450-c0fc-4a5a-9d6e-cbd108456ee7",
   "metadata": {},
   "outputs": [
    {
     "data": {
      "text/plain": [
       "array([[ 99.14931546, 104.03852715, 107.43534677],\n",
       "       [ 92.02628776,  97.10439252,  99.32066924],\n",
       "       [ 95.66253664,  95.17750125,  90.93318132],\n",
       "       [ 91.37294597, 100.96781394, 100.40118279],\n",
       "       [101.20862522, 103.5730309 , 100.28690912],\n",
       "       [102.80387079,  98.29687616,  93.24376389],\n",
       "       [106.71751618, 102.97585605,  98.45723272],\n",
       "       [ 96.02548256, 102.82360856, 106.47551845],\n",
       "       [105.30350449,  92.87730812, 103.19258339],\n",
       "       [110.44484313,  93.87155456, 101.5363647 ],\n",
       "       [101.3514185 , 100.37372248, 106.6471081 ],\n",
       "       [ 97.21315663, 107.02874163, 102.17642112],\n",
       "       [ 95.65982034, 107.22482426, 107.19119932],\n",
       "       [100.39303522,  92.0108226 ,  97.75887636],\n",
       "       [103.1521596 , 109.40523174,  93.83969256],\n",
       "       [106.11454989,  88.80221141,  94.5081787 ],\n",
       "       [ 96.78266211,  99.84251605, 104.03478031],\n",
       "       [101.86186193, 103.61720152,  99.57859892],\n",
       "       [ 97.49594839,  96.59385486, 104.63817694],\n",
       "       [ 96.76814836,  91.6779221 , 101.79132774],\n",
       "       [106.89005002, 106.57364584, 102.26648279],\n",
       "       [ 99.80873105, 101.63973121, 106.46476468],\n",
       "       [ 96.10020311,  94.57421727, 100.80409326],\n",
       "       [ 94.11176915,  99.62387832, 104.51786419]])"
      ]
     },
     "execution_count": 58,
     "metadata": {},
     "output_type": "execute_result"
    }
   ],
   "source": [
    "# 06: Submatrix of the first three elements of every row of the first three columns \n",
    "dataset [:,:3]"
   ]
  },
  {
   "cell_type": "code",
   "execution_count": 60,
   "id": "6b5ea21a-8283-4928-aa47-cf7ddfa2e1bd",
   "metadata": {},
   "outputs": [
    {
     "data": {
      "text/plain": [
       "99.18748092"
      ]
     },
     "execution_count": 60,
     "metadata": {},
     "output_type": "execute_result"
    }
   ],
   "source": [
    "# 07: Calculating the median for the last row of the dataset\n",
    "np.median(dataset[-1])"
   ]
  },
  {
   "cell_type": "code",
   "execution_count": 62,
   "id": "28ac9578-b582-44c8-9b95-8fc17f1f1500",
   "metadata": {},
   "outputs": [
    {
     "data": {
      "text/plain": [
       "array([[ 98.80833412,  96.81964892,  98.56783189],\n",
       "       [ 92.65657752, 105.7197853 , 101.23162942],\n",
       "       [105.95297652,  98.37481387, 106.54654286],\n",
       "       [ 91.6604946 , 106.1472841 ,  95.08715803],\n",
       "       [108.57980357, 100.79478953,  94.20019732],\n",
       "       [ 96.2832753 , 104.60344836, 101.13442416],\n",
       "       [ 95.46493436,  94.35373179, 106.83273763],\n",
       "       [ 98.74767493,  97.57544275,  92.5748759 ],\n",
       "       [100.85447132, 101.2226037 , 106.03868807],\n",
       "       [101.72074646,  96.96851209, 103.29147111],\n",
       "       [ 99.35999981,  98.87007532,  95.85284217],\n",
       "       [102.62384733, 105.07475277,  97.59572169],\n",
       "       [ 95.19184343,  91.32093303, 102.35313953],\n",
       "       [108.09423367,  96.50342927,  99.58664719],\n",
       "       [ 99.69982772, 103.05289628, 103.93383957],\n",
       "       [ 96.34622848,  96.89244283,  98.07122664],\n",
       "       [105.37011896,  99.07551254, 104.15899829],\n",
       "       [ 98.65912661,  98.72774132, 104.70526438],\n",
       "       [ 96.5937781 ,  93.04610867,  99.92159953],\n",
       "       [101.83845792,  97.94046856, 102.20618501],\n",
       "       [103.40412146, 106.38276709,  98.00253006],\n",
       "       [ 99.99579473, 101.32113654,  94.76253572],\n",
       "       [ 95.62359311,  97.99762409, 103.83852459],\n",
       "       [ 98.75108352, 106.05042487, 100.07721494]])"
      ]
     },
     "execution_count": 62,
     "metadata": {},
     "output_type": "execute_result"
    }
   ],
   "source": [
    "# 08: The last three columns\n",
    "dataset[:,-3:]"
   ]
  },
  {
   "cell_type": "code",
   "execution_count": 64,
   "id": "1ce52272-3fb8-4b6f-a209-93c4b3a6fdf8",
   "metadata": {},
   "outputs": [
    {
     "data": {
      "text/plain": [
       "array([100.17764752,  97.27899259, 100.20466135, 100.56785907,\n",
       "       100.98341406,  97.83018578, 101.49052285,  99.75332252,\n",
       "       101.89845125,  99.77973914, 101.013081  , 100.54961696,\n",
       "        98.48256886,  98.49816126, 101.85956927,  97.05201872,\n",
       "       102.62147483, 101.21177037,  99.58777968,  98.96533534,\n",
       "       103.85792812, 101.89050288,  99.07192574,  99.34233101])"
      ]
     },
     "execution_count": 64,
     "metadata": {},
     "output_type": "execute_result"
    }
   ],
   "source": [
    "# 09: Aggregating the value to calculate the rows' means\n",
    "np.mean(dataset,axis=1)"
   ]
  },
  {
   "cell_type": "code",
   "execution_count": 66,
   "id": "7df8aa51-a7f0-442a-ac6c-a808815d2bec",
   "metadata": {},
   "outputs": [
    {
     "data": {
      "text/plain": [
       "array([23.64757465, 29.78886109, 20.50542011, 26.03204443, 28.38853175,\n",
       "       19.09960817, 17.67291174, 16.17923204])"
      ]
     },
     "execution_count": 66,
     "metadata": {},
     "output_type": "execute_result"
    }
   ],
   "source": [
    "# 10: Calculating the variance for each column\n",
    "np.var(dataset,axis=0)"
   ]
  },
  {
   "cell_type": "code",
   "execution_count": 68,
   "id": "e94bd478-4f1b-4f36-b8fc-f3f2308efd0a",
   "metadata": {},
   "outputs": [
    {
     "data": {
      "text/plain": [
       "4.674691991769191"
      ]
     },
     "execution_count": 68,
     "metadata": {},
     "output_type": "execute_result"
    }
   ],
   "source": [
    "# 11: Calculating the variance of the intersection of the last two rows and the first two columns\n",
    "np.var(dataset[-2:,:2])"
   ]
  },
  {
   "cell_type": "code",
   "execution_count": 70,
   "id": "50aa705e-29da-4bad-acb5-925ca8d2c7a8",
   "metadata": {},
   "outputs": [
    {
     "data": {
      "text/plain": [
       "4.838197554269257"
      ]
     },
     "execution_count": 70,
     "metadata": {},
     "output_type": "execute_result"
    }
   ],
   "source": [
    "# 12: Calculating the standard deviation for the dataset\n",
    "np.std(dataset)"
   ]
  },
  {
   "cell_type": "code",
   "execution_count": null,
   "id": "11bfbb0b-6813-4464-86aa-a943a2a07c69",
   "metadata": {},
   "outputs": [],
   "source": []
  }
 ],
 "metadata": {
  "kernelspec": {
   "display_name": "Python 3 (ipykernel)",
   "language": "python",
   "name": "python3"
  },
  "language_info": {
   "codemirror_mode": {
    "name": "ipython",
    "version": 3
   },
   "file_extension": ".py",
   "mimetype": "text/x-python",
   "name": "python",
   "nbconvert_exporter": "python",
   "pygments_lexer": "ipython3",
   "version": "3.12.4"
  }
 },
 "nbformat": 4,
 "nbformat_minor": 5
}
