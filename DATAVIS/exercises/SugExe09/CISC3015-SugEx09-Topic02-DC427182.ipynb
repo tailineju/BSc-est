{
 "cells": [
  {
   "cell_type": "markdown",
   "id": "b1dd8b87",
   "metadata": {},
   "source": [
    "# Selecting Rows and Columns"
   ]
  },
  {
   "cell_type": "markdown",
   "id": "38fdada4",
   "metadata": {},
   "source": [
    "Before we go into statistical and inferential methods in cleaning data, we will start with some more basic data cleaning operations. When you import a dataset you may judge certain columns and rows are just not needed, or you want to narrow your focus to a specific scope. We will use this section to learn different methods for selecting rows and columns using indexing and conditional methods. \n",
    "\n",
    "First let's declare a dataframe of some users. "
   ]
  },
  {
   "cell_type": "code",
   "execution_count": 339,
   "id": "25f43238",
   "metadata": {},
   "outputs": [
    {
     "data": {
      "text/html": [
       "<div>\n",
       "<style scoped>\n",
       "    .dataframe tbody tr th:only-of-type {\n",
       "        vertical-align: middle;\n",
       "    }\n",
       "\n",
       "    .dataframe tbody tr th {\n",
       "        vertical-align: top;\n",
       "    }\n",
       "\n",
       "    .dataframe thead th {\n",
       "        text-align: right;\n",
       "    }\n",
       "</style>\n",
       "<table border=\"1\" class=\"dataframe\">\n",
       "  <thead>\n",
       "    <tr style=\"text-align: right;\">\n",
       "      <th></th>\n",
       "      <th>username</th>\n",
       "      <th>first_name</th>\n",
       "      <th>last_name</th>\n",
       "      <th>email</th>\n",
       "    </tr>\n",
       "  </thead>\n",
       "  <tbody>\n",
       "    <tr>\n",
       "      <th>0</th>\n",
       "      <td>thomasnield</td>\n",
       "      <td>Thomas</td>\n",
       "      <td>Nield</td>\n",
       "      <td>tmnield@outlook.com</td>\n",
       "    </tr>\n",
       "    <tr>\n",
       "      <th>1</th>\n",
       "      <td>samiam</td>\n",
       "      <td>Sam</td>\n",
       "      <td>Scala</td>\n",
       "      <td>sam.scala@gmail.com</td>\n",
       "    </tr>\n",
       "    <tr>\n",
       "      <th>2</th>\n",
       "      <td>joecool</td>\n",
       "      <td>Joe</td>\n",
       "      <td>Morrison</td>\n",
       "      <td>joe@rexonmetals.com</td>\n",
       "    </tr>\n",
       "  </tbody>\n",
       "</table>\n",
       "</div>"
      ],
      "text/plain": [
       "      username first_name last_name                email\n",
       "0  thomasnield     Thomas     Nield  tmnield@outlook.com\n",
       "1       samiam        Sam     Scala  sam.scala@gmail.com\n",
       "2      joecool        Joe  Morrison  joe@rexonmetals.com"
      ]
     },
     "execution_count": 339,
     "metadata": {},
     "output_type": "execute_result"
    }
   ],
   "source": [
    "import pandas as pd \n",
    "\n",
    "df = pd.DataFrame({\n",
    "    \"username\" : [\"thomasnield\",\"samiam\", \"joecool\"],\n",
    "    \"first_name\": [\"Thomas\", 'Sam', 'Joe'], \n",
    "    \"last_name\": [\"Nield\", 'Scala', 'Morrison'], \n",
    "    \"email\": [\"tmnield@outlook.com\", 'sam.scala@gmail.com', 'joe@rexonmetals.com']\n",
    "})\n",
    "\n",
    "df"
   ]
  },
  {
   "cell_type": "markdown",
   "id": "e33ca471",
   "metadata": {},
   "source": [
    "## Understanding iloc and loc "
   ]
  },
  {
   "cell_type": "markdown",
   "id": "4d444cb6",
   "metadata": {},
   "source": [
    "There are two critical functions to know in Pandas when you are selecting by index: `loc` and `iloc`. It is very easy to confuse these two, as the first works on labels and the second for numeric indices. \n",
    "\n",
    "Here is where people get confused. Let's say we want to select the first record. We can use both `loc` and `iloc` to do this, and they both produce the same answer.\n",
    "\n",
    "> Remember that Python and Pandas uses 0-based indexing, meaning the first element will start at index 0 rather than index 1! "
   ]
  },
  {
   "cell_type": "code",
   "execution_count": 343,
   "id": "2c703261",
   "metadata": {},
   "outputs": [
    {
     "data": {
      "text/plain": [
       "username              thomasnield\n",
       "first_name                 Thomas\n",
       "last_name                   Nield\n",
       "email         tmnield@outlook.com\n",
       "Name: 0, dtype: object"
      ]
     },
     "execution_count": 343,
     "metadata": {},
     "output_type": "execute_result"
    }
   ],
   "source": [
    "df.iloc[0]"
   ]
  },
  {
   "cell_type": "code",
   "execution_count": 345,
   "id": "7be64f3e",
   "metadata": {},
   "outputs": [
    {
     "data": {
      "text/plain": [
       "username              thomasnield\n",
       "first_name                 Thomas\n",
       "last_name                   Nield\n",
       "email         tmnield@outlook.com\n",
       "Name: 0, dtype: object"
      ]
     },
     "execution_count": 345,
     "metadata": {},
     "output_type": "execute_result"
    }
   ],
   "source": [
    "df.loc[0]"
   ]
  },
  {
   "cell_type": "markdown",
   "id": "bfd7d757",
   "metadata": {},
   "source": [
    "It seems `loc` and `iloc` do not behave any differently, and this is where people get tripped up. Let's change the index to be the `username`. "
   ]
  },
  {
   "cell_type": "code",
   "execution_count": 348,
   "id": "62f986af",
   "metadata": {},
   "outputs": [],
   "source": [
    "df.set_index('username', inplace=True)"
   ]
  },
  {
   "cell_type": "markdown",
   "id": "7cb2c39e",
   "metadata": {},
   "source": [
    "Now try to run `loc` and `iloc` again. Notice that `loc` works fine, but `iloc` no longer does!"
   ]
  },
  {
   "cell_type": "code",
   "execution_count": 351,
   "id": "cb21a5db",
   "metadata": {},
   "outputs": [
    {
     "data": {
      "text/plain": [
       "first_name                 Thomas\n",
       "last_name                   Nield\n",
       "email         tmnield@outlook.com\n",
       "Name: thomasnield, dtype: object"
      ]
     },
     "execution_count": 351,
     "metadata": {},
     "output_type": "execute_result"
    }
   ],
   "source": [
    "df.iloc[0]"
   ]
  },
  {
   "cell_type": "code",
   "execution_count": 353,
   "id": "203b23b0",
   "metadata": {
    "scrolled": true
   },
   "outputs": [
    {
     "ename": "KeyError",
     "evalue": "0",
     "output_type": "error",
     "traceback": [
      "\u001b[1;31m---------------------------------------------------------------------------\u001b[0m",
      "\u001b[1;31mKeyError\u001b[0m                                  Traceback (most recent call last)",
      "File \u001b[1;32m~\\anaconda3\\Lib\\site-packages\\pandas\\core\\indexes\\base.py:3805\u001b[0m, in \u001b[0;36mIndex.get_loc\u001b[1;34m(self, key)\u001b[0m\n\u001b[0;32m   3804\u001b[0m \u001b[38;5;28;01mtry\u001b[39;00m:\n\u001b[1;32m-> 3805\u001b[0m     \u001b[38;5;28;01mreturn\u001b[39;00m \u001b[38;5;28;43mself\u001b[39;49m\u001b[38;5;241;43m.\u001b[39;49m\u001b[43m_engine\u001b[49m\u001b[38;5;241;43m.\u001b[39;49m\u001b[43mget_loc\u001b[49m\u001b[43m(\u001b[49m\u001b[43mcasted_key\u001b[49m\u001b[43m)\u001b[49m\n\u001b[0;32m   3806\u001b[0m \u001b[38;5;28;01mexcept\u001b[39;00m \u001b[38;5;167;01mKeyError\u001b[39;00m \u001b[38;5;28;01mas\u001b[39;00m err:\n",
      "File \u001b[1;32mindex.pyx:167\u001b[0m, in \u001b[0;36mpandas._libs.index.IndexEngine.get_loc\u001b[1;34m()\u001b[0m\n",
      "File \u001b[1;32mindex.pyx:196\u001b[0m, in \u001b[0;36mpandas._libs.index.IndexEngine.get_loc\u001b[1;34m()\u001b[0m\n",
      "File \u001b[1;32mpandas\\\\_libs\\\\hashtable_class_helper.pxi:7081\u001b[0m, in \u001b[0;36mpandas._libs.hashtable.PyObjectHashTable.get_item\u001b[1;34m()\u001b[0m\n",
      "File \u001b[1;32mpandas\\\\_libs\\\\hashtable_class_helper.pxi:7089\u001b[0m, in \u001b[0;36mpandas._libs.hashtable.PyObjectHashTable.get_item\u001b[1;34m()\u001b[0m\n",
      "\u001b[1;31mKeyError\u001b[0m: 0",
      "\nThe above exception was the direct cause of the following exception:\n",
      "\u001b[1;31mKeyError\u001b[0m                                  Traceback (most recent call last)",
      "Cell \u001b[1;32mIn[353], line 1\u001b[0m\n\u001b[1;32m----> 1\u001b[0m \u001b[43mdf\u001b[49m\u001b[38;5;241;43m.\u001b[39;49m\u001b[43mloc\u001b[49m\u001b[43m[\u001b[49m\u001b[38;5;241;43m0\u001b[39;49m\u001b[43m]\u001b[49m \u001b[38;5;66;03m# this will cause an error \u001b[39;00m\n",
      "File \u001b[1;32m~\\anaconda3\\Lib\\site-packages\\pandas\\core\\indexing.py:1191\u001b[0m, in \u001b[0;36m_LocationIndexer.__getitem__\u001b[1;34m(self, key)\u001b[0m\n\u001b[0;32m   1189\u001b[0m maybe_callable \u001b[38;5;241m=\u001b[39m com\u001b[38;5;241m.\u001b[39mapply_if_callable(key, \u001b[38;5;28mself\u001b[39m\u001b[38;5;241m.\u001b[39mobj)\n\u001b[0;32m   1190\u001b[0m maybe_callable \u001b[38;5;241m=\u001b[39m \u001b[38;5;28mself\u001b[39m\u001b[38;5;241m.\u001b[39m_check_deprecated_callable_usage(key, maybe_callable)\n\u001b[1;32m-> 1191\u001b[0m \u001b[38;5;28;01mreturn\u001b[39;00m \u001b[38;5;28;43mself\u001b[39;49m\u001b[38;5;241;43m.\u001b[39;49m\u001b[43m_getitem_axis\u001b[49m\u001b[43m(\u001b[49m\u001b[43mmaybe_callable\u001b[49m\u001b[43m,\u001b[49m\u001b[43m \u001b[49m\u001b[43maxis\u001b[49m\u001b[38;5;241;43m=\u001b[39;49m\u001b[43maxis\u001b[49m\u001b[43m)\u001b[49m\n",
      "File \u001b[1;32m~\\anaconda3\\Lib\\site-packages\\pandas\\core\\indexing.py:1431\u001b[0m, in \u001b[0;36m_LocIndexer._getitem_axis\u001b[1;34m(self, key, axis)\u001b[0m\n\u001b[0;32m   1429\u001b[0m \u001b[38;5;66;03m# fall thru to straight lookup\u001b[39;00m\n\u001b[0;32m   1430\u001b[0m \u001b[38;5;28mself\u001b[39m\u001b[38;5;241m.\u001b[39m_validate_key(key, axis)\n\u001b[1;32m-> 1431\u001b[0m \u001b[38;5;28;01mreturn\u001b[39;00m \u001b[38;5;28;43mself\u001b[39;49m\u001b[38;5;241;43m.\u001b[39;49m\u001b[43m_get_label\u001b[49m\u001b[43m(\u001b[49m\u001b[43mkey\u001b[49m\u001b[43m,\u001b[49m\u001b[43m \u001b[49m\u001b[43maxis\u001b[49m\u001b[38;5;241;43m=\u001b[39;49m\u001b[43maxis\u001b[49m\u001b[43m)\u001b[49m\n",
      "File \u001b[1;32m~\\anaconda3\\Lib\\site-packages\\pandas\\core\\indexing.py:1381\u001b[0m, in \u001b[0;36m_LocIndexer._get_label\u001b[1;34m(self, label, axis)\u001b[0m\n\u001b[0;32m   1379\u001b[0m \u001b[38;5;28;01mdef\u001b[39;00m \u001b[38;5;21m_get_label\u001b[39m(\u001b[38;5;28mself\u001b[39m, label, axis: AxisInt):\n\u001b[0;32m   1380\u001b[0m     \u001b[38;5;66;03m# GH#5567 this will fail if the label is not present in the axis.\u001b[39;00m\n\u001b[1;32m-> 1381\u001b[0m     \u001b[38;5;28;01mreturn\u001b[39;00m \u001b[38;5;28;43mself\u001b[39;49m\u001b[38;5;241;43m.\u001b[39;49m\u001b[43mobj\u001b[49m\u001b[38;5;241;43m.\u001b[39;49m\u001b[43mxs\u001b[49m\u001b[43m(\u001b[49m\u001b[43mlabel\u001b[49m\u001b[43m,\u001b[49m\u001b[43m \u001b[49m\u001b[43maxis\u001b[49m\u001b[38;5;241;43m=\u001b[39;49m\u001b[43maxis\u001b[49m\u001b[43m)\u001b[49m\n",
      "File \u001b[1;32m~\\anaconda3\\Lib\\site-packages\\pandas\\core\\generic.py:4301\u001b[0m, in \u001b[0;36mNDFrame.xs\u001b[1;34m(self, key, axis, level, drop_level)\u001b[0m\n\u001b[0;32m   4299\u001b[0m             new_index \u001b[38;5;241m=\u001b[39m index[loc]\n\u001b[0;32m   4300\u001b[0m \u001b[38;5;28;01melse\u001b[39;00m:\n\u001b[1;32m-> 4301\u001b[0m     loc \u001b[38;5;241m=\u001b[39m \u001b[43mindex\u001b[49m\u001b[38;5;241;43m.\u001b[39;49m\u001b[43mget_loc\u001b[49m\u001b[43m(\u001b[49m\u001b[43mkey\u001b[49m\u001b[43m)\u001b[49m\n\u001b[0;32m   4303\u001b[0m     \u001b[38;5;28;01mif\u001b[39;00m \u001b[38;5;28misinstance\u001b[39m(loc, np\u001b[38;5;241m.\u001b[39mndarray):\n\u001b[0;32m   4304\u001b[0m         \u001b[38;5;28;01mif\u001b[39;00m loc\u001b[38;5;241m.\u001b[39mdtype \u001b[38;5;241m==\u001b[39m np\u001b[38;5;241m.\u001b[39mbool_:\n",
      "File \u001b[1;32m~\\anaconda3\\Lib\\site-packages\\pandas\\core\\indexes\\base.py:3812\u001b[0m, in \u001b[0;36mIndex.get_loc\u001b[1;34m(self, key)\u001b[0m\n\u001b[0;32m   3807\u001b[0m     \u001b[38;5;28;01mif\u001b[39;00m \u001b[38;5;28misinstance\u001b[39m(casted_key, \u001b[38;5;28mslice\u001b[39m) \u001b[38;5;129;01mor\u001b[39;00m (\n\u001b[0;32m   3808\u001b[0m         \u001b[38;5;28misinstance\u001b[39m(casted_key, abc\u001b[38;5;241m.\u001b[39mIterable)\n\u001b[0;32m   3809\u001b[0m         \u001b[38;5;129;01mand\u001b[39;00m \u001b[38;5;28many\u001b[39m(\u001b[38;5;28misinstance\u001b[39m(x, \u001b[38;5;28mslice\u001b[39m) \u001b[38;5;28;01mfor\u001b[39;00m x \u001b[38;5;129;01min\u001b[39;00m casted_key)\n\u001b[0;32m   3810\u001b[0m     ):\n\u001b[0;32m   3811\u001b[0m         \u001b[38;5;28;01mraise\u001b[39;00m InvalidIndexError(key)\n\u001b[1;32m-> 3812\u001b[0m     \u001b[38;5;28;01mraise\u001b[39;00m \u001b[38;5;167;01mKeyError\u001b[39;00m(key) \u001b[38;5;28;01mfrom\u001b[39;00m \u001b[38;5;21;01merr\u001b[39;00m\n\u001b[0;32m   3813\u001b[0m \u001b[38;5;28;01mexcept\u001b[39;00m \u001b[38;5;167;01mTypeError\u001b[39;00m:\n\u001b[0;32m   3814\u001b[0m     \u001b[38;5;66;03m# If we have a listlike key, _check_indexing_error will raise\u001b[39;00m\n\u001b[0;32m   3815\u001b[0m     \u001b[38;5;66;03m#  InvalidIndexError. Otherwise we fall through and re-raise\u001b[39;00m\n\u001b[0;32m   3816\u001b[0m     \u001b[38;5;66;03m#  the TypeError.\u001b[39;00m\n\u001b[0;32m   3817\u001b[0m     \u001b[38;5;28mself\u001b[39m\u001b[38;5;241m.\u001b[39m_check_indexing_error(key)\n",
      "\u001b[1;31mKeyError\u001b[0m: 0"
     ]
    }
   ],
   "source": [
    "df.loc[0] # this will cause an error "
   ]
  },
  {
   "cell_type": "markdown",
   "id": "8f569aa2",
   "metadata": {},
   "source": [
    "This is because `iloc` looks up a row by a numeric index, and that is what you should use if that is your intent. The `loc` uses the labelled index which earlier (by default) is also a numeric index, but we then changed it to the `username`. \n",
    "\n",
    "Therefore, if we looked up by an actual `username` value such as \"thomasnield\" then the `loc` function will work. "
   ]
  },
  {
   "cell_type": "code",
   "execution_count": 356,
   "id": "a87de9fb",
   "metadata": {},
   "outputs": [
    {
     "data": {
      "text/plain": [
       "first_name                 Thomas\n",
       "last_name                   Nield\n",
       "email         tmnield@outlook.com\n",
       "Name: thomasnield, dtype: object"
      ]
     },
     "execution_count": 356,
     "metadata": {},
     "output_type": "execute_result"
    }
   ],
   "source": [
    "df.loc['thomasnield']"
   ]
  },
  {
   "cell_type": "markdown",
   "id": "797fd31c",
   "metadata": {},
   "source": [
    "## Selecting Ranges "
   ]
  },
  {
   "cell_type": "markdown",
   "id": "a06afa1e",
   "metadata": {},
   "source": [
    "We can also look up multiple rows at multiple indices, whether they are numeric or labels. We can use the Python range operator `:` to get a range of numeric positions or labels (if the labels have ordering behavior). Example: I can get the first and second rows."
   ]
  },
  {
   "cell_type": "code",
   "execution_count": 360,
   "id": "a19a25fd",
   "metadata": {},
   "outputs": [
    {
     "data": {
      "text/html": [
       "<div>\n",
       "<style scoped>\n",
       "    .dataframe tbody tr th:only-of-type {\n",
       "        vertical-align: middle;\n",
       "    }\n",
       "\n",
       "    .dataframe tbody tr th {\n",
       "        vertical-align: top;\n",
       "    }\n",
       "\n",
       "    .dataframe thead th {\n",
       "        text-align: right;\n",
       "    }\n",
       "</style>\n",
       "<table border=\"1\" class=\"dataframe\">\n",
       "  <thead>\n",
       "    <tr style=\"text-align: right;\">\n",
       "      <th></th>\n",
       "      <th>first_name</th>\n",
       "      <th>last_name</th>\n",
       "      <th>email</th>\n",
       "    </tr>\n",
       "    <tr>\n",
       "      <th>username</th>\n",
       "      <th></th>\n",
       "      <th></th>\n",
       "      <th></th>\n",
       "    </tr>\n",
       "  </thead>\n",
       "  <tbody>\n",
       "    <tr>\n",
       "      <th>thomasnield</th>\n",
       "      <td>Thomas</td>\n",
       "      <td>Nield</td>\n",
       "      <td>tmnield@outlook.com</td>\n",
       "    </tr>\n",
       "    <tr>\n",
       "      <th>samiam</th>\n",
       "      <td>Sam</td>\n",
       "      <td>Scala</td>\n",
       "      <td>sam.scala@gmail.com</td>\n",
       "    </tr>\n",
       "  </tbody>\n",
       "</table>\n",
       "</div>"
      ],
      "text/plain": [
       "            first_name last_name                email\n",
       "username                                             \n",
       "thomasnield     Thomas     Nield  tmnield@outlook.com\n",
       "samiam             Sam     Scala  sam.scala@gmail.com"
      ]
     },
     "execution_count": 360,
     "metadata": {},
     "output_type": "execute_result"
    }
   ],
   "source": [
    "df.iloc[0:2]"
   ]
  },
  {
   "cell_type": "markdown",
   "id": "a64a27d1",
   "metadata": {},
   "source": [
    "If you expected the third row to be included because it has an index of 2, and we selected range `0:2`, this is why it was not included. The end of the range is exclusive and omits that last element in the selection. Another way to think of it is we are selecting the indices *between* each digit. This is usually helpful for me and here is a visual to demonstrate grabbing the first two elements of a collection. \n",
    "\n",
    "![svg image](data:image/svg+xml;base64,PD94bWwgdmVyc2lvbj0iMS4wIiBlbmNvZGluZz0iVVRGLTgiIHN0YW5kYWxvbmU9Im5vIj8+CjwhLS0gQ3JlYXRlZCB3aXRoIElua3NjYXBlIChodHRwOi8vd3d3Lmlua3NjYXBlLm9yZy8pIC0tPgoKPHN2ZwogICB3aWR0aD0iMTE5LjA1Nzk4bW0iCiAgIGhlaWdodD0iNTkuNjE2Mjc2bW0iCiAgIHZpZXdCb3g9IjAgMCAxMTkuMDU3OTcgNTkuNjE2Mjc2IgogICB2ZXJzaW9uPSIxLjEiCiAgIGlkPSJzdmc1IgogICBzb2RpcG9kaTpkb2NuYW1lPSJjRXd5aXNsT3dYLnN2ZyIKICAgaW5rc2NhcGU6dmVyc2lvbj0iMS4yLjIgKGIwYTg0ODY1LCAyMDIyLTEyLTAxKSIKICAgeG1sbnM6aW5rc2NhcGU9Imh0dHA6Ly93d3cuaW5rc2NhcGUub3JnL25hbWVzcGFjZXMvaW5rc2NhcGUiCiAgIHhtbG5zOnNvZGlwb2RpPSJodHRwOi8vc29kaXBvZGkuc291cmNlZm9yZ2UubmV0L0RURC9zb2RpcG9kaS0wLmR0ZCIKICAgeG1sbnM9Imh0dHA6Ly93d3cudzMub3JnLzIwMDAvc3ZnIgogICB4bWxuczpzdmc9Imh0dHA6Ly93d3cudzMub3JnLzIwMDAvc3ZnIj4KICA8c29kaXBvZGk6bmFtZWR2aWV3CiAgICAgaWQ9Im5hbWVkdmlldzciCiAgICAgcGFnZWNvbG9yPSIjZmZmZmZmIgogICAgIGJvcmRlcmNvbG9yPSIjMDAwMDAwIgogICAgIGJvcmRlcm9wYWNpdHk9IjAuMjUiCiAgICAgaW5rc2NhcGU6c2hvd3BhZ2VzaGFkb3c9IjIiCiAgICAgaW5rc2NhcGU6cGFnZW9wYWNpdHk9IjAuMCIKICAgICBpbmtzY2FwZTpwYWdlY2hlY2tlcmJvYXJkPSIwIgogICAgIGlua3NjYXBlOmRlc2tjb2xvcj0iI2QxZDFkMSIKICAgICBpbmtzY2FwZTpkb2N1bWVudC11bml0cz0ibW0iCiAgICAgc2hvd2dyaWQ9ImZhbHNlIgogICAgIGlua3NjYXBlOnpvb209IjEuNTUwNTI5IgogICAgIGlua3NjYXBlOmN4PSIyMTcuMDIyNzEiCiAgICAgaW5rc2NhcGU6Y3k9Ijg0LjgwOTc2NyIKICAgICBpbmtzY2FwZTp3aW5kb3ctd2lkdGg9IjE0NDAiCiAgICAgaW5rc2NhcGU6d2luZG93LWhlaWdodD0iODQ3IgogICAgIGlua3NjYXBlOndpbmRvdy14PSIwIgogICAgIGlua3NjYXBlOndpbmRvdy15PSIyNSIKICAgICBpbmtzY2FwZTp3aW5kb3ctbWF4aW1pemVkPSIxIgogICAgIGlua3NjYXBlOmN1cnJlbnQtbGF5ZXI9ImxheWVyMSIgLz4KICA8ZGVmcwogICAgIGlkPSJkZWZzMiI+CiAgICA8ZGVmcwogICAgICAgaWQ9ImlkLWRkMDcyNzhmLTUzMTQtNDY5MC04YzA2LWU0ZjY1MWY3N2M0ZCI+CiAgICAgIDxnCiAgICAgICAgIGlkPSJpZC1kNjJiMTBmNS0xYjRlLTRmN2ItODYxYi1lZDIyZDU2MDY1OTIiPgogICAgICAgIDxnCiAgICAgICAgICAgaWQ9ImlkLWZkMzc5NmJhLTBlNjktNDNlNC04MTAwLWNmMmNkYTA0MTRlZiIgLz4KICAgICAgICA8ZwogICAgICAgICAgIGlkPSJpZC05OGRmMjNlZC1hNTBjLTQ3OTAtODRhNS03YWJkMGQxNzUwZTMiPgogICAgICAgICAgPHBhdGgKICAgICAgICAgICAgIGQ9Ik0gMy44OTA2MjUsLTAuNzgxMjUgViAwLjEwOTM3NSBMIDUuMzI4MTI1LDAgViAtMC4zMTI1IEMgNC42NDA2MjUsLTAuMzEyNSA0LjU2MjUsLTAuMzc1IDQuNTYyNSwtMC44NzUgdiAtMy41MzEyNSBsIC0xLjQ2ODc1LDAuMTA5Mzc1IHYgMC4zMTI1IGMgMC42ODc1LDAgMC43ODEyNSwwLjA2MjUgMC43ODEyNSwwLjU2MjUgdiAxLjc2NTYyNSBjIDAsMC44NzUgLTAuNDg0Mzc1LDEuNTQ2ODc1IC0xLjIxODc1LDEuNTQ2ODc1IC0wLjgyODEyNSwwIC0wLjg3NSwtMC40Njg3NSAtMC44NzUsLTAuOTg0Mzc1IHYgLTMuMzEyNSBMIDAuMzEyNSwtNC4yOTY4NzUgdiAwLjMxMjUgYyAwLjc4MTI1LDAgMC43ODEyNSwwLjAzMTI1IDAuNzgxMjUsMC45MDYyNSB2IDEuNSBjIDAsMC43ODEyNSAwLDEuNjg3NSAxLjUxNTYyNSwxLjY4NzUgMC41NjI1LDAgMSwtMC4yODEyNSAxLjI4MTI1LC0wLjg5MDYyNSB6IG0gMCwwIgogICAgICAgICAgICAgaWQ9ImlkLTlhOTRlMDU0LTk2ODItNDJjNC1iZWU4LTYyZWViYjQwZjdiOSIgLz4KICAgICAgICA8L2c+CiAgICAgICAgPGcKICAgICAgICAgICBpZD0iaWQtYjUyZTgyYjMtM2ExZS00YmZiLWI3YTctY2Y1MDliYzhhNzE3Ij4KICAgICAgICAgIDxwYXRoCiAgICAgICAgICAgICBkPSJtIDIuMDc4MTI1LC0xLjkzNzUgYyAwLjIxODc1LDAuMDQ2ODc1IDEuMDMxMjUsMC4yMDMxMjUgMS4wMzEyNSwwLjkyMTg3NSAwLDAuNSAtMC4zNDM3NSwwLjkwNjI1IC0xLjEyNSwwLjkwNjI1IC0wLjg0Mzc1LDAgLTEuMjAzMTI1LC0wLjU2MjUgLTEuMzkwNjI1LC0xLjQyMTg3NSBDIDAuNTYyNSwtMS42NTYyNSAwLjU2MjUsLTEuNjg3NSAwLjQ1MzEyNSwtMS42ODc1IGMgLTAuMTI1LDAgLTAuMTI1LDAuMDYyNSAtMC4xMjUsMC4yMzQzNzUgViAtMC4xMjUgYyAwLDAuMTcxODc1IDAsMC4yMzQzNzUgMC4xMDkzNzUsMC4yMzQzNzUgMC4wNDY4NzUsMCAwLjA2MjUsLTAuMDE1NjI1IDAuMjUsLTAuMjAzMTI1IDAuMDE1NjI1LC0wLjAxNTYyNSAwLjAxNTYyNSwtMC4wMzEyNSAwLjIwMzEyNSwtMC4yMTg3NSAwLjQzNzUsMC40MDYyNSAwLjg5MDYyNSwwLjQyMTg3NSAxLjA5Mzc1LDAuNDIxODc1IDEuMTQwNjI1LDAgMS42MDkzNzUsLTAuNjcxODc1IDEuNjA5Mzc1LC0xLjM5MDYyNSAwLC0wLjUxNTYyNSAtMC4yOTY4NzUsLTAuODI4MTI1IC0wLjQyMTg3NSwtMC45Mzc1IEMgMi44NDM3NSwtMi41NDY4NzUgMi40NTMxMjUsLTIuNjI1IDIuMDMxMjUsLTIuNzAzMTI1IDEuNDY4NzUsLTIuODEyNSAwLjgxMjUsLTIuOTM3NSAwLjgxMjUsLTMuNTE1NjI1IGMgMCwtMC4zNTkzNzUgMC4yNSwtMC43NjU2MjUgMS4xMDkzNzUsLTAuNzY1NjI1IDEuMDkzNzUsMCAxLjE1NjI1LDAuOTA2MjUgMS4xNzE4NzUsMS4yMDMxMjUgMCwwLjA5Mzc1IDAuMDkzNzUsMC4wOTM3NSAwLjEwOTM3NSwwLjA5Mzc1IDAuMTQwNjI1LDAgMC4xNDA2MjUsLTAuMDQ2ODc1IDAuMTQwNjI1LC0wLjIzNDM3NSB2IC0xLjAxNTYyNSBjIDAsLTAuMTU2MjUgMCwtMC4yMzQzNzUgLTAuMTA5Mzc1LC0wLjIzNDM3NSAtMC4wNDY4NzUsMCAtMC4wNzgxMjUsMCAtMC4yMDMxMjUsMC4xMjUgLTAuMDMxMjUsMC4wMzEyNSAtMC4xMjUsMC4xMjUgLTAuMTcxODc1LDAuMTU2MjUgLTAuMzc1LC0wLjI4MTI1IC0wLjc4MTI1LC0wLjI4MTI1IC0wLjkzNzUsLTAuMjgxMjUgLTEuMjE4NzUsMCAtMS41OTM3NSwwLjY3MTg3NSAtMS41OTM3NSwxLjIzNDM3NSAwLDAuMzQzNzUgMC4xNTYyNSwwLjYyNSAwLjQyMTg3NSwwLjg0Mzc1IDAuMzI4MTI1LDAuMjUgMC42MDkzNzUsMC4zMTI1IDEuMzI4MTI1LDAuNDUzMTI1IHogbSAwLDAiCiAgICAgICAgICAgICBpZD0iaWQtYTRlM2I4NmEtNjBmMy00M2ZiLWI3MWUtZGM0N2RhYWY5ZjlkIiAvPgogICAgICAgIDwvZz4KICAgICAgICA8ZwogICAgICAgICAgIGlkPSJpZC1iNDMwNzM5Mi1hNTRlLTRjOWEtYjUxZS1hYjBkMTg4YWUxZGQiPgogICAgICAgICAgPHBhdGgKICAgICAgICAgICAgIGQ9Ik0gMS4xMDkzNzUsLTIuNTE1NjI1IEMgMS4xNzE4NzUsLTQgMi4wMTU2MjUsLTQuMjUgMi4zNTkzNzUsLTQuMjUgYyAxLjAxNTYyNSwwIDEuMTI1LDEuMzQzNzUgMS4xMjUsMS43MzQzNzUgeiBtIDAsMC4yMTg3NSBoIDIuNzgxMjUgYyAwLjIxODc1LDAgMC4yNSwwIDAuMjUsLTAuMjE4NzUgMCwtMC45ODQzNzUgLTAuNTQ2ODc1LC0xLjk1MzEyNSAtMS43ODEyNSwtMS45NTMxMjUgLTEuMTU2MjUsMCAtMi4wNzgxMjUsMS4wMzEyNSAtMi4wNzgxMjUsMi4yODEyNSAwLDEuMzI4MTI1IDEuMDQ2ODc1LDIuMjk2ODc1IDIuMTg3NSwyLjI5Njg3NSBDIDMuNjg3NSwwLjEwOTM3NSA0LjE0MDYyNSwtMSA0LjE0MDYyNSwtMS4xODc1IDQuMTQwNjI1LC0xLjI4MTI1IDQuMDYyNSwtMS4zMTI1IDQsLTEuMzEyNSBjIC0wLjA3ODEyNSwwIC0wLjEwOTM3NSwwLjA2MjUgLTAuMTI1LDAuMTQwNjI1IC0wLjM0Mzc1LDEuMDMxMjUgLTEuMjUsMS4wMzEyNSAtMS4zNDM3NSwxLjAzMTI1IC0wLjUsMCAtMC44OTA2MjUsLTAuMjk2ODc1IC0xLjEyNSwtMC42NzE4NzUgLTAuMjk2ODc1LC0wLjQ2ODc1IC0wLjI5Njg3NSwtMS4xMjUgLTAuMjk2ODc1LC0xLjQ4NDM3NSB6IG0gMCwwIgogICAgICAgICAgICAgaWQ9ImlkLWRmNWY0MDFiLTZkNmEtNDc3OS04ZmUyLTE1YTk1YWEyNTgyOSIgLz4KICAgICAgICA8L2c+CiAgICAgICAgPGcKICAgICAgICAgICBpZD0iaWQtNmRhNzNkOWEtNTNhOS00ZTQ0LTg4NzUtODA5YjMxMDMxN2M2Ij4KICAgICAgICAgIDxwYXRoCiAgICAgICAgICAgICBkPSJNIDEuNjcxODc1LC0zLjMxMjUgViAtNC40MDYyNSBMIDAuMjgxMjUsLTQuMjk2ODc1IHYgMC4zMTI1IGMgMC43MDMxMjUsMCAwLjc4MTI1LDAuMDYyNSAwLjc4MTI1LDAuNTYyNSBWIC0wLjc1IGMgMCwwLjQzNzUgLTAuMTA5Mzc1LDAuNDM3NSAtMC43ODEyNSwwLjQzNzUgViAwIGMgMC4zOTA2MjUsLTAuMDE1NjI1IDAuODU5Mzc1LC0wLjAzMTI1IDEuMTQwNjI1LC0wLjAzMTI1IDAuMzkwNjI1LDAgMC44NTkzNzUsMCAxLjI2NTYyNSwwLjAzMTI1IFYgLTAuMzEyNSBIIDIuNDY4NzUgYyAtMC43MzQzNzUsMCAtMC43NSwtMC4xMDkzNzUgLTAuNzUsLTAuNDY4NzUgViAtMi4zMTI1IGMgMCwtMC45ODQzNzUgMC40MjE4NzUsLTEuODc1IDEuMTcxODc1LC0xLjg3NSAwLjA2MjUsMCAwLjA5Mzc1LDAgMC4xMDkzNzUsMC4wMTU2MjUgLTAuMDMxMjUsMCAtMC4yMzQzNzUsMC4xMjUgLTAuMjM0Mzc1LDAuMzkwNjI1IDAsMC4yNjU2MjUgMC4yMTg3NSwwLjQyMTg3NSAwLjQzNzUsMC40MjE4NzUgMC4xNzE4NzUsMCAwLjQyMTg3NSwtMC4xMjUgMC40MjE4NzUsLTAuNDM3NSAwLC0wLjMxMjUgLTAuMzEyNSwtMC42MDkzNzUgLTAuNzM0Mzc1LC0wLjYwOTM3NSAtMC43MzQzNzUsMCAtMS4wOTM3NSwwLjY3MTg3NSAtMS4yMTg3NSwxLjA5Mzc1IHogbSAwLDAiCiAgICAgICAgICAgICBpZD0iaWQtODE5ZjUyMmYtYjA5Mi00Mjk5LTkwMjctYTRmZjIzMzc4ZDE2IiAvPgogICAgICAgIDwvZz4KICAgICAgICA8ZwogICAgICAgICAgIGlkPSJpZC00NDRiYWU3OS02N2ZmLTRiNDUtYjFmOC1jMjdjMzQyNDZiMGUiPgogICAgICAgICAgPHBhdGgKICAgICAgICAgICAgIGQ9Ik0gMS4wOTM3NSwtMy40MjE4NzUgViAtMC43NSBjIDAsMC40Mzc1IC0wLjEwOTM3NSwwLjQzNzUgLTAuNzgxMjUsMC40Mzc1IFYgMCBjIDAuMzU5Mzc1LC0wLjAxNTYyNSAwLjg1OTM3NSwtMC4wMzEyNSAxLjE0MDYyNSwtMC4wMzEyNSAwLjI1LDAgMC43NjU2MjUsMC4wMTU2MjUgMS4xMDkzNzUsMC4wMzEyNSB2IC0wLjMxMjUgYyAtMC42NzE4NzUsMCAtMC43ODEyNSwwIC0wLjc4MTI1LC0wLjQzNzUgViAtMi41OTM3NSBDIDEuNzgxMjUsLTMuNjI1IDIuNSwtNC4xODc1IDMuMTI1LC00LjE4NzUgYyAwLjY0MDYyNSwwIDAuNzUsMC41MzEyNSAwLjc1LDEuMTA5Mzc1IFYgLTAuNzUgYyAwLDAuNDM3NSAtMC4xMDkzNzUsMC40Mzc1IC0wLjc4MTI1LDAuNDM3NSBWIDAgYyAwLjM0Mzc1LC0wLjAxNTYyNSAwLjg1OTM3NSwtMC4wMzEyNSAxLjEyNSwtMC4wMzEyNSAwLjI1LDAgMC43ODEyNSwwLjAxNTYyNSAxLjEwOTM3NSwwLjAzMTI1IHYgLTAuMzEyNSBjIC0wLjUxNTYyNSwwIC0wLjc2NTYyNSwwIC0wLjc2NTYyNSwtMC4yOTY4NzUgdiAtMS45MDYyNSBjIDAsLTAuODU5Mzc1IDAsLTEuMTU2MjUgLTAuMzEyNSwtMS41MTU2MjUgLTAuMTQwNjI1LC0wLjE3MTg3NSAtMC40Njg3NSwtMC4zNzUgLTEuMDQ2ODc1LC0wLjM3NSBDIDIuNDY4NzUsLTQuNDA2MjUgMiwtMy45ODQzNzUgMS43MTg3NSwtMy4zNTkzNzUgViAtNC40MDYyNSBMIDAuMzEyNSwtNC4yOTY4NzUgdiAwLjMxMjUgYyAwLjcwMzEyNSwwIDAuNzgxMjUsMC4wNjI1IDAuNzgxMjUsMC41NjI1IHogbSAwLDAiCiAgICAgICAgICAgICBpZD0iaWQtYTJlZTM1YjYtM2FlMC00YjZiLThmZWUtMjQ0NzE1YjdmZmE3IiAvPgogICAgICAgIDwvZz4KICAgICAgICA8ZwogICAgICAgICAgIGlkPSJpZC1lYWQ3MzU4NC1iNzRiLTQzYWUtODU3NC03NTM3OTk0MDdlM2EiPgogICAgICAgICAgPHBhdGgKICAgICAgICAgICAgIGQ9Im0gMy4zMTI1LC0wLjc1IGMgMC4wNDY4NzUsMC4zOTA2MjUgMC4zMTI1LDAuODEyNSAwLjc4MTI1LDAuODEyNSAwLjIxODc1LDAgMC44MjgxMjUsLTAuMTQwNjI1IDAuODI4MTI1LC0wLjk1MzEyNSB2IC0wLjU2MjUgaCAtMC4yNSB2IDAuNTYyNSBjIDAsMC41NzgxMjUgLTAuMjUsMC42NDA2MjUgLTAuMzU5Mzc1LDAuNjQwNjI1IC0wLjMyODEyNSwwIC0wLjM3NSwtMC40NTMxMjUgLTAuMzc1LC0wLjUgdiAtMS45ODQzNzUgYyAwLC0wLjQyMTg3NSAwLC0wLjgxMjUgLTAuMzU5Mzc1LC0xLjE4NzUgQyAzLjE4NzUsLTQuMzEyNSAyLjY4NzUsLTQuNDY4NzUgMi4yMTg3NSwtNC40Njg3NSBjIC0wLjgyODEyNSwwIC0xLjUxNTYyNSwwLjQ2ODc1IC0xLjUxNTYyNSwxLjEyNSAwLDAuMjk2ODc1IDAuMjAzMTI1LDAuNDY4NzUgMC40Njg3NSwwLjQ2ODc1IDAuMjgxMjUsMCAwLjQ1MzEyNSwtMC4yMDMxMjUgMC40NTMxMjUsLTAuNDUzMTI1IDAsLTAuMTI1IC0wLjA0Njg3NSwtMC40NTMxMjUgLTAuNTE1NjI1LC0wLjQ1MzEyNSBDIDEuMzkwNjI1LC00LjE0MDYyNSAxLjg3NSwtNC4yNSAyLjE4NzUsLTQuMjUgYyAwLjUsMCAxLjA2MjUsMC4zOTA2MjUgMS4wNjI1LDEuMjgxMjUgdiAwLjM1OTM3NSBjIC0wLjUxNTYyNSwwLjAzMTI1IC0xLjIwMzEyNSwwLjA2MjUgLTEuODI4MTI1LDAuMzU5Mzc1IC0wLjc1LDAuMzQzNzUgLTEsMC44NTkzNzUgLTEsMS4yOTY4NzUgMCwwLjgxMjUgMC45Njg3NSwxLjA2MjUgMS41OTM3NSwxLjA2MjUgMC42NTYyNSwwIDEuMTA5Mzc1LC0wLjQwNjI1IDEuMjk2ODc1LC0wLjg1OTM3NSB6IE0gMy4yNSwtMi4zOTA2MjUgdiAxIGMgMCwwLjkzNzUgLTAuNzE4NzUsMS4yODEyNSAtMS4xNzE4NzUsMS4yODEyNSAtMC40ODQzNzUsMCAtMC44OTA2MjUsLTAuMzQzNzUgLTAuODkwNjI1LC0wLjg0Mzc1IDAsLTAuNTQ2ODc1IDAuNDIxODc1LC0xLjM3NSAyLjA2MjUsLTEuNDM3NSB6IG0gMCwwIgogICAgICAgICAgICAgaWQ9ImlkLTE1NzViNGYxLTUxZjItNDMwNy04ZmM0LWUyMzE3N2I4MjIzNCIgLz4KICAgICAgICA8L2c+CiAgICAgICAgPGcKICAgICAgICAgICBpZD0iaWQtMTUyNDIyYzQtMjVmZS00ZGU1LTgzODItMGEwYmIwOWY5MDc3Ij4KICAgICAgICAgIDxwYXRoCiAgICAgICAgICAgICBkPSJNIDEuMDkzNzUsLTMuNDIxODc1IFYgLTAuNzUgYyAwLDAuNDM3NSAtMC4xMDkzNzUsMC40Mzc1IC0wLjc4MTI1LDAuNDM3NSBWIDAgYyAwLjM1OTM3NSwtMC4wMTU2MjUgMC44NTkzNzUsLTAuMDMxMjUgMS4xNDA2MjUsLTAuMDMxMjUgMC4yNSwwIDAuNzY1NjI1LDAuMDE1NjI1IDEuMTA5Mzc1LDAuMDMxMjUgdiAtMC4zMTI1IGMgLTAuNjcxODc1LDAgLTAuNzgxMjUsMCAtMC43ODEyNSwtMC40Mzc1IFYgLTIuNTkzNzUgQyAxLjc4MTI1LC0zLjYyNSAyLjUsLTQuMTg3NSAzLjEyNSwtNC4xODc1IGMgMC42NDA2MjUsMCAwLjc1LDAuNTMxMjUgMC43NSwxLjEwOTM3NSBWIC0wLjc1IGMgMCwwLjQzNzUgLTAuMTA5Mzc1LDAuNDM3NSAtMC43ODEyNSwwLjQzNzUgViAwIGMgMC4zNDM3NSwtMC4wMTU2MjUgMC44NTkzNzUsLTAuMDMxMjUgMS4xMjUsLTAuMDMxMjUgMC4yNSwwIDAuNzgxMjUsMC4wMTU2MjUgMS4xMDkzNzUsMC4wMzEyNSB2IC0wLjMxMjUgYyAtMC42NTYyNSwwIC0wLjc2NTYyNSwwIC0wLjc2NTYyNSwtMC40Mzc1IHYgLTEuODQzNzUgYyAwLC0xLjAzMTI1IDAuNzAzMTI1LC0xLjU5Mzc1IDEuMzQzNzUsLTEuNTkzNzUgMC42MjUsMCAwLjczNDM3NSwwLjUzMTI1IDAuNzM0Mzc1LDEuMTA5Mzc1IFYgLTAuNzUgYyAwLDAuNDM3NSAtMC4xMDkzNzUsMC40Mzc1IC0wLjc4MTI1LDAuNDM3NSBWIDAgYyAwLjM0Mzc1LC0wLjAxNTYyNSAwLjg1OTM3NSwtMC4wMzEyNSAxLjEyNSwtMC4wMzEyNSAwLjI2NTYyNSwwIDAuNzgxMjUsMC4wMTU2MjUgMS4xMjUsMC4wMzEyNSB2IC0wLjMxMjUgYyAtMC41MTU2MjUsMCAtMC43NjU2MjUsMCAtMC43ODEyNSwtMC4yOTY4NzUgdiAtMS45MDYyNSBjIDAsLTAuODU5Mzc1IDAsLTEuMTU2MjUgLTAuMzEyNSwtMS41MTU2MjUgLTAuMTQwNjI1LC0wLjE3MTg3NSAtMC40Njg3NSwtMC4zNzUgLTEuMDQ2ODc1LC0wLjM3NSAtMC44MjgxMjUsMCAtMS4yODEyNSwwLjU5Mzc1IC0xLjQzNzUsMC45ODQzNzUgQyA0LjM5MDYyNSwtNC4yOTY4NzUgMy42NTYyNSwtNC40MDYyNSAzLjIwMzEyNSwtNC40MDYyNSAyLjQ2ODc1LC00LjQwNjI1IDIsLTMuOTg0Mzc1IDEuNzE4NzUsLTMuMzU5Mzc1IFYgLTQuNDA2MjUgTCAwLjMxMjUsLTQuMjk2ODc1IHYgMC4zMTI1IGMgMC43MDMxMjUsMCAwLjc4MTI1LDAuMDYyNSAwLjc4MTI1LDAuNTYyNSB6IG0gMCwwIgogICAgICAgICAgICAgaWQ9ImlkLTczMGU2MzBhLWEyM2MtNDQzNC05YmZjLWZlZmFmOTM0ODI4OSIgLz4KICAgICAgICA8L2c+CiAgICAgICAgPGcKICAgICAgICAgICBpZD0iaWQtZGRlNWRiMmItMjVmOS00NDgzLWFiYTUtMTcwZjliMTU0MTRmIj4KICAgICAgICAgIDxwYXRoCiAgICAgICAgICAgICBkPSJtIDMuMjk2ODc1LC0zLjk4NDM3NSBjIDAuNDUzMTI1LDAgMC41MTU2MjUsMC4xMjUgMC41MTU2MjUsMC41MzEyNSBWIC0wLjc1IGMgMCwwLjQzNzUgLTAuMTA5Mzc1LDAuNDM3NSAtMC43NjU2MjUsMC40Mzc1IFYgMCBjIDAuMzI4MTI1LC0wLjAxNTYyNSAwLjg0Mzc1LC0wLjAzMTI1IDEuMDkzNzUsLTAuMDMxMjUgMC4yNSwwIDAuNzUsMC4wMTU2MjUgMS4xMDkzNzUsMC4wMzEyNSB2IC0wLjMxMjUgYyAtMC42NzE4NzUsMCAtMC43ODEyNSwwIC0wLjc4MTI1LC0wLjQzNzUgdiAtMy42NzE4NzUgbCAtMS4yNSwwLjA5Mzc1IEMgMy4wNjI1LC00LjMxMjUgMy4wNDY4NzUsLTQuMzEyNSAzLjA0Njg3NSwtNC4zMTI1IDMuMDE1NjI1LC00LjI5Njg3NSAzLC00LjI5Njg3NSAyLjg1OTM3NSwtNC4yOTY4NzUgSCAxLjY4NzUgdiAtMS4xMjUgYyAwLC0wLjk4NDM3NSAwLjg1OTM3NSwtMS4zOTA2MjUgMS40Njg3NSwtMS4zOTA2MjUgMC4yOTY4NzUsMCAwLjY1NjI1LDAuMTA5Mzc1IDAuODU5Mzc1LDAuMzI4MTI1IC0wLjQwNjI1LDAuMDMxMjUgLTAuNDY4NzUsMC4yOTY4NzUgLTAuNDY4NzUsMC40Njg3NSBDIDMuNTQ2ODc1LC01LjY4NzUgMy44MTI1LC01LjU2MjUgNCwtNS41NjI1IGMgMC4yMzQzNzUsMCAwLjQ1MzEyNSwtMC4xNTYyNSAwLjQ1MzEyNSwtMC40NTMxMjUgMCwtMC41OTM3NSAtMC41NDY4NzUsLTEuMDE1NjI1IC0xLjI4MTI1LC0xLjAxNTYyNSBDIDIuMjUsLTcuMDMxMjUgMS4wNjI1LC02LjUxNTYyNSAxLjA2MjUsLTUuNDM3NSB2IDEuMTQwNjI1IEggMC4yNjU2MjUgdiAwLjMxMjUgSCAxLjA2MjUgViAtMC43NSBjIDAsMC40Mzc1IC0wLjEwOTM3NSwwLjQzNzUgLTAuNzgxMjUsMC40Mzc1IFYgMCBDIDAuNjA5Mzc1LC0wLjAxNTYyNSAxLjE0MDYyNSwtMC4wMzEyNSAxLjM5MDYyNSwtMC4wMzEyNSAxLjY0MDYyNSwtMC4wMzEyNSAyLjEyNSwtMC4wMTU2MjUgMi41LDAgdiAtMC4zMTI1IGMgLTAuNjcxODc1LDAgLTAuNzgxMjUsMCAtMC43ODEyNSwtMC40Mzc1IHYgLTMuMjM0Mzc1IHogbSAwLDAiCiAgICAgICAgICAgICBpZD0iaWQtNWM4YTU2N2ItNWE1ZS00MTQyLTk0YzAtYmI0MWUyOTFhNjlmIiAvPgogICAgICAgIDwvZz4KICAgICAgICA8ZwogICAgICAgICAgIGlkPSJpZC00NzA0OWFhYS1iNWU4LTRhOTctODE0ZS00ODg5NTQ0ZGJjZjEiPgogICAgICAgICAgPHBhdGgKICAgICAgICAgICAgIGQ9Im0gMS43MTg3NSwtMy45ODQzNzUgaCAxLjQzNzUgdiAtMC4zMTI1IEggMS43MTg3NSBWIC02LjEyNSBoIC0wLjI1IGMgMCwwLjgxMjUgLTAuMjk2ODc1LDEuODc1IC0xLjI4MTI1LDEuOTIxODc1IHYgMC4yMTg3NSBoIDAuODQzNzUgdiAyLjc1IGMgMCwxLjIxODc1IDAuOTM3NSwxLjM0Mzc1IDEuMjk2ODc1LDEuMzQzNzUgMC43MDMxMjUsMCAwLjk4NDM3NSwtMC43MDMxMjUgMC45ODQzNzUsLTEuMzQzNzUgdiAtMC41NjI1IGggLTAuMjUgViAtMS4yNSBjIDAsMC43MzQzNzUgLTAuMjk2ODc1LDEuMTA5Mzc1IC0wLjY3MTg3NSwxLjEwOTM3NSAtMC42NzE4NzUsMCAtMC42NzE4NzUsLTAuOTA2MjUgLTAuNjcxODc1LC0xLjA3ODEyNSB6IG0gMCwwIgogICAgICAgICAgICAgaWQ9ImlkLWVkMzI1MDQ1LTUzNmYtNDRjNi05M2VlLTNlNTdiYTc2NjEyYyIgLz4KICAgICAgICA8L2c+CiAgICAgICAgPGcKICAgICAgICAgICBpZD0iaWQtYmVmYjFhZDMtOTExNC00MzE5LTg1YmQtNmU3NDNkODEzYTYwIj4KICAgICAgICAgIDxwYXRoCiAgICAgICAgICAgICBkPSJNIDEuNzY1NjI1LC02LjkyMTg3NSAwLjMyODEyNSwtNi44MTI1IFYgLTYuNSBjIDAuNzAzMTI1LDAgMC43ODEyNSwwLjA2MjUgMC43ODEyNSwwLjU2MjUgViAtMC43NSBjIDAsMC40Mzc1IC0wLjEwOTM3NSwwLjQzNzUgLTAuNzgxMjUsMC40Mzc1IFYgMCBDIDAuNjU2MjUsLTAuMDE1NjI1IDEuMTg3NSwtMC4wMzEyNSAxLjQzNzUsLTAuMDMxMjUgYyAwLjI1LDAgMC43MzQzNzUsMC4wMTU2MjUgMS4xMDkzNzUsMC4wMzEyNSB2IC0wLjMxMjUgYyAtMC42NzE4NzUsMCAtMC43ODEyNSwwIC0wLjc4MTI1LC0wLjQzNzUgeiBtIDAsMCIKICAgICAgICAgICAgIGlkPSJpZC02YzA3MWFhZi02NWVhLTQzNmMtYTZiNC1lNWE5NTgxMGY0NWMiIC8+CiAgICAgICAgPC9nPgogICAgICAgIDxnCiAgICAgICAgICAgaWQ9ImlkLWEzYmU2NDdkLTQ4NWEtNDZhYi05NTlkLWI0YTI5ZGU0Y2Y4OSI+CiAgICAgICAgICA8cGF0aAogICAgICAgICAgICAgZD0iTSAxLjc2NTYyNSwtNC40MDYyNSAwLjM3NSwtNC4yOTY4NzUgdiAwLjMxMjUgYyAwLjY0MDYyNSwwIDAuNzM0Mzc1LDAuMDYyNSAwLjczNDM3NSwwLjU0Njg3NSBWIC0wLjc1IGMgMCwwLjQzNzUgLTAuMTA5Mzc1LDAuNDM3NSAtMC43ODEyNSwwLjQzNzUgViAwIEMgMC42NDA2MjUsLTAuMDE1NjI1IDEuMTg3NSwtMC4wMzEyNSAxLjQyMTg3NSwtMC4wMzEyNSAxLjc4MTI1LC0wLjAzMTI1IDIuMTI1LC0wLjAxNTYyNSAyLjQ2ODc1LDAgdiAtMC4zMTI1IGMgLTAuNjcxODc1LDAgLTAuNzAzMTI1LC0wLjA0Njg3NSAtMC43MDMxMjUsLTAuNDM3NSB6IG0gMC4wMzEyNSwtMS43MzQzNzUgYyAwLC0wLjMxMjUgLTAuMjM0Mzc1LC0wLjUzMTI1IC0wLjUxNTYyNSwtMC41MzEyNSAtMC4zMTI1LDAgLTAuNTMxMjUsMC4yNjU2MjUgLTAuNTMxMjUsMC41MzEyNSAwLDAuMjY1NjI1IDAuMjE4NzUsMC41MzEyNSAwLjUzMTI1LDAuNTMxMjUgMC4yODEyNSwwIDAuNTE1NjI1LC0wLjIxODc1IDAuNTE1NjI1LC0wLjUzMTI1IHogbSAwLDAiCiAgICAgICAgICAgICBpZD0iaWQtNDc3ZWQxNDEtMDRkYi00NDNiLTk3ZmItODJlMGM1MjllNDI4IiAvPgogICAgICAgIDwvZz4KICAgICAgICA8ZwogICAgICAgICAgIGlkPSJpZC1jMjI3MTk5Mi1mMmUyLTQ4YzEtOTBkMS0xOTcwNzQxNWM2NDUiPgogICAgICAgICAgPHBhdGgKICAgICAgICAgICAgIGQ9Im0gNC41NzgxMjUsLTMuMTg3NSBjIDAsLTAuNzk2ODc1IC0wLjA0Njg3NSwtMS41OTM3NSAtMC4zOTA2MjUsLTIuMzI4MTI1IC0wLjQ1MzEyNSwtMC45Njg3NSAtMS4yODEyNSwtMS4xMjUgLTEuNjg3NSwtMS4xMjUgLTAuNjA5Mzc1LDAgLTEuMzI4MTI1LDAuMjY1NjI1IC0xLjc1LDEuMTg3NSAtMC4zMTI1LDAuNjg3NSAtMC4zNTkzNzUsMS40Njg3NSAtMC4zNTkzNzUsMi4yNjU2MjUgMCwwLjc1IDAuMDMxMjUsMS42NDA2MjUgMC40NTMxMjUsMi40MDYyNSAwLjQyMTg3NSwwLjc5Njg3NSAxLjE1NjI1LDEgMS42NDA2MjUsMSAwLjUzMTI1LDAgMS4yOTY4NzUsLTAuMjAzMTI1IDEuNzM0Mzc1LC0xLjE1NjI1IDAuMzEyNSwtMC42ODc1IDAuMzU5Mzc1LC0xLjQ2ODc1IDAuMzU5Mzc1LC0yLjI1IHogTSAyLjQ4NDM3NSwwIEMgMi4wOTM3NSwwIDEuNSwtMC4yNSAxLjMyODEyNSwtMS4yMDMxMjUgMS4yMTg3NSwtMS43OTY4NzUgMS4yMTg3NSwtMi43MTg3NSAxLjIxODc1LC0zLjMxMjUgYyAwLC0wLjY0MDYyNSAwLC0xLjI5Njg3NSAwLjA3ODEyNSwtMS44MjgxMjUgMC4xODc1LC0xLjE4NzUgMC45Mzc1LC0xLjI4MTI1IDEuMTg3NSwtMS4yODEyNSAwLjMyODEyNSwwIDAuOTg0Mzc1LDAuMTg3NSAxLjE3MTg3NSwxLjE3MTg3NSAwLjEwOTM3NSwwLjU2MjUgMC4xMDkzNzUsMS4zMTI1IDAuMTA5Mzc1LDEuOTM3NSAwLDAuNzUgMCwxLjQyMTg3NSAtMC4xMDkzNzUsMi4wNjI1IEMgMy41LC0wLjI5Njg3NSAyLjkzNzUsMCAyLjQ4NDM3NSwwIFogbSAwLDAiCiAgICAgICAgICAgICBpZD0iaWQtZmE4ZDMyYWUtOWE4MC00NzI1LWI0MzAtYWFkNTI3Y2Q4YWMwIiAvPgogICAgICAgIDwvZz4KICAgICAgICA8ZwogICAgICAgICAgIGlkPSJpZC1mNjc2ZGMzOC1lNzQyLTQ0YjktYjAxZC01Y2Q4YWYwNzFjZDciPgogICAgICAgICAgPHBhdGgKICAgICAgICAgICAgIGQ9Im0gMS4wOTM3NSwtMC43NSBjIDAsMC40Mzc1IC0wLjEwOTM3NSwwLjQzNzUgLTAuNzgxMjUsMC40Mzc1IFYgMCBjIDAuMzU5Mzc1LC0wLjAxNTYyNSAwLjg1OTM3NSwtMC4wMzEyNSAxLjE0MDYyNSwtMC4wMzEyNSAwLjI1LDAgMC43NjU2MjUsMC4wMTU2MjUgMS4xMDkzNzUsMC4wMzEyNSB2IC0wLjMxMjUgYyAtMC42NzE4NzUsMCAtMC43ODEyNSwwIC0wLjc4MTI1LC0wLjQzNzUgViAtMi41OTM3NSBDIDEuNzgxMjUsLTMuNjI1IDIuNSwtNC4xODc1IDMuMTI1LC00LjE4NzUgYyAwLjY0MDYyNSwwIDAuNzUsMC41MzEyNSAwLjc1LDEuMTA5Mzc1IFYgLTAuNzUgYyAwLDAuNDM3NSAtMC4xMDkzNzUsMC40Mzc1IC0wLjc4MTI1LDAuNDM3NSBWIDAgYyAwLjM0Mzc1LC0wLjAxNTYyNSAwLjg1OTM3NSwtMC4wMzEyNSAxLjEyNSwtMC4wMzEyNSAwLjI1LDAgMC43ODEyNSwwLjAxNTYyNSAxLjEwOTM3NSwwLjAzMTI1IHYgLTAuMzEyNSBjIC0wLjUxNTYyNSwwIC0wLjc2NTYyNSwwIC0wLjc2NTYyNSwtMC4yOTY4NzUgdiAtMS45MDYyNSBjIDAsLTAuODU5Mzc1IDAsLTEuMTU2MjUgLTAuMzEyNSwtMS41MTU2MjUgLTAuMTQwNjI1LC0wLjE3MTg3NSAtMC40Njg3NSwtMC4zNzUgLTEuMDQ2ODc1LC0wLjM3NSAtMC44NDM3NSwwIC0xLjI4MTI1LDAuNTkzNzUgLTEuNDUzMTI1LDAuOTg0Mzc1IHYgLTMuNSBMIDAuMzEyNSwtNi44MTI1IFYgLTYuNSBjIDAuNzAzMTI1LDAgMC43ODEyNSwwLjA2MjUgMC43ODEyNSwwLjU2MjUgeiBtIDAsMCIKICAgICAgICAgICAgIGlkPSJpZC00YmE5ZDhmMi1iNzY2LTQ5MmQtYmE1MS04ODY2MzllZjA0NjUiIC8+CiAgICAgICAgPC9nPgogICAgICAgIDxnCiAgICAgICAgICAgaWQ9ImlkLWJiZGFiYWZlLTlmM2UtNDg1MC04NmRhLTg5ZDlhYWQ0OGQ5YiI+CiAgICAgICAgICA8cGF0aAogICAgICAgICAgICAgZD0iTSA0LjY4NzUsLTIuMTQwNjI1IEMgNC42ODc1LC0zLjQwNjI1IDMuNzAzMTI1LC00LjQ2ODc1IDIuNSwtNC40Njg3NSBjIC0xLjI1LDAgLTIuMjE4NzUsMS4wOTM3NSAtMi4yMTg3NSwyLjMyODEyNSAwLDEuMjk2ODc1IDEuMDMxMjUsMi4yNSAyLjIwMzEyNSwyLjI1IDEuMjAzMTI1LDAgMi4yMDMxMjUsLTAuOTg0Mzc1IDIuMjAzMTI1LC0yLjI1IHogbSAtMi4xODc1LDIgYyAtMC40Mzc1LDAgLTAuODc1LC0wLjIwMzEyNSAtMS4xNDA2MjUsLTAuNjcxODc1IC0wLjI1LC0wLjQzNzUgLTAuMjUsLTEuMDQ2ODc1IC0wLjI1LC0xLjQwNjI1IDAsLTAuMzkwNjI1IDAsLTAuOTIxODc1IDAuMjM0Mzc1LC0xLjM1OTM3NSBDIDEuNjA5Mzc1LC00LjAzMTI1IDIuMDc4MTI1LC00LjI1IDIuNDg0Mzc1LC00LjI1IGMgMC40Mzc1LDAgMC44NTkzNzUsMC4yMTg3NSAxLjEyNSwwLjY1NjI1IDAuMjY1NjI1LDAuNDIxODc1IDAuMjY1NjI1LDEgMC4yNjU2MjUsMS4zNzUgMCwwLjM1OTM3NSAwLDAuOTA2MjUgLTAuMjE4NzUsMS4zNDM3NSBDIDMuNDIxODc1LC0wLjQyMTg3NSAyLjk4NDM3NSwtMC4xNDA2MjUgMi41LC0wLjE0MDYyNSBaIG0gMCwwIgogICAgICAgICAgICAgaWQ9ImlkLTViNDU5ZjBiLTk3MjgtNDE2ZC04MTQyLWNkMzI1NzZkMGJhZSIgLz4KICAgICAgICA8L2c+CiAgICAgICAgPGcKICAgICAgICAgICBpZD0iaWQtOGNiOWE3NDEtNWZjZi00MjIwLTkxMGMtNWE1ZDhkOTBmNWJiIj4KICAgICAgICAgIDxwYXRoCiAgICAgICAgICAgICBkPSJtIDMuNzgxMjUsLTAuNTQ2ODc1IHYgMC42NTYyNSBMIDUuMjUsMCB2IC0wLjMxMjUgYyAtMC42ODc1LDAgLTAuNzgxMjUsLTAuMDYyNSAtMC43ODEyNSwtMC41NjI1IFYgLTYuOTIxODc1IEwgMy4wNDY4NzUsLTYuODEyNSBWIC02LjUgYyAwLjY4NzUsMCAwLjc2NTYyNSwwLjA2MjUgMC43NjU2MjUsMC41NjI1IHYgMi4xNTYyNSBjIC0wLjI4MTI1LC0wLjM1OTM3NSAtMC43MTg3NSwtMC42MjUgLTEuMjUsLTAuNjI1IC0xLjE3MTg3NSwwIC0yLjIxODc1LDAuOTg0Mzc1IC0yLjIxODc1LDIuMjY1NjI1IDAsMS4yNjU2MjUgMC45Njg3NSwyLjI1IDIuMTA5Mzc1LDIuMjUgMC42NDA2MjUsMCAxLjA3ODEyNSwtMC4zNDM3NSAxLjMyODEyNSwtMC42NTYyNSB6IG0gMCwtMi42NzE4NzUgdiAyLjA0Njg3NSBjIDAsMC4xNzE4NzUgMCwwLjE4NzUgLTAuMTA5Mzc1LDAuMzU5Mzc1IEMgMy4zNzUsLTAuMzI4MTI1IDIuOTM3NSwtMC4xMDkzNzUgMi41LC0wLjEwOTM3NSAyLjA0Njg3NSwtMC4xMDkzNzUgMS42ODc1LC0wLjM3NSAxLjQ1MzEyNSwtMC43NSAxLjIwMzEyNSwtMS4xNTYyNSAxLjE3MTg3NSwtMS43MTg3NSAxLjE3MTg3NSwtMi4xNDA2MjUgMS4xNzE4NzUsLTIuNSAxLjE4NzUsLTMuMDkzNzUgMS40Njg3NSwtMy41NDY4NzUgMS42ODc1LC0zLjg1OTM3NSAyLjA2MjUsLTQuMTg3NSAyLjYwOTM3NSwtNC4xODc1IGMgMC4zNDM3NSwwIDAuNzY1NjI1LDAuMTU2MjUgMS4wNjI1LDAuNTkzNzUgMC4xMDkzNzUsMC4xNzE4NzUgMC4xMDkzNzUsMC4xODc1IDAuMTA5Mzc1LDAuMzc1IHogbSAwLDAiCiAgICAgICAgICAgICBpZD0iaWQtYTNjZDRjYTAtOTI5YS00N2I5LTg1NjItODc1M2Q2YmFhZGQxIiAvPgogICAgICAgIDwvZz4KICAgICAgICA8ZwogICAgICAgICAgIGlkPSJpZC1lYmFmNjRjMS03NmMzLTQzNDctYWM1ZC1iZWMyZjAyMzYwY2YiPgogICAgICAgICAgPHBhdGgKICAgICAgICAgICAgIGQ9Im0gNi42NDA2MjUsLTYuNzUgaCAtNi4wOTM3NSBsIC0wLjE4NzUsMi4yNSBoIDAuMjUgQyAwLjc1LC02LjEwOTM3NSAwLjg5MDYyNSwtNi40Mzc1IDIuNDA2MjUsLTYuNDM3NSBjIDAuMTcxODc1LDAgMC40Mzc1LDAgMC41MzEyNSwwLjAxNTYyNSAwLjIxODc1LDAuMDQ2ODc1IDAuMjE4NzUsMC4xNTYyNSAwLjIxODc1LDAuMzc1IHYgNS4yNjU2MjUgYyAwLDAuMzI4MTI1IDAsMC40Njg3NSAtMS4wNDY4NzUsMC40Njg3NSBIIDEuNzAzMTI1IFYgMCBDIDIuMTA5Mzc1LC0wLjAzMTI1IDMuMTI1LC0wLjAzMTI1IDMuNTkzNzUsLTAuMDMxMjUgYyAwLjQ1MzEyNSwwIDEuNDg0Mzc1LDAgMS44OTA2MjUsMC4wMzEyNSB2IC0wLjMxMjUgaCAtMC40MDYyNSBjIC0xLjA0Njg3NSwwIC0xLjA0Njg3NSwtMC4xNDA2MjUgLTEuMDQ2ODc1LC0wLjQ2ODc1IHYgLTUuMjY1NjI1IGMgMCwtMC4xODc1IDAsLTAuMzI4MTI1IDAuMTg3NSwtMC4zNzUgMC4xMDkzNzUsLTAuMDE1NjI1IDAuMzc1LC0wLjAxNTYyNSAwLjU2MjUsLTAuMDE1NjI1IDEuNTE1NjI1LDAgMS42NTYyNSwwLjMyODEyNSAxLjc5Njg3NSwxLjkzNzUgaCAwLjI1IHogbSAwLDAiCiAgICAgICAgICAgICBpZD0iaWQtNTlmMWZiMTgtZTRjZC00ZGE2LTljNDUtNmZiODA1MzJhNDlmIiAvPgogICAgICAgIDwvZz4KICAgICAgICA8ZwogICAgICAgICAgIGlkPSJpZC0wYjczY2RjYS1iMDRkLTQwMTQtYjViMy1jMDZkODYwNjU2ZTAiPgogICAgICAgICAgPHBhdGgKICAgICAgICAgICAgIGQ9Ik0gMi4zMTI1LC02LjY3MTg3NSBDIDIuMjE4NzUsLTYuNzk2ODc1IDIuMjE4NzUsLTYuODEyNSAyLjAzMTI1LC02LjgxMjUgSCAwLjMyODEyNSBWIC02LjUgSCAwLjYyNSBjIDAuMTQwNjI1LDAgMC4zNDM3NSwwLjAxNTYyNSAwLjQ4NDM3NSwwLjAxNTYyNSAwLjIzNDM3NSwwLjAzMTI1IDAuMjUsMC4wNDY4NzUgMC4yNSwwLjIzNDM3NSB2IDUuMjAzMTI1IGMgMCwwLjI2NTYyNSAwLDAuNzM0Mzc1IC0xLjAzMTI1LDAuNzM0Mzc1IFYgMCBDIDAuNjcxODc1LC0wLjAxNTYyNSAxLjE3MTg3NSwtMC4wMzEyNSAxLjUsLTAuMDMxMjUgYyAwLjMyODEyNSwwIDAuODEyNSwwLjAxNTYyNSAxLjE1NjI1LDAuMDMxMjUgdiAtMC4zMTI1IGMgLTEuMDE1NjI1LDAgLTEuMDE1NjI1LC0wLjQ2ODc1IC0xLjAxNTYyNSwtMC43MzQzNzUgdiAtNS4xODc1IGMgMC4wNDY4NzUsMC4wNDY4NzUgMC4wNDY4NzUsMC4wNjI1IDAuMDkzNzUsMC4xMjUgTCA1Ljc5Njg3NSwtMC4xMjUgQyA1Ljg5MDYyNSwtMC4wMTU2MjUgNS45MDYyNSwwIDUuOTY4NzUsMCA2LjEwOTM3NSwwIDYuMTA5Mzc1LC0wLjA2MjUgNi4xMDkzNzUsLTAuMjY1NjI1IHYgLTUuNSBjIDAsLTAuMjY1NjI1IDAsLTAuNzM0Mzc1IDEuMDMxMjUsLTAuNzM0Mzc1IHYgLTAuMzEyNSBjIC0wLjM1OTM3NSwwLjAxNTYyNSAtMC44NDM3NSwwLjAzMTI1IC0xLjE3MTg3NSwwLjAzMTI1IC0wLjMyODEyNSwwIC0wLjgxMjUsLTAuMDE1NjI1IC0xLjE1NjI1LC0wLjAzMTI1IFYgLTYuNSBjIDEuMDE1NjI1LDAgMS4wMTU2MjUsMC40Njg3NSAxLjAxNTYyNSwwLjczNDM3NSBWIC0xLjUgWiBtIDAsMCIKICAgICAgICAgICAgIGlkPSJpZC1lYmU3ZDU4NC0xNzE2LTQzOTItOWMxOC05ZTU2MWE5ZjM4NGIiIC8+CiAgICAgICAgPC9nPgogICAgICAgIDxnCiAgICAgICAgICAgaWQ9ImlkLWUxMDY5YjA2LTQ1ZTMtNDAzNS1hMzgwLThlMDdhODY2ZGI4ZSI+CiAgICAgICAgICA8cGF0aAogICAgICAgICAgICAgZD0ibSA1Ljg1OTM3NSwtNC41NjI1IGMgMCwtMC4yMTg3NSAwLC0wLjIzNDM3NSAtMC4yMzQzNzUsLTAuMjM0Mzc1IEggNS40NTMxMjUgQyA1LjI5Njg3NSwtNC43OTY4NzUgNS4yODEyNSwtNC44MTI1IDUuMjE4NzUsLTQuODc1IDQuNzY1NjI1LC01LjUgNC4yNSwtNS42NDA2MjUgMy44NTkzNzUsLTUuNjQwNjI1IGMgLTEuMDMxMjUsMCAtMS45Njg3NSwwLjkyMTg3NSAtMS45Njg3NSwyLjE4NzUgMCwxLjI1IDAuOTM3NSwyLjE3MTg3NSAxLjk2ODc1LDIuMTcxODc1IDAuNTMxMjUsMCAxLjAxNTYyNSwtMC4yODEyNSAxLjMxMjUsLTAuNzAzMTI1IDAuMTA5Mzc1LDAuNTE1NjI1IDAuNjI1LDAuNzAzMTI1IDEsMC43MDMxMjUgMC44NzUsMCAxLjAxNTYyNSwtMS4wMTU2MjUgMS4wMTU2MjUsLTIuMDkzNzUgMCwtMi4zMjgxMjUgLTEuNzAzMTI1LC0zLjY1NjI1IC0zLjMxMjUsLTMuNjU2MjUgLTEuODI4MTI1LDAgLTMuMzEyNSwxLjU5Mzc1IC0zLjMxMjUsMy41NzgxMjUgMCwxLjg3NSAxLjM3NSwzLjU2MjUgMy4zNTkzNzUsMy41NjI1IDAuNTMxMjUsMCAxLjE1NjI1LC0wLjA2MjUgMS43OTY4NzUsLTAuMjE4NzUgMC4yNjU2MjUsLTAuMDYyNSAxLjQ1MzEyNSwtMC40MDYyNSAxLjQ1MzEyNSwtMC41NjI1IDAsLTAuMTA5Mzc1IC0wLjA2MjUsLTAuMTA5Mzc1IC0wLjIxODc1LC0wLjEwOTM3NSBoIC0wLjA5Mzc1IGMgLTAuMTU2MjUsMCAtMC4xODc1LDAgLTAuMjM0Mzc1LDAuMDMxMjUgLTAuODQzNzUsMC40MDYyNSAtMS43NjU2MjUsMC42NDA2MjUgLTIuNzAzMTI1LDAuNjQwNjI1IC0xLjgxMjUsMCAtMy4xMDkzNzUsLTEuNTYyNSAtMy4xMDkzNzUsLTMuMzQzNzUgMCwtMS45MDYyNSAxLjQyMTg3NSwtMy4zNTkzNzUgMy4wNjI1LC0zLjM1OTM3NSAxLjM1OTM3NSwwIDMuMDYyNSwxLjA5Mzc1IDMuMDYyNSwzLjUgMCwwLjkyMTg3NSAtMC4wNjI1LDEuODEyNSAtMC43MzQzNzUsMS44MTI1IC0wLjM0Mzc1LDAgLTAuMzQzNzUsLTAuNSAtMC4zNDM3NSwtMC42NTYyNSB6IG0gLTAuNjg3NSwxLjk1MzEyNSBjIDAsMC4xNzE4NzUgMCwwLjIxODc1IC0wLjE0MDYyNSwwLjQyMTg3NSAtMC40Mzc1LDAuNjI1IC0wLjkzNzUsMC42ODc1IC0xLjE0MDYyNSwwLjY4NzUgLTAuNzE4NzUsMCAtMS4zMTI1LC0wLjg1OTM3NSAtMS4zMTI1LC0xLjk1MzEyNSAwLC0xLjEwOTM3NSAwLjU3ODEyNSwtMS45Njg3NSAxLjMxMjUsLTEuOTY4NzUgMC4zMTI1LDAgMC43OTY4NzUsMC4xNTYyNSAxLjE1NjI1LDAuNzE4NzUgMC4xMjUsMC4xODc1IDAuMTI1LDAuMjE4NzUgMC4xMjUsMC4zOTA2MjUgeiBtIDAsMCIKICAgICAgICAgICAgIGlkPSJpZC1iMTNiYzlmNy0wZTVjLTRlZTItYTdjMy1lNzA1ZDI5NDYwM2YiIC8+CiAgICAgICAgPC9nPgogICAgICAgIDxnCiAgICAgICAgICAgaWQ9ImlkLTljYzlmNGYwLWU2YWUtNDVlNS05Yzk1LTI2MWI3YzlhYzQzMSI+CiAgICAgICAgICA8cGF0aAogICAgICAgICAgICAgZD0ibSAxLjA2MjUsLTAuNzUgYyAwLDAuNDM3NSAtMC4xMDkzNzUsMC40Mzc1IC0wLjc4MTI1LDAuNDM3NSBWIDAgYyAwLjMyODEyNSwtMC4wMTU2MjUgMC43OTY4NzUsLTAuMDMxMjUgMS4wNzgxMjUsLTAuMDMxMjUgMC4zMTI1LDAgMC43MDMxMjUsMC4wMTU2MjUgMS4xMDkzNzUsMC4wMzEyNSB2IC0wLjMxMjUgYyAtMC42NzE4NzUsMCAtMC43ODEyNSwwIC0wLjc4MTI1LC0wLjQzNzUgdiAtMS4wMzEyNSBsIDAuNjQwNjI1LC0wLjU0Njg3NSBjIDAuNzY1NjI1LDEuMDQ2ODc1IDEuMTg3NSwxLjYwOTM3NSAxLjE4NzUsMS43OTY4NzUgMCwwLjE4NzUgLTAuMTcxODc1LDAuMjE4NzUgLTAuMzU5Mzc1LDAuMjE4NzUgViAwIGMgMC4yNjU2MjUsLTAuMDE1NjI1IDAuODU5Mzc1LC0wLjAzMTI1IDEuMDc4MTI1LC0wLjAzMTI1IDAuMjgxMjUsMCAwLjU3ODEyNSwwLjAxNTYyNSAwLjg1OTM3NSwwLjAzMTI1IHYgLTAuMzEyNSBjIC0wLjM3NSwwIC0wLjU5Mzc1LDAgLTAuOTY4NzUsLTAuNTMxMjUgTCAyLjg1OTM3NSwtMi42MjUgYyAtMC4wMTU2MjUsLTAuMDE1NjI1IC0wLjA2MjUsLTAuMDc4MTI1IC0wLjA2MjUsLTAuMTA5Mzc1IDAsLTAuMDMxMjUgMC43MTg3NSwtMC42NDA2MjUgMC44MTI1LC0wLjcxODc1IDAuNjI1LC0wLjUgMS4wNDY4NzUsLTAuNTMxMjUgMS4yNSwtMC41MzEyNSB2IC0wLjMxMjUgYyAtMC4yODEyNSwwLjAzMTI1IC0wLjQwNjI1LDAuMDMxMjUgLTAuNjg3NSwwLjAzMTI1IC0wLjM1OTM3NSwwIC0wLjk4NDM3NSwtMC4wMTU2MjUgLTEuMTI1LC0wLjAzMTI1IHYgMC4zMTI1IGMgMC4xODc1LDAgMC4yOTY4NzUsMC4xMDkzNzUgMC4yOTY4NzUsMC4yNSAwLDAuMjAzMTI1IC0wLjE0MDYyNSwwLjMxMjUgLTAuMjE4NzUsMC4zOTA2MjUgbCAtMS40MDYyNSwxLjIwMzEyNSB2IC00Ljc4MTI1IEwgMC4yODEyNSwtNi44MTI1IFYgLTYuNSBjIDAuNzAzMTI1LDAgMC43ODEyNSwwLjA2MjUgMC43ODEyNSwwLjU2MjUgeiBtIDAsMCIKICAgICAgICAgICAgIGlkPSJpZC1mNmFiOTEwMi1jOWM3LTRmODgtODZmOS0yYjI1ZDFkYmFhYWQiIC8+CiAgICAgICAgPC9nPgogICAgICAgIDxnCiAgICAgICAgICAgaWQ9ImlkLWJjYTRkZmYyLTMzM2QtNGVmYy1hMzI3LThkYmZiYmQyM2NjYyI+CiAgICAgICAgICA8cGF0aAogICAgICAgICAgICAgZD0ibSAxLjkwNjI1LC0wLjUzMTI1IGMgMCwtMC4yODEyNSAtMC4yMzQzNzUsLTAuNTMxMjUgLTAuNTE1NjI1LC0wLjUzMTI1IC0wLjI5Njg3NSwwIC0wLjUzMTI1LDAuMjUgLTAuNTMxMjUsMC41MzEyNSBDIDAuODU5Mzc1LC0wLjIzNDM3NSAxLjA5Mzc1LDAgMS4zOTA2MjUsMCAxLjY3MTg3NSwwIDEuOTA2MjUsLTAuMjM0Mzc1IDEuOTA2MjUsLTAuNTMxMjUgWiBtIDAsMCIKICAgICAgICAgICAgIGlkPSJpZC1jYmZiNTI0Zi00ZTUwLTQ3NTQtOWM0NC05MzE3OTMzNjI0ZTEiIC8+CiAgICAgICAgPC9nPgogICAgICAgIDxnCiAgICAgICAgICAgaWQ9ImlkLTJkNDczNjVjLTc2MzUtNDcwMi04OTU4LTc4YTM4NWNmZDM1MCI+CiAgICAgICAgICA8cGF0aAogICAgICAgICAgICAgZD0ibSAxLjE3MTg3NSwtMi4xNzE4NzUgYyAwLC0xLjYyNSAwLjgxMjUsLTIuMDQ2ODc1IDEuMzQzNzUsLTIuMDQ2ODc1IDAuMDkzNzUsMCAwLjcxODc1LDAuMDE1NjI1IDEuMDYyNSwwLjM3NSAtMC40MDYyNSwwLjAzMTI1IC0wLjQ2ODc1LDAuMzI4MTI1IC0wLjQ2ODc1LDAuNDUzMTI1IDAsMC4yNjU2MjUgMC4xODc1LDAuNDUzMTI1IDAuNDUzMTI1LDAuNDUzMTI1IDAuMjY1NjI1LDAgMC40Njg3NSwtMC4xNTYyNSAwLjQ2ODc1LC0wLjQ2ODc1IDAsLTAuNjcxODc1IC0wLjc2NTYyNSwtMS4wNjI1IC0xLjUzMTI1LC0xLjA2MjUgLTEuMjUsMCAtMi4xNTYyNSwxLjA3ODEyNSAtMi4xNTYyNSwyLjMxMjUgMCwxLjI4MTI1IDAuOTg0Mzc1LDIuMjY1NjI1IDIuMTQwNjI1LDIuMjY1NjI1IDEuMzI4MTI1LDAgMS42NTYyNSwtMS4yMDMxMjUgMS42NTYyNSwtMS4yOTY4NzUgMCwtMC4wOTM3NSAtMC4xMDkzNzUsLTAuMDkzNzUgLTAuMTQwNjI1LC0wLjA5Mzc1IC0wLjA3ODEyNSwwIC0wLjEwOTM3NSwwLjAzMTI1IC0wLjEyNSwwLjA5Mzc1IC0wLjI4MTI1LDAuOTIxODc1IC0wLjkzNzUsMS4wNDY4NzUgLTEuMjk2ODc1LDEuMDQ2ODc1IC0wLjUzMTI1LDAgLTEuNDA2MjUsLTAuNDIxODc1IC0xLjQwNjI1LC0yLjAzMTI1IHogbSAwLDAiCiAgICAgICAgICAgICBpZD0iaWQtY2VmNjViZjUtYzlhMy00Mjg5LWE5YTMtNzM1MjMzNWY1OWNlIiAvPgogICAgICAgIDwvZz4KICAgICAgICA8ZwogICAgICAgICAgIGlkPSJpZC1mOTkxZWJhYy1lNDlhLTQyOGQtOTNhZC0xYzIxZWM3MDBiMWQiPgogICAgICAgICAgPHBhdGgKICAgICAgICAgICAgIGQ9Im0gMi45Mzc1LC02LjM3NSBjIDAsLTAuMjUgMCwtMC4yNjU2MjUgLTAuMjM0Mzc1LC0wLjI2NTYyNSBDIDIuMDc4MTI1LC02IDEuMjAzMTI1LC02IDAuODkwNjI1LC02IHYgMC4zMTI1IGMgMC4yMDMxMjUsMCAwLjc4MTI1LDAgMS4yOTY4NzUsLTAuMjY1NjI1IHYgNS4xNzE4NzUgYyAwLDAuMzU5Mzc1IC0wLjAzMTI1LDAuNDY4NzUgLTAuOTIxODc1LDAuNDY4NzUgaCAtMC4zMTI1IFYgMCBjIDAuMzQzNzUsLTAuMDMxMjUgMS4yMDMxMjUsLTAuMDMxMjUgMS42MDkzNzUsLTAuMDMxMjUgMC4zOTA2MjUsMCAxLjI2NTYyNSwwIDEuNjA5Mzc1LDAuMDMxMjUgdiAtMC4zMTI1IGggLTAuMzEyNSBjIC0wLjkwNjI1LDAgLTAuOTIxODc1LC0wLjEwOTM3NSAtMC45MjE4NzUsLTAuNDY4NzUgeiBtIDAsMCIKICAgICAgICAgICAgIGlkPSJpZC01YzQ3MjllOS01YmQ5LTQ1NzYtOGM5OS1mOWE2MjlmZDhmMGUiIC8+CiAgICAgICAgPC9nPgogICAgICAgIDxnCiAgICAgICAgICAgaWQ9ImlkLTE3Yzc1OTkyLTViNjYtNGY3OS1iOWZiLWMzZmY2YjNmYTFkMCI+CiAgICAgICAgICA8cGF0aAogICAgICAgICAgICAgZD0ibSAzLjQ4NDM3NSwtMy44NzUgLTEuMjgxMjUsLTAuMjk2ODc1IGMgLTAuNjI1LC0wLjE1NjI1IC0xLC0wLjY4NzUgLTEsLTEuMjY1NjI1IDAsLTAuNzAzMTI1IDAuNTMxMjUsLTEuMzEyNSAxLjMxMjUsLTEuMzEyNSAxLjY1NjI1LDAgMS44NzUsMS42NDA2MjUgMS45Mzc1LDIuMDc4MTI1IDAuMDE1NjI1LDAuMDYyNSAwLjAxNTYyNSwwLjEyNSAwLjEyNSwwLjEyNSAwLjEyNSwwIDAuMTI1LC0wLjA0Njg3NSAwLjEyNSwtMC4yMzQzNzUgdiAtMiBjIDAsLTAuMTcxODc1IDAsLTAuMjUgLTAuMTA5Mzc1LC0wLjI1IC0wLjA2MjUsMCAtMC4wNzgxMjUsMC4wMTU2MjUgLTAuMTQwNjI1LDAuMTQwNjI1IGwgLTAuMzU5Mzc1LDAuNTYyNSBDIDMuNzk2ODc1LC02LjYyNSAzLjM5MDYyNSwtNy4wMzEyNSAyLjUsLTcuMDMxMjUgYyAtMS4xMDkzNzUsMCAtMS45Mzc1LDAuODc1IC0xLjkzNzUsMS45Mzc1IDAsMC44MjgxMjUgMC41MzEyNSwxLjU2MjUgMS4yOTY4NzUsMS44MjgxMjUgMC4xMDkzNzUsMC4wMzEyNSAwLjYyNSwwLjE1NjI1IDEuMzI4MTI1LDAuMzI4MTI1IDAuMjY1NjI1LDAuMDYyNSAwLjU2MjUsMC4xNDA2MjUgMC44NDM3NSwwLjUgMC4yMDMxMjUsMC4yNjU2MjUgMC4zMTI1LDAuNTkzNzUgMC4zMTI1LDAuOTIxODc1IDAsMC43MDMxMjUgLTAuNSwxLjQyMTg3NSAtMS4zNDM3NSwxLjQyMTg3NSAtMC4yODEyNSwwIC0xLjA0Njg3NSwtMC4wNDY4NzUgLTEuNTc4MTI1LC0wLjUzMTI1IEMgMC44NDM3NSwtMS4xNzE4NzUgMC44MTI1LC0xLjc5Njg3NSAwLjgxMjUsLTIuMTU2MjUgMC43OTY4NzUsLTIuMjY1NjI1IDAuNzE4NzUsLTIuMjY1NjI1IDAuNjg3NSwtMi4yNjU2MjUgYyAtMC4xMjUsMCAtMC4xMjUsMC4wNzgxMjUgLTAuMTI1LDAuMjUgdiAyIGMgMCwwLjE3MTg3NSAwLDAuMjM0Mzc1IDAuMTA5Mzc1LDAuMjM0Mzc1IDAuMDYyNSwwIDAuMDc4MTI1LC0wLjAxNTYyNSAwLjE0MDYyNSwtMC4xMjUgMCwtMC4wMTU2MjUgMC4wMzEyNSwtMC4wNDY4NzUgMC4zNTkzNzUsLTAuNTc4MTI1IDAuMzEyNSwwLjM0Mzc1IDAuOTUzMTI1LDAuNzAzMTI1IDEuODQzNzUsMC43MDMxMjUgMS4xNTYyNSwwIDEuOTUzMTI1LC0wLjk2ODc1IDEuOTUzMTI1LC0yLjA3ODEyNSAwLC0wLjk4NDM3NSAtMC42NTYyNSwtMS44MTI1IC0xLjQ4NDM3NSwtMi4wMTU2MjUgeiBtIDAsMCIKICAgICAgICAgICAgIGlkPSJpZC0yNGJkNzExMi0wOTk0LTQ1YTItODlkMC1mNWM2MDFlNTQwY2EiIC8+CiAgICAgICAgPC9nPgogICAgICAgIDxnCiAgICAgICAgICAgaWQ9ImlkLTNkZmQ1YzU1LTdmM2QtNGFhMC1hMjg5LThkNGZkYTZhMzRkMSI+CiAgICAgICAgICA8cGF0aAogICAgICAgICAgICAgZD0ibSAyLjIxODc1LC0xLjcxODc1IGMgLTAuODc1LDAgLTAuODc1LC0xIC0wLjg3NSwtMS4yMTg3NSAwLC0wLjI2NTYyNSAwLjAxNTYyNSwtMC41OTM3NSAwLjE1NjI1LC0wLjg0Mzc1IDAuMDc4MTI1LC0wLjEwOTM3NSAwLjMxMjUsLTAuMzkwNjI1IDAuNzE4NzUsLTAuMzkwNjI1IDAuODU5Mzc1LDAgMC44NTkzNzUsMC45ODQzNzUgMC44NTkzNzUsMS4yMTg3NSAwLDAuMjY1NjI1IDAsMC41OTM3NSAtMC4xNTYyNSwwLjg0Mzc1IEMgMi44NDM3NSwtMiAyLjYwOTM3NSwtMS43MTg3NSAyLjIxODc1LC0xLjcxODc1IFogTSAxLjA2MjUsLTEuMzI4MTI1IGMgMCwtMC4wMzEyNSAwLC0wLjI2NTYyNSAwLjE1NjI1LC0wLjQ2ODc1IDAuMzkwNjI1LDAuMjgxMjUgMC44MTI1LDAuMzEyNSAxLDAuMzEyNSAwLjkyMTg3NSwwIDEuNjA5Mzc1LC0wLjY4NzUgMS42MDkzNzUsLTEuNDUzMTI1IDAsLTAuMzc1IC0wLjE1NjI1LC0wLjczNDM3NSAtMC40MDYyNSwtMC45Njg3NSBDIDMuNzgxMjUsLTQuMjUgNC4xNDA2MjUsLTQuMjk2ODc1IDQuMzEyNSwtNC4yOTY4NzUgYyAwLjAzMTI1LDAgMC4wNzgxMjUsMCAwLjEwOTM3NSwwLjAxNTYyNSBDIDQuMzEyNSwtNC4yNSA0LjI1LC00LjE0MDYyNSA0LjI1LC00LjAxNTYyNSBjIDAsMC4xNzE4NzUgMC4xNDA2MjUsMC4yODEyNSAwLjI5Njg3NSwwLjI4MTI1IDAuMDkzNzUsMCAwLjI4MTI1LC0wLjA2MjUgMC4yODEyNSwtMC4yOTY4NzUgMCwtMC4xNzE4NzUgLTAuMTA5Mzc1LC0wLjQ4NDM3NSAtMC41LC0wLjQ4NDM3NSAtMC4yMDMxMjUsMCAtMC42NDA2MjUsMC4wNjI1IC0xLjA2MjUsMC40Njg3NSBDIDIuODQzNzUsLTQuMzc1IDIuNDM3NSwtNC40MDYyNSAyLjIxODc1LC00LjQwNjI1IGMgLTAuOTM3NSwwIC0xLjYyNSwwLjY4NzUgLTEuNjI1LDEuNDUzMTI1IDAsMC40Mzc1IDAuMjE4NzUsMC44MTI1IDAuNDY4NzUsMS4wMzEyNSAtMC4xMjUsMC4xNDA2MjUgLTAuMzEyNSwwLjQ2ODc1IC0wLjMxMjUsMC44MjgxMjUgMCwwLjMxMjUgMC4xNDA2MjUsMC42ODc1IDAuNDUzMTI1LDAuODkwNjI1IC0wLjYwOTM3NSwwLjE1NjI1IC0wLjkyMTg3NSwwLjU5Mzc1IC0wLjkyMTg3NSwwLjk4NDM3NSAwLDAuNzE4NzUgMC45ODQzNzUsMS4yNjU2MjUgMi4yMDMxMjUsMS4yNjU2MjUgMS4xNzE4NzUsMCAyLjIwMzEyNSwtMC41IDIuMjAzMTI1LC0xLjI4MTI1IDAsLTAuMzQzNzUgLTAuMTI1LC0wLjg1OTM3NSAtMC42NDA2MjUsLTEuMTQwNjI1IC0wLjUzMTI1LC0wLjI2NTYyNSAtMS4xMDkzNzUsLTAuMjY1NjI1IC0xLjcxODc1LC0wLjI2NTYyNSAtMC4yNSwwIC0wLjY3MTg3NSwwIC0wLjc1LC0wLjAxNTYyNSBDIDEuMjY1NjI1LC0wLjcwMzEyNSAxLjA2MjUsLTEgMS4wNjI1LC0xLjMyODEyNSBaIE0gMi41LDEuODI4MTI1IGMgLTEuMDE1NjI1LDAgLTEuNzAzMTI1LC0wLjUxNTYyNSAtMS43MDMxMjUsLTEuMDQ2ODc1IDAsLTAuNDUzMTI1IDAuMzc1LC0wLjgyODEyNSAwLjgxMjUsLTAuODQzNzUgaCAwLjU5Mzc1IGMgMC44NTkzNzUsMCAxLjk2ODc1LDAgMS45Njg3NSwwLjg0Mzc1IDAsMC41NDY4NzUgLTAuNzAzMTI1LDEuMDQ2ODc1IC0xLjY3MTg3NSwxLjA0Njg3NSB6IG0gMCwwIgogICAgICAgICAgICAgaWQ9ImlkLWQ5ODIwYzgxLTI0ODktNGJkYy1iMjVkLWJiMWZiMjZlYmU1OSIgLz4KICAgICAgICA8L2c+CiAgICAgICAgPGcKICAgICAgICAgICBpZD0iaWQtOGVhYWJhOWMtM2RlZC00NWMzLWE4M2MtMGU2NDIyYzIxOTM4Ij4KICAgICAgICAgIDxwYXRoCiAgICAgICAgICAgICBkPSJtIDEuMjY1NjI1LC0wLjc2NTYyNSAxLjA2MjUsLTEuMDMxMjUgYyAxLjU0Njg3NSwtMS4zNzUgMi4xNDA2MjUsLTEuOTA2MjUgMi4xNDA2MjUsLTIuOTA2MjUgMCwtMS4xNDA2MjUgLTAuODkwNjI1LC0xLjkzNzUgLTIuMTA5Mzc1LC0xLjkzNzUgLTEuMTI1LDAgLTEuODU5Mzc1LDAuOTIxODc1IC0xLjg1OTM3NSwxLjgxMjUgMCwwLjU0Njg3NSAwLjUsMC41NDY4NzUgMC41MzEyNSwwLjU0Njg3NSAwLjE3MTg3NSwwIDAuNTE1NjI1LC0wLjEwOTM3NSAwLjUxNTYyNSwtMC41MzEyNSAwLC0wLjI1IC0wLjE4NzUsLTAuNTE1NjI1IC0wLjUzMTI1LC0wLjUxNTYyNSAtMC4wNzgxMjUsMCAtMC4wOTM3NSwwIC0wLjEyNSwwLjAxNTYyNSAwLjIxODc1LC0wLjY1NjI1IDAuNzY1NjI1LC0xLjAxNTYyNSAxLjM0Mzc1LC0xLjAxNTYyNSAwLjkwNjI1LDAgMS4zMjgxMjUsMC44MTI1IDEuMzI4MTI1LDEuNjI1IEMgMy41NjI1LC0zLjkwNjI1IDMuMDc4MTI1LC0zLjEyNSAyLjUxNTYyNSwtMi41IGwgLTEuOTA2MjUsMi4xMjUgQyAwLjUsLTAuMjY1NjI1IDAuNSwtMC4yMzQzNzUgMC41LDAgSCA0LjIwMzEyNSBMIDQuNDY4NzUsLTEuNzM0Mzc1IEggNC4yMzQzNzUgQyA0LjE3MTg3NSwtMS40Mzc1IDQuMTA5Mzc1LC0xIDQsLTAuODQzNzUgMy45Mzc1LC0wLjc2NTYyNSAzLjI4MTI1LC0wLjc2NTYyNSAzLjA2MjUsLTAuNzY1NjI1IFogbSAwLDAiCiAgICAgICAgICAgICBpZD0iaWQtNWZjMTQ1ZWYtODgxNC00NTk1LThkZWItOWQ3YTYyZjc4OGM3IiAvPgogICAgICAgIDwvZz4KICAgICAgICA8ZwogICAgICAgICAgIGlkPSJpZC0yNDEzM2NlMi0wNDI2LTRkNTYtYjc0Ni0wOGY1ZTFlZWRhNjIiPgogICAgICAgICAgPHBhdGgKICAgICAgICAgICAgIGQ9Im0gMi4wOTM3NSwtNC40MDYyNSAtMS41MTU2MjUsMC4xMDkzNzUgdiAwLjMxMjUgYyAwLjc2NTYyNSwwIDAuODU5Mzc1LDAuMDYyNSAwLjg1OTM3NSwwLjU2MjUgdiAzLjkzNzUgYyAwLDAuNDUzMTI1IC0wLjA5Mzc1LDEuMzEyNSAtMC43MzQzNzUsMS4zMTI1IC0wLjA0Njg3NSwwIC0wLjI4MTI1LDAgLTAuNTMxMjUsLTAuMTQwNjI1IEMgMC4zMTI1LDEuNjU2MjUgMC41MTU2MjUsMS41MTU2MjUgMC41MTU2MjUsMS4yNSAwLjUxNTYyNSwwLjk4NDM3NSAwLjM0Mzc1LDAuNzgxMjUgMC4wNjI1LDAuNzgxMjUgYyAtMC4yODEyNSwwIC0wLjQ2ODc1LDAuMjAzMTI1IC0wLjQ2ODc1LDAuNDY4NzUgMCwwLjUxNTYyNSAwLjU2MjUsMC43OTY4NzUgMS4xNDA2MjUsMC43OTY4NzUgQyAxLjQ2ODc1LDIuMDQ2ODc1IDIuMDkzNzUsMS40MDYyNSAyLjA5Mzc1LDAuNSBaIG0gMCwtMS43MzQzNzUgYyAwLC0wLjI5Njg3NSAtMC4yMzQzNzUsLTAuNTMxMjUgLTAuNTMxMjUsLTAuNTMxMjUgLTAuMjgxMjUsMCAtMC41MzEyNSwwLjIzNDM3NSAtMC41MzEyNSwwLjUzMTI1IDAsMC4yODEyNSAwLjI1LDAuNTMxMjUgMC41MzEyNSwwLjUzMTI1IDAuMjk2ODc1LDAgMC41MzEyNSwtMC4yNSAwLjUzMTI1LC0wLjUzMTI1IHogbSAwLDAiCiAgICAgICAgICAgICBpZD0iaWQtOGI4ZTRkZDgtZGVjYi00Y2U5LWI0NGEtZTUzYWFlNjFkYWIwIiAvPgogICAgICAgIDwvZz4KICAgICAgICA8ZwogICAgICAgICAgIGlkPSJpZC1iNTk5NDc1ZC00MWUzLTRjZTAtYjVjMS1iYWI5NWJkYTg4ZDciPgogICAgICAgICAgPHBhdGgKICAgICAgICAgICAgIGQ9Ik0gMy4wMTU2MjUsLTEuNDY4NzUgQyAzLjAxNTYyNSwtMC41NjI1IDIuNTE1NjI1LDAgMS45ODQzNzUsMCAxLjkyMTg3NSwwIDEuMjUsMCAwLjg5MDYyNSwtMC41NzgxMjUgMS40MDYyNSwtMC41NzgxMjUgMS41MzEyNSwtMC44NzUgMS41MzEyNSwtMS4xNDA2MjUgMS41MzEyNSwtMS41IDEuMjUsLTEuNjg3NSAwLjk2ODc1LC0xLjY4NzUgYyAtMC4yMTg3NSwwIC0wLjU2MjUsMC4xMjUgLTAuNTYyNSwwLjU3ODEyNSAwLDAuNzM0Mzc1IDAuNzAzMTI1LDEuMzI4MTI1IDEuNTkzNzUsMS4zMjgxMjUgMS4wMTU2MjUsMCAxLjc1LC0wLjcwMzEyNSAxLjg1OTM3NSwtMS40Mzc1IEMgMy44NzUsLTEuMzEyNSAzLjg3NSwtMS4zMjgxMjUgMy44NzUsLTEuNjcxODc1IFYgLTYuMDkzNzUgQyAzLjg3NSwtNi41IDQsLTYuNSA0LjY0MDYyNSwtNi41IHYgLTAuMzEyNSBjIC0wLjQzNzUsMC4wMzEyNSAtMC44MjgxMjUsMC4wMzEyNSAtMS4yOTY4NzUsMC4wMzEyNSAtMC40MDYyNSwwIC0xLjI5Njg3NSwwIC0xLjY3MTg3NSwtMC4wMzEyNSBWIC02LjUgSCAyLjAzMTI1IGMgMC45ODQzNzUsMCAwLjk4NDM3NSwwLjEyNSAwLjk4NDM3NSwwLjQ4NDM3NSB6IG0gMCwwIgogICAgICAgICAgICAgaWQ9ImlkLTY5NzkxNGEwLTg4NmEtNDI4Ni1iYWNlLTg5MGJiOWYyNDgzNyIgLz4KICAgICAgICA8L2c+CiAgICAgICAgPGcKICAgICAgICAgICBpZD0iaWQtNDkyYzQ5YmQtNWIzMS00MjM5LTliMjYtYmYyZTFjMDU2YmJkIj4KICAgICAgICAgIDxwYXRoCiAgICAgICAgICAgICBkPSJNIDIuNDA2MjUsLTYuNTkzNzUgQyAyLjMxMjUsLTYuODEyNSAyLjI4MTI1LC02LjgxMjUgMi4wNDY4NzUsLTYuODEyNSBIIDAuMzc1IFYgLTYuNSBoIDAuMjM0Mzc1IGMgMC43NjU2MjUsMCAwLjc4MTI1LDAuMTA5Mzc1IDAuNzgxMjUsMC40Njg3NSB2IDQuOTg0Mzc1IGMgMCwwLjI2NTYyNSAwLDAuNzM0Mzc1IC0xLjAxNTYyNSwwLjczNDM3NSBWIDAgYyAwLjM0Mzc1LC0wLjAxNTYyNSAwLjgyODEyNSwtMC4wMzEyNSAxLjE1NjI1LC0wLjAzMTI1IDAuMzI4MTI1LDAgMC44MjgxMjUsMC4wMTU2MjUgMS4xNzE4NzUsMC4wMzEyNSB2IC0wLjMxMjUgYyAtMS4wMzEyNSwwIC0xLjAzMTI1LC0wLjQ2ODc1IC0xLjAzMTI1LC0wLjczNDM3NSB2IC01LjM3NSBIIDEuNjg3NSBMIDQuMDkzNzUsLTAuMjE4NzUgQyA0LjE0MDYyNSwtMC4wOTM3NSA0LjE4NzUsMCA0LjI4MTI1LDAgNC4zOTA2MjUsMCA0LjQyMTg3NSwtMC4wNzgxMjUgNC40Njg3NSwtMC4xODc1IEwgNi45MjE4NzUsLTYuNSB2IDUuNzE4NzUgYyAwLDAuMzU5Mzc1IC0wLjAxNTYyNSwwLjQ2ODc1IC0wLjc4MTI1LDAuNDY4NzUgSCA1LjkwNjI1IFYgMCBjIDAuMzU5Mzc1LC0wLjAzMTI1IDEuMDQ2ODc1LC0wLjAzMTI1IDEuNDM3NSwtMC4wMzEyNSAwLjM3NSwwIDEuMDQ2ODc1LDAgMS40MjE4NzUsMC4wMzEyNSB2IC0wLjMxMjUgaCAtMC4yNSBjIC0wLjc2NTYyNSwwIC0wLjc4MTI1LC0wLjEwOTM3NSAtMC43ODEyNSwtMC40Njg3NSB2IC01LjI1IEMgNy43MzQzNzUsLTYuMzkwNjI1IDcuNzUsLTYuNSA4LjUxNTYyNSwtNi41IGggMC4yNSB2IC0wLjMxMjUgaCAtMS42ODc1IEMgNi44MTI1LC02LjgxMjUgNi44MTI1LC02Ljc5Njg3NSA2Ljc1LC02LjYyNSBMIDQuNTYyNSwtMSBaIG0gMCwwIgogICAgICAgICAgICAgaWQ9ImlkLTBiOWYzYzFjLTY1ZTYtNGYyNy1iMjYwLTViYzE5NTMyYzEzYiIgLz4KICAgICAgICA8L2c+CiAgICAgICAgPGcKICAgICAgICAgICBpZD0iaWQtNGQzZWYyYTQtYmI3YS00MzBkLTkxM2MtYjAwYTgyMTQyMDdhIj4KICAgICAgICAgIDxwYXRoCiAgICAgICAgICAgICBkPSJNIDIuODU5Mzc1LC0yLjM0Mzc1IEMgMy4xNTYyNSwtMi43MTg3NSAzLjUzMTI1LC0zLjIwMzEyNSAzLjc4MTI1LC0zLjQ2ODc1IDQuMDkzNzUsLTMuODI4MTI1IDQuNSwtMy45ODQzNzUgNC45Njg3NSwtMy45ODQzNzUgdiAtMC4zMTI1IGMgLTAuMjY1NjI1LDAuMDE1NjI1IC0wLjU2MjUsMC4wMzEyNSAtMC44MjgxMjUsMC4wMzEyNSAtMC4yOTY4NzUsMCAtMC44MjgxMjUsLTAuMDE1NjI1IC0wLjk1MzEyNSwtMC4wMzEyNSB2IDAuMzEyNSBjIDAuMjE4NzUsMC4wMTU2MjUgMC4yOTY4NzUsMC4xNDA2MjUgMC4yOTY4NzUsMC4zMTI1IDAsMC4xNTYyNSAtMC4xMDkzNzUsMC4yODEyNSAtMC4xNTYyNSwwLjM0Mzc1IEwgMi43MTg3NSwtMi41NDY4NzUgMS45Mzc1LC0zLjU2MjUgQyAxLjg0Mzc1LC0zLjY1NjI1IDEuODQzNzUsLTMuNjcxODc1IDEuODQzNzUsLTMuNzM0Mzc1IGMgMCwtMC4xNTYyNSAwLjE1NjI1LC0wLjI1IDAuMzQzNzUsLTAuMjUgdiAtMC4zMTI1IGMgLTAuMjUsMC4wMTU2MjUgLTAuOTA2MjUsMC4wMzEyNSAtMS4wNzgxMjUsMC4wMzEyNSAtMC4yMDMxMjUsMCAtMC42NzE4NzUsLTAuMDE1NjI1IC0wLjkzNzUsLTAuMDMxMjUgdiAwLjMxMjUgYyAwLjcwMzEyNSwwIDAuNzAzMTI1LDAgMS4xNzE4NzUsMC42MDkzNzUgbCAwLjk4NDM3NSwxLjI4MTI1IC0wLjkzNzUsMS4xODc1IEMgMC45MjE4NzUsLTAuMzI4MTI1IDAuMzI4MTI1LC0wLjMxMjUgMC4xMjUsLTAuMzEyNSBWIDAgYyAwLjI1LC0wLjAxNTYyNSAwLjU2MjUsLTAuMDMxMjUgMC44MjgxMjUsLTAuMDMxMjUgMC4yODEyNSwwIDAuNzAzMTI1LDAuMDE1NjI1IDAuOTM3NSwwLjAzMTI1IHYgLTAuMzEyNSBjIC0wLjIxODc1LC0wLjAzMTI1IC0wLjI4MTI1LC0wLjE1NjI1IC0wLjI4MTI1LC0wLjMxMjUgMCwtMC4yMTg3NSAwLjI4MTI1LC0wLjU0Njg3NSAwLjg5MDYyNSwtMS4yNjU2MjUgbCAwLjc2NTYyNSwxIEMgMy4zNDM3NSwtMC43ODEyNSAzLjQ2ODc1LC0wLjYyNSAzLjQ2ODc1LC0wLjU2MjUgYyAwLDAuMDkzNzUgLTAuMDkzNzUsMC4yNSAtMC4zNTkzNzUsMC4yNSBWIDAgQyAzLjQwNjI1LC0wLjAxNTYyNSAzLjk2ODc1LC0wLjAzMTI1IDQuMTg3NSwtMC4wMzEyNSBjIDAuMjY1NjI1LDAgMC42NTYyNSwwLjAxNTYyNSAwLjk1MzEyNSwwLjAzMTI1IHYgLTAuMzEyNSBjIC0wLjUzMTI1LDAgLTAuNzE4NzUsLTAuMDE1NjI1IC0wLjkzNzUsLTAuMzEyNSB6IG0gMCwwIgogICAgICAgICAgICAgaWQ9ImlkLWYyNmQyZjNjLWM1N2QtNDczZC04M2UwLTQzZjlkZmEwYzc0MSIgLz4KICAgICAgICA8L2c+CiAgICAgIDwvZz4KICAgIDwvZGVmcz4KICA8L2RlZnM+CiAgPGcKICAgICBpbmtzY2FwZTpsYWJlbD0iTGF5ZXIgMSIKICAgICBpbmtzY2FwZTpncm91cG1vZGU9ImxheWVyIgogICAgIGlkPSJsYXllcjEiCiAgICAgdHJhbnNmb3JtPSJ0cmFuc2xhdGUoNTAuOTc3NzYzLC0xOS41ODc5MDcpIj4KICAgIDx0ZXh0CiAgICAgICB4bWw6c3BhY2U9InByZXNlcnZlIgogICAgICAgc3R5bGU9ImZvbnQtc3R5bGU6bm9ybWFsO2ZvbnQtdmFyaWFudDpub3JtYWw7Zm9udC13ZWlnaHQ6bm9ybWFsO2ZvbnQtc3RyZXRjaDpub3JtYWw7Zm9udC1zaXplOjIwLjc2cHg7Zm9udC1mYW1pbHk6J0dlZXphIFBybyc7LWlua3NjYXBlLWZvbnQtc3BlY2lmaWNhdGlvbjonR2VlemEgUHJvLCBOb3JtYWwnO2ZvbnQtdmFyaWFudC1saWdhdHVyZXM6bm9ybWFsO2ZvbnQtdmFyaWFudC1jYXBzOm5vcm1hbDtmb250LXZhcmlhbnQtbnVtZXJpYzpub3JtYWw7Zm9udC12YXJpYW50LWVhc3QtYXNpYW46bm9ybWFsO2ZpbGw6IzAwMDAwMDtmaWxsLW9wYWNpdHk6MDtzdHJva2U6bm9uZTtzdHJva2Utd2lkdGg6MC41NzM4Nzk7c3Ryb2tlLWxpbmVjYXA6cm91bmQ7c3Ryb2tlLWxpbmVqb2luOnJvdW5kO3N0cm9rZS1kYXNoYXJyYXk6bm9uZSIKICAgICAgIHg9Ii0zMC4wODA3MTciCiAgICAgICB5PSIzOTkuOTg4MTkiCiAgICAgICBpZD0idGV4dDIzMTUiCiAgICAgICB0cmFuc2Zvcm09InNjYWxlKDAuOTkyODAyOTgsMS4wMDcyNDkyKSI+PHRzcGFuCiAgICAgICAgIHNvZGlwb2RpOnJvbGU9ImxpbmUiCiAgICAgICAgIGlkPSJ0c3BhbjIzMTMiCiAgICAgICAgIHN0eWxlPSJzdHJva2Utd2lkdGg6MC41NzM4NzkiCiAgICAgICAgIHg9Ii0zMC4wODA3MTciCiAgICAgICAgIHk9IjM5OS45ODgxOSI+PC90c3Bhbj48L3RleHQ+CiAgICA8cGF0aAogICAgICAgZD0ibSAtMjguNDczNjMyLDM2LjQ2MjgzOCBoIC0yLjEyMzQ1MSBsIC0xLjQ2OTMxNCwtNC4yMzcyMzMgaCAtNi40ODEwNjEgbCAtMS40NjkzMDksNC4yMzcyMzMgaCAtMi4wMjI4MjEgbCA1LjQ1NDU2NSwtMTUuMjAyOTkyIGggMi42NTY4MzEgeiBtIC00LjIwNjY1MywtNS45NzI5NyAtMi42MjY2NCwtNy40NjM2NTUgLTIuNjM2NzA4LDcuNDYzNjU1IHoiCiAgICAgICBpZD0icGF0aDMwMTciCiAgICAgICBzdHlsZT0iZm9udC1zaXplOjQuMjMzMzNweDstaW5rc2NhcGUtZm9udC1zcGVjaWZpY2F0aW9uOidzYW5zLXNlcmlmLCBOb3JtYWwnO2ZpbGw6IzAwMDAwMDtmaWxsLW9wYWNpdHk6MDtzdHJva2U6IzAwMDAwMDtzdHJva2Utd2lkdGg6MC44NzAzMzU7c3Ryb2tlLWxpbmVjYXA6cm91bmQ7c3Ryb2tlLWxpbmVqb2luOnJvdW5kO3N0cm9rZS1kYXNoYXJyYXk6bm9uZSIgLz4KICAgIDxwYXRoCiAgICAgICBkPSJtIC03LjY1MTcwMTYsMzEuNzg2NTYzIHEgMCwxLjEzMzMzMiAtMC40MjI2OTYsMi4wMDEyIC0wLjQyMjY5NiwwLjg2Nzg2OSAtMS4xMzcyMDQxLDEuNDI5NDMgLTAuODQ1MzU4MywwLjY3Mzg3NSAtMS44NjE4MDAzLDAuOTU5NzU4IC0xLjAwNjM3NCwwLjI4NTg5NyAtMi41NjYyNTksMC4yODU4OTcgaCAtNS4zMTM2NjYgViAyMS4yNTk4NTYgaCA0LjQzODExOCBxIDEuNjQwMzkzLDAgMi40NTU1NiwwLjEyMjU0OCAwLjgxNTE2MywwLjEyMjUgMS41NTk4ODYsMC41MTA1MDcgMC44MjUyMjYsMC40MzkwMjIgMS4xOTc1ODUsMS4xMzMzMzYgMC4zNzIzNTQyLDAuNjg0MDggMC4zNzIzNTQyLDEuNjQzODM4IDAsMS4wODIyODIgLTAuNTQzNDQzMywxLjg0ODA1MSAtMC41NDM0NDI5LDAuNzU1NTU1IC0xLjQ0OTE4MTksMS4yMTUwMTIgdiAwLjA4MTcgcSAxLjUxOTYzMTIsMC4zMTY1MjIgMi4zOTUxNzQ3LDEuMzU3OTU1IDAuODc1NTQ4NCwxLjAzMTIzMiAwLjg3NTU0ODQsMi42MTM4MSB6IG0gLTMuMzUxMjMxNCwtNi44NTEwNDQgcSAwLC0wLjU1MTM1MSAtMC4xODExNjIsLTAuOTI5MTI5IC0wLjE4MTE2MywtMC4zNzc3NzIgLTAuNTgzNjk4LC0wLjYxMjYxIC0wLjQ3Mjk4OSwtMC4yNzU2NzMgLTEuMTQ3MjcyLC0wLjMzNjkyMyAtMC42NzQyNzQsLTAuMDcxNDcgLTEuNjcwNTg0LC0wLjA3MTQ3IGggLTIuMzc1MDQ4IHYgNC4zOTAzODcgaCAyLjU3NjMyMyBxIDAuOTM1OTI5LDAgMS40ODk0MzYsLTAuMDkxODcgMC41NTM1MDcsLTAuMTAyMDk5IDEuMDI2NTA2LC0wLjQwODM5NyAwLjQ3Mjk4OSwtMC4zMDYyOTggMC42NjQyMSwtMC43ODYxODQgMC4yMDEyNywtMC40OTAwOTcgMC4yMDEyNywtMS4xNTM3NTIgeiBtIDEuMjc4MDk4LDYuOTMyNzI4IHEgMCwtMC45MTg5MTggLTAuMjcxNzE5MiwtMS40NjAwNTkgLTAuMjcxNzE4OCwtMC41NDExNDEgLTAuOTg2MjQ2OCwtMC45MTg5MTggLTAuNDgzMDY3LC0wLjI1NTI3MyAtMS4xNzc0NjMsLTAuMzI2NzQ3IC0wLjY4NDMzMiwtMC4wODE3IC0xLjY3MDU4NCwtMC4wODE3IGggLTMuMTI5ODMgdiA1LjY1NjQ1NCBoIDIuNjM2NzA0IHEgMS4zMDgyOTMsMCAyLjE0MzU4MywtMC4xMzI3MjUgMC44MzUyOTQsLTAuMTQyOTQ4IDEuMzY4Njc0LC0wLjUxMDUxMSAwLjU2MzU3MSwtMC4zOTgxNzIgMC44MjUyMjYyLC0wLjkwODcwOCAwLjI2MTY0MTIsLTAuNTEwNTExIDAuMjYxNjQxMiwtMS4zMTcxMTUgeiIKICAgICAgIGlkPSJwYXRoMzAxOSIKICAgICAgIHN0eWxlPSJmb250LXNpemU6NC4yMzMzM3B4Oy1pbmtzY2FwZS1mb250LXNwZWNpZmljYXRpb246J3NhbnMtc2VyaWYsIE5vcm1hbCc7ZmlsbDojZmYwMDAwO2ZpbGwtb3BhY2l0eTowO3N0cm9rZTojMDAwMDAwO3N0cm9rZS13aWR0aDowLjg3MDMzNTtzdHJva2UtbGluZWNhcDpyb3VuZDtzdHJva2UtbGluZWpvaW46cm91bmQ7c3Ryb2tlLWRhc2hhcnJheTpub25lIiAvPgogICAgPHBhdGgKICAgICAgIGQ9Im0gMTMuOTk1NDYsMzUuMzYwMTM3IHEgLTAuNTUzNTA3LDAuMjQ1MDQ4IC0xLjAwNjM3OSwwLjQ1OTQ3MSAtMC40NDI4MDQsMC4yMTQ0MjMgLTEuMTY3Mzk1LDAuNDQ5MjQ3IC0wLjYxMzg4OCwwLjE5Mzk3NCAtMS4zMzg0NzksMC4zMjY3NDcgLTAuNzE0NTI3MiwwLjE0Mjk0OSAtMS41ODAwMTIxLDAuMTQyOTQ5IC0xLjYzMDMyOTksMCAtMi45Njg4MTM2LC0wLjQ1OTQ3MiBRIDQuNjA1OTY1OSwzNS44MDk0MzMgMy42MTk3MTkxLDM0LjgxOTAyIDIuNjUzNTk0NCwzMy44NDkwNDcgMi4xMTAxNTExLDMyLjM1ODM1OCAxLjU2NjcwNzgsMzAuODU3NDYgMS41NjY3MDc4LDI4Ljg3NjY3OSBxIDAsLTEuODc4Njc2IDAuNTIzMzE2MywtMy4zNTkxNTUgMC41MjMzMTYzLC0xLjQ4MDQ3OSAxLjUwOTU2OCwtMi41MDE1MDEgMC45NTYwNTYzLC0wLjk5MDM4OCAyLjMwNDU5ODcsLTEuNTExMTA5IDEuMzU4NjEwNywtMC41MjA3MjEgMy4wMDkwNjc2LC0wLjUyMDcyMSAxLjIwNzY1MzYsMCAyLjQwNTIzODYsMC4yOTYwNzMgMS4yMDc2NTMsMC4yOTYwNzMgMi42NzY5NjMsMS4wNDE0NDIgdiAyLjM5OTM5NyBIIDEzLjg0NDQ4MyBRIDEyLjYwNjYzOSwyMy42Njk0NTMgMTEuMzg4OTI3LDIzLjE4OTU3MiAxMC4xNzEyMSwyMi43MDk3IDguNzgyNDA4NywyMi43MDk3IHEgLTEuMTM3MjA0MSwwIC0yLjA1MzAwNjUsMC4zNzc3NzIgLTAuOTA1NzM4OSwwLjM2NzU0OCAtMS42MjAyNjY0LDEuMTUzNzUyIC0wLjY5NDQwMDYsMC43NjU3NjQgLTEuMDg2ODg2NywxLjkzOTk0IC0wLjM4MjQzMjIsMS4xNjM5NjIgLTAuMzgyNDMyMiwyLjY5NTQ5MSAwLDEuNjAzMDAzIDAuNDIyNjk1OSwyLjc1Njc1NCAwLjQzMjcyNTQsMS4xNTM3NTcgMS4xMDcwMTM3LDEuODc4NjgxIDAuNzA0NDY0MSwwLjc1NTU1NSAxLjY0MDM5MzQsMS4xMjMxMjIgMC45NDU5OTI4LDAuMzU3MzcyIDEuOTkyNjI1NSwwLjM1NzM3MiAxLjQzOTExODYsMCAyLjY5NzA4OTYsLTAuNTAwMzAxIDEuMjU3OTcxLC0wLjUwMDMwMSAyLjM1NDkyMSwtMS41MDA4OTkgaCAwLjE0MDg5OSB6IgogICAgICAgaWQ9InBhdGgzMDIxIgogICAgICAgc3R5bGU9ImZvbnQtc2l6ZTo0LjIzMzMzcHg7LWlua3NjYXBlLWZvbnQtc3BlY2lmaWNhdGlvbjonc2Fucy1zZXJpZiwgTm9ybWFsJztmaWxsOiNmZjAwMDA7ZmlsbC1vcGFjaXR5OjA7c3Ryb2tlOiMwMDAwMDA7c3Ryb2tlLXdpZHRoOjAuODcwMzM1O3N0cm9rZS1saW5lY2FwOnJvdW5kO3N0cm9rZS1saW5lam9pbjpyb3VuZDtzdHJva2UtZGFzaGFycmF5Om5vbmUiIC8+CiAgICA8cGF0aAogICAgICAgZD0ibSAzNi43MTk0MzksMjguODc2NjU1IHEgMCwyLjA3MjY3NCAtMC44OTU2NzUsMy43NTczNTcgLTAuODg1NjEyLDEuNjg0NjgyIC0yLjM2NDk4NSwyLjYxMzgxIC0xLjAyNjUwNiwwLjY0MzI0NiAtMi4yOTQ1NCwwLjkyOTEyOSAtMS4yNTc5NzEsMC4yODU4OTcgLTMuMzIxMDQxLDAuMjg1ODk3IEggMjQuMDU5MjIyIFYgMjEuMjU5ODU2IGggMy43NDM3MjIgcSAyLjE5MzksMCAzLjQ4MjA2MiwwLjMyNjc0NyAxLjI5ODIyNSwwLjMxNjUyMyAyLjE5MzksMC44NzgwNzQgMS41Mjk2OTUsMC45Njk5NzIgMi4zODUxMTEsMi41ODMxODUgMC44NTU0MjIsMS42MTMyMDkgMC44NTU0MjIsMy44Mjg4MjIgeiBtIC0yLjA4MzIwMiwtMC4wMzA2MyBxIDAsLTEuNzg2Nzg3IC0wLjYxMzg4OCwtMy4wMTIwMDggLTAuNjEzODg3LC0xLjIyNTIyNiAtMS44MzE2MDQsLTEuOTI5NzMxIC0wLjg4NTYxMiwtMC41MTA1MDYgLTEuODgxOTIzLC0wLjcwNDUwNSAtMC45OTYzMTUsLTAuMjA0MTk4IC0yLjM4NTExNiwtMC4yMDQxOTggaCAtMS44NzE4NTkgdiAxMS43MzE1MjMgaCAxLjg3MTg1OSBxIDEuNDM5MTE5LDAgMi41MDU4NzgsLTAuMjE0NDIzIDEuMDc2ODIzLC0wLjIxNDQyMyAxLjk3MjQ5OSwtMC43OTYzOTQgMS4xMTcwNzcsLTAuNzI0OTI1IDEuNjcwNTg0LC0xLjkwOTMxMSAwLjU2MzU3LC0xLjE4NDM4MSAwLjU2MzU3LC0yLjk2MDk1OCB6IgogICAgICAgaWQ9InBhdGgzMDIzIgogICAgICAgc3R5bGU9ImZvbnQtc2l6ZTo0LjIzMzMzcHg7LWlua3NjYXBlLWZvbnQtc3BlY2lmaWNhdGlvbjonc2Fucy1zZXJpZiwgTm9ybWFsJztmaWxsOiNmZjAwMDA7ZmlsbC1vcGFjaXR5OjA7c3Ryb2tlOiMwMDAwMDA7c3Ryb2tlLXdpZHRoOjAuODcwMzM1O3N0cm9rZS1saW5lY2FwOnJvdW5kO3N0cm9rZS1saW5lam9pbjpyb3VuZDtzdHJva2UtZGFzaGFycmF5Om5vbmUiIC8+CiAgICA8cGF0aAogICAgICAgZD0iTSA1Ny4wNTgzMDcsMzYuNDYyODM4IEggNDcuMTg1NzU2IFYgMjEuMjU5ODQ2IGggOS44NzI1NTEgdiAxLjc5Njk5NiBoIC03Ljg3OTkyNiB2IDQuMTY1NzYgaCA3Ljg3OTkyNiB2IDEuNzk2OTk2IGggLTcuODc5OTI2IHYgNS42NDYyNDQgaCA3Ljg3OTkyNiB6IgogICAgICAgaWQ9InBhdGgzMDI1IgogICAgICAgc3R5bGU9ImZvbnQtc2l6ZTo0LjIzMzMzcHg7LWlua3NjYXBlLWZvbnQtc3BlY2lmaWNhdGlvbjonc2Fucy1zZXJpZiwgTm9ybWFsJztmaWxsOiNmZjAwMDA7ZmlsbC1vcGFjaXR5OjA7c3Ryb2tlOiMwMDAwMDA7c3Ryb2tlLXdpZHRoOjAuODcwMzM1O3N0cm9rZS1saW5lY2FwOnJvdW5kO3N0cm9rZS1saW5lam9pbjpyb3VuZDtzdHJva2UtZGFzaGFycmF5Om5vbmUiIC8+CiAgICA8cGF0aAogICAgICAgc3R5bGU9ImZpbGw6I2ZmMDAwMDtmaWxsLW9wYWNpdHk6MDtzdHJva2U6IzAwMDAwMDtzdHJva2Utd2lkdGg6MC41MDkyMDI7c3Ryb2tlLWxpbmVjYXA6cm91bmQ7c3Ryb2tlLWxpbmVqb2luOnJvdW5kO3N0cm9rZS1kYXNoYXJyYXk6bm9uZTtzdHJva2UtZGFzaG9mZnNldDowIgogICAgICAgZD0iTSAtMjQuMjk1OTk2LDE5Ljg0MjUwOCBWIDQzLjM3OTgzNSIKICAgICAgIGlkPSJwYXRoMzAzMyIgLz4KICAgIDxwYXRoCiAgICAgICBzdHlsZT0iZmlsbDojZmYwMDAwO2ZpbGwtb3BhY2l0eTowO3N0cm9rZTojMDAwMDAwO3N0cm9rZS13aWR0aDowLjUwOTIwMjtzdHJva2UtbGluZWNhcDpyb3VuZDtzdHJva2UtbGluZWpvaW46cm91bmQ7c3Ryb2tlLWRhc2hhcnJheTpub25lO3N0cm9rZS1kYXNob2Zmc2V0OjAiCiAgICAgICBkPSJNIC00Ni4yMTcyMjMsMTkuODQyNTA4IFYgNDMuMzc5ODM1IgogICAgICAgaWQ9InBhdGgzMDMzLTEiIC8+CiAgICA8cGF0aAogICAgICAgc3R5bGU9ImZpbGw6I2ZmMDAwMDtmaWxsLW9wYWNpdHk6MDtzdHJva2U6IzAwMDAwMDtzdHJva2Utd2lkdGg6MC41MDkyMDI7c3Ryb2tlLWxpbmVjYXA6cm91bmQ7c3Ryb2tlLWxpbmVqb2luOnJvdW5kO3N0cm9rZS1kYXNoYXJyYXk6bm9uZTtzdHJva2UtZGFzaG9mZnNldDowIgogICAgICAgZD0iTSAtMi4zMDkwMzI3LDE5Ljg0MjUwOCBWIDQzLjM3OTgzNSIKICAgICAgIGlkPSJwYXRoMzAzMy0xLTgiIC8+CiAgICA8cGF0aAogICAgICAgc3R5bGU9ImZpbGw6I2ZmMDAwMDtmaWxsLW9wYWNpdHk6MDtzdHJva2U6IzAwMDAwMDtzdHJva2Utd2lkdGg6MC41MDkyMDI7c3Ryb2tlLWxpbmVjYXA6cm91bmQ7c3Ryb2tlLWxpbmVqb2luOnJvdW5kO3N0cm9rZS1kYXNoYXJyYXk6bm9uZTtzdHJva2UtZGFzaG9mZnNldDowIgogICAgICAgZD0iTSAxOS42Nzc5MzEsMTkuODQyNTA4IFYgNDMuMzc5ODM1IgogICAgICAgaWQ9InBhdGgzMDMzLTEtNyIgLz4KICAgIDxwYXRoCiAgICAgICBzdHlsZT0iZmlsbDojZmYwMDAwO2ZpbGwtb3BhY2l0eTowO3N0cm9rZTojMDAwMDAwO3N0cm9rZS13aWR0aDowLjUwOTIwMjtzdHJva2UtbGluZWNhcDpyb3VuZDtzdHJva2UtbGluZWpvaW46cm91bmQ7c3Ryb2tlLWRhc2hhcnJheTpub25lO3N0cm9rZS1kYXNob2Zmc2V0OjAiCiAgICAgICBkPSJNIDQxLjY2NDg5NCwxOS44NDI1MDggViA0My4zNzk4MzUiCiAgICAgICBpZD0icGF0aDMwMzMtMS04NyIgLz4KICAgIDxwYXRoCiAgICAgICBzdHlsZT0iZmlsbDojZmYwMDAwO2ZpbGwtb3BhY2l0eTowO3N0cm9rZTojMDAwMDAwO3N0cm9rZS13aWR0aDowLjUwOTIwMjtzdHJva2UtbGluZWNhcDpyb3VuZDtzdHJva2UtbGluZWpvaW46cm91bmQ7c3Ryb2tlLWRhc2hhcnJheTpub25lO3N0cm9rZS1kYXNob2Zmc2V0OjAiCiAgICAgICBkPSJNIDYzLjY1MTg1OCwxOS44NDI1MDggViA0My4zNzk4MzUiCiAgICAgICBpZD0icGF0aDMwMzMtMS03NCIgLz4KICAgIDxwYXRoCiAgICAgICBkPSJtIC00MC4yMTcwNDMsNjAuNTA1NTI5IHEgMCw0LjA5NDI5IC0xLjI2ODAzNSw2LjAxMzgxMSAtMS4yNTc5NzEsMS45MDkzMDYgLTMuOTE0ODA2LDEuOTA5MzA2IC0yLjY5NzA5LDAgLTMuOTQ0OTk3LC0xLjkzOTkzNiAtMS4yMzc4MzksLTEuOTM5OTQxIC0xLjIzNzgzOSwtNS45NjI3NjEgMCwtNC4wNTM0NSAxLjI1Nzk3LC01Ljk4MzE3NiAxLjI1Nzk3MSwtMS45Mzk5NCAzLjkyNDg2NiwtMS45Mzk5NCAyLjY5NzA4OSwwIDMuOTM0OTMzLDEuOTcwNTcgMS4yNDc5MDgsMS45NjAzNTYgMS4yNDc5MDgsNS45MzIxMjYgeiBtIC0yLjY0Njc3Myw0LjYzNTQzMSBxIDAuMzUyMjQ3LC0wLjgyNzAyNCAwLjQ3Mjk5LC0xLjkzOTkzNiAwLjEzMDgyLC0xLjEyMzEyMSAwLjEzMDgyLC0yLjY5NTQ5NSAwLC0xLjU1MTk0OCAtMC4xMzA4MiwtMi42OTU0OTUgLTAuMTIwNzkyLC0xLjE0MzU0MSAtMC40ODMwNjgsLTEuOTM5OTM1IC0wLjM1MjI0NiwtMC43ODYxODUgLTAuOTY2MTIsLTEuMTg0Mzg3IC0wLjYwMzgyNCwtMC4zOTgyMjEgLTEuNTU5ODg1LC0wLjM5ODIyMSAtMC45NDU5OTMsMCAtMS41Njk5NDQsMC4zOTgyMjEgLTAuNjEzODkzLDAuMzk4MjIyIC0wLjk3NjE4OCwxLjIwNDgwNiAtMC4zNDIxNjksMC43NTU1NTUgLTAuNDcyOTg5LDEuOTcwNTcxIC0wLjEyMDc5MiwxLjIxNTAxMSAtMC4xMjA3OTIsMi42NjQ4NiAwLDEuNTkyNzkzIDAuMTEwNzEzLDIuNjY0ODY1IDAuMTEwNzE0LDEuMDcyMDcyIDAuNDcyOTksMS45MTk1MTYgMC4zMzIwOSwwLjc5NjM5NCAwLjkzNTkyOSwxLjIxNTAxNiAwLjYxMzg5MywwLjQxODYyMiAxLjYyMDI2NiwwLjQxODYyMiAwLjk0NTk5MywwIDEuNTY5OTQ5LC0wLjM5ODE3MiAwLjYyMzk1MiwtMC4zOTgyMjIgMC45NjYxMiwtMS4yMDQ4MDYgeiIKICAgICAgIGlkPSJwYXRoMzEyNCIKICAgICAgIHN0eWxlPSJmb250LXNpemU6NC4yMzMzM3B4Oy1pbmtzY2FwZS1mb250LXNwZWNpZmljYXRpb246J3NhbnMtc2VyaWYsIE5vcm1hbCc7ZmlsbC1vcGFjaXR5OjA7c3Ryb2tlOiMwMDAwMDA7c3Ryb2tlLXdpZHRoOjAuNzkwMDg3O3N0cm9rZS1saW5lY2FwOnJvdW5kO3N0cm9rZS1saW5lam9pbjpyb3VuZDtzdHJva2UtZGFzaGFycmF5Om5vbmUiIC8+CiAgICA8cGF0aAogICAgICAgZD0ibSAtMTkuNDIyOTYyLDY4LjE0Mjc2MyBoIC04LjExMTM5NiB2IC0xLjU1MTk0OSBoIDMuMTE5NzY2IFYgNTYuNDAxMDM1IGggLTMuMTE5NzY2IHYgLTEuMzg4NTkgcSAwLjYzNDAxNSwwIDEuMzU4NjA2LC0wLjEwMjA5OSAwLjcyNDU5MSwtMC4xMTIzMjQgMS4wOTY5NSwtMC4zMTY1MjMgMC40NjI5NiwtMC4yNTUyNzMgMC43MjQ1OTEsLTAuNjQzMjQ1IDAuMjcxNzIsLTAuMzk4MjIyIDAuMzExOTgzLC0xLjA2MTg2MiBoIDEuNTU5ODg2IHYgMTMuNzAyMDkzIGggMy4wNTkzODUgeiIKICAgICAgIGlkPSJwYXRoMzEyNiIKICAgICAgIHN0eWxlPSJmb250LXNpemU6NC4yMzMzM3B4Oy1pbmtzY2FwZS1mb250LXNwZWNpZmljYXRpb246J3NhbnMtc2VyaWYsIE5vcm1hbCc7ZmlsbC1vcGFjaXR5OjA7c3Ryb2tlOiMwMDAwMDA7c3Ryb2tlLXdpZHRoOjAuNzkwMDg3O3N0cm9rZS1saW5lY2FwOnJvdW5kO3N0cm9rZS1saW5lam9pbjpyb3VuZDtzdHJva2UtZGFzaGFycmF5Om5vbmUiIC8+CiAgICA8cGF0aAogICAgICAgZD0iTSAyLjk2OTM3OTcsNjguNDMzNjk5IEggLTcuMTc0ODk1NSBWIDY2LjI5OTc3IHEgMS4wNTY2OTYyLC0wLjkxODkxOSAyLjExMzM4NzUsLTEuODM3ODM3IDEuMDY2NzU5NiwtMC45MTg5MTggMS45ODI1NjIsLTEuODI3NjI2IDEuOTMyMjQ0NSwtMS44OTkwOTYgMi42NDY3NzIwNiwtMy4wMTIwMDggMC43MTQ1Mjc2LC0xLjEyMzEyNyAwLjcxNDUyNzYsLTIuNDE5ODIyIDAsLTEuMTg0MzgxIC0wLjc3NDkwODU2LC0xLjg0ODA0NiAtMC43NjQ4NDk5LC0wLjY3Mzg3MSAtMi4xNDM1ODI4LC0wLjY3Mzg3MSAtMC45MTU4MDIzLDAgLTEuOTgyNTYyLDAuMzI2NzQ4IC0xLjA2Njc1OTYsMC4zMjY3NDcgLTIuMDgzMjAxOCwxLjAwMDYwMiBoIC0wLjEwMDYzNDkgdiAtMi4xNDQxNDQgcSAwLjcxNDUyNzYsLTAuMzU3MzcyIDEuOTAyMDQ5MiwtMC42NTM0NSAxLjE5NzU4OTksLTAuMjk2MDczIDIuMzE0NjY3LC0wLjI5NjA3MyAyLjMwNDYwMzU1LDAgMy42MTI4OTE5LDEuMTMzMzMyIDEuMzA4Mjg4NCwxLjEyMzEyMSAxLjMwODI4ODQsMy4wNTI4NTIgMCwwLjg2Nzg2OSAtMC4yMjE0MjYxLDEuNjIzNDIzIC0wLjIxMTM0OCwwLjc0NTM0NCAtMC42MzQwMTQ4LDEuNDE5MjE1IC0wLjM5MjUxMDMsMC42MzMwMzUgLTAuOTI1ODcwNjcsMS4yNDU2NDUgLTAuNTIzMzExNDUsMC42MTI2MTEgLTEuMjc4MDk3ODksMS4zNTc5NiAtMS4wNzY4MjMxNCwxLjA3MjA2NyAtMi4yMjQwOTA3NCwyLjA4Mjg4IC0xLjE0NzI2NzYsMS4wMDA1OTcgLTIuMTQzNTgyOCwxLjg1ODI1NiBoIDguMDYxMDc4MyB6IgogICAgICAgaWQ9InBhdGgzMTI4IgogICAgICAgc3R5bGU9ImZvbnQtc2l6ZTo0LjIzMzMzcHg7LWlua3NjYXBlLWZvbnQtc3BlY2lmaWNhdGlvbjonc2Fucy1zZXJpZiwgTm9ybWFsJztmaWxsLW9wYWNpdHk6MDtzdHJva2U6IzAwMDAwMDtzdHJva2Utd2lkdGg6MC43OTAwODc7c3Ryb2tlLWxpbmVjYXA6cm91bmQ7c3Ryb2tlLWxpbmVqb2luOnJvdW5kO3N0cm9rZS1kYXNoYXJyYXk6bm9uZSIgLz4KICAgIDxwYXRoCiAgICAgICBkPSJtIDI0LjMyNDUyNCw2MC45NTQ3NjEgcSAwLjQ4MzA2NywwLjQzOTAyMiAwLjc5NTAzNiwxLjEwMjcwMiAwLjMxMTk4MywwLjY2MzY2IDAuMzExOTgzLDEuNzE1MzEyIDAsMS4wNDE0NDMgLTAuMzcyMzU0LDEuOTA5MzAxIC0wLjM3MjM1NSwwLjg2Nzg3NCAtMS4wNDY2MzMsMS41MTExMTkgLTAuNzU0NzgyLDAuNzE0NzEgLTEuNzgxMjg3LDEuMDYxODU3IC0xLjAxNjQzOCwwLjMzNjkyMyAtMi4yMzQxNTUsMC4zMzY5MjMgLTEuMjQ3OTA3LDAgLTIuNDU1NTYsLTAuMzA2Mjk4IC0xLjIwNzY0OSwtMC4yOTYxMjIgLTEuOTgyNTU4LC0wLjY1MzQ1NSB2IC0yLjEzMzkyOSBoIDAuMTUwOTc3IHEgMC44NTU0MjIsMC41NzE3NyAyLjAxMjc1MywwLjk0OTU1MyAxLjE1NzMzNiwwLjM3Nzc3MiAyLjIzNDE1OSwwLjM3Nzc3MiAwLjYzNDAxNSwwIDEuMzQ4NTQyLC0wLjIxNDQyMyAwLjcxNDUyOCwtMC4yMTQ0MjQgMS4xNTczMzYsLTAuNjMzMDMxIDAuNDYyOTExLC0wLjQ0OTI0NiAwLjY4NDMzMiwtMC45OTAzODcgMC4yMzE0NTYsLTAuNTQxMTQxIDAuMjMxNDU2LC0xLjM2ODE3IDAsLTAuODE2ODE0IC0wLjI2MTY0MSwtMS4zNDc3NDUgLTAuMjUxNjEyLC0wLjU0MTE0MSAtMC43MDQ0NjQsLTAuODQ3NDQ5IC0wLjQ1Mjg4MiwtMC4zMTY1MjMgLTEuMDk2OTUsLTAuNDI4ODQ3IC0wLjY0NDA3OSwtMC4xMjI1NDggLTEuMzg4Nzk3LC0wLjEyMjU0OCBIIDE5LjAyMDk2IHYgLTEuNjk0ODkzIGggMC43MDQ0NjQgcSAxLjUyOTY5MSwwIDIuNDM1NDI5LC0wLjY0MzI0NSAwLjkxNTgwMywtMC42NTM0NSAwLjkxNTgwMywtMS44OTkwOTYgMCwtMC41NTEzNTEgLTAuMjMxNDU2LC0wLjk1OTc1OCAtMC4yMzE0NTUsLTAuNDE4NjIyIC0wLjY0NDA4MywtMC42ODQwODUgLTAuNDMyNzI1LC0wLjI2NTQ0OCAtMC45MjU4NjYsLTAuMzY3NTQ4IC0wLjQ5MzEyNiwtMC4xMDIwOTkgLTEuMTE3MDc3LC0wLjEwMjA5OSAtMC45NTYwNTYsMCAtMi4wMzI4NzksMC4zNDcxNDggLTEuMDc2ODIzLDAuMzQ3MTQ3IC0yLjAzMjg4NSwwLjk4MDE3NyBIIDE1Ljk5MTc3NSBWIDUzLjcxNTczIHEgMC43MTQ1MjgsLTAuMzU3MzczIDEuOTAyMDUsLTAuNjUzNDUxIDEuMTk3NTksLTAuMzA2Mjk3IDIuMzE0NjY3LC0wLjMwNjI5NyAxLjA5Njk1LDAgMS45MzIyNDQsMC4yMDQxOTggMC44MzUyOSwwLjIwNDE5OSAxLjUwOTU2MywwLjY1MzQ1NSAwLjcyNDU5MSwwLjQ5MDA5NyAxLjA5Njk1LDEuMTg0MzgyIDAuMzcyMzU1LDAuNjk0Mjk0IDAuMzcyMzU1LDEuNjIzNDIzIDAsMS4yNjYwNjUgLTAuODg1NjEyLDIuMjE1NjEzIC0wLjg3NTU0NCwwLjkzOTMzOCAtMi4wNzMxMzQsMS4xODQzODEgdiAwLjE0Mjk0OSBxIDAuNDgzMDY3LDAuMDgxNyAxLjEwNzAxNCwwLjM0NzE0OCAwLjYyMzk1NiwwLjI1NTI3MyAxLjA1NjY5NiwwLjY0MzI0NSB6IgogICAgICAgaWQ9InBhdGgzMTMwIgogICAgICAgc3R5bGU9ImZvbnQtc2l6ZTo0LjIzMzMzcHg7LWlua3NjYXBlLWZvbnQtc3BlY2lmaWNhdGlvbjonc2Fucy1zZXJpZiwgTm9ybWFsJztmaWxsLW9wYWNpdHk6MDtzdHJva2U6IzAwMDAwMDtzdHJva2Utd2lkdGg6MC43OTAwODc7c3Ryb2tlLWxpbmVjYXA6cm91bmQ7c3Ryb2tlLWxpbmVqb2luOnJvdW5kO3N0cm9rZS1kYXNoYXJyYXk6bm9uZSIgLz4KICAgIDxwYXRoCiAgICAgICBkPSJtIDQ3LjM0MzMyNSw2NC4xNTU2NyBoIC0yLjIyNDA5MSB2IDQuMjc4MDczIGggLTEuOTMyMjQgViA2NC4xNTU2NyBoIC03LjE3NTQ2NiB2IC0yLjM0ODM0OCBsIDcuMjU1OTc0LC04LjU3NjU2NiBoIDEuODUxNzMyIHYgOS4yOTEyODEgaCAyLjIyNDA5MSB6IG0gLTQuMTU2MzMxLC0xLjYzMzYzMyB2IC02Ljg2MTI1NCBsIC01LjgwNjc5Nyw2Ljg2MTI1NCB6IgogICAgICAgaWQ9InBhdGgzMTMyIgogICAgICAgc3R5bGU9ImZvbnQtc2l6ZTo0LjIzMzMzcHg7LWlua3NjYXBlLWZvbnQtc3BlY2lmaWNhdGlvbjonc2Fucy1zZXJpZiwgTm9ybWFsJztmaWxsLW9wYWNpdHk6MDtzdHJva2U6IzAwMDAwMDtzdHJva2Utd2lkdGg6MC43OTAwODc7c3Ryb2tlLWxpbmVjYXA6cm91bmQ7c3Ryb2tlLWxpbmVqb2luOnJvdW5kO3N0cm9rZS1kYXNoYXJyYXk6bm9uZSIgLz4KICAgIDxwYXRoCiAgICAgICBkPSJtIDY3LjY4NTE3Miw2My40NDYwNDMgcSAwLDEuMDYxODYyIC0wLjM4MjQzMiwyLjAzMTgzIC0wLjM4MjQzMywwLjk2OTk3MyAtMS4wNDY2MzMsMS42MzM2MzMgLTAuNzI0NTkxLDAuNzE0NzE0IC0xLjczMDk2NSwxLjEwMjcwMiAtMC45OTYzMTUsMC4zNzc3NzIgLTIuMzE0NjY3LDAuMzc3NzcyIC0xLjIyNzc4LDAgLTIuMzY0OTg0LC0wLjI2NTQ0OCAtMS4xMzcyMDQsLTAuMjU1MjczIC0xLjkyMjE4MSwtMC42MjI4MjYgdiAtMi4xNTQzNDkgaCAwLjE0MDg5OCBxIDAuODI1MjMxLDAuNTMwOTMxIDEuOTMyMjQ1LDAuOTA4NzA4IDEuMTA3MDEzLDAuMzY3NTQ4IDIuMTczNzczLDAuMzY3NTQ4IDAuNzE0NTI4LDAgMS4zNzg3MzgsLTAuMjA0MTk5IDAuNjc0MjY4LC0wLjIwNDE5OCAxLjE5NzU4NSwtMC43MTQ3MDkgMC40NDI4MDMsLTAuNDM5MDIyIDAuNjY0MjEsLTEuMDUxNjUzIDAuMjMxNDU1LC0wLjYxMjYwNSAwLjIzMTQ1NSwtMS40MTkyMTkgMCwtMC43ODYxODQgLTAuMjcxNzE5LC0xLjMyNzMyNSAtMC4yNjE2NDEsLTAuNTQxMTQxIC0wLjczNDY1NCwtMC44Njc4NjkgLTAuNTIzMzE3LC0wLjM4Nzk5NyAtMS4yNzgxMDMsLTAuNTQxMTQxIC0wLjc0NDcxOCwtMC4xNjMzNDkgLTEuNjcwNTg0LC0wLjE2MzM0OSAtMC44ODU2MTIsMCAtMS43MTA4MzgsMC4xMjI1NDkgLTAuODE1MTY3LDAuMTIyNTQ5IC0xLjQwODkyOCwwLjI0NTA0OCB2IC03LjgzMTIyMiBoIDkuMDE3MTM0IHYgMS43ODY3ODIgaCAtNy4wNzQ4MjYgdiA0LjA0MzI0IHEgMC40MzI3MjUsLTAuMDQxIDAuODg1NjEyLC0wLjA2MTI1IDAuNDUyODgxLC0wLjAyMDI1IDAuNzg0OTcyLC0wLjAyMDI1IDEuMjE3NzE3LDAgMi4xMzM1MTksMC4yMTQ0MjQgMC45MTU4MDIsMC4yMDQxOTggMS42ODA2NDcsMC43MzUxMzQgMC44MDUxLDAuNTYxNTYxIDEuMjQ3OTA4LDEuNDQ5ODQ5IDAuNDQyODAzLDAuODg4Mjg5IDAuNDQyODAzLDIuMjI1ODI0IHoiCiAgICAgICBpZD0icGF0aDMxMzQiCiAgICAgICBzdHlsZT0iZm9udC1zaXplOjQuMjMzMzNweDstaW5rc2NhcGUtZm9udC1zcGVjaWZpY2F0aW9uOidzYW5zLXNlcmlmLCBOb3JtYWwnO2ZpbGwtb3BhY2l0eTowO3N0cm9rZTojMDAwMDAwO3N0cm9rZS13aWR0aDowLjc5MDA4NztzdHJva2UtbGluZWNhcDpyb3VuZDtzdHJva2UtbGluZWpvaW46cm91bmQ7c3Ryb2tlLWRhc2hhcnJheTpub25lIiAvPgogICAgPHBhdGgKICAgICAgIHN0eWxlPSJmaWxsOiMwMDAwMDA7ZmlsbC1vcGFjaXR5OjA7c3Ryb2tlOiNmZjAwMDA7c3Ryb2tlLXdpZHRoOjIuODM2O3N0cm9rZS1saW5lY2FwOnJvdW5kO3N0cm9rZS1saW5lam9pbjpyb3VuZDtzdHJva2UtZGFzaGFycmF5Om5vbmU7c3Ryb2tlLWRhc2hvZmZzZXQ6MCIKICAgICAgIGQ9Im0gLTQ1LjM5OTg4LDczLjg4MjU4NSBjIDAsMCAxMS43NDUwNzIsOC45NzEzOTUgMjEuOTIxMjIzLC0wLjIyNDMwMyIKICAgICAgIGlkPSJwYXRoMzE5NyIgLz4KICAgIDxwYXRoCiAgICAgICBzdHlsZT0iZmlsbDojMDAwMDAwO2ZpbGwtb3BhY2l0eTowO3N0cm9rZTojZmYwMDAwO3N0cm9rZS13aWR0aDoyLjgzNjtzdHJva2UtbGluZWNhcDpyb3VuZDtzdHJva2UtbGluZWpvaW46cm91bmQ7c3Ryb2tlLWRhc2hhcnJheTpub25lO3N0cm9rZS1kYXNob2Zmc2V0OjAiCiAgICAgICBkPSJtIC0yMy4xNTc3ODQsNzMuODgyNTg1IGMgMCwwIDExLjc0NTA3Miw4Ljk3MTM5NSAyMS45MjEyMjE4LC0wLjIyNDMwMyIKICAgICAgIGlkPSJwYXRoMzE5Ny0yIiAvPgogIDwvZz4KPC9zdmc+Cg==)"
   ]
  },
  {
   "cell_type": "markdown",
   "id": "4990b885",
   "metadata": {},
   "source": [
    "Whenever there is a 0 in a range, we can omit it and it will be implied."
   ]
  },
  {
   "cell_type": "code",
   "execution_count": 364,
   "id": "df65a31f",
   "metadata": {},
   "outputs": [
    {
     "data": {
      "text/html": [
       "<div>\n",
       "<style scoped>\n",
       "    .dataframe tbody tr th:only-of-type {\n",
       "        vertical-align: middle;\n",
       "    }\n",
       "\n",
       "    .dataframe tbody tr th {\n",
       "        vertical-align: top;\n",
       "    }\n",
       "\n",
       "    .dataframe thead th {\n",
       "        text-align: right;\n",
       "    }\n",
       "</style>\n",
       "<table border=\"1\" class=\"dataframe\">\n",
       "  <thead>\n",
       "    <tr style=\"text-align: right;\">\n",
       "      <th></th>\n",
       "      <th>first_name</th>\n",
       "      <th>last_name</th>\n",
       "      <th>email</th>\n",
       "    </tr>\n",
       "    <tr>\n",
       "      <th>username</th>\n",
       "      <th></th>\n",
       "      <th></th>\n",
       "      <th></th>\n",
       "    </tr>\n",
       "  </thead>\n",
       "  <tbody>\n",
       "    <tr>\n",
       "      <th>thomasnield</th>\n",
       "      <td>Thomas</td>\n",
       "      <td>Nield</td>\n",
       "      <td>tmnield@outlook.com</td>\n",
       "    </tr>\n",
       "    <tr>\n",
       "      <th>samiam</th>\n",
       "      <td>Sam</td>\n",
       "      <td>Scala</td>\n",
       "      <td>sam.scala@gmail.com</td>\n",
       "    </tr>\n",
       "  </tbody>\n",
       "</table>\n",
       "</div>"
      ],
      "text/plain": [
       "            first_name last_name                email\n",
       "username                                             \n",
       "thomasnield     Thomas     Nield  tmnield@outlook.com\n",
       "samiam             Sam     Scala  sam.scala@gmail.com"
      ]
     },
     "execution_count": 364,
     "metadata": {},
     "output_type": "execute_result"
    }
   ],
   "source": [
    "df.iloc[:2]"
   ]
  },
  {
   "cell_type": "markdown",
   "id": "bd6b3033",
   "metadata": {},
   "source": [
    "If we leave the end value off as well, that will extend to the end of the range. Below we grab everything from the second record and after. "
   ]
  },
  {
   "cell_type": "code",
   "execution_count": 367,
   "id": "477f44e9",
   "metadata": {},
   "outputs": [
    {
     "data": {
      "text/html": [
       "<div>\n",
       "<style scoped>\n",
       "    .dataframe tbody tr th:only-of-type {\n",
       "        vertical-align: middle;\n",
       "    }\n",
       "\n",
       "    .dataframe tbody tr th {\n",
       "        vertical-align: top;\n",
       "    }\n",
       "\n",
       "    .dataframe thead th {\n",
       "        text-align: right;\n",
       "    }\n",
       "</style>\n",
       "<table border=\"1\" class=\"dataframe\">\n",
       "  <thead>\n",
       "    <tr style=\"text-align: right;\">\n",
       "      <th></th>\n",
       "      <th>first_name</th>\n",
       "      <th>last_name</th>\n",
       "      <th>email</th>\n",
       "    </tr>\n",
       "    <tr>\n",
       "      <th>username</th>\n",
       "      <th></th>\n",
       "      <th></th>\n",
       "      <th></th>\n",
       "    </tr>\n",
       "  </thead>\n",
       "  <tbody>\n",
       "    <tr>\n",
       "      <th>samiam</th>\n",
       "      <td>Sam</td>\n",
       "      <td>Scala</td>\n",
       "      <td>sam.scala@gmail.com</td>\n",
       "    </tr>\n",
       "    <tr>\n",
       "      <th>joecool</th>\n",
       "      <td>Joe</td>\n",
       "      <td>Morrison</td>\n",
       "      <td>joe@rexonmetals.com</td>\n",
       "    </tr>\n",
       "  </tbody>\n",
       "</table>\n",
       "</div>"
      ],
      "text/plain": [
       "         first_name last_name                email\n",
       "username                                          \n",
       "samiam          Sam     Scala  sam.scala@gmail.com\n",
       "joecool         Joe  Morrison  joe@rexonmetals.com"
      ]
     },
     "execution_count": 367,
     "metadata": {},
     "output_type": "execute_result"
    }
   ],
   "source": [
    "df.iloc[1:]"
   ]
  },
  {
   "cell_type": "markdown",
   "id": "d78836d8",
   "metadata": {},
   "source": [
    "If we provide just a brackets with a colon inside, it will select all rows. This may seem pointless, but it will serve as a placeholder when we select columns shortly. "
   ]
  },
  {
   "cell_type": "code",
   "execution_count": 370,
   "id": "93c83bb1",
   "metadata": {},
   "outputs": [
    {
     "data": {
      "text/html": [
       "<div>\n",
       "<style scoped>\n",
       "    .dataframe tbody tr th:only-of-type {\n",
       "        vertical-align: middle;\n",
       "    }\n",
       "\n",
       "    .dataframe tbody tr th {\n",
       "        vertical-align: top;\n",
       "    }\n",
       "\n",
       "    .dataframe thead th {\n",
       "        text-align: right;\n",
       "    }\n",
       "</style>\n",
       "<table border=\"1\" class=\"dataframe\">\n",
       "  <thead>\n",
       "    <tr style=\"text-align: right;\">\n",
       "      <th></th>\n",
       "      <th>first_name</th>\n",
       "      <th>last_name</th>\n",
       "      <th>email</th>\n",
       "    </tr>\n",
       "    <tr>\n",
       "      <th>username</th>\n",
       "      <th></th>\n",
       "      <th></th>\n",
       "      <th></th>\n",
       "    </tr>\n",
       "  </thead>\n",
       "  <tbody>\n",
       "    <tr>\n",
       "      <th>thomasnield</th>\n",
       "      <td>Thomas</td>\n",
       "      <td>Nield</td>\n",
       "      <td>tmnield@outlook.com</td>\n",
       "    </tr>\n",
       "    <tr>\n",
       "      <th>samiam</th>\n",
       "      <td>Sam</td>\n",
       "      <td>Scala</td>\n",
       "      <td>sam.scala@gmail.com</td>\n",
       "    </tr>\n",
       "    <tr>\n",
       "      <th>joecool</th>\n",
       "      <td>Joe</td>\n",
       "      <td>Morrison</td>\n",
       "      <td>joe@rexonmetals.com</td>\n",
       "    </tr>\n",
       "  </tbody>\n",
       "</table>\n",
       "</div>"
      ],
      "text/plain": [
       "            first_name last_name                email\n",
       "username                                             \n",
       "thomasnield     Thomas     Nield  tmnield@outlook.com\n",
       "samiam             Sam     Scala  sam.scala@gmail.com\n",
       "joecool            Joe  Morrison  joe@rexonmetals.com"
      ]
     },
     "execution_count": 370,
     "metadata": {},
     "output_type": "execute_result"
    }
   ],
   "source": [
    "df.iloc[:]"
   ]
  },
  {
   "cell_type": "markdown",
   "id": "7a914785",
   "metadata": {},
   "source": [
    "Now we can provide a second range to get certain columns, but already specifying to include all rows. Below we grab all rows and the second through third columns. "
   ]
  },
  {
   "cell_type": "code",
   "execution_count": 373,
   "id": "2322843d",
   "metadata": {},
   "outputs": [
    {
     "data": {
      "text/html": [
       "<div>\n",
       "<style scoped>\n",
       "    .dataframe tbody tr th:only-of-type {\n",
       "        vertical-align: middle;\n",
       "    }\n",
       "\n",
       "    .dataframe tbody tr th {\n",
       "        vertical-align: top;\n",
       "    }\n",
       "\n",
       "    .dataframe thead th {\n",
       "        text-align: right;\n",
       "    }\n",
       "</style>\n",
       "<table border=\"1\" class=\"dataframe\">\n",
       "  <thead>\n",
       "    <tr style=\"text-align: right;\">\n",
       "      <th></th>\n",
       "      <th>last_name</th>\n",
       "      <th>email</th>\n",
       "    </tr>\n",
       "    <tr>\n",
       "      <th>username</th>\n",
       "      <th></th>\n",
       "      <th></th>\n",
       "    </tr>\n",
       "  </thead>\n",
       "  <tbody>\n",
       "    <tr>\n",
       "      <th>thomasnield</th>\n",
       "      <td>Nield</td>\n",
       "      <td>tmnield@outlook.com</td>\n",
       "    </tr>\n",
       "    <tr>\n",
       "      <th>samiam</th>\n",
       "      <td>Scala</td>\n",
       "      <td>sam.scala@gmail.com</td>\n",
       "    </tr>\n",
       "    <tr>\n",
       "      <th>joecool</th>\n",
       "      <td>Morrison</td>\n",
       "      <td>joe@rexonmetals.com</td>\n",
       "    </tr>\n",
       "  </tbody>\n",
       "</table>\n",
       "</div>"
      ],
      "text/plain": [
       "            last_name                email\n",
       "username                                  \n",
       "thomasnield     Nield  tmnield@outlook.com\n",
       "samiam          Scala  sam.scala@gmail.com\n",
       "joecool      Morrison  joe@rexonmetals.com"
      ]
     },
     "execution_count": 373,
     "metadata": {},
     "output_type": "execute_result"
    }
   ],
   "source": [
    "df.iloc[:, 1:3]"
   ]
  },
  {
   "cell_type": "markdown",
   "id": "980f14f4",
   "metadata": {},
   "source": [
    "### Negative Index"
   ]
  },
  {
   "cell_type": "markdown",
   "id": "5ed1e820",
   "metadata": {},
   "source": [
    "We can also use a negative index to grab rows or columns from the opposite direction, like grabbing the last two columns."
   ]
  },
  {
   "cell_type": "code",
   "execution_count": 377,
   "id": "caa99bf8",
   "metadata": {},
   "outputs": [
    {
     "data": {
      "text/html": [
       "<div>\n",
       "<style scoped>\n",
       "    .dataframe tbody tr th:only-of-type {\n",
       "        vertical-align: middle;\n",
       "    }\n",
       "\n",
       "    .dataframe tbody tr th {\n",
       "        vertical-align: top;\n",
       "    }\n",
       "\n",
       "    .dataframe thead th {\n",
       "        text-align: right;\n",
       "    }\n",
       "</style>\n",
       "<table border=\"1\" class=\"dataframe\">\n",
       "  <thead>\n",
       "    <tr style=\"text-align: right;\">\n",
       "      <th></th>\n",
       "      <th>last_name</th>\n",
       "      <th>email</th>\n",
       "    </tr>\n",
       "    <tr>\n",
       "      <th>username</th>\n",
       "      <th></th>\n",
       "      <th></th>\n",
       "    </tr>\n",
       "  </thead>\n",
       "  <tbody>\n",
       "    <tr>\n",
       "      <th>thomasnield</th>\n",
       "      <td>Nield</td>\n",
       "      <td>tmnield@outlook.com</td>\n",
       "    </tr>\n",
       "    <tr>\n",
       "      <th>samiam</th>\n",
       "      <td>Scala</td>\n",
       "      <td>sam.scala@gmail.com</td>\n",
       "    </tr>\n",
       "    <tr>\n",
       "      <th>joecool</th>\n",
       "      <td>Morrison</td>\n",
       "      <td>joe@rexonmetals.com</td>\n",
       "    </tr>\n",
       "  </tbody>\n",
       "</table>\n",
       "</div>"
      ],
      "text/plain": [
       "            last_name                email\n",
       "username                                  \n",
       "thomasnield     Nield  tmnield@outlook.com\n",
       "samiam          Scala  sam.scala@gmail.com\n",
       "joecool      Morrison  joe@rexonmetals.com"
      ]
     },
     "execution_count": 377,
     "metadata": {},
     "output_type": "execute_result"
    }
   ],
   "source": [
    "df.iloc[:,-2:]"
   ]
  },
  {
   "cell_type": "markdown",
   "id": "21fb189f",
   "metadata": {},
   "source": [
    "Another negative index example: using `-1` to specify grabbing the last row or the last column. "
   ]
  },
  {
   "cell_type": "code",
   "execution_count": 380,
   "id": "40f84444",
   "metadata": {},
   "outputs": [
    {
     "data": {
      "text/plain": [
       "first_name                    Joe\n",
       "last_name                Morrison\n",
       "email         joe@rexonmetals.com\n",
       "Name: joecool, dtype: object"
      ]
     },
     "execution_count": 380,
     "metadata": {},
     "output_type": "execute_result"
    }
   ],
   "source": [
    "df.iloc[-1]"
   ]
  },
  {
   "cell_type": "code",
   "execution_count": 382,
   "id": "c00cc156",
   "metadata": {},
   "outputs": [
    {
     "data": {
      "text/plain": [
       "username\n",
       "thomasnield    tmnield@outlook.com\n",
       "samiam         sam.scala@gmail.com\n",
       "joecool        joe@rexonmetals.com\n",
       "Name: email, dtype: object"
      ]
     },
     "execution_count": 382,
     "metadata": {},
     "output_type": "execute_result"
    }
   ],
   "source": [
    "df.iloc[:,-1]"
   ]
  },
  {
   "cell_type": "markdown",
   "id": "142ea14a",
   "metadata": {},
   "source": [
    "## Picking Rows and Columns"
   ]
  },
  {
   "cell_type": "markdown",
   "id": "29e3652e",
   "metadata": {},
   "source": [
    "To get extra picky, we can provide a list of indices instead of a range to pick only certain columns or certain rows. Below get the second and third row, and the first and third columns. "
   ]
  },
  {
   "cell_type": "code",
   "execution_count": 386,
   "id": "81783413",
   "metadata": {},
   "outputs": [
    {
     "data": {
      "text/html": [
       "<div>\n",
       "<style scoped>\n",
       "    .dataframe tbody tr th:only-of-type {\n",
       "        vertical-align: middle;\n",
       "    }\n",
       "\n",
       "    .dataframe tbody tr th {\n",
       "        vertical-align: top;\n",
       "    }\n",
       "\n",
       "    .dataframe thead th {\n",
       "        text-align: right;\n",
       "    }\n",
       "</style>\n",
       "<table border=\"1\" class=\"dataframe\">\n",
       "  <thead>\n",
       "    <tr style=\"text-align: right;\">\n",
       "      <th></th>\n",
       "      <th>first_name</th>\n",
       "      <th>email</th>\n",
       "    </tr>\n",
       "    <tr>\n",
       "      <th>username</th>\n",
       "      <th></th>\n",
       "      <th></th>\n",
       "    </tr>\n",
       "  </thead>\n",
       "  <tbody>\n",
       "    <tr>\n",
       "      <th>samiam</th>\n",
       "      <td>Sam</td>\n",
       "      <td>sam.scala@gmail.com</td>\n",
       "    </tr>\n",
       "    <tr>\n",
       "      <th>joecool</th>\n",
       "      <td>Joe</td>\n",
       "      <td>joe@rexonmetals.com</td>\n",
       "    </tr>\n",
       "  </tbody>\n",
       "</table>\n",
       "</div>"
      ],
      "text/plain": [
       "         first_name                email\n",
       "username                                \n",
       "samiam          Sam  sam.scala@gmail.com\n",
       "joecool         Joe  joe@rexonmetals.com"
      ]
     },
     "execution_count": 386,
     "metadata": {},
     "output_type": "execute_result"
    }
   ],
   "source": [
    "df.iloc[1:3, [0,2]]"
   ]
  },
  {
   "cell_type": "markdown",
   "id": "f119b501",
   "metadata": {},
   "source": [
    "There is a `loc` equivalent to this cherrypicking as well, where we can provide a list of labels we are interested in. Below I grab the rows with usernames `samiam` and `thomasnield` then extract the `email` column."
   ]
  },
  {
   "cell_type": "code",
   "execution_count": 389,
   "id": "b030a3d0",
   "metadata": {},
   "outputs": [
    {
     "data": {
      "text/plain": [
       "username\n",
       "samiam         sam.scala@gmail.com\n",
       "thomasnield    tmnield@outlook.com\n",
       "Name: email, dtype: object"
      ]
     },
     "execution_count": 389,
     "metadata": {},
     "output_type": "execute_result"
    }
   ],
   "source": [
    "df.loc[[\"samiam\",\"thomasnield\"], \"email\"]"
   ]
  },
  {
   "cell_type": "markdown",
   "id": "cf54cf7b",
   "metadata": {},
   "source": [
    "## Resetting the Index"
   ]
  },
  {
   "cell_type": "markdown",
   "id": "105595a0",
   "metadata": {},
   "source": [
    "You can reset the index back its default behavior by calling `reset_index()`. Make sure to use the `inplace=True` argument so it replaces the existing DataFrame rather than create a new one. "
   ]
  },
  {
   "cell_type": "code",
   "execution_count": 393,
   "id": "1fdc70f6",
   "metadata": {},
   "outputs": [],
   "source": [
    "df.reset_index(inplace=True)"
   ]
  },
  {
   "cell_type": "markdown",
   "id": "1f31003f",
   "metadata": {},
   "source": [
    "> Similar to `loc` and `iloc` there is also an `at` and `iat`. These return a single value at a specific row and column index using numeric or labelled indices respectively."
   ]
  },
  {
   "cell_type": "markdown",
   "id": "9baae440",
   "metadata": {},
   "source": [
    "## Dropping Rows by Condition"
   ]
  },
  {
   "cell_type": "markdown",
   "id": "48057ab9",
   "metadata": {},
   "source": [
    "Let's look at how to filter out rows and columns. There are multiple ways to do this. Let's talk about logical operators first. \n",
    "\n",
    "Notice how we can extract a column, use the `str` property, and get string-related methods. Let's use `startswith()` and find usernames that begin with the letter \"s.\""
   ]
  },
  {
   "cell_type": "code",
   "execution_count": 398,
   "id": "a3c01d7d",
   "metadata": {},
   "outputs": [
    {
     "data": {
      "text/plain": [
       "0    False\n",
       "1     True\n",
       "2    False\n",
       "Name: username, dtype: bool"
      ]
     },
     "execution_count": 398,
     "metadata": {},
     "output_type": "execute_result"
    }
   ],
   "source": [
    "df[\"username\"].str.startswith(\"s\")"
   ]
  },
  {
   "cell_type": "markdown",
   "id": "d119820b",
   "metadata": {},
   "source": [
    "The result might not be something you expect. We got a series of boolean `True/False` values indicating whether that value matches that condition. \n",
    "\n",
    "You might be wanting to simply list records that evaluated to `True`. We can achieve that by passing that series of `True/False` values back into the DataFrame and then it will only yield records that match `True` in that index. "
   ]
  },
  {
   "cell_type": "code",
   "execution_count": 401,
   "id": "9e2f7439",
   "metadata": {
    "scrolled": true
   },
   "outputs": [
    {
     "data": {
      "text/html": [
       "<div>\n",
       "<style scoped>\n",
       "    .dataframe tbody tr th:only-of-type {\n",
       "        vertical-align: middle;\n",
       "    }\n",
       "\n",
       "    .dataframe tbody tr th {\n",
       "        vertical-align: top;\n",
       "    }\n",
       "\n",
       "    .dataframe thead th {\n",
       "        text-align: right;\n",
       "    }\n",
       "</style>\n",
       "<table border=\"1\" class=\"dataframe\">\n",
       "  <thead>\n",
       "    <tr style=\"text-align: right;\">\n",
       "      <th></th>\n",
       "      <th>username</th>\n",
       "      <th>first_name</th>\n",
       "      <th>last_name</th>\n",
       "      <th>email</th>\n",
       "    </tr>\n",
       "  </thead>\n",
       "  <tbody>\n",
       "    <tr>\n",
       "      <th>1</th>\n",
       "      <td>samiam</td>\n",
       "      <td>Sam</td>\n",
       "      <td>Scala</td>\n",
       "      <td>sam.scala@gmail.com</td>\n",
       "    </tr>\n",
       "  </tbody>\n",
       "</table>\n",
       "</div>"
      ],
      "text/plain": [
       "  username first_name last_name                email\n",
       "1   samiam        Sam     Scala  sam.scala@gmail.com"
      ]
     },
     "execution_count": 401,
     "metadata": {},
     "output_type": "execute_result"
    }
   ],
   "source": [
    "condition = df[\"username\"].str.startswith(\"s\")\n",
    "\n",
    "df[condition]"
   ]
  },
  {
   "cell_type": "markdown",
   "id": "81fb1014",
   "metadata": {},
   "source": [
    "You can also just embed that logical expression inside the DataFrame getter brackets. "
   ]
  },
  {
   "cell_type": "code",
   "execution_count": 404,
   "id": "5a0071a2",
   "metadata": {
    "scrolled": true
   },
   "outputs": [
    {
     "data": {
      "text/html": [
       "<div>\n",
       "<style scoped>\n",
       "    .dataframe tbody tr th:only-of-type {\n",
       "        vertical-align: middle;\n",
       "    }\n",
       "\n",
       "    .dataframe tbody tr th {\n",
       "        vertical-align: top;\n",
       "    }\n",
       "\n",
       "    .dataframe thead th {\n",
       "        text-align: right;\n",
       "    }\n",
       "</style>\n",
       "<table border=\"1\" class=\"dataframe\">\n",
       "  <thead>\n",
       "    <tr style=\"text-align: right;\">\n",
       "      <th></th>\n",
       "      <th>username</th>\n",
       "      <th>first_name</th>\n",
       "      <th>last_name</th>\n",
       "      <th>email</th>\n",
       "    </tr>\n",
       "  </thead>\n",
       "  <tbody>\n",
       "    <tr>\n",
       "      <th>1</th>\n",
       "      <td>samiam</td>\n",
       "      <td>Sam</td>\n",
       "      <td>Scala</td>\n",
       "      <td>sam.scala@gmail.com</td>\n",
       "    </tr>\n",
       "  </tbody>\n",
       "</table>\n",
       "</div>"
      ],
      "text/plain": [
       "  username first_name last_name                email\n",
       "1   samiam        Sam     Scala  sam.scala@gmail.com"
      ]
     },
     "execution_count": 404,
     "metadata": {},
     "output_type": "execute_result"
    }
   ],
   "source": [
    "df[df[\"username\"].str.startswith(\"s\")]"
   ]
  },
  {
   "cell_type": "markdown",
   "id": "77d9d98b",
   "metadata": {},
   "source": [
    "We can also use the `&` and `|` to perform *and* and *or* operations respectively with two or more conditions. "
   ]
  },
  {
   "cell_type": "code",
   "execution_count": 407,
   "id": "70aa5799",
   "metadata": {},
   "outputs": [
    {
     "data": {
      "text/html": [
       "<div>\n",
       "<style scoped>\n",
       "    .dataframe tbody tr th:only-of-type {\n",
       "        vertical-align: middle;\n",
       "    }\n",
       "\n",
       "    .dataframe tbody tr th {\n",
       "        vertical-align: top;\n",
       "    }\n",
       "\n",
       "    .dataframe thead th {\n",
       "        text-align: right;\n",
       "    }\n",
       "</style>\n",
       "<table border=\"1\" class=\"dataframe\">\n",
       "  <thead>\n",
       "    <tr style=\"text-align: right;\">\n",
       "      <th></th>\n",
       "      <th>username</th>\n",
       "      <th>first_name</th>\n",
       "      <th>last_name</th>\n",
       "      <th>email</th>\n",
       "    </tr>\n",
       "  </thead>\n",
       "  <tbody>\n",
       "    <tr>\n",
       "      <th>1</th>\n",
       "      <td>samiam</td>\n",
       "      <td>Sam</td>\n",
       "      <td>Scala</td>\n",
       "      <td>sam.scala@gmail.com</td>\n",
       "    </tr>\n",
       "  </tbody>\n",
       "</table>\n",
       "</div>"
      ],
      "text/plain": [
       "  username first_name last_name                email\n",
       "1   samiam        Sam     Scala  sam.scala@gmail.com"
      ]
     },
     "execution_count": 407,
     "metadata": {},
     "output_type": "execute_result"
    }
   ],
   "source": [
    "df[df[\"username\"].str.startswith(\"s\") & df[\"email\"].str.contains(\"gmail\")]"
   ]
  },
  {
   "cell_type": "markdown",
   "id": "44f93c07",
   "metadata": {},
   "source": [
    "# Dropping Columns and Rows\n"
   ]
  },
  {
   "cell_type": "markdown",
   "id": "0dc94b55",
   "metadata": {},
   "source": [
    "There will be times you want to drop rows and columns that are not needed for your task. This is what the `drop()` function is for. \n",
    "\n",
    "Below I drop the first and second rows from my DataFrame. Because I want to drop rows, I specify the `axis=0`. "
   ]
  },
  {
   "cell_type": "code",
   "execution_count": 411,
   "id": "f3e550cf",
   "metadata": {},
   "outputs": [
    {
     "data": {
      "text/html": [
       "<div>\n",
       "<style scoped>\n",
       "    .dataframe tbody tr th:only-of-type {\n",
       "        vertical-align: middle;\n",
       "    }\n",
       "\n",
       "    .dataframe tbody tr th {\n",
       "        vertical-align: top;\n",
       "    }\n",
       "\n",
       "    .dataframe thead th {\n",
       "        text-align: right;\n",
       "    }\n",
       "</style>\n",
       "<table border=\"1\" class=\"dataframe\">\n",
       "  <thead>\n",
       "    <tr style=\"text-align: right;\">\n",
       "      <th></th>\n",
       "      <th>username</th>\n",
       "      <th>first_name</th>\n",
       "      <th>last_name</th>\n",
       "      <th>email</th>\n",
       "    </tr>\n",
       "  </thead>\n",
       "  <tbody>\n",
       "    <tr>\n",
       "      <th>2</th>\n",
       "      <td>joecool</td>\n",
       "      <td>Joe</td>\n",
       "      <td>Morrison</td>\n",
       "      <td>joe@rexonmetals.com</td>\n",
       "    </tr>\n",
       "  </tbody>\n",
       "</table>\n",
       "</div>"
      ],
      "text/plain": [
       "  username first_name last_name                email\n",
       "2  joecool        Joe  Morrison  joe@rexonmetals.com"
      ]
     },
     "execution_count": 411,
     "metadata": {},
     "output_type": "execute_result"
    }
   ],
   "source": [
    "df.drop([0,1], axis=0)"
   ]
  },
  {
   "cell_type": "markdown",
   "id": "81f6b0e9",
   "metadata": {},
   "source": [
    "> As always, while not being done here, use `inplace=True` if you want it to replace the existing DataFrame."
   ]
  },
  {
   "cell_type": "markdown",
   "id": "7adcb427",
   "metadata": {},
   "source": [
    "Note carefully that this uses the index. Therefore if you have different labels than a typical numeric index, you will need to specify with those labels.\n",
    "\n",
    "Below I set the index of my DataFrame to use the `username` and then drop those two rows by those usernames. "
   ]
  },
  {
   "cell_type": "code",
   "execution_count": 415,
   "id": "e23ab76e",
   "metadata": {},
   "outputs": [
    {
     "data": {
      "text/html": [
       "<div>\n",
       "<style scoped>\n",
       "    .dataframe tbody tr th:only-of-type {\n",
       "        vertical-align: middle;\n",
       "    }\n",
       "\n",
       "    .dataframe tbody tr th {\n",
       "        vertical-align: top;\n",
       "    }\n",
       "\n",
       "    .dataframe thead th {\n",
       "        text-align: right;\n",
       "    }\n",
       "</style>\n",
       "<table border=\"1\" class=\"dataframe\">\n",
       "  <thead>\n",
       "    <tr style=\"text-align: right;\">\n",
       "      <th></th>\n",
       "      <th>first_name</th>\n",
       "      <th>last_name</th>\n",
       "      <th>email</th>\n",
       "    </tr>\n",
       "    <tr>\n",
       "      <th>username</th>\n",
       "      <th></th>\n",
       "      <th></th>\n",
       "      <th></th>\n",
       "    </tr>\n",
       "  </thead>\n",
       "  <tbody>\n",
       "    <tr>\n",
       "      <th>joecool</th>\n",
       "      <td>Joe</td>\n",
       "      <td>Morrison</td>\n",
       "      <td>joe@rexonmetals.com</td>\n",
       "    </tr>\n",
       "  </tbody>\n",
       "</table>\n",
       "</div>"
      ],
      "text/plain": [
       "         first_name last_name                email\n",
       "username                                          \n",
       "joecool         Joe  Morrison  joe@rexonmetals.com"
      ]
     },
     "execution_count": 415,
     "metadata": {},
     "output_type": "execute_result"
    }
   ],
   "source": [
    "df.set_index(\"username\").drop([\"thomasnield\",\"samiam\"], axis=0)"
   ]
  },
  {
   "cell_type": "markdown",
   "id": "6a1b9b39",
   "metadata": {},
   "source": [
    "You can also use `drop()` to remove columns. Below I specify columns by `axis=1` and drop the `username` and `email` columns from the DataFrame."
   ]
  },
  {
   "cell_type": "code",
   "execution_count": 418,
   "id": "a0bb96fb",
   "metadata": {},
   "outputs": [
    {
     "data": {
      "text/html": [
       "<div>\n",
       "<style scoped>\n",
       "    .dataframe tbody tr th:only-of-type {\n",
       "        vertical-align: middle;\n",
       "    }\n",
       "\n",
       "    .dataframe tbody tr th {\n",
       "        vertical-align: top;\n",
       "    }\n",
       "\n",
       "    .dataframe thead th {\n",
       "        text-align: right;\n",
       "    }\n",
       "</style>\n",
       "<table border=\"1\" class=\"dataframe\">\n",
       "  <thead>\n",
       "    <tr style=\"text-align: right;\">\n",
       "      <th></th>\n",
       "      <th>first_name</th>\n",
       "      <th>last_name</th>\n",
       "    </tr>\n",
       "  </thead>\n",
       "  <tbody>\n",
       "    <tr>\n",
       "      <th>0</th>\n",
       "      <td>Thomas</td>\n",
       "      <td>Nield</td>\n",
       "    </tr>\n",
       "    <tr>\n",
       "      <th>1</th>\n",
       "      <td>Sam</td>\n",
       "      <td>Scala</td>\n",
       "    </tr>\n",
       "    <tr>\n",
       "      <th>2</th>\n",
       "      <td>Joe</td>\n",
       "      <td>Morrison</td>\n",
       "    </tr>\n",
       "  </tbody>\n",
       "</table>\n",
       "</div>"
      ],
      "text/plain": [
       "  first_name last_name\n",
       "0     Thomas     Nield\n",
       "1        Sam     Scala\n",
       "2        Joe  Morrison"
      ]
     },
     "execution_count": 418,
     "metadata": {},
     "output_type": "execute_result"
    }
   ],
   "source": [
    "df.drop([\"username\", \"email\"],axis=1)"
   ]
  },
  {
   "cell_type": "markdown",
   "id": "81d7b345",
   "metadata": {},
   "source": [
    "If you want to drop columns by a numeric index, you will need to retrieve that column name by grabbing the `columns` index object. Below we delete the first and fourth columns in our DataFrame by looking up their corresponding column labels, and then packaging it into a list. "
   ]
  },
  {
   "cell_type": "code",
   "execution_count": 421,
   "id": "dbf80ece",
   "metadata": {},
   "outputs": [
    {
     "data": {
      "text/html": [
       "<div>\n",
       "<style scoped>\n",
       "    .dataframe tbody tr th:only-of-type {\n",
       "        vertical-align: middle;\n",
       "    }\n",
       "\n",
       "    .dataframe tbody tr th {\n",
       "        vertical-align: top;\n",
       "    }\n",
       "\n",
       "    .dataframe thead th {\n",
       "        text-align: right;\n",
       "    }\n",
       "</style>\n",
       "<table border=\"1\" class=\"dataframe\">\n",
       "  <thead>\n",
       "    <tr style=\"text-align: right;\">\n",
       "      <th></th>\n",
       "      <th>first_name</th>\n",
       "      <th>last_name</th>\n",
       "    </tr>\n",
       "  </thead>\n",
       "  <tbody>\n",
       "    <tr>\n",
       "      <th>0</th>\n",
       "      <td>Thomas</td>\n",
       "      <td>Nield</td>\n",
       "    </tr>\n",
       "    <tr>\n",
       "      <th>1</th>\n",
       "      <td>Sam</td>\n",
       "      <td>Scala</td>\n",
       "    </tr>\n",
       "    <tr>\n",
       "      <th>2</th>\n",
       "      <td>Joe</td>\n",
       "      <td>Morrison</td>\n",
       "    </tr>\n",
       "  </tbody>\n",
       "</table>\n",
       "</div>"
      ],
      "text/plain": [
       "  first_name last_name\n",
       "0     Thomas     Nield\n",
       "1        Sam     Scala\n",
       "2        Joe  Morrison"
      ]
     },
     "execution_count": 421,
     "metadata": {},
     "output_type": "execute_result"
    }
   ],
   "source": [
    "num_indices = [0,3]\n",
    "df.drop([df.columns[i] for i in num_indices], axis=1)"
   ]
  },
  {
   "cell_type": "markdown",
   "id": "f15d0157",
   "metadata": {},
   "source": [
    "## Appending Rows and Columns \n",
    "\n",
    "### Appending Columns"
   ]
  },
  {
   "cell_type": "markdown",
   "id": "8ab720f2",
   "metadata": {},
   "source": [
    "Appending a column to a DataFrame can be done in several ways. The simplest is to define the new column label inside the square brackets like `df[\"phone\"]` and then assign a simple list, a dictionary, a Series, or another DataFrame. \n",
    "\n",
    "Below we create a new `phone` column and apply the data using a simple list. The number of values must match the number of records. "
   ]
  },
  {
   "cell_type": "code",
   "execution_count": 425,
   "id": "31a7e074",
   "metadata": {},
   "outputs": [
    {
     "data": {
      "text/html": [
       "<div>\n",
       "<style scoped>\n",
       "    .dataframe tbody tr th:only-of-type {\n",
       "        vertical-align: middle;\n",
       "    }\n",
       "\n",
       "    .dataframe tbody tr th {\n",
       "        vertical-align: top;\n",
       "    }\n",
       "\n",
       "    .dataframe thead th {\n",
       "        text-align: right;\n",
       "    }\n",
       "</style>\n",
       "<table border=\"1\" class=\"dataframe\">\n",
       "  <thead>\n",
       "    <tr style=\"text-align: right;\">\n",
       "      <th></th>\n",
       "      <th>username</th>\n",
       "      <th>first_name</th>\n",
       "      <th>last_name</th>\n",
       "      <th>email</th>\n",
       "      <th>phone</th>\n",
       "    </tr>\n",
       "  </thead>\n",
       "  <tbody>\n",
       "    <tr>\n",
       "      <th>0</th>\n",
       "      <td>thomasnield</td>\n",
       "      <td>Thomas</td>\n",
       "      <td>Nield</td>\n",
       "      <td>tmnield@outlook.com</td>\n",
       "      <td>213-247-5724</td>\n",
       "    </tr>\n",
       "    <tr>\n",
       "      <th>1</th>\n",
       "      <td>samiam</td>\n",
       "      <td>Sam</td>\n",
       "      <td>Scala</td>\n",
       "      <td>sam.scala@gmail.com</td>\n",
       "      <td>754-238-8237</td>\n",
       "    </tr>\n",
       "    <tr>\n",
       "      <th>2</th>\n",
       "      <td>joecool</td>\n",
       "      <td>Joe</td>\n",
       "      <td>Morrison</td>\n",
       "      <td>joe@rexonmetals.com</td>\n",
       "      <td>233-555-2311</td>\n",
       "    </tr>\n",
       "  </tbody>\n",
       "</table>\n",
       "</div>"
      ],
      "text/plain": [
       "      username first_name last_name                email         phone\n",
       "0  thomasnield     Thomas     Nield  tmnield@outlook.com  213-247-5724\n",
       "1       samiam        Sam     Scala  sam.scala@gmail.com  754-238-8237\n",
       "2      joecool        Joe  Morrison  joe@rexonmetals.com  233-555-2311"
      ]
     },
     "execution_count": 425,
     "metadata": {},
     "output_type": "execute_result"
    }
   ],
   "source": [
    "df[\"phone\"] = [\"213-247-5724\",\"754-238-8237\",\"233-555-2311\"]\n",
    "\n",
    "df\n"
   ]
  },
  {
   "cell_type": "markdown",
   "id": "2f3b512c",
   "metadata": {},
   "source": [
    "If you want to add a column at a specific location, you can use the `insert()` function. Provide first the positional index and the column name, and then a list of values. \n",
    "\n",
    "Below we add a `twitter` column in the fourth column position of the DataFrame."
   ]
  },
  {
   "cell_type": "code",
   "execution_count": 428,
   "id": "3a7acb63",
   "metadata": {},
   "outputs": [
    {
     "data": {
      "text/html": [
       "<div>\n",
       "<style scoped>\n",
       "    .dataframe tbody tr th:only-of-type {\n",
       "        vertical-align: middle;\n",
       "    }\n",
       "\n",
       "    .dataframe tbody tr th {\n",
       "        vertical-align: top;\n",
       "    }\n",
       "\n",
       "    .dataframe thead th {\n",
       "        text-align: right;\n",
       "    }\n",
       "</style>\n",
       "<table border=\"1\" class=\"dataframe\">\n",
       "  <thead>\n",
       "    <tr style=\"text-align: right;\">\n",
       "      <th></th>\n",
       "      <th>username</th>\n",
       "      <th>first_name</th>\n",
       "      <th>last_name</th>\n",
       "      <th>twitter</th>\n",
       "      <th>email</th>\n",
       "      <th>phone</th>\n",
       "    </tr>\n",
       "  </thead>\n",
       "  <tbody>\n",
       "    <tr>\n",
       "      <th>0</th>\n",
       "      <td>thomasnield</td>\n",
       "      <td>Thomas</td>\n",
       "      <td>Nield</td>\n",
       "      <td>@thomasnield76</td>\n",
       "      <td>tmnield@outlook.com</td>\n",
       "      <td>213-247-5724</td>\n",
       "    </tr>\n",
       "    <tr>\n",
       "      <th>1</th>\n",
       "      <td>samiam</td>\n",
       "      <td>Sam</td>\n",
       "      <td>Scala</td>\n",
       "      <td>@samiam46</td>\n",
       "      <td>sam.scala@gmail.com</td>\n",
       "      <td>754-238-8237</td>\n",
       "    </tr>\n",
       "    <tr>\n",
       "      <th>2</th>\n",
       "      <td>joecool</td>\n",
       "      <td>Joe</td>\n",
       "      <td>Morrison</td>\n",
       "      <td>@joe564</td>\n",
       "      <td>joe@rexonmetals.com</td>\n",
       "      <td>233-555-2311</td>\n",
       "    </tr>\n",
       "  </tbody>\n",
       "</table>\n",
       "</div>"
      ],
      "text/plain": [
       "      username first_name last_name         twitter                email  \\\n",
       "0  thomasnield     Thomas     Nield  @thomasnield76  tmnield@outlook.com   \n",
       "1       samiam        Sam     Scala       @samiam46  sam.scala@gmail.com   \n",
       "2      joecool        Joe  Morrison         @joe564  joe@rexonmetals.com   \n",
       "\n",
       "          phone  \n",
       "0  213-247-5724  \n",
       "1  754-238-8237  \n",
       "2  233-555-2311  "
      ]
     },
     "execution_count": 428,
     "metadata": {},
     "output_type": "execute_result"
    }
   ],
   "source": [
    "df.insert(3, \"twitter\", [\"@thomasnield76\",\"@samiam46\",\"@joe564\"])\n",
    "\n",
    "df"
   ]
  },
  {
   "cell_type": "markdown",
   "id": "86c978ba",
   "metadata": {},
   "source": [
    "### Appending Rows"
   ]
  },
  {
   "cell_type": "markdown",
   "id": "32e418c5",
   "metadata": {},
   "source": [
    "Adding rows can be done similarly as adding columns, but uses the `loc` property. You will need to provide the index label for that new record and assign it. "
   ]
  },
  {
   "cell_type": "code",
   "execution_count": 432,
   "id": "85c50cc0",
   "metadata": {},
   "outputs": [
    {
     "data": {
      "text/html": [
       "<div>\n",
       "<style scoped>\n",
       "    .dataframe tbody tr th:only-of-type {\n",
       "        vertical-align: middle;\n",
       "    }\n",
       "\n",
       "    .dataframe tbody tr th {\n",
       "        vertical-align: top;\n",
       "    }\n",
       "\n",
       "    .dataframe thead th {\n",
       "        text-align: right;\n",
       "    }\n",
       "</style>\n",
       "<table border=\"1\" class=\"dataframe\">\n",
       "  <thead>\n",
       "    <tr style=\"text-align: right;\">\n",
       "      <th></th>\n",
       "      <th>username</th>\n",
       "      <th>first_name</th>\n",
       "      <th>last_name</th>\n",
       "      <th>twitter</th>\n",
       "      <th>email</th>\n",
       "      <th>phone</th>\n",
       "    </tr>\n",
       "  </thead>\n",
       "  <tbody>\n",
       "    <tr>\n",
       "      <th>0</th>\n",
       "      <td>thomasnield</td>\n",
       "      <td>Thomas</td>\n",
       "      <td>Nield</td>\n",
       "      <td>@thomasnield76</td>\n",
       "      <td>tmnield@outlook.com</td>\n",
       "      <td>213-247-5724</td>\n",
       "    </tr>\n",
       "    <tr>\n",
       "      <th>1</th>\n",
       "      <td>samiam</td>\n",
       "      <td>Sam</td>\n",
       "      <td>Scala</td>\n",
       "      <td>@samiam46</td>\n",
       "      <td>sam.scala@gmail.com</td>\n",
       "      <td>754-238-8237</td>\n",
       "    </tr>\n",
       "    <tr>\n",
       "      <th>2</th>\n",
       "      <td>joecool</td>\n",
       "      <td>Joe</td>\n",
       "      <td>Morrison</td>\n",
       "      <td>@joe564</td>\n",
       "      <td>joe@rexonmetals.com</td>\n",
       "      <td>233-555-2311</td>\n",
       "    </tr>\n",
       "    <tr>\n",
       "      <th>3</th>\n",
       "      <td>jasonmarley</td>\n",
       "      <td>Jason</td>\n",
       "      <td>Marley</td>\n",
       "      <td>@OtherJason45</td>\n",
       "      <td>jason@marlyco.net</td>\n",
       "      <td>214-282-9998</td>\n",
       "    </tr>\n",
       "  </tbody>\n",
       "</table>\n",
       "</div>"
      ],
      "text/plain": [
       "      username first_name last_name         twitter                email  \\\n",
       "0  thomasnield     Thomas     Nield  @thomasnield76  tmnield@outlook.com   \n",
       "1       samiam        Sam     Scala       @samiam46  sam.scala@gmail.com   \n",
       "2      joecool        Joe  Morrison         @joe564  joe@rexonmetals.com   \n",
       "3  jasonmarley      Jason    Marley   @OtherJason45    jason@marlyco.net   \n",
       "\n",
       "          phone  \n",
       "0  213-247-5724  \n",
       "1  754-238-8237  \n",
       "2  233-555-2311  \n",
       "3  214-282-9998  "
      ]
     },
     "execution_count": 432,
     "metadata": {},
     "output_type": "execute_result"
    }
   ],
   "source": [
    "df.loc[3] = [\"jasonmarley\", \"Jason\", \"Marley\", \"@OtherJason45\", \"jason@marlyco.net\", \"214-282-9998\"]\n",
    "df"
   ]
  },
  {
   "cell_type": "markdown",
   "id": "919b90c3",
   "metadata": {},
   "source": [
    "You can also use the `concat()` function to append one or more dataframes together."
   ]
  },
  {
   "cell_type": "code",
   "execution_count": 435,
   "id": "5e25ce14",
   "metadata": {},
   "outputs": [
    {
     "data": {
      "text/html": [
       "<div>\n",
       "<style scoped>\n",
       "    .dataframe tbody tr th:only-of-type {\n",
       "        vertical-align: middle;\n",
       "    }\n",
       "\n",
       "    .dataframe tbody tr th {\n",
       "        vertical-align: top;\n",
       "    }\n",
       "\n",
       "    .dataframe thead th {\n",
       "        text-align: right;\n",
       "    }\n",
       "</style>\n",
       "<table border=\"1\" class=\"dataframe\">\n",
       "  <thead>\n",
       "    <tr style=\"text-align: right;\">\n",
       "      <th></th>\n",
       "      <th>username</th>\n",
       "      <th>first_name</th>\n",
       "      <th>last_name</th>\n",
       "      <th>twitter</th>\n",
       "      <th>email</th>\n",
       "      <th>phone</th>\n",
       "    </tr>\n",
       "  </thead>\n",
       "  <tbody>\n",
       "    <tr>\n",
       "      <th>0</th>\n",
       "      <td>thomasnield</td>\n",
       "      <td>Thomas</td>\n",
       "      <td>Nield</td>\n",
       "      <td>@thomasnield76</td>\n",
       "      <td>tmnield@outlook.com</td>\n",
       "      <td>213-247-5724</td>\n",
       "    </tr>\n",
       "    <tr>\n",
       "      <th>1</th>\n",
       "      <td>samiam</td>\n",
       "      <td>Sam</td>\n",
       "      <td>Scala</td>\n",
       "      <td>@samiam46</td>\n",
       "      <td>sam.scala@gmail.com</td>\n",
       "      <td>754-238-8237</td>\n",
       "    </tr>\n",
       "    <tr>\n",
       "      <th>2</th>\n",
       "      <td>joecool</td>\n",
       "      <td>Joe</td>\n",
       "      <td>Morrison</td>\n",
       "      <td>@joe564</td>\n",
       "      <td>joe@rexonmetals.com</td>\n",
       "      <td>233-555-2311</td>\n",
       "    </tr>\n",
       "    <tr>\n",
       "      <th>3</th>\n",
       "      <td>jasonmarley</td>\n",
       "      <td>Jason</td>\n",
       "      <td>Marley</td>\n",
       "      <td>@OtherJason45</td>\n",
       "      <td>jason@marlyco.net</td>\n",
       "      <td>214-282-9998</td>\n",
       "    </tr>\n",
       "    <tr>\n",
       "      <th>0</th>\n",
       "      <td>wyatt_urp</td>\n",
       "      <td>Wyatt</td>\n",
       "      <td>Jones</td>\n",
       "      <td>None</td>\n",
       "      <td>wyatt.jones@jonesco.com</td>\n",
       "      <td>444-244-7642</td>\n",
       "    </tr>\n",
       "  </tbody>\n",
       "</table>\n",
       "</div>"
      ],
      "text/plain": [
       "      username first_name last_name         twitter                    email  \\\n",
       "0  thomasnield     Thomas     Nield  @thomasnield76      tmnield@outlook.com   \n",
       "1       samiam        Sam     Scala       @samiam46      sam.scala@gmail.com   \n",
       "2      joecool        Joe  Morrison         @joe564      joe@rexonmetals.com   \n",
       "3  jasonmarley      Jason    Marley   @OtherJason45        jason@marlyco.net   \n",
       "0    wyatt_urp      Wyatt     Jones            None  wyatt.jones@jonesco.com   \n",
       "\n",
       "          phone  \n",
       "0  213-247-5724  \n",
       "1  754-238-8237  \n",
       "2  233-555-2311  \n",
       "3  214-282-9998  \n",
       "0  444-244-7642  "
      ]
     },
     "execution_count": 435,
     "metadata": {},
     "output_type": "execute_result"
    }
   ],
   "source": [
    "new_record = pd.DataFrame({\n",
    "    \"username\":[\"wyatt_urp\"],\n",
    "    \"first_name\":[\"Wyatt\"],\n",
    "    \"last_name\":[\"Jones\"], \n",
    "    \"email\":[\"wyatt.jones@jonesco.com\"],\n",
    "    \"twitter\": [None],\n",
    "    \"phone\":[\"444-244-7642\"]\n",
    "})\n",
    "df = pd.concat([df, new_record])\n",
    "\n",
    "df"
   ]
  },
  {
   "cell_type": "markdown",
   "id": "18cea91f",
   "metadata": {},
   "source": [
    "## Updating Data "
   ]
  },
  {
   "cell_type": "markdown",
   "id": "6873a794",
   "metadata": {},
   "source": [
    "### Updating a Column"
   ]
  },
  {
   "cell_type": "markdown",
   "id": "d5564b85",
   "metadata": {},
   "source": [
    "You can update an entire column in Pandas by using the `=` operator. Below we update all the `email` values to be uppercase. "
   ]
  },
  {
   "cell_type": "code",
   "execution_count": 440,
   "id": "60879c6b",
   "metadata": {},
   "outputs": [
    {
     "data": {
      "text/html": [
       "<div>\n",
       "<style scoped>\n",
       "    .dataframe tbody tr th:only-of-type {\n",
       "        vertical-align: middle;\n",
       "    }\n",
       "\n",
       "    .dataframe tbody tr th {\n",
       "        vertical-align: top;\n",
       "    }\n",
       "\n",
       "    .dataframe thead th {\n",
       "        text-align: right;\n",
       "    }\n",
       "</style>\n",
       "<table border=\"1\" class=\"dataframe\">\n",
       "  <thead>\n",
       "    <tr style=\"text-align: right;\">\n",
       "      <th></th>\n",
       "      <th>username</th>\n",
       "      <th>first_name</th>\n",
       "      <th>last_name</th>\n",
       "      <th>twitter</th>\n",
       "      <th>email</th>\n",
       "      <th>phone</th>\n",
       "    </tr>\n",
       "  </thead>\n",
       "  <tbody>\n",
       "    <tr>\n",
       "      <th>0</th>\n",
       "      <td>thomasnield</td>\n",
       "      <td>Thomas</td>\n",
       "      <td>Nield</td>\n",
       "      <td>@thomasnield76</td>\n",
       "      <td>TMNIELD@OUTLOOK.COM</td>\n",
       "      <td>213-247-5724</td>\n",
       "    </tr>\n",
       "    <tr>\n",
       "      <th>1</th>\n",
       "      <td>samiam</td>\n",
       "      <td>Sam</td>\n",
       "      <td>Scala</td>\n",
       "      <td>@samiam46</td>\n",
       "      <td>SAM.SCALA@GMAIL.COM</td>\n",
       "      <td>754-238-8237</td>\n",
       "    </tr>\n",
       "    <tr>\n",
       "      <th>2</th>\n",
       "      <td>joecool</td>\n",
       "      <td>Joe</td>\n",
       "      <td>Morrison</td>\n",
       "      <td>@joe564</td>\n",
       "      <td>JOE@REXONMETALS.COM</td>\n",
       "      <td>233-555-2311</td>\n",
       "    </tr>\n",
       "    <tr>\n",
       "      <th>3</th>\n",
       "      <td>jasonmarley</td>\n",
       "      <td>Jason</td>\n",
       "      <td>Marley</td>\n",
       "      <td>@OtherJason45</td>\n",
       "      <td>JASON@MARLYCO.NET</td>\n",
       "      <td>214-282-9998</td>\n",
       "    </tr>\n",
       "    <tr>\n",
       "      <th>0</th>\n",
       "      <td>wyatt_urp</td>\n",
       "      <td>Wyatt</td>\n",
       "      <td>Jones</td>\n",
       "      <td>None</td>\n",
       "      <td>WYATT.JONES@JONESCO.COM</td>\n",
       "      <td>444-244-7642</td>\n",
       "    </tr>\n",
       "  </tbody>\n",
       "</table>\n",
       "</div>"
      ],
      "text/plain": [
       "      username first_name last_name         twitter                    email  \\\n",
       "0  thomasnield     Thomas     Nield  @thomasnield76      TMNIELD@OUTLOOK.COM   \n",
       "1       samiam        Sam     Scala       @samiam46      SAM.SCALA@GMAIL.COM   \n",
       "2      joecool        Joe  Morrison         @joe564      JOE@REXONMETALS.COM   \n",
       "3  jasonmarley      Jason    Marley   @OtherJason45        JASON@MARLYCO.NET   \n",
       "0    wyatt_urp      Wyatt     Jones            None  WYATT.JONES@JONESCO.COM   \n",
       "\n",
       "          phone  \n",
       "0  213-247-5724  \n",
       "1  754-238-8237  \n",
       "2  233-555-2311  \n",
       "3  214-282-9998  \n",
       "0  444-244-7642  "
      ]
     },
     "execution_count": 440,
     "metadata": {},
     "output_type": "execute_result"
    }
   ],
   "source": [
    "df[\"email\"] = df[\"email\"].str.upper()\n",
    "\n",
    "df"
   ]
  },
  {
   "cell_type": "markdown",
   "id": "c3902642",
   "metadata": {},
   "source": [
    "### Updating On a Condition "
   ]
  },
  {
   "cell_type": "markdown",
   "id": "3797b207",
   "metadata": {},
   "source": [
    "We can also conditionally update one or more specific records by passing a logical condition to the `loc` function as well as the desired column to be updated. \n",
    "\n",
    "Below we change joe's email address. "
   ]
  },
  {
   "cell_type": "code",
   "execution_count": 444,
   "id": "a1ebce96",
   "metadata": {},
   "outputs": [
    {
     "data": {
      "text/html": [
       "<div>\n",
       "<style scoped>\n",
       "    .dataframe tbody tr th:only-of-type {\n",
       "        vertical-align: middle;\n",
       "    }\n",
       "\n",
       "    .dataframe tbody tr th {\n",
       "        vertical-align: top;\n",
       "    }\n",
       "\n",
       "    .dataframe thead th {\n",
       "        text-align: right;\n",
       "    }\n",
       "</style>\n",
       "<table border=\"1\" class=\"dataframe\">\n",
       "  <thead>\n",
       "    <tr style=\"text-align: right;\">\n",
       "      <th></th>\n",
       "      <th>username</th>\n",
       "      <th>first_name</th>\n",
       "      <th>last_name</th>\n",
       "      <th>twitter</th>\n",
       "      <th>email</th>\n",
       "      <th>phone</th>\n",
       "    </tr>\n",
       "  </thead>\n",
       "  <tbody>\n",
       "    <tr>\n",
       "      <th>0</th>\n",
       "      <td>thomasnield</td>\n",
       "      <td>Thomas</td>\n",
       "      <td>Nield</td>\n",
       "      <td>@thomasnield76</td>\n",
       "      <td>TMNIELD@OUTLOOK.COM</td>\n",
       "      <td>213-247-5724</td>\n",
       "    </tr>\n",
       "    <tr>\n",
       "      <th>1</th>\n",
       "      <td>samiam</td>\n",
       "      <td>Sam</td>\n",
       "      <td>Scala</td>\n",
       "      <td>@samiam46</td>\n",
       "      <td>SAM.SCALA@GMAIL.COM</td>\n",
       "      <td>754-238-8237</td>\n",
       "    </tr>\n",
       "    <tr>\n",
       "      <th>2</th>\n",
       "      <td>joecool</td>\n",
       "      <td>Joe</td>\n",
       "      <td>Morrison</td>\n",
       "      <td>@joe564</td>\n",
       "      <td>joe@gmail.com</td>\n",
       "      <td>233-555-2311</td>\n",
       "    </tr>\n",
       "    <tr>\n",
       "      <th>3</th>\n",
       "      <td>jasonmarley</td>\n",
       "      <td>Jason</td>\n",
       "      <td>Marley</td>\n",
       "      <td>@OtherJason45</td>\n",
       "      <td>JASON@MARLYCO.NET</td>\n",
       "      <td>214-282-9998</td>\n",
       "    </tr>\n",
       "    <tr>\n",
       "      <th>0</th>\n",
       "      <td>wyatt_urp</td>\n",
       "      <td>Wyatt</td>\n",
       "      <td>Jones</td>\n",
       "      <td>None</td>\n",
       "      <td>WYATT.JONES@JONESCO.COM</td>\n",
       "      <td>444-244-7642</td>\n",
       "    </tr>\n",
       "  </tbody>\n",
       "</table>\n",
       "</div>"
      ],
      "text/plain": [
       "      username first_name last_name         twitter                    email  \\\n",
       "0  thomasnield     Thomas     Nield  @thomasnield76      TMNIELD@OUTLOOK.COM   \n",
       "1       samiam        Sam     Scala       @samiam46      SAM.SCALA@GMAIL.COM   \n",
       "2      joecool        Joe  Morrison         @joe564            joe@gmail.com   \n",
       "3  jasonmarley      Jason    Marley   @OtherJason45        JASON@MARLYCO.NET   \n",
       "0    wyatt_urp      Wyatt     Jones            None  WYATT.JONES@JONESCO.COM   \n",
       "\n",
       "          phone  \n",
       "0  213-247-5724  \n",
       "1  754-238-8237  \n",
       "2  233-555-2311  \n",
       "3  214-282-9998  \n",
       "0  444-244-7642  "
      ]
     },
     "execution_count": 444,
     "metadata": {},
     "output_type": "execute_result"
    }
   ],
   "source": [
    "condition = df[\"first_name\"].eq(\"Joe\")\n",
    "\n",
    "df.loc[condition, \"email\"] = \"joe@gmail.com\"\n",
    "\n",
    "df"
   ]
  },
  {
   "cell_type": "markdown",
   "id": "41dcad6f",
   "metadata": {},
   "source": [
    "### Updating a Row"
   ]
  },
  {
   "cell_type": "markdown",
   "id": "fd3e5a1b",
   "metadata": {},
   "source": [
    "You can also use an index for a row, and assign a new record for that row. "
   ]
  },
  {
   "cell_type": "code",
   "execution_count": 448,
   "id": "30b92b51",
   "metadata": {},
   "outputs": [
    {
     "data": {
      "text/html": [
       "<div>\n",
       "<style scoped>\n",
       "    .dataframe tbody tr th:only-of-type {\n",
       "        vertical-align: middle;\n",
       "    }\n",
       "\n",
       "    .dataframe tbody tr th {\n",
       "        vertical-align: top;\n",
       "    }\n",
       "\n",
       "    .dataframe thead th {\n",
       "        text-align: right;\n",
       "    }\n",
       "</style>\n",
       "<table border=\"1\" class=\"dataframe\">\n",
       "  <thead>\n",
       "    <tr style=\"text-align: right;\">\n",
       "      <th></th>\n",
       "      <th>username</th>\n",
       "      <th>first_name</th>\n",
       "      <th>last_name</th>\n",
       "      <th>twitter</th>\n",
       "      <th>email</th>\n",
       "      <th>phone</th>\n",
       "    </tr>\n",
       "  </thead>\n",
       "  <tbody>\n",
       "    <tr>\n",
       "      <th>0</th>\n",
       "      <td>thomasnield</td>\n",
       "      <td>Thomas</td>\n",
       "      <td>Nield</td>\n",
       "      <td>@thomasnield76</td>\n",
       "      <td>TMNIELD@OUTLOOK.COM</td>\n",
       "      <td>213-247-5724</td>\n",
       "    </tr>\n",
       "    <tr>\n",
       "      <th>1</th>\n",
       "      <td>samiam2022</td>\n",
       "      <td>Samuel</td>\n",
       "      <td>Scala</td>\n",
       "      <td>None</td>\n",
       "      <td>sam.scala@gmail.com</td>\n",
       "      <td>None</td>\n",
       "    </tr>\n",
       "    <tr>\n",
       "      <th>2</th>\n",
       "      <td>joecool</td>\n",
       "      <td>Joe</td>\n",
       "      <td>Morrison</td>\n",
       "      <td>@joe564</td>\n",
       "      <td>joe@gmail.com</td>\n",
       "      <td>233-555-2311</td>\n",
       "    </tr>\n",
       "    <tr>\n",
       "      <th>3</th>\n",
       "      <td>jasonmarley</td>\n",
       "      <td>Jason</td>\n",
       "      <td>Marley</td>\n",
       "      <td>@OtherJason45</td>\n",
       "      <td>JASON@MARLYCO.NET</td>\n",
       "      <td>214-282-9998</td>\n",
       "    </tr>\n",
       "    <tr>\n",
       "      <th>0</th>\n",
       "      <td>wyatt_urp</td>\n",
       "      <td>Wyatt</td>\n",
       "      <td>Jones</td>\n",
       "      <td>None</td>\n",
       "      <td>WYATT.JONES@JONESCO.COM</td>\n",
       "      <td>444-244-7642</td>\n",
       "    </tr>\n",
       "  </tbody>\n",
       "</table>\n",
       "</div>"
      ],
      "text/plain": [
       "      username first_name last_name         twitter                    email  \\\n",
       "0  thomasnield     Thomas     Nield  @thomasnield76      TMNIELD@OUTLOOK.COM   \n",
       "1   samiam2022     Samuel     Scala            None      sam.scala@gmail.com   \n",
       "2      joecool        Joe  Morrison         @joe564            joe@gmail.com   \n",
       "3  jasonmarley      Jason    Marley   @OtherJason45        JASON@MARLYCO.NET   \n",
       "0    wyatt_urp      Wyatt     Jones            None  WYATT.JONES@JONESCO.COM   \n",
       "\n",
       "          phone  \n",
       "0  213-247-5724  \n",
       "1          None  \n",
       "2  233-555-2311  \n",
       "3  214-282-9998  \n",
       "0  444-244-7642  "
      ]
     },
     "execution_count": 448,
     "metadata": {},
     "output_type": "execute_result"
    }
   ],
   "source": [
    "df.loc[1] = ['samiam2022','Samuel','Scala',None,'sam.scala@gmail.com',None]\n",
    "\n",
    "df"
   ]
  },
  {
   "cell_type": "markdown",
   "id": "0a471700",
   "metadata": {},
   "source": [
    "## Melting"
   ]
  },
  {
   "cell_type": "markdown",
   "id": "f58295d3",
   "metadata": {},
   "source": [
    "There will be situations in data cleaning where you will want to unpivot columns to become row values. For example, take this simple but possibly inconvenient DataFrame that breaks up a revenue amount by category, but also by the years `2022` and `2021` as two separate columns. "
   ]
  },
  {
   "cell_type": "code",
   "execution_count": 452,
   "id": "9b9fd869",
   "metadata": {},
   "outputs": [
    {
     "data": {
      "text/html": [
       "<div>\n",
       "<style scoped>\n",
       "    .dataframe tbody tr th:only-of-type {\n",
       "        vertical-align: middle;\n",
       "    }\n",
       "\n",
       "    .dataframe tbody tr th {\n",
       "        vertical-align: top;\n",
       "    }\n",
       "\n",
       "    .dataframe thead th {\n",
       "        text-align: right;\n",
       "    }\n",
       "</style>\n",
       "<table border=\"1\" class=\"dataframe\">\n",
       "  <thead>\n",
       "    <tr style=\"text-align: right;\">\n",
       "      <th></th>\n",
       "      <th>CATEGORY</th>\n",
       "      <th>2022</th>\n",
       "      <th>2021</th>\n",
       "    </tr>\n",
       "  </thead>\n",
       "  <tbody>\n",
       "    <tr>\n",
       "      <th>0</th>\n",
       "      <td>ALPHA</td>\n",
       "      <td>120</td>\n",
       "      <td>320</td>\n",
       "    </tr>\n",
       "    <tr>\n",
       "      <th>1</th>\n",
       "      <td>BETA</td>\n",
       "      <td>250</td>\n",
       "      <td>420</td>\n",
       "    </tr>\n",
       "    <tr>\n",
       "      <th>2</th>\n",
       "      <td>GAMMA</td>\n",
       "      <td>280</td>\n",
       "      <td>170</td>\n",
       "    </tr>\n",
       "  </tbody>\n",
       "</table>\n",
       "</div>"
      ],
      "text/plain": [
       "  CATEGORY  2022  2021\n",
       "0    ALPHA   120   320\n",
       "1     BETA   250   420\n",
       "2    GAMMA   280   170"
      ]
     },
     "execution_count": 452,
     "metadata": {},
     "output_type": "execute_result"
    }
   ],
   "source": [
    "df = pd.DataFrame({\n",
    "    \"CATEGORY\" : [\"ALPHA\", \"BETA\", \"GAMMA\"],\n",
    "    \"2022\" : [120, 250, 280],\n",
    "    \"2021\" : [320, 420, 170]\n",
    "})\n",
    "\n",
    "df"
   ]
  },
  {
   "cell_type": "markdown",
   "id": "2515348b",
   "metadata": {},
   "source": [
    "This is not exactly normalized data, where we would expect a `YEAR` column and then `2022` and `2021` would be values in that column. \n",
    "\n",
    "Thankfully, the `melt()` function in Pandas will do this transformation. Let's take a look and see if you can dissect how this function is used, and what its arguments mean."
   ]
  },
  {
   "cell_type": "code",
   "execution_count": 455,
   "id": "62eac4bf",
   "metadata": {},
   "outputs": [
    {
     "data": {
      "text/html": [
       "<div>\n",
       "<style scoped>\n",
       "    .dataframe tbody tr th:only-of-type {\n",
       "        vertical-align: middle;\n",
       "    }\n",
       "\n",
       "    .dataframe tbody tr th {\n",
       "        vertical-align: top;\n",
       "    }\n",
       "\n",
       "    .dataframe thead th {\n",
       "        text-align: right;\n",
       "    }\n",
       "</style>\n",
       "<table border=\"1\" class=\"dataframe\">\n",
       "  <thead>\n",
       "    <tr style=\"text-align: right;\">\n",
       "      <th></th>\n",
       "      <th>CATEGORY</th>\n",
       "      <th>YEAR</th>\n",
       "      <th>AMOUNT</th>\n",
       "    </tr>\n",
       "  </thead>\n",
       "  <tbody>\n",
       "    <tr>\n",
       "      <th>0</th>\n",
       "      <td>ALPHA</td>\n",
       "      <td>2022</td>\n",
       "      <td>120</td>\n",
       "    </tr>\n",
       "    <tr>\n",
       "      <th>1</th>\n",
       "      <td>BETA</td>\n",
       "      <td>2022</td>\n",
       "      <td>250</td>\n",
       "    </tr>\n",
       "    <tr>\n",
       "      <th>2</th>\n",
       "      <td>GAMMA</td>\n",
       "      <td>2022</td>\n",
       "      <td>280</td>\n",
       "    </tr>\n",
       "    <tr>\n",
       "      <th>3</th>\n",
       "      <td>ALPHA</td>\n",
       "      <td>2021</td>\n",
       "      <td>320</td>\n",
       "    </tr>\n",
       "    <tr>\n",
       "      <th>4</th>\n",
       "      <td>BETA</td>\n",
       "      <td>2021</td>\n",
       "      <td>420</td>\n",
       "    </tr>\n",
       "    <tr>\n",
       "      <th>5</th>\n",
       "      <td>GAMMA</td>\n",
       "      <td>2021</td>\n",
       "      <td>170</td>\n",
       "    </tr>\n",
       "  </tbody>\n",
       "</table>\n",
       "</div>"
      ],
      "text/plain": [
       "  CATEGORY  YEAR  AMOUNT\n",
       "0    ALPHA  2022     120\n",
       "1     BETA  2022     250\n",
       "2    GAMMA  2022     280\n",
       "3    ALPHA  2021     320\n",
       "4     BETA  2021     420\n",
       "5    GAMMA  2021     170"
      ]
     },
     "execution_count": 455,
     "metadata": {},
     "output_type": "execute_result"
    }
   ],
   "source": [
    "df.melt(id_vars=['CATEGORY'], value_vars=['2022','2021'], var_name=\"YEAR\", value_name=\"AMOUNT\")"
   ]
  },
  {
   "cell_type": "markdown",
   "id": "30e7f972",
   "metadata": {},
   "source": [
    "As you will see above, the `id_vars` is essentially the columns that will be unchanged and \"anchor\" the records. But the `value_vars` will be the column names that will be flipped into values for a column we name `YEAR`, which is also an argument `var_name`. The `value_name` argument will provide a name for that column all the values will be moved to. "
   ]
  },
  {
   "cell_type": "markdown",
   "id": "ea22e96a",
   "metadata": {},
   "source": [
    "## Exercise "
   ]
  },
  {
   "cell_type": "markdown",
   "id": "a05976ee",
   "metadata": {},
   "source": [
    "Complete the code below so the `employee_id` is the index for the dataframe. Make the `department` field uppercase, and then add a column `birth_date` with values `1985-04-02`, `1987-05-16`, and `1979-01-03`. Then delete the record where the `employee_id` is `c275213`. "
   ]
  },
  {
   "cell_type": "code",
   "execution_count": 460,
   "id": "f2b6a41e",
   "metadata": {},
   "outputs": [
    {
     "data": {
      "text/html": [
       "<div>\n",
       "<style scoped>\n",
       "    .dataframe tbody tr th:only-of-type {\n",
       "        vertical-align: middle;\n",
       "    }\n",
       "\n",
       "    .dataframe tbody tr th {\n",
       "        vertical-align: top;\n",
       "    }\n",
       "\n",
       "    .dataframe thead th {\n",
       "        text-align: right;\n",
       "    }\n",
       "</style>\n",
       "<table border=\"1\" class=\"dataframe\">\n",
       "  <thead>\n",
       "    <tr style=\"text-align: right;\">\n",
       "      <th></th>\n",
       "      <th>hire_date</th>\n",
       "      <th>department</th>\n",
       "      <th>birth_date</th>\n",
       "    </tr>\n",
       "    <tr>\n",
       "      <th>employee_id</th>\n",
       "      <th></th>\n",
       "      <th></th>\n",
       "      <th></th>\n",
       "    </tr>\n",
       "  </thead>\n",
       "  <tbody>\n",
       "    <tr>\n",
       "      <th>e947521</th>\n",
       "      <td>2019-12-01</td>\n",
       "      <td>MARKETING</td>\n",
       "      <td>1985-04-02</td>\n",
       "    </tr>\n",
       "    <tr>\n",
       "      <th>e875624</th>\n",
       "      <td>2018-05-21</td>\n",
       "      <td>RESEARCH</td>\n",
       "      <td>1987-05-16</td>\n",
       "    </tr>\n",
       "  </tbody>\n",
       "</table>\n",
       "</div>"
      ],
      "text/plain": [
       "              hire_date department  birth_date\n",
       "employee_id                                   \n",
       "e947521      2019-12-01  MARKETING  1985-04-02\n",
       "e875624      2018-05-21   RESEARCH  1987-05-16"
      ]
     },
     "execution_count": 460,
     "metadata": {},
     "output_type": "execute_result"
    }
   ],
   "source": [
    "import pandas as pd \n",
    "\n",
    "df = pd.DataFrame({\n",
    "    'employee_id' : ['e947521','e875624','c275213'],\n",
    "    'hire_date' : ['2019-12-01','2018-05-21','2018-11-03'],\n",
    "    'department' : ['marketing', 'research','accounting']\n",
    "})\n",
    "\n",
    "# set the index \n",
    "df.set_index('employee_id', inplace=True)\n",
    "\n",
    "# make 'department' column uppercase\n",
    "df['department'] = df['department'].str.upper()\n",
    "\n",
    "# add birth_date column\n",
    "df['birth_date'] = ['1985-04-02', '1987-05-16', '1979-01-03']\n",
    "\n",
    "# drop record with 'employee_id' of c275213\n",
    "df.drop([\"c275213\"], inplace=True)\n",
    "\n",
    "# display the DataFrame\n",
    "df"
   ]
  },
  {
   "cell_type": "code",
   "execution_count": null,
   "id": "bc527768-7c4a-4133-80e2-964308e53a76",
   "metadata": {},
   "outputs": [],
   "source": []
  },
  {
   "cell_type": "code",
   "execution_count": null,
   "id": "87f150a1-84b2-4abf-8a19-1c23ff8e7141",
   "metadata": {},
   "outputs": [],
   "source": []
  }
 ],
 "metadata": {
  "kernelspec": {
   "display_name": "Python 3 (ipykernel)",
   "language": "python",
   "name": "python3"
  },
  "language_info": {
   "codemirror_mode": {
    "name": "ipython",
    "version": 3
   },
   "file_extension": ".py",
   "mimetype": "text/x-python",
   "name": "python",
   "nbconvert_exporter": "python",
   "pygments_lexer": "ipython3",
   "version": "3.12.4"
  }
 },
 "nbformat": 4,
 "nbformat_minor": 5
}
