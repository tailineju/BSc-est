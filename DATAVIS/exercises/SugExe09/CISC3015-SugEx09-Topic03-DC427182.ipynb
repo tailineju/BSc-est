{
 "cells": [
  {
   "cell_type": "markdown",
   "id": "13bb90a8",
   "metadata": {},
   "source": [
    "# Sorting, Casting, and Categories"
   ]
  },
  {
   "cell_type": "markdown",
   "id": "aaf61bfe",
   "metadata": {},
   "source": [
    "In this notebook, we will cover sorting operations as well as categorical data. We will also learn how to use apply functions to perform more custom operations to Pandas. \n",
    "\n",
    "Let's import `pandas` and then declare this tiny weathers dataframe to practice with."
   ]
  },
  {
   "cell_type": "code",
   "execution_count": 1,
   "id": "ebba5aea",
   "metadata": {},
   "outputs": [
    {
     "data": {
      "text/html": [
       "<div>\n",
       "<style scoped>\n",
       "    .dataframe tbody tr th:only-of-type {\n",
       "        vertical-align: middle;\n",
       "    }\n",
       "\n",
       "    .dataframe tbody tr th {\n",
       "        vertical-align: top;\n",
       "    }\n",
       "\n",
       "    .dataframe thead th {\n",
       "        text-align: right;\n",
       "    }\n",
       "</style>\n",
       "<table border=\"1\" class=\"dataframe\">\n",
       "  <thead>\n",
       "    <tr style=\"text-align: right;\">\n",
       "      <th></th>\n",
       "      <th>record_id</th>\n",
       "      <th>rain_inches</th>\n",
       "      <th>tornado</th>\n",
       "      <th>lightning</th>\n",
       "      <th>wind_speed_mph</th>\n",
       "      <th>severity</th>\n",
       "    </tr>\n",
       "  </thead>\n",
       "  <tbody>\n",
       "    <tr>\n",
       "      <th>0</th>\n",
       "      <td>DCMXP87EDE</td>\n",
       "      <td>1.1</td>\n",
       "      <td>0</td>\n",
       "      <td>0</td>\n",
       "      <td>3.1</td>\n",
       "      <td>CLEAR</td>\n",
       "    </tr>\n",
       "    <tr>\n",
       "      <th>1</th>\n",
       "      <td>ZMIFM3HX9G</td>\n",
       "      <td>0.0</td>\n",
       "      <td>1</td>\n",
       "      <td>1</td>\n",
       "      <td>143.0</td>\n",
       "      <td>SEVERE</td>\n",
       "    </tr>\n",
       "    <tr>\n",
       "      <th>2</th>\n",
       "      <td>HIVVXBAPS2</td>\n",
       "      <td>0.0</td>\n",
       "      <td>0</td>\n",
       "      <td>1</td>\n",
       "      <td>12.2</td>\n",
       "      <td>MINOR</td>\n",
       "    </tr>\n",
       "    <tr>\n",
       "      <th>3</th>\n",
       "      <td>U1AA66UDES</td>\n",
       "      <td>2.4</td>\n",
       "      <td>0</td>\n",
       "      <td>1</td>\n",
       "      <td>8.1</td>\n",
       "      <td>MINOR</td>\n",
       "    </tr>\n",
       "    <tr>\n",
       "      <th>4</th>\n",
       "      <td>B20KL5PW3L</td>\n",
       "      <td>11.2</td>\n",
       "      <td>0</td>\n",
       "      <td>0</td>\n",
       "      <td>5.0</td>\n",
       "      <td>MAJOR</td>\n",
       "    </tr>\n",
       "    <tr>\n",
       "      <th>5</th>\n",
       "      <td>FIZLY34KSQ</td>\n",
       "      <td>3.2</td>\n",
       "      <td>0</td>\n",
       "      <td>0</td>\n",
       "      <td>19.0</td>\n",
       "      <td>CLEAR</td>\n",
       "    </tr>\n",
       "  </tbody>\n",
       "</table>\n",
       "</div>"
      ],
      "text/plain": [
       "    record_id  rain_inches  tornado  lightning  wind_speed_mph severity\n",
       "0  DCMXP87EDE          1.1        0          0             3.1    CLEAR\n",
       "1  ZMIFM3HX9G          0.0        1          1           143.0   SEVERE\n",
       "2  HIVVXBAPS2          0.0        0          1            12.2    MINOR\n",
       "3  U1AA66UDES          2.4        0          1             8.1    MINOR\n",
       "4  B20KL5PW3L         11.2        0          0             5.0    MAJOR\n",
       "5  FIZLY34KSQ          3.2        0          0            19.0    CLEAR"
      ]
     },
     "execution_count": 1,
     "metadata": {},
     "output_type": "execute_result"
    }
   ],
   "source": [
    "import pandas as pd\n",
    "\n",
    "df = pd.DataFrame({\n",
    "    \"record_id\" : ['DCMXP87EDE', 'ZMIFM3HX9G', 'HIVVXBAPS2', 'U1AA66UDES', 'B20KL5PW3L', 'FIZLY34KSQ'],\n",
    "    \"rain_inches\" : [1.1, 0.0, 0.0, 2.4, 11.2, 3.2],\n",
    "    \"tornado\" : [0,1,0,0,0,0],\n",
    "    \"lightning\" :[0,1,1,1,0,0],\n",
    "    \"wind_speed_mph\" : [3.1, 143.0, 12.2, 8.1, 5.0, 19.0],\n",
    "    \"severity\" : ['CLEAR', 'SEVERE', 'MINOR', 'MINOR', 'MAJOR', 'CLEAR']\n",
    "})\n",
    "\n",
    "df"
   ]
  },
  {
   "cell_type": "markdown",
   "id": "ab39500d",
   "metadata": {},
   "source": [
    "## Data Types and Casting"
   ]
  },
  {
   "cell_type": "markdown",
   "id": "425f4e27",
   "metadata": {},
   "source": [
    "As we talk more about data cleaning, it might be a good time to talk about data types and choosing them carefully. Some basic pandas datatypes with examples are declared below. These are the datatypes that are part of NumPy as well, and thus are the most common.\n"
   ]
  },
  {
   "cell_type": "code",
   "execution_count": 4,
   "id": "1a81a0e6",
   "metadata": {},
   "outputs": [
    {
     "data": {
      "text/html": [
       "<div>\n",
       "<style scoped>\n",
       "    .dataframe tbody tr th:only-of-type {\n",
       "        vertical-align: middle;\n",
       "    }\n",
       "\n",
       "    .dataframe tbody tr th {\n",
       "        vertical-align: top;\n",
       "    }\n",
       "\n",
       "    .dataframe thead th {\n",
       "        text-align: right;\n",
       "    }\n",
       "</style>\n",
       "<table border=\"1\" class=\"dataframe\">\n",
       "  <thead>\n",
       "    <tr style=\"text-align: right;\">\n",
       "      <th></th>\n",
       "      <th>float</th>\n",
       "      <th>int</th>\n",
       "      <th>datetime</th>\n",
       "      <th>bool</th>\n",
       "      <th>time_delta</th>\n",
       "      <th>string</th>\n",
       "    </tr>\n",
       "  </thead>\n",
       "  <tbody>\n",
       "    <tr>\n",
       "      <th>0</th>\n",
       "      <td>1.2</td>\n",
       "      <td>3</td>\n",
       "      <td>2023-01-30</td>\n",
       "      <td>True</td>\n",
       "      <td>3 days</td>\n",
       "      <td>hello</td>\n",
       "    </tr>\n",
       "  </tbody>\n",
       "</table>\n",
       "</div>"
      ],
      "text/plain": [
       "   float  int   datetime  bool time_delta string\n",
       "0    1.2    3 2023-01-30  True     3 days  hello"
      ]
     },
     "execution_count": 4,
     "metadata": {},
     "output_type": "execute_result"
    }
   ],
   "source": [
    "df_types = pd.DataFrame({'float': [1.2],\n",
    "              'int': [3],\n",
    "              'datetime': [pd.Timestamp('20230130')],\n",
    "              'bool' : [True],\n",
    "              'time_delta' : [pd.Timestamp('20230130') - pd.Timestamp('20230127')],\n",
    "              'string': ['hello']\n",
    "            })\n",
    "df_types"
   ]
  },
  {
   "cell_type": "markdown",
   "id": "546d71ae",
   "metadata": {},
   "source": [
    "You can view the datatypes for a given dataframe using the `dtypes` property. "
   ]
  },
  {
   "cell_type": "code",
   "execution_count": 8,
   "id": "fcd0ad99",
   "metadata": {},
   "outputs": [
    {
     "data": {
      "text/plain": [
       "float                 float64\n",
       "int                     int64\n",
       "datetime       datetime64[ns]\n",
       "bool                     bool\n",
       "time_delta    timedelta64[ns]\n",
       "string                 object\n",
       "dtype: object"
      ]
     },
     "execution_count": 8,
     "metadata": {},
     "output_type": "execute_result"
    }
   ],
   "source": [
    "df_types.dtypes"
   ]
  },
  {
   "cell_type": "markdown",
   "id": "5029351e",
   "metadata": {},
   "source": [
    "Now let's turn our attention back to the small weather dataset. "
   ]
  },
  {
   "cell_type": "code",
   "execution_count": 11,
   "id": "87ce405a",
   "metadata": {},
   "outputs": [
    {
     "data": {
      "text/html": [
       "<div>\n",
       "<style scoped>\n",
       "    .dataframe tbody tr th:only-of-type {\n",
       "        vertical-align: middle;\n",
       "    }\n",
       "\n",
       "    .dataframe tbody tr th {\n",
       "        vertical-align: top;\n",
       "    }\n",
       "\n",
       "    .dataframe thead th {\n",
       "        text-align: right;\n",
       "    }\n",
       "</style>\n",
       "<table border=\"1\" class=\"dataframe\">\n",
       "  <thead>\n",
       "    <tr style=\"text-align: right;\">\n",
       "      <th></th>\n",
       "      <th>record_id</th>\n",
       "      <th>rain_inches</th>\n",
       "      <th>tornado</th>\n",
       "      <th>lightning</th>\n",
       "      <th>wind_speed_mph</th>\n",
       "      <th>severity</th>\n",
       "    </tr>\n",
       "  </thead>\n",
       "  <tbody>\n",
       "    <tr>\n",
       "      <th>0</th>\n",
       "      <td>DCMXP87EDE</td>\n",
       "      <td>1.1</td>\n",
       "      <td>0</td>\n",
       "      <td>0</td>\n",
       "      <td>3.1</td>\n",
       "      <td>CLEAR</td>\n",
       "    </tr>\n",
       "    <tr>\n",
       "      <th>1</th>\n",
       "      <td>ZMIFM3HX9G</td>\n",
       "      <td>0.0</td>\n",
       "      <td>1</td>\n",
       "      <td>1</td>\n",
       "      <td>143.0</td>\n",
       "      <td>SEVERE</td>\n",
       "    </tr>\n",
       "    <tr>\n",
       "      <th>2</th>\n",
       "      <td>HIVVXBAPS2</td>\n",
       "      <td>0.0</td>\n",
       "      <td>0</td>\n",
       "      <td>1</td>\n",
       "      <td>12.2</td>\n",
       "      <td>MINOR</td>\n",
       "    </tr>\n",
       "    <tr>\n",
       "      <th>3</th>\n",
       "      <td>U1AA66UDES</td>\n",
       "      <td>2.4</td>\n",
       "      <td>0</td>\n",
       "      <td>1</td>\n",
       "      <td>8.1</td>\n",
       "      <td>MINOR</td>\n",
       "    </tr>\n",
       "    <tr>\n",
       "      <th>4</th>\n",
       "      <td>B20KL5PW3L</td>\n",
       "      <td>11.2</td>\n",
       "      <td>0</td>\n",
       "      <td>0</td>\n",
       "      <td>5.0</td>\n",
       "      <td>MAJOR</td>\n",
       "    </tr>\n",
       "    <tr>\n",
       "      <th>5</th>\n",
       "      <td>FIZLY34KSQ</td>\n",
       "      <td>3.2</td>\n",
       "      <td>0</td>\n",
       "      <td>0</td>\n",
       "      <td>19.0</td>\n",
       "      <td>CLEAR</td>\n",
       "    </tr>\n",
       "  </tbody>\n",
       "</table>\n",
       "</div>"
      ],
      "text/plain": [
       "    record_id  rain_inches  tornado  lightning  wind_speed_mph severity\n",
       "0  DCMXP87EDE          1.1        0          0             3.1    CLEAR\n",
       "1  ZMIFM3HX9G          0.0        1          1           143.0   SEVERE\n",
       "2  HIVVXBAPS2          0.0        0          1            12.2    MINOR\n",
       "3  U1AA66UDES          2.4        0          1             8.1    MINOR\n",
       "4  B20KL5PW3L         11.2        0          0             5.0    MAJOR\n",
       "5  FIZLY34KSQ          3.2        0          0            19.0    CLEAR"
      ]
     },
     "execution_count": 11,
     "metadata": {},
     "output_type": "execute_result"
    }
   ],
   "source": [
    "df"
   ]
  },
  {
   "cell_type": "markdown",
   "id": "287d0cdf",
   "metadata": {},
   "source": [
    "Let's observe the datatypes."
   ]
  },
  {
   "cell_type": "code",
   "execution_count": 14,
   "id": "1748a67c",
   "metadata": {},
   "outputs": [
    {
     "data": {
      "text/plain": [
       "record_id          object\n",
       "rain_inches       float64\n",
       "tornado             int64\n",
       "lightning           int64\n",
       "wind_speed_mph    float64\n",
       "severity           object\n",
       "dtype: object"
      ]
     },
     "execution_count": 14,
     "metadata": {},
     "output_type": "execute_result"
    }
   ],
   "source": [
    "df.dtypes"
   ]
  },
  {
   "cell_type": "markdown",
   "id": "11953879",
   "metadata": {},
   "source": [
    "One of the most basic operations in data cleaning is casting. You can use the `astype()` function to coerce a given column to another data type. For example, the `tornado` and `lightning` columns are only 1's and 0's indicating they are intended to as boolean values (True=1, False=0). We can cast them to booleans here."
   ]
  },
  {
   "cell_type": "code",
   "execution_count": 17,
   "id": "4bc5215c",
   "metadata": {
    "scrolled": true
   },
   "outputs": [
    {
     "data": {
      "text/html": [
       "<div>\n",
       "<style scoped>\n",
       "    .dataframe tbody tr th:only-of-type {\n",
       "        vertical-align: middle;\n",
       "    }\n",
       "\n",
       "    .dataframe tbody tr th {\n",
       "        vertical-align: top;\n",
       "    }\n",
       "\n",
       "    .dataframe thead th {\n",
       "        text-align: right;\n",
       "    }\n",
       "</style>\n",
       "<table border=\"1\" class=\"dataframe\">\n",
       "  <thead>\n",
       "    <tr style=\"text-align: right;\">\n",
       "      <th></th>\n",
       "      <th>record_id</th>\n",
       "      <th>rain_inches</th>\n",
       "      <th>tornado</th>\n",
       "      <th>lightning</th>\n",
       "      <th>wind_speed_mph</th>\n",
       "      <th>severity</th>\n",
       "    </tr>\n",
       "  </thead>\n",
       "  <tbody>\n",
       "    <tr>\n",
       "      <th>0</th>\n",
       "      <td>DCMXP87EDE</td>\n",
       "      <td>1.1</td>\n",
       "      <td>False</td>\n",
       "      <td>False</td>\n",
       "      <td>3.1</td>\n",
       "      <td>CLEAR</td>\n",
       "    </tr>\n",
       "    <tr>\n",
       "      <th>1</th>\n",
       "      <td>ZMIFM3HX9G</td>\n",
       "      <td>0.0</td>\n",
       "      <td>True</td>\n",
       "      <td>True</td>\n",
       "      <td>143.0</td>\n",
       "      <td>SEVERE</td>\n",
       "    </tr>\n",
       "    <tr>\n",
       "      <th>2</th>\n",
       "      <td>HIVVXBAPS2</td>\n",
       "      <td>0.0</td>\n",
       "      <td>False</td>\n",
       "      <td>True</td>\n",
       "      <td>12.2</td>\n",
       "      <td>MINOR</td>\n",
       "    </tr>\n",
       "    <tr>\n",
       "      <th>3</th>\n",
       "      <td>U1AA66UDES</td>\n",
       "      <td>2.4</td>\n",
       "      <td>False</td>\n",
       "      <td>True</td>\n",
       "      <td>8.1</td>\n",
       "      <td>MINOR</td>\n",
       "    </tr>\n",
       "    <tr>\n",
       "      <th>4</th>\n",
       "      <td>B20KL5PW3L</td>\n",
       "      <td>11.2</td>\n",
       "      <td>False</td>\n",
       "      <td>False</td>\n",
       "      <td>5.0</td>\n",
       "      <td>MAJOR</td>\n",
       "    </tr>\n",
       "    <tr>\n",
       "      <th>5</th>\n",
       "      <td>FIZLY34KSQ</td>\n",
       "      <td>3.2</td>\n",
       "      <td>False</td>\n",
       "      <td>False</td>\n",
       "      <td>19.0</td>\n",
       "      <td>CLEAR</td>\n",
       "    </tr>\n",
       "  </tbody>\n",
       "</table>\n",
       "</div>"
      ],
      "text/plain": [
       "    record_id  rain_inches  tornado  lightning  wind_speed_mph severity\n",
       "0  DCMXP87EDE          1.1    False      False             3.1    CLEAR\n",
       "1  ZMIFM3HX9G          0.0     True       True           143.0   SEVERE\n",
       "2  HIVVXBAPS2          0.0    False       True            12.2    MINOR\n",
       "3  U1AA66UDES          2.4    False       True             8.1    MINOR\n",
       "4  B20KL5PW3L         11.2    False      False             5.0    MAJOR\n",
       "5  FIZLY34KSQ          3.2    False      False            19.0    CLEAR"
      ]
     },
     "execution_count": 17,
     "metadata": {},
     "output_type": "execute_result"
    }
   ],
   "source": [
    "df['tornado'] = df['tornado'].astype('bool')\n",
    "df['lightning'] = df['lightning'].astype('bool')\n",
    "\n",
    "df"
   ]
  },
  {
   "cell_type": "markdown",
   "id": "577abd4a",
   "metadata": {},
   "source": [
    "And sure enough, you will see the datatypes will have changed to `bool` for those two columns."
   ]
  },
  {
   "cell_type": "code",
   "execution_count": 20,
   "id": "5ec11e2d",
   "metadata": {},
   "outputs": [
    {
     "data": {
      "text/plain": [
       "record_id          object\n",
       "rain_inches       float64\n",
       "tornado              bool\n",
       "lightning            bool\n",
       "wind_speed_mph    float64\n",
       "severity           object\n",
       "dtype: object"
      ]
     },
     "execution_count": 20,
     "metadata": {},
     "output_type": "execute_result"
    }
   ],
   "source": [
    "df.dtypes"
   ]
  },
  {
   "cell_type": "markdown",
   "id": "f632ee25",
   "metadata": {},
   "source": [
    "## Sorting Values"
   ]
  },
  {
   "cell_type": "markdown",
   "id": "989a964d",
   "metadata": {},
   "source": [
    "In Pandas, you can sort data along a row or column by specifying its axis in the `sort_values()` function. Below, we sort ascending first by the `lightning` field followed by the `rain_inches` field. "
   ]
  },
  {
   "cell_type": "code",
   "execution_count": 24,
   "id": "731dfff3",
   "metadata": {},
   "outputs": [
    {
     "data": {
      "text/html": [
       "<div>\n",
       "<style scoped>\n",
       "    .dataframe tbody tr th:only-of-type {\n",
       "        vertical-align: middle;\n",
       "    }\n",
       "\n",
       "    .dataframe tbody tr th {\n",
       "        vertical-align: top;\n",
       "    }\n",
       "\n",
       "    .dataframe thead th {\n",
       "        text-align: right;\n",
       "    }\n",
       "</style>\n",
       "<table border=\"1\" class=\"dataframe\">\n",
       "  <thead>\n",
       "    <tr style=\"text-align: right;\">\n",
       "      <th></th>\n",
       "      <th>record_id</th>\n",
       "      <th>rain_inches</th>\n",
       "      <th>tornado</th>\n",
       "      <th>lightning</th>\n",
       "      <th>wind_speed_mph</th>\n",
       "      <th>severity</th>\n",
       "    </tr>\n",
       "  </thead>\n",
       "  <tbody>\n",
       "    <tr>\n",
       "      <th>0</th>\n",
       "      <td>DCMXP87EDE</td>\n",
       "      <td>1.1</td>\n",
       "      <td>False</td>\n",
       "      <td>False</td>\n",
       "      <td>3.1</td>\n",
       "      <td>CLEAR</td>\n",
       "    </tr>\n",
       "    <tr>\n",
       "      <th>5</th>\n",
       "      <td>FIZLY34KSQ</td>\n",
       "      <td>3.2</td>\n",
       "      <td>False</td>\n",
       "      <td>False</td>\n",
       "      <td>19.0</td>\n",
       "      <td>CLEAR</td>\n",
       "    </tr>\n",
       "    <tr>\n",
       "      <th>4</th>\n",
       "      <td>B20KL5PW3L</td>\n",
       "      <td>11.2</td>\n",
       "      <td>False</td>\n",
       "      <td>False</td>\n",
       "      <td>5.0</td>\n",
       "      <td>MAJOR</td>\n",
       "    </tr>\n",
       "    <tr>\n",
       "      <th>1</th>\n",
       "      <td>ZMIFM3HX9G</td>\n",
       "      <td>0.0</td>\n",
       "      <td>True</td>\n",
       "      <td>True</td>\n",
       "      <td>143.0</td>\n",
       "      <td>SEVERE</td>\n",
       "    </tr>\n",
       "    <tr>\n",
       "      <th>2</th>\n",
       "      <td>HIVVXBAPS2</td>\n",
       "      <td>0.0</td>\n",
       "      <td>False</td>\n",
       "      <td>True</td>\n",
       "      <td>12.2</td>\n",
       "      <td>MINOR</td>\n",
       "    </tr>\n",
       "    <tr>\n",
       "      <th>3</th>\n",
       "      <td>U1AA66UDES</td>\n",
       "      <td>2.4</td>\n",
       "      <td>False</td>\n",
       "      <td>True</td>\n",
       "      <td>8.1</td>\n",
       "      <td>MINOR</td>\n",
       "    </tr>\n",
       "  </tbody>\n",
       "</table>\n",
       "</div>"
      ],
      "text/plain": [
       "    record_id  rain_inches  tornado  lightning  wind_speed_mph severity\n",
       "0  DCMXP87EDE          1.1    False      False             3.1    CLEAR\n",
       "5  FIZLY34KSQ          3.2    False      False            19.0    CLEAR\n",
       "4  B20KL5PW3L         11.2    False      False             5.0    MAJOR\n",
       "1  ZMIFM3HX9G          0.0     True       True           143.0   SEVERE\n",
       "2  HIVVXBAPS2          0.0    False       True            12.2    MINOR\n",
       "3  U1AA66UDES          2.4    False       True             8.1    MINOR"
      ]
     },
     "execution_count": 24,
     "metadata": {},
     "output_type": "execute_result"
    }
   ],
   "source": [
    "df.sort_values(by=[\"lightning\",\"rain_inches\"])"
   ]
  },
  {
   "cell_type": "markdown",
   "id": "fea6fec1",
   "metadata": {},
   "source": [
    "If I want different sort behaviors for each of the columns, where some are ascending while others are descending, pass a boolean list to the `ascending` parameter. Below we set `lightning` to be descending so `True` records rise to the top, while the `rain_inches` is ascending. "
   ]
  },
  {
   "cell_type": "code",
   "execution_count": 27,
   "id": "5b0839af",
   "metadata": {
    "scrolled": true
   },
   "outputs": [
    {
     "data": {
      "text/html": [
       "<div>\n",
       "<style scoped>\n",
       "    .dataframe tbody tr th:only-of-type {\n",
       "        vertical-align: middle;\n",
       "    }\n",
       "\n",
       "    .dataframe tbody tr th {\n",
       "        vertical-align: top;\n",
       "    }\n",
       "\n",
       "    .dataframe thead th {\n",
       "        text-align: right;\n",
       "    }\n",
       "</style>\n",
       "<table border=\"1\" class=\"dataframe\">\n",
       "  <thead>\n",
       "    <tr style=\"text-align: right;\">\n",
       "      <th></th>\n",
       "      <th>record_id</th>\n",
       "      <th>rain_inches</th>\n",
       "      <th>tornado</th>\n",
       "      <th>lightning</th>\n",
       "      <th>wind_speed_mph</th>\n",
       "      <th>severity</th>\n",
       "    </tr>\n",
       "  </thead>\n",
       "  <tbody>\n",
       "    <tr>\n",
       "      <th>1</th>\n",
       "      <td>ZMIFM3HX9G</td>\n",
       "      <td>0.0</td>\n",
       "      <td>True</td>\n",
       "      <td>True</td>\n",
       "      <td>143.0</td>\n",
       "      <td>SEVERE</td>\n",
       "    </tr>\n",
       "    <tr>\n",
       "      <th>2</th>\n",
       "      <td>HIVVXBAPS2</td>\n",
       "      <td>0.0</td>\n",
       "      <td>False</td>\n",
       "      <td>True</td>\n",
       "      <td>12.2</td>\n",
       "      <td>MINOR</td>\n",
       "    </tr>\n",
       "    <tr>\n",
       "      <th>3</th>\n",
       "      <td>U1AA66UDES</td>\n",
       "      <td>2.4</td>\n",
       "      <td>False</td>\n",
       "      <td>True</td>\n",
       "      <td>8.1</td>\n",
       "      <td>MINOR</td>\n",
       "    </tr>\n",
       "    <tr>\n",
       "      <th>0</th>\n",
       "      <td>DCMXP87EDE</td>\n",
       "      <td>1.1</td>\n",
       "      <td>False</td>\n",
       "      <td>False</td>\n",
       "      <td>3.1</td>\n",
       "      <td>CLEAR</td>\n",
       "    </tr>\n",
       "    <tr>\n",
       "      <th>5</th>\n",
       "      <td>FIZLY34KSQ</td>\n",
       "      <td>3.2</td>\n",
       "      <td>False</td>\n",
       "      <td>False</td>\n",
       "      <td>19.0</td>\n",
       "      <td>CLEAR</td>\n",
       "    </tr>\n",
       "    <tr>\n",
       "      <th>4</th>\n",
       "      <td>B20KL5PW3L</td>\n",
       "      <td>11.2</td>\n",
       "      <td>False</td>\n",
       "      <td>False</td>\n",
       "      <td>5.0</td>\n",
       "      <td>MAJOR</td>\n",
       "    </tr>\n",
       "  </tbody>\n",
       "</table>\n",
       "</div>"
      ],
      "text/plain": [
       "    record_id  rain_inches  tornado  lightning  wind_speed_mph severity\n",
       "1  ZMIFM3HX9G          0.0     True       True           143.0   SEVERE\n",
       "2  HIVVXBAPS2          0.0    False       True            12.2    MINOR\n",
       "3  U1AA66UDES          2.4    False       True             8.1    MINOR\n",
       "0  DCMXP87EDE          1.1    False      False             3.1    CLEAR\n",
       "5  FIZLY34KSQ          3.2    False      False            19.0    CLEAR\n",
       "4  B20KL5PW3L         11.2    False      False             5.0    MAJOR"
      ]
     },
     "execution_count": 27,
     "metadata": {},
     "output_type": "execute_result"
    }
   ],
   "source": [
    "df.sort_values(by=[\"lightning\",\"rain_inches\"],ascending=[False,True])"
   ]
  },
  {
   "cell_type": "markdown",
   "id": "1d1e5584",
   "metadata": {},
   "source": [
    "> When using the sort methods, remember to add the `inplace=True` parameter if you want to replace the existing dataframe with the sorted one. "
   ]
  },
  {
   "cell_type": "markdown",
   "id": "c7454090",
   "metadata": {},
   "source": [
    "## Sorting Index"
   ]
  },
  {
   "cell_type": "markdown",
   "id": "6054bae2",
   "metadata": {},
   "source": [
    "Let's demonstrate how you can sort on an index. Let's first set the index to use the `record_id` for the rows"
   ]
  },
  {
   "cell_type": "code",
   "execution_count": 32,
   "id": "8dcbe75a",
   "metadata": {},
   "outputs": [
    {
     "data": {
      "text/html": [
       "<div>\n",
       "<style scoped>\n",
       "    .dataframe tbody tr th:only-of-type {\n",
       "        vertical-align: middle;\n",
       "    }\n",
       "\n",
       "    .dataframe tbody tr th {\n",
       "        vertical-align: top;\n",
       "    }\n",
       "\n",
       "    .dataframe thead th {\n",
       "        text-align: right;\n",
       "    }\n",
       "</style>\n",
       "<table border=\"1\" class=\"dataframe\">\n",
       "  <thead>\n",
       "    <tr style=\"text-align: right;\">\n",
       "      <th></th>\n",
       "      <th>rain_inches</th>\n",
       "      <th>tornado</th>\n",
       "      <th>lightning</th>\n",
       "      <th>wind_speed_mph</th>\n",
       "      <th>severity</th>\n",
       "    </tr>\n",
       "    <tr>\n",
       "      <th>record_id</th>\n",
       "      <th></th>\n",
       "      <th></th>\n",
       "      <th></th>\n",
       "      <th></th>\n",
       "      <th></th>\n",
       "    </tr>\n",
       "  </thead>\n",
       "  <tbody>\n",
       "    <tr>\n",
       "      <th>DCMXP87EDE</th>\n",
       "      <td>1.1</td>\n",
       "      <td>False</td>\n",
       "      <td>False</td>\n",
       "      <td>3.1</td>\n",
       "      <td>CLEAR</td>\n",
       "    </tr>\n",
       "    <tr>\n",
       "      <th>ZMIFM3HX9G</th>\n",
       "      <td>0.0</td>\n",
       "      <td>True</td>\n",
       "      <td>True</td>\n",
       "      <td>143.0</td>\n",
       "      <td>SEVERE</td>\n",
       "    </tr>\n",
       "    <tr>\n",
       "      <th>HIVVXBAPS2</th>\n",
       "      <td>0.0</td>\n",
       "      <td>False</td>\n",
       "      <td>True</td>\n",
       "      <td>12.2</td>\n",
       "      <td>MINOR</td>\n",
       "    </tr>\n",
       "    <tr>\n",
       "      <th>U1AA66UDES</th>\n",
       "      <td>2.4</td>\n",
       "      <td>False</td>\n",
       "      <td>True</td>\n",
       "      <td>8.1</td>\n",
       "      <td>MINOR</td>\n",
       "    </tr>\n",
       "    <tr>\n",
       "      <th>B20KL5PW3L</th>\n",
       "      <td>11.2</td>\n",
       "      <td>False</td>\n",
       "      <td>False</td>\n",
       "      <td>5.0</td>\n",
       "      <td>MAJOR</td>\n",
       "    </tr>\n",
       "    <tr>\n",
       "      <th>FIZLY34KSQ</th>\n",
       "      <td>3.2</td>\n",
       "      <td>False</td>\n",
       "      <td>False</td>\n",
       "      <td>19.0</td>\n",
       "      <td>CLEAR</td>\n",
       "    </tr>\n",
       "  </tbody>\n",
       "</table>\n",
       "</div>"
      ],
      "text/plain": [
       "            rain_inches  tornado  lightning  wind_speed_mph severity\n",
       "record_id                                                           \n",
       "DCMXP87EDE          1.1    False      False             3.1    CLEAR\n",
       "ZMIFM3HX9G          0.0     True       True           143.0   SEVERE\n",
       "HIVVXBAPS2          0.0    False       True            12.2    MINOR\n",
       "U1AA66UDES          2.4    False       True             8.1    MINOR\n",
       "B20KL5PW3L         11.2    False      False             5.0    MAJOR\n",
       "FIZLY34KSQ          3.2    False      False            19.0    CLEAR"
      ]
     },
     "execution_count": 32,
     "metadata": {},
     "output_type": "execute_result"
    }
   ],
   "source": [
    "df.set_index('record_id', inplace=True)\n",
    "\n",
    "df"
   ]
  },
  {
   "cell_type": "markdown",
   "id": "0b803849",
   "metadata": {},
   "source": [
    "Now when we sort on the rows (using `axis=0`) notice we now alphabetically sort on the the `record_id` as the index. "
   ]
  },
  {
   "cell_type": "code",
   "execution_count": 35,
   "id": "b064c3b9",
   "metadata": {},
   "outputs": [
    {
     "data": {
      "text/html": [
       "<div>\n",
       "<style scoped>\n",
       "    .dataframe tbody tr th:only-of-type {\n",
       "        vertical-align: middle;\n",
       "    }\n",
       "\n",
       "    .dataframe tbody tr th {\n",
       "        vertical-align: top;\n",
       "    }\n",
       "\n",
       "    .dataframe thead th {\n",
       "        text-align: right;\n",
       "    }\n",
       "</style>\n",
       "<table border=\"1\" class=\"dataframe\">\n",
       "  <thead>\n",
       "    <tr style=\"text-align: right;\">\n",
       "      <th></th>\n",
       "      <th>rain_inches</th>\n",
       "      <th>tornado</th>\n",
       "      <th>lightning</th>\n",
       "      <th>wind_speed_mph</th>\n",
       "      <th>severity</th>\n",
       "    </tr>\n",
       "    <tr>\n",
       "      <th>record_id</th>\n",
       "      <th></th>\n",
       "      <th></th>\n",
       "      <th></th>\n",
       "      <th></th>\n",
       "      <th></th>\n",
       "    </tr>\n",
       "  </thead>\n",
       "  <tbody>\n",
       "    <tr>\n",
       "      <th>B20KL5PW3L</th>\n",
       "      <td>11.2</td>\n",
       "      <td>False</td>\n",
       "      <td>False</td>\n",
       "      <td>5.0</td>\n",
       "      <td>MAJOR</td>\n",
       "    </tr>\n",
       "    <tr>\n",
       "      <th>DCMXP87EDE</th>\n",
       "      <td>1.1</td>\n",
       "      <td>False</td>\n",
       "      <td>False</td>\n",
       "      <td>3.1</td>\n",
       "      <td>CLEAR</td>\n",
       "    </tr>\n",
       "    <tr>\n",
       "      <th>FIZLY34KSQ</th>\n",
       "      <td>3.2</td>\n",
       "      <td>False</td>\n",
       "      <td>False</td>\n",
       "      <td>19.0</td>\n",
       "      <td>CLEAR</td>\n",
       "    </tr>\n",
       "    <tr>\n",
       "      <th>HIVVXBAPS2</th>\n",
       "      <td>0.0</td>\n",
       "      <td>False</td>\n",
       "      <td>True</td>\n",
       "      <td>12.2</td>\n",
       "      <td>MINOR</td>\n",
       "    </tr>\n",
       "    <tr>\n",
       "      <th>U1AA66UDES</th>\n",
       "      <td>2.4</td>\n",
       "      <td>False</td>\n",
       "      <td>True</td>\n",
       "      <td>8.1</td>\n",
       "      <td>MINOR</td>\n",
       "    </tr>\n",
       "    <tr>\n",
       "      <th>ZMIFM3HX9G</th>\n",
       "      <td>0.0</td>\n",
       "      <td>True</td>\n",
       "      <td>True</td>\n",
       "      <td>143.0</td>\n",
       "      <td>SEVERE</td>\n",
       "    </tr>\n",
       "  </tbody>\n",
       "</table>\n",
       "</div>"
      ],
      "text/plain": [
       "            rain_inches  tornado  lightning  wind_speed_mph severity\n",
       "record_id                                                           \n",
       "B20KL5PW3L         11.2    False      False             5.0    MAJOR\n",
       "DCMXP87EDE          1.1    False      False             3.1    CLEAR\n",
       "FIZLY34KSQ          3.2    False      False            19.0    CLEAR\n",
       "HIVVXBAPS2          0.0    False       True            12.2    MINOR\n",
       "U1AA66UDES          2.4    False       True             8.1    MINOR\n",
       "ZMIFM3HX9G          0.0     True       True           143.0   SEVERE"
      ]
     },
     "execution_count": 35,
     "metadata": {},
     "output_type": "execute_result"
    }
   ],
   "source": [
    "df.sort_index(axis=0)"
   ]
  },
  {
   "cell_type": "markdown",
   "id": "ffc6734d",
   "metadata": {},
   "source": [
    "This may not seem super interesting as we could have also sorted `record_id` as a column. But now consider that if we set `axis=1` in `sort_index()`, we can now sort the columns!"
   ]
  },
  {
   "cell_type": "code",
   "execution_count": 38,
   "id": "dd3ab9f7",
   "metadata": {},
   "outputs": [
    {
     "data": {
      "text/html": [
       "<div>\n",
       "<style scoped>\n",
       "    .dataframe tbody tr th:only-of-type {\n",
       "        vertical-align: middle;\n",
       "    }\n",
       "\n",
       "    .dataframe tbody tr th {\n",
       "        vertical-align: top;\n",
       "    }\n",
       "\n",
       "    .dataframe thead th {\n",
       "        text-align: right;\n",
       "    }\n",
       "</style>\n",
       "<table border=\"1\" class=\"dataframe\">\n",
       "  <thead>\n",
       "    <tr style=\"text-align: right;\">\n",
       "      <th></th>\n",
       "      <th>lightning</th>\n",
       "      <th>rain_inches</th>\n",
       "      <th>severity</th>\n",
       "      <th>tornado</th>\n",
       "      <th>wind_speed_mph</th>\n",
       "    </tr>\n",
       "    <tr>\n",
       "      <th>record_id</th>\n",
       "      <th></th>\n",
       "      <th></th>\n",
       "      <th></th>\n",
       "      <th></th>\n",
       "      <th></th>\n",
       "    </tr>\n",
       "  </thead>\n",
       "  <tbody>\n",
       "    <tr>\n",
       "      <th>DCMXP87EDE</th>\n",
       "      <td>False</td>\n",
       "      <td>1.1</td>\n",
       "      <td>CLEAR</td>\n",
       "      <td>False</td>\n",
       "      <td>3.1</td>\n",
       "    </tr>\n",
       "    <tr>\n",
       "      <th>ZMIFM3HX9G</th>\n",
       "      <td>True</td>\n",
       "      <td>0.0</td>\n",
       "      <td>SEVERE</td>\n",
       "      <td>True</td>\n",
       "      <td>143.0</td>\n",
       "    </tr>\n",
       "    <tr>\n",
       "      <th>HIVVXBAPS2</th>\n",
       "      <td>True</td>\n",
       "      <td>0.0</td>\n",
       "      <td>MINOR</td>\n",
       "      <td>False</td>\n",
       "      <td>12.2</td>\n",
       "    </tr>\n",
       "    <tr>\n",
       "      <th>U1AA66UDES</th>\n",
       "      <td>True</td>\n",
       "      <td>2.4</td>\n",
       "      <td>MINOR</td>\n",
       "      <td>False</td>\n",
       "      <td>8.1</td>\n",
       "    </tr>\n",
       "    <tr>\n",
       "      <th>B20KL5PW3L</th>\n",
       "      <td>False</td>\n",
       "      <td>11.2</td>\n",
       "      <td>MAJOR</td>\n",
       "      <td>False</td>\n",
       "      <td>5.0</td>\n",
       "    </tr>\n",
       "    <tr>\n",
       "      <th>FIZLY34KSQ</th>\n",
       "      <td>False</td>\n",
       "      <td>3.2</td>\n",
       "      <td>CLEAR</td>\n",
       "      <td>False</td>\n",
       "      <td>19.0</td>\n",
       "    </tr>\n",
       "  </tbody>\n",
       "</table>\n",
       "</div>"
      ],
      "text/plain": [
       "            lightning  rain_inches severity  tornado  wind_speed_mph\n",
       "record_id                                                           \n",
       "DCMXP87EDE      False          1.1    CLEAR    False             3.1\n",
       "ZMIFM3HX9G       True          0.0   SEVERE     True           143.0\n",
       "HIVVXBAPS2       True          0.0    MINOR    False            12.2\n",
       "U1AA66UDES       True          2.4    MINOR    False             8.1\n",
       "B20KL5PW3L      False         11.2    MAJOR    False             5.0\n",
       "FIZLY34KSQ      False          3.2    CLEAR    False            19.0"
      ]
     },
     "execution_count": 38,
     "metadata": {},
     "output_type": "execute_result"
    }
   ],
   "source": [
    "df.sort_index(axis=1)"
   ]
  },
  {
   "cell_type": "markdown",
   "id": "16b2bef4",
   "metadata": {},
   "source": [
    "So that can be useful to sort the columns, and you can sort only certain columns by extracting a partial dataframe and then replaceing those columns. Note that since the `record_id` was turned into an index for the rows, it is not sorted with the rest of the columns and remains to the left of the dataframe. \n",
    "\n",
    "> When using the sort methods, remember to add the `inplace=True` parameter if you want to replace the existing dataframe with the sorted one. "
   ]
  },
  {
   "cell_type": "markdown",
   "id": "8458c726",
   "metadata": {},
   "source": [
    "## Categories"
   ]
  },
  {
   "cell_type": "markdown",
   "id": "283906e8",
   "metadata": {},
   "source": [
    "At times, there are going to be columns in a dataframe that only allow a few values. When these values are strings, it becomes all the more important to consider converting them into a category type. Behind the scenes, this will improve the performance of the dataframe and eliminate redundancy due to duplicate strings. \n",
    "\n",
    "In our weather dataset, note the `severity` column. Let's say the only possible values for it are \"CLEAR\", \"MINOR\", \"MAJOR\", and \"SEVERE.\" Rather than store these as strings, we can turn them explicitly into categories.\n",
    "\n",
    "First, we can create a new `CategoricalDType` and specify the expected `categories` in a list. If we want the categories to have a notion of ordering, we can specify `ordered=True` and those labels in that order will become the hierarchy. In ascending order, \"CLEAR\" is before \"MINOR,\" then \"MINOR\" is before \"MAJOR\", and so on... \n"
   ]
  },
  {
   "cell_type": "code",
   "execution_count": 43,
   "id": "eb25603d",
   "metadata": {},
   "outputs": [],
   "source": [
    "cat_type = pd.CategoricalDtype(categories=[\"CLEAR\", \"MINOR\", \"MAJOR\", \"SEVERE\"], ordered=True)"
   ]
  },
  {
   "cell_type": "markdown",
   "id": "dac1a43f",
   "metadata": {},
   "source": [
    "We can then pass that instance of `CategoricalDType` to the `astype()` function on a dataframe, and replace that column with the categorized `severity`. "
   ]
  },
  {
   "cell_type": "code",
   "execution_count": 46,
   "id": "6ff0e1b8",
   "metadata": {},
   "outputs": [
    {
     "data": {
      "text/html": [
       "<div>\n",
       "<style scoped>\n",
       "    .dataframe tbody tr th:only-of-type {\n",
       "        vertical-align: middle;\n",
       "    }\n",
       "\n",
       "    .dataframe tbody tr th {\n",
       "        vertical-align: top;\n",
       "    }\n",
       "\n",
       "    .dataframe thead th {\n",
       "        text-align: right;\n",
       "    }\n",
       "</style>\n",
       "<table border=\"1\" class=\"dataframe\">\n",
       "  <thead>\n",
       "    <tr style=\"text-align: right;\">\n",
       "      <th></th>\n",
       "      <th>rain_inches</th>\n",
       "      <th>tornado</th>\n",
       "      <th>lightning</th>\n",
       "      <th>wind_speed_mph</th>\n",
       "      <th>severity</th>\n",
       "    </tr>\n",
       "    <tr>\n",
       "      <th>record_id</th>\n",
       "      <th></th>\n",
       "      <th></th>\n",
       "      <th></th>\n",
       "      <th></th>\n",
       "      <th></th>\n",
       "    </tr>\n",
       "  </thead>\n",
       "  <tbody>\n",
       "    <tr>\n",
       "      <th>DCMXP87EDE</th>\n",
       "      <td>1.1</td>\n",
       "      <td>False</td>\n",
       "      <td>False</td>\n",
       "      <td>3.1</td>\n",
       "      <td>CLEAR</td>\n",
       "    </tr>\n",
       "    <tr>\n",
       "      <th>ZMIFM3HX9G</th>\n",
       "      <td>0.0</td>\n",
       "      <td>True</td>\n",
       "      <td>True</td>\n",
       "      <td>143.0</td>\n",
       "      <td>SEVERE</td>\n",
       "    </tr>\n",
       "    <tr>\n",
       "      <th>HIVVXBAPS2</th>\n",
       "      <td>0.0</td>\n",
       "      <td>False</td>\n",
       "      <td>True</td>\n",
       "      <td>12.2</td>\n",
       "      <td>MINOR</td>\n",
       "    </tr>\n",
       "    <tr>\n",
       "      <th>U1AA66UDES</th>\n",
       "      <td>2.4</td>\n",
       "      <td>False</td>\n",
       "      <td>True</td>\n",
       "      <td>8.1</td>\n",
       "      <td>MINOR</td>\n",
       "    </tr>\n",
       "    <tr>\n",
       "      <th>B20KL5PW3L</th>\n",
       "      <td>11.2</td>\n",
       "      <td>False</td>\n",
       "      <td>False</td>\n",
       "      <td>5.0</td>\n",
       "      <td>MAJOR</td>\n",
       "    </tr>\n",
       "    <tr>\n",
       "      <th>FIZLY34KSQ</th>\n",
       "      <td>3.2</td>\n",
       "      <td>False</td>\n",
       "      <td>False</td>\n",
       "      <td>19.0</td>\n",
       "      <td>CLEAR</td>\n",
       "    </tr>\n",
       "  </tbody>\n",
       "</table>\n",
       "</div>"
      ],
      "text/plain": [
       "            rain_inches  tornado  lightning  wind_speed_mph severity\n",
       "record_id                                                           \n",
       "DCMXP87EDE          1.1    False      False             3.1    CLEAR\n",
       "ZMIFM3HX9G          0.0     True       True           143.0   SEVERE\n",
       "HIVVXBAPS2          0.0    False       True            12.2    MINOR\n",
       "U1AA66UDES          2.4    False       True             8.1    MINOR\n",
       "B20KL5PW3L         11.2    False      False             5.0    MAJOR\n",
       "FIZLY34KSQ          3.2    False      False            19.0    CLEAR"
      ]
     },
     "execution_count": 46,
     "metadata": {},
     "output_type": "execute_result"
    }
   ],
   "source": [
    "df[\"severity\"] = df[\"severity\"].astype(cat_type)\n",
    "\n",
    "df"
   ]
  },
  {
   "cell_type": "markdown",
   "id": "bad31594",
   "metadata": {},
   "source": [
    "Sure enough, if you inspect the datatypes of the dataframe the `severity` column is now a `category` type. This will be much more efficient to work with."
   ]
  },
  {
   "cell_type": "code",
   "execution_count": 49,
   "id": "1cb67208",
   "metadata": {},
   "outputs": [
    {
     "data": {
      "text/plain": [
       "rain_inches        float64\n",
       "tornado               bool\n",
       "lightning             bool\n",
       "wind_speed_mph     float64\n",
       "severity          category\n",
       "dtype: object"
      ]
     },
     "execution_count": 49,
     "metadata": {},
     "output_type": "execute_result"
    }
   ],
   "source": [
    "df.dtypes"
   ]
  },
  {
   "cell_type": "markdown",
   "id": "192c936c",
   "metadata": {},
   "source": [
    "Note that if you apply a categorization on a column that has values not mapping to any category, then those will become `NA` values. \n",
    "\n",
    "Finally, note that when you sort on the `severity` column that it will no longer alphabetically sort but rather on the sort order you defined on the `CategoricalDtype`. This is proven by `MINOR` coming before the `MAJOR`. "
   ]
  },
  {
   "cell_type": "code",
   "execution_count": 52,
   "id": "cbf4ff0f",
   "metadata": {
    "scrolled": true
   },
   "outputs": [
    {
     "data": {
      "text/html": [
       "<div>\n",
       "<style scoped>\n",
       "    .dataframe tbody tr th:only-of-type {\n",
       "        vertical-align: middle;\n",
       "    }\n",
       "\n",
       "    .dataframe tbody tr th {\n",
       "        vertical-align: top;\n",
       "    }\n",
       "\n",
       "    .dataframe thead th {\n",
       "        text-align: right;\n",
       "    }\n",
       "</style>\n",
       "<table border=\"1\" class=\"dataframe\">\n",
       "  <thead>\n",
       "    <tr style=\"text-align: right;\">\n",
       "      <th></th>\n",
       "      <th>rain_inches</th>\n",
       "      <th>tornado</th>\n",
       "      <th>lightning</th>\n",
       "      <th>wind_speed_mph</th>\n",
       "      <th>severity</th>\n",
       "    </tr>\n",
       "    <tr>\n",
       "      <th>record_id</th>\n",
       "      <th></th>\n",
       "      <th></th>\n",
       "      <th></th>\n",
       "      <th></th>\n",
       "      <th></th>\n",
       "    </tr>\n",
       "  </thead>\n",
       "  <tbody>\n",
       "    <tr>\n",
       "      <th>DCMXP87EDE</th>\n",
       "      <td>1.1</td>\n",
       "      <td>False</td>\n",
       "      <td>False</td>\n",
       "      <td>3.1</td>\n",
       "      <td>CLEAR</td>\n",
       "    </tr>\n",
       "    <tr>\n",
       "      <th>FIZLY34KSQ</th>\n",
       "      <td>3.2</td>\n",
       "      <td>False</td>\n",
       "      <td>False</td>\n",
       "      <td>19.0</td>\n",
       "      <td>CLEAR</td>\n",
       "    </tr>\n",
       "    <tr>\n",
       "      <th>HIVVXBAPS2</th>\n",
       "      <td>0.0</td>\n",
       "      <td>False</td>\n",
       "      <td>True</td>\n",
       "      <td>12.2</td>\n",
       "      <td>MINOR</td>\n",
       "    </tr>\n",
       "    <tr>\n",
       "      <th>U1AA66UDES</th>\n",
       "      <td>2.4</td>\n",
       "      <td>False</td>\n",
       "      <td>True</td>\n",
       "      <td>8.1</td>\n",
       "      <td>MINOR</td>\n",
       "    </tr>\n",
       "    <tr>\n",
       "      <th>B20KL5PW3L</th>\n",
       "      <td>11.2</td>\n",
       "      <td>False</td>\n",
       "      <td>False</td>\n",
       "      <td>5.0</td>\n",
       "      <td>MAJOR</td>\n",
       "    </tr>\n",
       "    <tr>\n",
       "      <th>ZMIFM3HX9G</th>\n",
       "      <td>0.0</td>\n",
       "      <td>True</td>\n",
       "      <td>True</td>\n",
       "      <td>143.0</td>\n",
       "      <td>SEVERE</td>\n",
       "    </tr>\n",
       "  </tbody>\n",
       "</table>\n",
       "</div>"
      ],
      "text/plain": [
       "            rain_inches  tornado  lightning  wind_speed_mph severity\n",
       "record_id                                                           \n",
       "DCMXP87EDE          1.1    False      False             3.1    CLEAR\n",
       "FIZLY34KSQ          3.2    False      False            19.0    CLEAR\n",
       "HIVVXBAPS2          0.0    False       True            12.2    MINOR\n",
       "U1AA66UDES          2.4    False       True             8.1    MINOR\n",
       "B20KL5PW3L         11.2    False      False             5.0    MAJOR\n",
       "ZMIFM3HX9G          0.0     True       True           143.0   SEVERE"
      ]
     },
     "execution_count": 52,
     "metadata": {},
     "output_type": "execute_result"
    }
   ],
   "source": [
    "df.sort_values(by=[\"severity\"])"
   ]
  },
  {
   "cell_type": "markdown",
   "id": "b2e2f4b1",
   "metadata": {},
   "source": [
    "# Using apply() "
   ]
  },
  {
   "cell_type": "markdown",
   "id": "c3128a12",
   "metadata": {},
   "source": [
    "Let's say you want to categorize wind speeds so you create this Python function. "
   ]
  },
  {
   "cell_type": "code",
   "execution_count": 56,
   "id": "0fe46d2a",
   "metadata": {
    "scrolled": true
   },
   "outputs": [],
   "source": [
    "def map_wind_speed(x): \n",
    "    if x >= 60: \n",
    "        return 'DANGEROUS'\n",
    "    elif x >= 30: \n",
    "        return 'HIGH'\n",
    "    elif x >= 15:\n",
    "        return 'MODERATE'\n",
    "    else:\n",
    "        return 'LOW'\n",
    "    "
   ]
  },
  {
   "cell_type": "markdown",
   "id": "cba419de",
   "metadata": {},
   "source": [
    "How can you apply this to the `wind_speed_mph` column and create a new column out of it? You can use the `apply()` function "
   ]
  },
  {
   "cell_type": "code",
   "execution_count": 59,
   "id": "8acdd815",
   "metadata": {
    "scrolled": true
   },
   "outputs": [
    {
     "data": {
      "text/plain": [
       "record_id\n",
       "DCMXP87EDE          LOW\n",
       "ZMIFM3HX9G    DANGEROUS\n",
       "HIVVXBAPS2          LOW\n",
       "U1AA66UDES          LOW\n",
       "B20KL5PW3L          LOW\n",
       "FIZLY34KSQ     MODERATE\n",
       "Name: wind_speed_mph, dtype: object"
      ]
     },
     "execution_count": 59,
     "metadata": {},
     "output_type": "execute_result"
    }
   ],
   "source": [
    "df['wind_speed_mph'].apply(map_wind_speed)"
   ]
  },
  {
   "cell_type": "markdown",
   "id": "0b4aa6fa",
   "metadata": {},
   "source": [
    "You could then append this as a new column as a wind_speed_category. "
   ]
  },
  {
   "cell_type": "code",
   "execution_count": 62,
   "id": "8d3e884f",
   "metadata": {},
   "outputs": [
    {
     "data": {
      "text/html": [
       "<div>\n",
       "<style scoped>\n",
       "    .dataframe tbody tr th:only-of-type {\n",
       "        vertical-align: middle;\n",
       "    }\n",
       "\n",
       "    .dataframe tbody tr th {\n",
       "        vertical-align: top;\n",
       "    }\n",
       "\n",
       "    .dataframe thead th {\n",
       "        text-align: right;\n",
       "    }\n",
       "</style>\n",
       "<table border=\"1\" class=\"dataframe\">\n",
       "  <thead>\n",
       "    <tr style=\"text-align: right;\">\n",
       "      <th></th>\n",
       "      <th>rain_inches</th>\n",
       "      <th>tornado</th>\n",
       "      <th>lightning</th>\n",
       "      <th>wind_speed_mph</th>\n",
       "      <th>severity</th>\n",
       "      <th>wind_speed_cat</th>\n",
       "    </tr>\n",
       "    <tr>\n",
       "      <th>record_id</th>\n",
       "      <th></th>\n",
       "      <th></th>\n",
       "      <th></th>\n",
       "      <th></th>\n",
       "      <th></th>\n",
       "      <th></th>\n",
       "    </tr>\n",
       "  </thead>\n",
       "  <tbody>\n",
       "    <tr>\n",
       "      <th>DCMXP87EDE</th>\n",
       "      <td>1.1</td>\n",
       "      <td>False</td>\n",
       "      <td>False</td>\n",
       "      <td>3.1</td>\n",
       "      <td>CLEAR</td>\n",
       "      <td>LOW</td>\n",
       "    </tr>\n",
       "    <tr>\n",
       "      <th>ZMIFM3HX9G</th>\n",
       "      <td>0.0</td>\n",
       "      <td>True</td>\n",
       "      <td>True</td>\n",
       "      <td>143.0</td>\n",
       "      <td>SEVERE</td>\n",
       "      <td>DANGEROUS</td>\n",
       "    </tr>\n",
       "    <tr>\n",
       "      <th>HIVVXBAPS2</th>\n",
       "      <td>0.0</td>\n",
       "      <td>False</td>\n",
       "      <td>True</td>\n",
       "      <td>12.2</td>\n",
       "      <td>MINOR</td>\n",
       "      <td>LOW</td>\n",
       "    </tr>\n",
       "    <tr>\n",
       "      <th>U1AA66UDES</th>\n",
       "      <td>2.4</td>\n",
       "      <td>False</td>\n",
       "      <td>True</td>\n",
       "      <td>8.1</td>\n",
       "      <td>MINOR</td>\n",
       "      <td>LOW</td>\n",
       "    </tr>\n",
       "    <tr>\n",
       "      <th>B20KL5PW3L</th>\n",
       "      <td>11.2</td>\n",
       "      <td>False</td>\n",
       "      <td>False</td>\n",
       "      <td>5.0</td>\n",
       "      <td>MAJOR</td>\n",
       "      <td>LOW</td>\n",
       "    </tr>\n",
       "    <tr>\n",
       "      <th>FIZLY34KSQ</th>\n",
       "      <td>3.2</td>\n",
       "      <td>False</td>\n",
       "      <td>False</td>\n",
       "      <td>19.0</td>\n",
       "      <td>CLEAR</td>\n",
       "      <td>MODERATE</td>\n",
       "    </tr>\n",
       "  </tbody>\n",
       "</table>\n",
       "</div>"
      ],
      "text/plain": [
       "            rain_inches  tornado  lightning  wind_speed_mph severity  \\\n",
       "record_id                                                              \n",
       "DCMXP87EDE          1.1    False      False             3.1    CLEAR   \n",
       "ZMIFM3HX9G          0.0     True       True           143.0   SEVERE   \n",
       "HIVVXBAPS2          0.0    False       True            12.2    MINOR   \n",
       "U1AA66UDES          2.4    False       True             8.1    MINOR   \n",
       "B20KL5PW3L         11.2    False      False             5.0    MAJOR   \n",
       "FIZLY34KSQ          3.2    False      False            19.0    CLEAR   \n",
       "\n",
       "           wind_speed_cat  \n",
       "record_id                  \n",
       "DCMXP87EDE            LOW  \n",
       "ZMIFM3HX9G      DANGEROUS  \n",
       "HIVVXBAPS2            LOW  \n",
       "U1AA66UDES            LOW  \n",
       "B20KL5PW3L            LOW  \n",
       "FIZLY34KSQ       MODERATE  "
      ]
     },
     "execution_count": 62,
     "metadata": {},
     "output_type": "execute_result"
    }
   ],
   "source": [
    "df[\"wind_speed_cat\"] = df['wind_speed_mph'].apply(map_wind_speed)\n",
    "\n",
    "df"
   ]
  },
  {
   "cell_type": "markdown",
   "id": "4a852dc1",
   "metadata": {},
   "source": [
    "Use the `apply()` to pass a column of values through a function, and pass each respective value through it and get the output. "
   ]
  },
  {
   "cell_type": "markdown",
   "id": "089e2f9b",
   "metadata": {},
   "source": [
    "## Exercise"
   ]
  },
  {
   "cell_type": "markdown",
   "id": "9a0bf831",
   "metadata": {},
   "source": [
    "Take the weather dataframe we just made above and make the `wind_speed_cat` (which currently is stored as string objects) into a category type. Set it so the ordering ascending goes `LOW`, `MODERATE`, `HIGH`, then `DANGEROUS`. Then sort on that column descending."
   ]
  },
  {
   "cell_type": "code",
   "execution_count": 21,
   "id": "b8c864b3",
   "metadata": {},
   "outputs": [
    {
     "data": {
      "text/html": [
       "<div>\n",
       "<style scoped>\n",
       "    .dataframe tbody tr th:only-of-type {\n",
       "        vertical-align: middle;\n",
       "    }\n",
       "\n",
       "    .dataframe tbody tr th {\n",
       "        vertical-align: top;\n",
       "    }\n",
       "\n",
       "    .dataframe thead th {\n",
       "        text-align: right;\n",
       "    }\n",
       "</style>\n",
       "<table border=\"1\" class=\"dataframe\">\n",
       "  <thead>\n",
       "    <tr style=\"text-align: right;\">\n",
       "      <th></th>\n",
       "      <th>rain_inches</th>\n",
       "      <th>tornado</th>\n",
       "      <th>lightning</th>\n",
       "      <th>wind_speed_mph</th>\n",
       "      <th>severity</th>\n",
       "      <th>wind_speed_cat</th>\n",
       "    </tr>\n",
       "    <tr>\n",
       "      <th>record_id</th>\n",
       "      <th></th>\n",
       "      <th></th>\n",
       "      <th></th>\n",
       "      <th></th>\n",
       "      <th></th>\n",
       "      <th></th>\n",
       "    </tr>\n",
       "  </thead>\n",
       "  <tbody>\n",
       "    <tr>\n",
       "      <th>ZMIFM3HX9G</th>\n",
       "      <td>0.0</td>\n",
       "      <td>True</td>\n",
       "      <td>True</td>\n",
       "      <td>143.0</td>\n",
       "      <td>SEVERE</td>\n",
       "      <td>DANGEROUS</td>\n",
       "    </tr>\n",
       "    <tr>\n",
       "      <th>FIZLY34KSQ</th>\n",
       "      <td>3.2</td>\n",
       "      <td>False</td>\n",
       "      <td>False</td>\n",
       "      <td>19.0</td>\n",
       "      <td>CLEAR</td>\n",
       "      <td>MODERATE</td>\n",
       "    </tr>\n",
       "    <tr>\n",
       "      <th>DCMXP87EDE</th>\n",
       "      <td>1.1</td>\n",
       "      <td>False</td>\n",
       "      <td>False</td>\n",
       "      <td>3.1</td>\n",
       "      <td>CLEAR</td>\n",
       "      <td>LOW</td>\n",
       "    </tr>\n",
       "    <tr>\n",
       "      <th>HIVVXBAPS2</th>\n",
       "      <td>0.0</td>\n",
       "      <td>False</td>\n",
       "      <td>True</td>\n",
       "      <td>12.2</td>\n",
       "      <td>MINOR</td>\n",
       "      <td>LOW</td>\n",
       "    </tr>\n",
       "    <tr>\n",
       "      <th>U1AA66UDES</th>\n",
       "      <td>2.4</td>\n",
       "      <td>False</td>\n",
       "      <td>True</td>\n",
       "      <td>8.1</td>\n",
       "      <td>MINOR</td>\n",
       "      <td>LOW</td>\n",
       "    </tr>\n",
       "    <tr>\n",
       "      <th>B20KL5PW3L</th>\n",
       "      <td>11.2</td>\n",
       "      <td>False</td>\n",
       "      <td>False</td>\n",
       "      <td>5.0</td>\n",
       "      <td>MAJOR</td>\n",
       "      <td>LOW</td>\n",
       "    </tr>\n",
       "  </tbody>\n",
       "</table>\n",
       "</div>"
      ],
      "text/plain": [
       "            rain_inches  tornado  lightning  wind_speed_mph severity  \\\n",
       "record_id                                                              \n",
       "ZMIFM3HX9G          0.0     True       True           143.0   SEVERE   \n",
       "FIZLY34KSQ          3.2    False      False            19.0    CLEAR   \n",
       "DCMXP87EDE          1.1    False      False             3.1    CLEAR   \n",
       "HIVVXBAPS2          0.0    False       True            12.2    MINOR   \n",
       "U1AA66UDES          2.4    False       True             8.1    MINOR   \n",
       "B20KL5PW3L         11.2    False      False             5.0    MAJOR   \n",
       "\n",
       "           wind_speed_cat  \n",
       "record_id                  \n",
       "ZMIFM3HX9G      DANGEROUS  \n",
       "FIZLY34KSQ       MODERATE  \n",
       "DCMXP87EDE            LOW  \n",
       "HIVVXBAPS2            LOW  \n",
       "U1AA66UDES            LOW  \n",
       "B20KL5PW3L            LOW  "
      ]
     },
     "execution_count": 21,
     "metadata": {},
     "output_type": "execute_result"
    }
   ],
   "source": [
    "wind_cat_type = pd.CategoricalDtype(categories=[\"LOW\", \"MODERATE\", \"HIGH\", \"DANGEROUS\"], ordered=True)\n",
    "\n",
    "df[\"wind_speed_cat\"] = df['wind_speed_cat'].astype(wind_cat_type)\n",
    "\n",
    "df.sort_values(by=[\"wind_speed_cat\"],ascending=[False], inplace=True)\n",
    "df"
   ]
  }
 ],
 "metadata": {
  "kernelspec": {
   "display_name": "Python 3 (ipykernel)",
   "language": "python",
   "name": "python3"
  },
  "language_info": {
   "codemirror_mode": {
    "name": "ipython",
    "version": 3
   },
   "file_extension": ".py",
   "mimetype": "text/x-python",
   "name": "python",
   "nbconvert_exporter": "python",
   "pygments_lexer": "ipython3",
   "version": "3.12.4"
  }
 },
 "nbformat": 4,
 "nbformat_minor": 5
}
