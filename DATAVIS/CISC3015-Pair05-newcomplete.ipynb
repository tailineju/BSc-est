{
 "cells": [
  {
   "cell_type": "markdown",
   "id": "c349a007",
   "metadata": {},
   "source": [
    "# Revised Project Proposal\n",
    "\n",
    "---\n",
    "Students: \n",
    "\n",
    "- Tailine, DC427182\n",
    "- Zhong Wanyi, DC229805"
   ]
  },
  {
   "cell_type": "code",
   "execution_count": 1,
   "id": "a6436f40",
   "metadata": {},
   "outputs": [],
   "source": [
    "# importing libraries\n",
    "import pandas as pd\n",
    "import numpy as np\n",
    "import matplotlib.pyplot as plt\n",
    "import seaborn as sns"
   ]
  },
  {
   "cell_type": "code",
   "execution_count": 2,
   "id": "d03de693-67e6-4ed5-9106-4bfe629f8047",
   "metadata": {},
   "outputs": [
    {
     "data": {
      "text/html": [
       "<div>\n",
       "<style scoped>\n",
       "    .dataframe tbody tr th:only-of-type {\n",
       "        vertical-align: middle;\n",
       "    }\n",
       "\n",
       "    .dataframe tbody tr th {\n",
       "        vertical-align: top;\n",
       "    }\n",
       "\n",
       "    .dataframe thead th {\n",
       "        text-align: right;\n",
       "    }\n",
       "</style>\n",
       "<table border=\"1\" class=\"dataframe\">\n",
       "  <thead>\n",
       "    <tr style=\"text-align: right;\">\n",
       "      <th></th>\n",
       "      <th>DR_NO</th>\n",
       "      <th>Date Rptd</th>\n",
       "      <th>DATE OCC</th>\n",
       "      <th>TIME OCC</th>\n",
       "      <th>AREA</th>\n",
       "      <th>AREA NAME</th>\n",
       "      <th>Rpt Dist No</th>\n",
       "      <th>Part 1-2</th>\n",
       "      <th>Crm Cd</th>\n",
       "      <th>Crm Cd Desc</th>\n",
       "      <th>...</th>\n",
       "      <th>Status</th>\n",
       "      <th>Status Desc</th>\n",
       "      <th>Crm Cd 1</th>\n",
       "      <th>Crm Cd 2</th>\n",
       "      <th>Crm Cd 3</th>\n",
       "      <th>Crm Cd 4</th>\n",
       "      <th>LOCATION</th>\n",
       "      <th>Cross Street</th>\n",
       "      <th>LAT</th>\n",
       "      <th>LON</th>\n",
       "    </tr>\n",
       "  </thead>\n",
       "  <tbody>\n",
       "    <tr>\n",
       "      <th>0</th>\n",
       "      <td>190326475</td>\n",
       "      <td>03/01/2020 12:00:00 AM</td>\n",
       "      <td>03/01/2020 12:00:00 AM</td>\n",
       "      <td>2130</td>\n",
       "      <td>7</td>\n",
       "      <td>Wilshire</td>\n",
       "      <td>784</td>\n",
       "      <td>1</td>\n",
       "      <td>510</td>\n",
       "      <td>VEHICLE - STOLEN</td>\n",
       "      <td>...</td>\n",
       "      <td>AA</td>\n",
       "      <td>Adult Arrest</td>\n",
       "      <td>510.0</td>\n",
       "      <td>998.0</td>\n",
       "      <td>NaN</td>\n",
       "      <td>NaN</td>\n",
       "      <td>1900 S  LONGWOOD                     AV</td>\n",
       "      <td>NaN</td>\n",
       "      <td>34.0375</td>\n",
       "      <td>-118.3506</td>\n",
       "    </tr>\n",
       "    <tr>\n",
       "      <th>1</th>\n",
       "      <td>200106753</td>\n",
       "      <td>02/09/2020 12:00:00 AM</td>\n",
       "      <td>02/08/2020 12:00:00 AM</td>\n",
       "      <td>1800</td>\n",
       "      <td>1</td>\n",
       "      <td>Central</td>\n",
       "      <td>182</td>\n",
       "      <td>1</td>\n",
       "      <td>330</td>\n",
       "      <td>BURGLARY FROM VEHICLE</td>\n",
       "      <td>...</td>\n",
       "      <td>IC</td>\n",
       "      <td>Invest Cont</td>\n",
       "      <td>330.0</td>\n",
       "      <td>998.0</td>\n",
       "      <td>NaN</td>\n",
       "      <td>NaN</td>\n",
       "      <td>1000 S  FLOWER                       ST</td>\n",
       "      <td>NaN</td>\n",
       "      <td>34.0444</td>\n",
       "      <td>-118.2628</td>\n",
       "    </tr>\n",
       "    <tr>\n",
       "      <th>2</th>\n",
       "      <td>200320258</td>\n",
       "      <td>11/11/2020 12:00:00 AM</td>\n",
       "      <td>11/04/2020 12:00:00 AM</td>\n",
       "      <td>1700</td>\n",
       "      <td>3</td>\n",
       "      <td>Southwest</td>\n",
       "      <td>356</td>\n",
       "      <td>1</td>\n",
       "      <td>480</td>\n",
       "      <td>BIKE - STOLEN</td>\n",
       "      <td>...</td>\n",
       "      <td>IC</td>\n",
       "      <td>Invest Cont</td>\n",
       "      <td>480.0</td>\n",
       "      <td>NaN</td>\n",
       "      <td>NaN</td>\n",
       "      <td>NaN</td>\n",
       "      <td>1400 W  37TH                         ST</td>\n",
       "      <td>NaN</td>\n",
       "      <td>34.0210</td>\n",
       "      <td>-118.3002</td>\n",
       "    </tr>\n",
       "    <tr>\n",
       "      <th>3</th>\n",
       "      <td>200907217</td>\n",
       "      <td>05/10/2023 12:00:00 AM</td>\n",
       "      <td>03/10/2020 12:00:00 AM</td>\n",
       "      <td>2037</td>\n",
       "      <td>9</td>\n",
       "      <td>Van Nuys</td>\n",
       "      <td>964</td>\n",
       "      <td>1</td>\n",
       "      <td>343</td>\n",
       "      <td>SHOPLIFTING-GRAND THEFT ($950.01 &amp; OVER)</td>\n",
       "      <td>...</td>\n",
       "      <td>IC</td>\n",
       "      <td>Invest Cont</td>\n",
       "      <td>343.0</td>\n",
       "      <td>NaN</td>\n",
       "      <td>NaN</td>\n",
       "      <td>NaN</td>\n",
       "      <td>14000    RIVERSIDE                    DR</td>\n",
       "      <td>NaN</td>\n",
       "      <td>34.1576</td>\n",
       "      <td>-118.4387</td>\n",
       "    </tr>\n",
       "    <tr>\n",
       "      <th>4</th>\n",
       "      <td>220614831</td>\n",
       "      <td>08/18/2022 12:00:00 AM</td>\n",
       "      <td>08/17/2020 12:00:00 AM</td>\n",
       "      <td>1200</td>\n",
       "      <td>6</td>\n",
       "      <td>Hollywood</td>\n",
       "      <td>666</td>\n",
       "      <td>2</td>\n",
       "      <td>354</td>\n",
       "      <td>THEFT OF IDENTITY</td>\n",
       "      <td>...</td>\n",
       "      <td>IC</td>\n",
       "      <td>Invest Cont</td>\n",
       "      <td>354.0</td>\n",
       "      <td>NaN</td>\n",
       "      <td>NaN</td>\n",
       "      <td>NaN</td>\n",
       "      <td>1900    TRANSIENT</td>\n",
       "      <td>NaN</td>\n",
       "      <td>34.0944</td>\n",
       "      <td>-118.3277</td>\n",
       "    </tr>\n",
       "  </tbody>\n",
       "</table>\n",
       "<p>5 rows × 28 columns</p>\n",
       "</div>"
      ],
      "text/plain": [
       "       DR_NO               Date Rptd                DATE OCC  TIME OCC  AREA  \\\n",
       "0  190326475  03/01/2020 12:00:00 AM  03/01/2020 12:00:00 AM      2130     7   \n",
       "1  200106753  02/09/2020 12:00:00 AM  02/08/2020 12:00:00 AM      1800     1   \n",
       "2  200320258  11/11/2020 12:00:00 AM  11/04/2020 12:00:00 AM      1700     3   \n",
       "3  200907217  05/10/2023 12:00:00 AM  03/10/2020 12:00:00 AM      2037     9   \n",
       "4  220614831  08/18/2022 12:00:00 AM  08/17/2020 12:00:00 AM      1200     6   \n",
       "\n",
       "   AREA NAME  Rpt Dist No  Part 1-2  Crm Cd  \\\n",
       "0   Wilshire          784         1     510   \n",
       "1    Central          182         1     330   \n",
       "2  Southwest          356         1     480   \n",
       "3   Van Nuys          964         1     343   \n",
       "4  Hollywood          666         2     354   \n",
       "\n",
       "                                Crm Cd Desc  ... Status   Status Desc  \\\n",
       "0                          VEHICLE - STOLEN  ...     AA  Adult Arrest   \n",
       "1                     BURGLARY FROM VEHICLE  ...     IC   Invest Cont   \n",
       "2                             BIKE - STOLEN  ...     IC   Invest Cont   \n",
       "3  SHOPLIFTING-GRAND THEFT ($950.01 & OVER)  ...     IC   Invest Cont   \n",
       "4                         THEFT OF IDENTITY  ...     IC   Invest Cont   \n",
       "\n",
       "  Crm Cd 1 Crm Cd 2  Crm Cd 3 Crm Cd 4  \\\n",
       "0    510.0    998.0       NaN      NaN   \n",
       "1    330.0    998.0       NaN      NaN   \n",
       "2    480.0      NaN       NaN      NaN   \n",
       "3    343.0      NaN       NaN      NaN   \n",
       "4    354.0      NaN       NaN      NaN   \n",
       "\n",
       "                                   LOCATION Cross Street      LAT       LON  \n",
       "0   1900 S  LONGWOOD                     AV          NaN  34.0375 -118.3506  \n",
       "1   1000 S  FLOWER                       ST          NaN  34.0444 -118.2628  \n",
       "2   1400 W  37TH                         ST          NaN  34.0210 -118.3002  \n",
       "3  14000    RIVERSIDE                    DR          NaN  34.1576 -118.4387  \n",
       "4                         1900    TRANSIENT          NaN  34.0944 -118.3277  \n",
       "\n",
       "[5 rows x 28 columns]"
      ]
     },
     "execution_count": 2,
     "metadata": {},
     "output_type": "execute_result"
    }
   ],
   "source": [
    "# reading the data\n",
    "crime_dataset = pd.read_csv('Crime_Data_from_2020_to_Present.csv')\n",
    "crime_dataset.head()"
   ]
  },
  {
   "cell_type": "code",
   "execution_count": 3,
   "id": "a5fb36fd",
   "metadata": {},
   "outputs": [
    {
     "data": {
      "text/plain": [
       "year\n",
       "2020    199787\n",
       "2021    209805\n",
       "2022    235152\n",
       "2023    232130\n",
       "2024    105764\n",
       "Name: count, dtype: int64"
      ]
     },
     "execution_count": 3,
     "metadata": {},
     "output_type": "execute_result"
    }
   ],
   "source": [
    "# check dataset years\n",
    "crime_dataset['year'] = pd.DatetimeIndex(crime_dataset['DATE OCC']).year\n",
    "crime_dataset['year'].value_counts().sort_index()"
   ]
  },
  {
   "cell_type": "code",
   "execution_count": 4,
   "id": "1e56642e-f91b-4c18-909f-3c6f9d1bdfe8",
   "metadata": {},
   "outputs": [
    {
     "data": {
      "text/html": [
       "<div>\n",
       "<style scoped>\n",
       "    .dataframe tbody tr th:only-of-type {\n",
       "        vertical-align: middle;\n",
       "    }\n",
       "\n",
       "    .dataframe tbody tr th {\n",
       "        vertical-align: top;\n",
       "    }\n",
       "\n",
       "    .dataframe thead th {\n",
       "        text-align: right;\n",
       "    }\n",
       "</style>\n",
       "<table border=\"1\" class=\"dataframe\">\n",
       "  <thead>\n",
       "    <tr style=\"text-align: right;\">\n",
       "      <th></th>\n",
       "      <th>DR_NO</th>\n",
       "      <th>Date Rptd</th>\n",
       "      <th>DATE OCC</th>\n",
       "      <th>TIME OCC</th>\n",
       "      <th>AREA</th>\n",
       "      <th>AREA NAME</th>\n",
       "      <th>Rpt Dist No</th>\n",
       "      <th>Part 1-2</th>\n",
       "      <th>Crm Cd</th>\n",
       "      <th>Crm Cd Desc</th>\n",
       "      <th>...</th>\n",
       "      <th>Status Desc</th>\n",
       "      <th>Crm Cd 1</th>\n",
       "      <th>Crm Cd 2</th>\n",
       "      <th>Crm Cd 3</th>\n",
       "      <th>Crm Cd 4</th>\n",
       "      <th>LOCATION</th>\n",
       "      <th>Cross Street</th>\n",
       "      <th>LAT</th>\n",
       "      <th>LON</th>\n",
       "      <th>year</th>\n",
       "    </tr>\n",
       "  </thead>\n",
       "  <tbody>\n",
       "    <tr>\n",
       "      <th>1</th>\n",
       "      <td>200106753</td>\n",
       "      <td>02/09/2020 12:00:00 AM</td>\n",
       "      <td>02/08/2020 12:00:00 AM</td>\n",
       "      <td>1800</td>\n",
       "      <td>1</td>\n",
       "      <td>Central</td>\n",
       "      <td>182</td>\n",
       "      <td>1</td>\n",
       "      <td>330</td>\n",
       "      <td>BURGLARY FROM VEHICLE</td>\n",
       "      <td>...</td>\n",
       "      <td>Invest Cont</td>\n",
       "      <td>330.0</td>\n",
       "      <td>998.0</td>\n",
       "      <td>NaN</td>\n",
       "      <td>NaN</td>\n",
       "      <td>1000 S  FLOWER                       ST</td>\n",
       "      <td>NaN</td>\n",
       "      <td>34.0444</td>\n",
       "      <td>-118.2628</td>\n",
       "      <td>2020</td>\n",
       "    </tr>\n",
       "    <tr>\n",
       "      <th>2</th>\n",
       "      <td>200320258</td>\n",
       "      <td>11/11/2020 12:00:00 AM</td>\n",
       "      <td>11/04/2020 12:00:00 AM</td>\n",
       "      <td>1700</td>\n",
       "      <td>3</td>\n",
       "      <td>Southwest</td>\n",
       "      <td>356</td>\n",
       "      <td>1</td>\n",
       "      <td>480</td>\n",
       "      <td>BIKE - STOLEN</td>\n",
       "      <td>...</td>\n",
       "      <td>Invest Cont</td>\n",
       "      <td>480.0</td>\n",
       "      <td>NaN</td>\n",
       "      <td>NaN</td>\n",
       "      <td>NaN</td>\n",
       "      <td>1400 W  37TH                         ST</td>\n",
       "      <td>NaN</td>\n",
       "      <td>34.0210</td>\n",
       "      <td>-118.3002</td>\n",
       "      <td>2020</td>\n",
       "    </tr>\n",
       "    <tr>\n",
       "      <th>3</th>\n",
       "      <td>200907217</td>\n",
       "      <td>05/10/2023 12:00:00 AM</td>\n",
       "      <td>03/10/2020 12:00:00 AM</td>\n",
       "      <td>2037</td>\n",
       "      <td>9</td>\n",
       "      <td>Van Nuys</td>\n",
       "      <td>964</td>\n",
       "      <td>1</td>\n",
       "      <td>343</td>\n",
       "      <td>SHOPLIFTING-GRAND THEFT ($950.01 &amp; OVER)</td>\n",
       "      <td>...</td>\n",
       "      <td>Invest Cont</td>\n",
       "      <td>343.0</td>\n",
       "      <td>NaN</td>\n",
       "      <td>NaN</td>\n",
       "      <td>NaN</td>\n",
       "      <td>14000    RIVERSIDE                    DR</td>\n",
       "      <td>NaN</td>\n",
       "      <td>34.1576</td>\n",
       "      <td>-118.4387</td>\n",
       "      <td>2020</td>\n",
       "    </tr>\n",
       "    <tr>\n",
       "      <th>4</th>\n",
       "      <td>220614831</td>\n",
       "      <td>08/18/2022 12:00:00 AM</td>\n",
       "      <td>08/17/2020 12:00:00 AM</td>\n",
       "      <td>1200</td>\n",
       "      <td>6</td>\n",
       "      <td>Hollywood</td>\n",
       "      <td>666</td>\n",
       "      <td>2</td>\n",
       "      <td>354</td>\n",
       "      <td>THEFT OF IDENTITY</td>\n",
       "      <td>...</td>\n",
       "      <td>Invest Cont</td>\n",
       "      <td>354.0</td>\n",
       "      <td>NaN</td>\n",
       "      <td>NaN</td>\n",
       "      <td>NaN</td>\n",
       "      <td>1900    TRANSIENT</td>\n",
       "      <td>NaN</td>\n",
       "      <td>34.0944</td>\n",
       "      <td>-118.3277</td>\n",
       "      <td>2020</td>\n",
       "    </tr>\n",
       "    <tr>\n",
       "      <th>5</th>\n",
       "      <td>231808869</td>\n",
       "      <td>04/04/2023 12:00:00 AM</td>\n",
       "      <td>12/01/2020 12:00:00 AM</td>\n",
       "      <td>2300</td>\n",
       "      <td>18</td>\n",
       "      <td>Southeast</td>\n",
       "      <td>1826</td>\n",
       "      <td>2</td>\n",
       "      <td>354</td>\n",
       "      <td>THEFT OF IDENTITY</td>\n",
       "      <td>...</td>\n",
       "      <td>Invest Cont</td>\n",
       "      <td>354.0</td>\n",
       "      <td>NaN</td>\n",
       "      <td>NaN</td>\n",
       "      <td>NaN</td>\n",
       "      <td>9900    COMPTON                      AV</td>\n",
       "      <td>NaN</td>\n",
       "      <td>33.9467</td>\n",
       "      <td>-118.2463</td>\n",
       "      <td>2020</td>\n",
       "    </tr>\n",
       "  </tbody>\n",
       "</table>\n",
       "<p>5 rows × 29 columns</p>\n",
       "</div>"
      ],
      "text/plain": [
       "       DR_NO               Date Rptd                DATE OCC  TIME OCC  AREA  \\\n",
       "1  200106753  02/09/2020 12:00:00 AM  02/08/2020 12:00:00 AM      1800     1   \n",
       "2  200320258  11/11/2020 12:00:00 AM  11/04/2020 12:00:00 AM      1700     3   \n",
       "3  200907217  05/10/2023 12:00:00 AM  03/10/2020 12:00:00 AM      2037     9   \n",
       "4  220614831  08/18/2022 12:00:00 AM  08/17/2020 12:00:00 AM      1200     6   \n",
       "5  231808869  04/04/2023 12:00:00 AM  12/01/2020 12:00:00 AM      2300    18   \n",
       "\n",
       "   AREA NAME  Rpt Dist No  Part 1-2  Crm Cd  \\\n",
       "1    Central          182         1     330   \n",
       "2  Southwest          356         1     480   \n",
       "3   Van Nuys          964         1     343   \n",
       "4  Hollywood          666         2     354   \n",
       "5  Southeast         1826         2     354   \n",
       "\n",
       "                                Crm Cd Desc  ...  Status Desc  Crm Cd 1  \\\n",
       "1                     BURGLARY FROM VEHICLE  ...  Invest Cont     330.0   \n",
       "2                             BIKE - STOLEN  ...  Invest Cont     480.0   \n",
       "3  SHOPLIFTING-GRAND THEFT ($950.01 & OVER)  ...  Invest Cont     343.0   \n",
       "4                         THEFT OF IDENTITY  ...  Invest Cont     354.0   \n",
       "5                         THEFT OF IDENTITY  ...  Invest Cont     354.0   \n",
       "\n",
       "  Crm Cd 2 Crm Cd 3  Crm Cd 4                                  LOCATION  \\\n",
       "1    998.0      NaN       NaN   1000 S  FLOWER                       ST   \n",
       "2      NaN      NaN       NaN   1400 W  37TH                         ST   \n",
       "3      NaN      NaN       NaN  14000    RIVERSIDE                    DR   \n",
       "4      NaN      NaN       NaN                         1900    TRANSIENT   \n",
       "5      NaN      NaN       NaN   9900    COMPTON                      AV   \n",
       "\n",
       "   Cross Street      LAT       LON  year  \n",
       "1           NaN  34.0444 -118.2628  2020  \n",
       "2           NaN  34.0210 -118.3002  2020  \n",
       "3           NaN  34.1576 -118.4387  2020  \n",
       "4           NaN  34.0944 -118.3277  2020  \n",
       "5           NaN  33.9467 -118.2463  2020  \n",
       "\n",
       "[5 rows x 29 columns]"
      ]
     },
     "execution_count": 4,
     "metadata": {},
     "output_type": "execute_result"
    }
   ],
   "source": [
    "# cleaning data\n",
    "crimes = crime_dataset[crime_dataset['Vict Age'] > 0]\n",
    "crimes.head()"
   ]
  },
  {
   "cell_type": "code",
   "execution_count": null,
   "id": "99bbfbf7",
   "metadata": {},
   "outputs": [],
   "source": [
    "# dataset variables\n",
    "crimes.columns"
   ]
  },
  {
   "cell_type": "code",
   "execution_count": 5,
   "id": "590d650e-1696-4c08-bc6d-f02182f0743b",
   "metadata": {},
   "outputs": [
    {
     "name": "stderr",
     "output_type": "stream",
     "text": [
      "C:\\Users\\86137\\AppData\\Local\\Temp\\ipykernel_20492\\1282122876.py:5: SettingWithCopyWarning: \n",
      "A value is trying to be set on a copy of a slice from a DataFrame.\n",
      "Try using .loc[row_indexer,col_indexer] = value instead\n",
      "\n",
      "See the caveats in the documentation: https://pandas.pydata.org/pandas-docs/stable/user_guide/indexing.html#returning-a-view-versus-a-copy\n",
      "  crimes['Is Homicide'] = crimes['Crm Cd Desc'].apply(lambda x: 1 if x == 'CRIMINAL HOMICIDE' else 0)\n"
     ]
    },
    {
     "data": {
      "text/plain": [
       "Is Homicide\n",
       "0    711186\n",
       "1      1538\n",
       "Name: count, dtype: int64"
      ]
     },
     "execution_count": 5,
     "metadata": {},
     "output_type": "execute_result"
    }
   ],
   "source": [
    "# filtering the data to answer research question\n",
    "# crm cd desc == criminal homocide\n",
    "\n",
    "# Create a binary variables\n",
    "crimes['Is Homicide'] = crimes['Crm Cd Desc'].apply(lambda x: 1 if x == 'CRIMINAL HOMICIDE' else 0)\n",
    "crimes = crimes[crimes[\"Vict Sex\"].isin([\"M\", \"F\"])]\n",
    "crimes['Vict Sex Encoded'] = crimes['Vict Sex'].apply(lambda x: 1 if x == 'M' else 0)\n",
    "\n",
    "crimes['Is Homicide'].value_counts()"
   ]
  },
  {
   "cell_type": "code",
   "execution_count": 6,
   "id": "0a46618f-585b-4131-93c1-39e31e42abc1",
   "metadata": {},
   "outputs": [
    {
     "data": {
      "text/html": [
       "<div>\n",
       "<style scoped>\n",
       "    .dataframe tbody tr th:only-of-type {\n",
       "        vertical-align: middle;\n",
       "    }\n",
       "\n",
       "    .dataframe tbody tr th {\n",
       "        vertical-align: top;\n",
       "    }\n",
       "\n",
       "    .dataframe thead th {\n",
       "        text-align: right;\n",
       "    }\n",
       "</style>\n",
       "<table border=\"1\" class=\"dataframe\">\n",
       "  <thead>\n",
       "    <tr style=\"text-align: right;\">\n",
       "      <th></th>\n",
       "      <th>DR_NO</th>\n",
       "      <th>Date Rptd</th>\n",
       "      <th>DATE OCC</th>\n",
       "      <th>TIME OCC</th>\n",
       "      <th>AREA</th>\n",
       "      <th>AREA NAME</th>\n",
       "      <th>Rpt Dist No</th>\n",
       "      <th>Part 1-2</th>\n",
       "      <th>Crm Cd</th>\n",
       "      <th>Crm Cd Desc</th>\n",
       "      <th>...</th>\n",
       "      <th>Crm Cd 2</th>\n",
       "      <th>Crm Cd 3</th>\n",
       "      <th>Crm Cd 4</th>\n",
       "      <th>LOCATION</th>\n",
       "      <th>Cross Street</th>\n",
       "      <th>LAT</th>\n",
       "      <th>LON</th>\n",
       "      <th>year</th>\n",
       "      <th>Is Homicide</th>\n",
       "      <th>Vict Sex Encoded</th>\n",
       "    </tr>\n",
       "  </thead>\n",
       "  <tbody>\n",
       "    <tr>\n",
       "      <th>5002</th>\n",
       "      <td>200100785</td>\n",
       "      <td>05/16/2020 12:00:00 AM</td>\n",
       "      <td>05/15/2020 12:00:00 AM</td>\n",
       "      <td>1945</td>\n",
       "      <td>1</td>\n",
       "      <td>Central</td>\n",
       "      <td>142</td>\n",
       "      <td>1</td>\n",
       "      <td>110</td>\n",
       "      <td>CRIMINAL HOMICIDE</td>\n",
       "      <td>...</td>\n",
       "      <td>NaN</td>\n",
       "      <td>NaN</td>\n",
       "      <td>NaN</td>\n",
       "      <td>300 S  OLIVE                        ST</td>\n",
       "      <td>NaN</td>\n",
       "      <td>34.0523</td>\n",
       "      <td>-118.2502</td>\n",
       "      <td>2020</td>\n",
       "      <td>1</td>\n",
       "      <td>1</td>\n",
       "    </tr>\n",
       "    <tr>\n",
       "      <th>6508</th>\n",
       "      <td>201314412</td>\n",
       "      <td>07/24/2020 12:00:00 AM</td>\n",
       "      <td>07/23/2020 12:00:00 AM</td>\n",
       "      <td>2145</td>\n",
       "      <td>13</td>\n",
       "      <td>Newton</td>\n",
       "      <td>1367</td>\n",
       "      <td>1</td>\n",
       "      <td>110</td>\n",
       "      <td>CRIMINAL HOMICIDE</td>\n",
       "      <td>...</td>\n",
       "      <td>998.0</td>\n",
       "      <td>NaN</td>\n",
       "      <td>NaN</td>\n",
       "      <td>1700 E  52ND                         ST</td>\n",
       "      <td>NaN</td>\n",
       "      <td>33.9954</td>\n",
       "      <td>-118.2432</td>\n",
       "      <td>2020</td>\n",
       "      <td>1</td>\n",
       "      <td>1</td>\n",
       "    </tr>\n",
       "    <tr>\n",
       "      <th>7834</th>\n",
       "      <td>201214818</td>\n",
       "      <td>06/17/2020 12:00:00 AM</td>\n",
       "      <td>06/17/2020 12:00:00 AM</td>\n",
       "      <td>50</td>\n",
       "      <td>12</td>\n",
       "      <td>77th Street</td>\n",
       "      <td>1266</td>\n",
       "      <td>1</td>\n",
       "      <td>110</td>\n",
       "      <td>CRIMINAL HOMICIDE</td>\n",
       "      <td>...</td>\n",
       "      <td>998.0</td>\n",
       "      <td>NaN</td>\n",
       "      <td>NaN</td>\n",
       "      <td>500 W  81ST                         ST</td>\n",
       "      <td>NaN</td>\n",
       "      <td>33.9655</td>\n",
       "      <td>-118.2827</td>\n",
       "      <td>2020</td>\n",
       "      <td>1</td>\n",
       "      <td>1</td>\n",
       "    </tr>\n",
       "    <tr>\n",
       "      <th>7882</th>\n",
       "      <td>201113525</td>\n",
       "      <td>09/12/2020 12:00:00 AM</td>\n",
       "      <td>09/12/2020 12:00:00 AM</td>\n",
       "      <td>1200</td>\n",
       "      <td>11</td>\n",
       "      <td>Northeast</td>\n",
       "      <td>1137</td>\n",
       "      <td>1</td>\n",
       "      <td>110</td>\n",
       "      <td>CRIMINAL HOMICIDE</td>\n",
       "      <td>...</td>\n",
       "      <td>998.0</td>\n",
       "      <td>NaN</td>\n",
       "      <td>NaN</td>\n",
       "      <td>600 N  AVENUE 50</td>\n",
       "      <td>NaN</td>\n",
       "      <td>34.1109</td>\n",
       "      <td>-118.2016</td>\n",
       "      <td>2020</td>\n",
       "      <td>1</td>\n",
       "      <td>1</td>\n",
       "    </tr>\n",
       "    <tr>\n",
       "      <th>8416</th>\n",
       "      <td>201319978</td>\n",
       "      <td>11/15/2020 12:00:00 AM</td>\n",
       "      <td>11/15/2020 12:00:00 AM</td>\n",
       "      <td>150</td>\n",
       "      <td>13</td>\n",
       "      <td>Newton</td>\n",
       "      <td>1331</td>\n",
       "      <td>1</td>\n",
       "      <td>110</td>\n",
       "      <td>CRIMINAL HOMICIDE</td>\n",
       "      <td>...</td>\n",
       "      <td>NaN</td>\n",
       "      <td>NaN</td>\n",
       "      <td>NaN</td>\n",
       "      <td>3100 S  HILL                         ST</td>\n",
       "      <td>NaN</td>\n",
       "      <td>34.0211</td>\n",
       "      <td>-118.2740</td>\n",
       "      <td>2020</td>\n",
       "      <td>1</td>\n",
       "      <td>0</td>\n",
       "    </tr>\n",
       "  </tbody>\n",
       "</table>\n",
       "<p>5 rows × 31 columns</p>\n",
       "</div>"
      ],
      "text/plain": [
       "          DR_NO               Date Rptd                DATE OCC  TIME OCC  \\\n",
       "5002  200100785  05/16/2020 12:00:00 AM  05/15/2020 12:00:00 AM      1945   \n",
       "6508  201314412  07/24/2020 12:00:00 AM  07/23/2020 12:00:00 AM      2145   \n",
       "7834  201214818  06/17/2020 12:00:00 AM  06/17/2020 12:00:00 AM        50   \n",
       "7882  201113525  09/12/2020 12:00:00 AM  09/12/2020 12:00:00 AM      1200   \n",
       "8416  201319978  11/15/2020 12:00:00 AM  11/15/2020 12:00:00 AM       150   \n",
       "\n",
       "      AREA    AREA NAME  Rpt Dist No  Part 1-2  Crm Cd        Crm Cd Desc  \\\n",
       "5002     1      Central          142         1     110  CRIMINAL HOMICIDE   \n",
       "6508    13       Newton         1367         1     110  CRIMINAL HOMICIDE   \n",
       "7834    12  77th Street         1266         1     110  CRIMINAL HOMICIDE   \n",
       "7882    11    Northeast         1137         1     110  CRIMINAL HOMICIDE   \n",
       "8416    13       Newton         1331         1     110  CRIMINAL HOMICIDE   \n",
       "\n",
       "      ... Crm Cd 2  Crm Cd 3 Crm Cd 4  \\\n",
       "5002  ...      NaN       NaN      NaN   \n",
       "6508  ...    998.0       NaN      NaN   \n",
       "7834  ...    998.0       NaN      NaN   \n",
       "7882  ...    998.0       NaN      NaN   \n",
       "8416  ...      NaN       NaN      NaN   \n",
       "\n",
       "                                     LOCATION  Cross Street      LAT  \\\n",
       "5002   300 S  OLIVE                        ST           NaN  34.0523   \n",
       "6508  1700 E  52ND                         ST           NaN  33.9954   \n",
       "7834   500 W  81ST                         ST           NaN  33.9655   \n",
       "7882                         600 N  AVENUE 50           NaN  34.1109   \n",
       "8416  3100 S  HILL                         ST           NaN  34.0211   \n",
       "\n",
       "           LON  year Is Homicide Vict Sex Encoded  \n",
       "5002 -118.2502  2020           1                1  \n",
       "6508 -118.2432  2020           1                1  \n",
       "7834 -118.2827  2020           1                1  \n",
       "7882 -118.2016  2020           1                1  \n",
       "8416 -118.2740  2020           1                0  \n",
       "\n",
       "[5 rows x 31 columns]"
      ]
     },
     "execution_count": 6,
     "metadata": {},
     "output_type": "execute_result"
    }
   ],
   "source": [
    "homicides = crimes[crimes['Is Homicide'] == 1]\n",
    "homicides.head()"
   ]
  },
  {
   "cell_type": "code",
   "execution_count": 7,
   "id": "39ac2580-1f37-42ff-a7f9-4f50475e0d48",
   "metadata": {},
   "outputs": [
    {
     "data": {
      "text/plain": [
       "Vict Age\n",
       "2     1\n",
       "3     2\n",
       "4     2\n",
       "5     1\n",
       "6     3\n",
       "     ..\n",
       "81    1\n",
       "82    1\n",
       "85    1\n",
       "87    2\n",
       "99    2\n",
       "Name: count, Length: 81, dtype: int64"
      ]
     },
     "execution_count": 7,
     "metadata": {},
     "output_type": "execute_result"
    }
   ],
   "source": [
    "homicides['Vict Age'].value_counts().sort_index()"
   ]
  },
  {
   "cell_type": "code",
   "execution_count": 8,
   "id": "b1c84105-f533-4ced-a530-2aaa7befa0c6",
   "metadata": {},
   "outputs": [
    {
     "data": {
      "text/plain": [
       "count    1538.000000\n",
       "mean       37.368661\n",
       "std        14.701674\n",
       "min         2.000000\n",
       "25%        27.000000\n",
       "50%        34.500000\n",
       "75%        46.000000\n",
       "max        99.000000\n",
       "Name: Vict Age, dtype: float64"
      ]
     },
     "execution_count": 8,
     "metadata": {},
     "output_type": "execute_result"
    }
   ],
   "source": [
    "homicides['Vict Age'].describe()"
   ]
  },
  {
   "cell_type": "code",
   "execution_count": 9,
   "id": "b2027a59-fc74-4037-8188-ca484903ba27",
   "metadata": {},
   "outputs": [
    {
     "name": "stderr",
     "output_type": "stream",
     "text": [
      "C:\\Users\\86137\\AppData\\Local\\Temp\\ipykernel_20492\\616386763.py:4: SettingWithCopyWarning: \n",
      "A value is trying to be set on a copy of a slice from a DataFrame.\n",
      "Try using .loc[row_indexer,col_indexer] = value instead\n",
      "\n",
      "See the caveats in the documentation: https://pandas.pydata.org/pandas-docs/stable/user_guide/indexing.html#returning-a-view-versus-a-copy\n",
      "  homicides[\"victim_ages\"] = pd.cut(homicides[\"Vict Age\"], labels= labels, bins = bins)\n"
     ]
    },
    {
     "data": {
      "text/html": [
       "<div>\n",
       "<style scoped>\n",
       "    .dataframe tbody tr th:only-of-type {\n",
       "        vertical-align: middle;\n",
       "    }\n",
       "\n",
       "    .dataframe tbody tr th {\n",
       "        vertical-align: top;\n",
       "    }\n",
       "\n",
       "    .dataframe thead th {\n",
       "        text-align: right;\n",
       "    }\n",
       "</style>\n",
       "<table border=\"1\" class=\"dataframe\">\n",
       "  <thead>\n",
       "    <tr style=\"text-align: right;\">\n",
       "      <th></th>\n",
       "      <th>Vict Age</th>\n",
       "      <th>victim_ages</th>\n",
       "    </tr>\n",
       "  </thead>\n",
       "  <tbody>\n",
       "    <tr>\n",
       "      <th>5002</th>\n",
       "      <td>57</td>\n",
       "      <td>55-64</td>\n",
       "    </tr>\n",
       "    <tr>\n",
       "      <th>6508</th>\n",
       "      <td>31</td>\n",
       "      <td>26-34</td>\n",
       "    </tr>\n",
       "    <tr>\n",
       "      <th>7834</th>\n",
       "      <td>19</td>\n",
       "      <td>18-25</td>\n",
       "    </tr>\n",
       "    <tr>\n",
       "      <th>7882</th>\n",
       "      <td>37</td>\n",
       "      <td>35-44</td>\n",
       "    </tr>\n",
       "    <tr>\n",
       "      <th>8416</th>\n",
       "      <td>30</td>\n",
       "      <td>26-34</td>\n",
       "    </tr>\n",
       "  </tbody>\n",
       "</table>\n",
       "</div>"
      ],
      "text/plain": [
       "      Vict Age victim_ages\n",
       "5002        57       55-64\n",
       "6508        31       26-34\n",
       "7834        19       18-25\n",
       "7882        37       35-44\n",
       "8416        30       26-34"
      ]
     },
     "execution_count": 9,
     "metadata": {},
     "output_type": "execute_result"
    }
   ],
   "source": [
    "labels=[\"0-17\", \"18-25\", \"26-34\", \"35-44\", \"45-54\", \"55-64\", \"65+\"]\n",
    "bins=[0, 17, 25, 34, 44, 54, 64, np.inf]\n",
    "\n",
    "homicides[\"victim_ages\"] = pd.cut(homicides[\"Vict Age\"], labels= labels, bins = bins)\n",
    "homicides[[\"Vict Age\", \"victim_ages\"]].head()"
   ]
  },
  {
   "cell_type": "code",
   "execution_count": 10,
   "id": "fbe9be1f-669f-4c19-9616-568a8a522728",
   "metadata": {},
   "outputs": [
    {
     "data": {
      "image/png": "[encoded data removed]",
      "text/plain": [
       "<Figure size 640x480 with 1 Axes>"
      ]
     },
     "metadata": {},
     "output_type": "display_data"
    }
   ],
   "source": [
    "# age distribution of the victims\n",
    "ax = sns.countplot(data=homicides, x=\"victim_ages\")\n",
    "for p in ax.patches:\n",
    "    ax.annotate(format(p.get_height(), '.0f'), \n",
    "                (p.get_x() + p.get_width() / 2., p.get_height()), \n",
    "                ha = 'center', va = 'center', \n",
    "                xytext = (0, 5), \n",
    "                textcoords = 'offset points')\n",
    "plt.title('Total Homocides by The Victims Ages')\n",
    "plt.xlabel('Age Group')\n",
    "plt.ylabel('Number of Homocides')\n",
    "plt.show()"
   ]
  },
  {
   "cell_type": "code",
   "execution_count": 11,
   "id": "8c7deb00-3362-4673-ad32-a0269c1253ab",
   "metadata": {},
   "outputs": [
    {
     "data": {
      "text/plain": [
       "Vict Sex\n",
       "M    1332\n",
       "F     206\n",
       "Name: count, dtype: int64"
      ]
     },
     "execution_count": 11,
     "metadata": {},
     "output_type": "execute_result"
    }
   ],
   "source": [
    "homicides[\"Vict Sex\"].value_counts()"
   ]
  },
  {
   "cell_type": "code",
   "execution_count": 12,
   "id": "8bbc5f87-5c8f-4b33-8df0-09a102352a59",
   "metadata": {},
   "outputs": [
    {
     "data": {
      "image/png": "[encoded data removed]",
      "text/plain": [
       "<Figure size 640x480 with 1 Axes>"
      ]
     },
     "metadata": {},
     "output_type": "display_data"
    }
   ],
   "source": [
    "# gender distribution of the victims\n",
    "ax = sns.countplot(data=homicides, x=\"Vict Sex\")\n",
    "for p in ax.patches:\n",
    "    ax.annotate(format(p.get_height(), '.0f'), \n",
    "                (p.get_x() + p.get_width() / 2., p.get_height()), \n",
    "                ha = 'center', va = 'center', \n",
    "                xytext = (0, 5), \n",
    "                textcoords = 'offset points')\n",
    "plt.title('Total Homocides by The Victims Sex')\n",
    "plt.xlabel('Sex')\n",
    "plt.ylabel('Number of Homocides')\n",
    "plt.show()"
   ]
  },
  {
   "cell_type": "code",
   "execution_count": 13,
   "id": "5cb5a4e4-9c91-4293-b02a-d22a0e24dcb2",
   "metadata": {},
   "outputs": [
    {
     "name": "stdout",
     "output_type": "stream",
     "text": [
      "| Crm Cd Desc       | Vict Sex   |   Vict Age |   Overall Mean Victim Age |\n",
      "|:------------------|:-----------|-----------:|--------------------------:|\n",
      "| CRIMINAL HOMICIDE | F          |    38.7379 |                   37.3687 |\n",
      "| CRIMINAL HOMICIDE | M          |    37.1569 |                   37.3687 |\n"
     ]
    }
   ],
   "source": [
    "# mean age of the victims\n",
    "overall_mean = homicides['Vict Age'].mean()\n",
    "mean_victim_ages_by_gender = homicides.groupby(['Crm Cd Desc', 'Vict Sex'])['Vict Age'].mean().reset_index()\n",
    "\n",
    "mean_victim_ages_by_gender['Overall Mean Victim Age'] = overall_mean\n",
    "\n",
    "print(mean_victim_ages_by_gender.sort_values(by=['Crm Cd Desc', 'Vict Sex']).to_markdown(index=False))"
   ]
  },
  {
   "cell_type": "code",
   "execution_count": 14,
   "id": "a69d4c36-fd45-46ae-84fe-6861df7b276a",
   "metadata": {},
   "outputs": [
    {
     "name": "stdout",
     "output_type": "stream",
     "text": [
      "| Crm Cd Desc       | Vict Sex   |   Vict Age |   Overall Median Victim Age |\n",
      "|:------------------|:-----------|-----------:|----------------------------:|\n",
      "| CRIMINAL HOMICIDE | F          |         35 |                        34.5 |\n",
      "| CRIMINAL HOMICIDE | M          |         34 |                        34.5 |\n"
     ]
    }
   ],
   "source": [
    "# median age of the victims\n",
    "overall_median = homicides['Vict Age'].median()\n",
    "median_victim_ages_by_gender = homicides.groupby(['Crm Cd Desc', 'Vict Sex'])['Vict Age'].median().reset_index()\n",
    "\n",
    "median_victim_ages_by_gender['Overall Median Victim Age'] = overall_median\n",
    "\n",
    "print(median_victim_ages_by_gender.sort_values(by=['Crm Cd Desc', 'Vict Sex']).to_markdown(index=False))"
   ]
  },
  {
   "cell_type": "code",
   "execution_count": 15,
   "id": "0d2d7c5c",
   "metadata": {},
   "outputs": [
    {
     "name": "stdout",
     "output_type": "stream",
     "text": [
      "Correlation between crime being a homicide and victim age: -0.007096097740188022\n"
     ]
    }
   ],
   "source": [
    "# correlation between the crime being a homicide and the age of the victims\n",
    "correlation_age = crimes['Is Homicide'].corr(crimes['Vict Age'])\n",
    "print(f\"Correlation between crime being a homicide and victim age: {correlation_age}\")"
   ]
  },
  {
   "cell_type": "code",
   "execution_count": 16,
   "id": "0ff5cc5a",
   "metadata": {},
   "outputs": [
    {
     "name": "stdout",
     "output_type": "stream",
     "text": [
      "Correlation between crime being a homicide and victim gender: 0.03307853721475881\n"
     ]
    }
   ],
   "source": [
    "# correlation between the crime being a homicide and the gender of the victims\n",
    "correlation_gender = crimes['Is Homicide'].corr(crimes['Vict Sex Encoded'])\n",
    "print(f\"Correlation between crime being a homicide and victim gender: {correlation_gender}\")"
   ]
  },
  {
   "cell_type": "code",
   "execution_count": 17,
   "id": "cc4fc356",
   "metadata": {},
   "outputs": [
    {
     "data": {
      "image/png": "[encoded data removed]",
      "text/plain": [
       "<Figure size 1000x600 with 1 Axes>"
      ]
     },
     "metadata": {},
     "output_type": "display_data"
    }
   ],
   "source": [
    "# plotting the relationship between the crime being a homicide and the age of the victims\n",
    "plt.figure(figsize=(10, 6))\n",
    "sns.boxplot(x='Is Homicide', y='Vict Age', data=crimes)\n",
    "plt.title('Victim Age by Crime Type (Homicide vs. Non-Homicide)')\n",
    "plt.xlabel('Is Homicide')\n",
    "plt.ylabel('Victim Age')\n",
    "plt.show()"
   ]
  },
  {
   "cell_type": "code",
   "execution_count": 18,
   "id": "307c56bc",
   "metadata": {},
   "outputs": [
    {
     "data": {
      "image/png": "[encoded data removed]",
      "text/plain": [
       "<Figure size 1000x600 with 1 Axes>"
      ]
     },
     "metadata": {},
     "output_type": "display_data"
    }
   ],
   "source": [
    "# plotting the relationship between the crime being a homicide and the gender of the victims\n",
    "plt.figure(figsize=(10, 6))\n",
    "ax = sns.countplot(x='Vict Sex', hue='Is Homicide', data=crimes)\n",
    "for p in ax.patches:\n",
    "    ax.annotate(format(p.get_height(), '.0f'), \n",
    "                (p.get_x() + p.get_width() / 2., p.get_height()), \n",
    "                ha = 'center', va = 'center', \n",
    "                xytext = (0, 5), \n",
    "                textcoords = 'offset points')\n",
    "plt.title('Gender Distribution for Homicides vs. Non-Homicides')\n",
    "plt.xlabel('Victim Gender')\n",
    "plt.ylabel('Count')\n",
    "handles, labels = plt.gca().get_legend_handles_labels()\n",
    "labels = ['No', 'Yes']\n",
    "plt.legend(handles, labels, title='Is Homicide')\n",
    "plt.show()"
   ]
  },
  {
   "cell_type": "code",
   "execution_count": 21,
   "id": "acc4b2c4-b43d-412c-818b-109ee7745fb2",
   "metadata": {},
   "outputs": [
    {
     "data": {
      "image/png": "[encoded data removed]",
      "text/plain": [
       "<Figure size 640x480 with 1 Axes>"
      ]
     },
     "metadata": {},
     "output_type": "display_data"
    }
   ],
   "source": [
    "sns.countplot(data=homicides, y=\"year\")\n",
    "plt.title('Crimes Over Year')\n",
    "plt.xlabel('Number of Crimes')\n",
    "plt.ylabel('Year')\n",
    "plt.show()"
   ]
  },
  {
   "cell_type": "code",
   "execution_count": 23,
   "id": "c3837997-de99-425c-9497-7d8f5ab9fd16",
   "metadata": {},
   "outputs": [
    {
     "data": {
      "image/png": "[encoded data removed]",
      "text/plain": [
       "<Figure size 640x480 with 1 Axes>"
      ]
     },
     "metadata": {},
     "output_type": "display_data"
    }
   ],
   "source": [
    "gender_counts = homicides['Vict Sex'].value_counts()\n",
    "\n",
    "fig, ax = plt.subplots()\n",
    "ax.pie(gender_counts, labels=gender_counts.index, autopct='%1.1f%%')\n",
    "ax.axis('equal')  # Equal aspect ratio ensures pie is drawn as a circle\n",
    "ax.set_title('Gender Distribution')\n",
    "plt.show()"
   ]
  },
  {
   "cell_type": "code",
   "execution_count": null,
   "id": "83effd33-dc5a-4ff6-b9db-57c0cb63cf6e",
   "metadata": {},
   "outputs": [],
   "source": [
    "# count values of 'weapon description'\n",
    "pd.set_option('display.max_rows', None)\n",
    "crimes['Weapon Desc'].value_counts()"
   ]
  },
  {
   "cell_type": "code",
   "execution_count": null,
   "id": "bcd1ed4f",
   "metadata": {},
   "outputs": [],
   "source": [
    "# Create a binary/dummy variables\n",
    "crimes['VerbalThreat'] = crimes['Weapon Desc'].apply(lambda x: 1 if x == 'VERBAL THREAT' else 0)\n",
    "crimes['VerbalThreat'].value_counts()"
   ]
  },
  {
   "cell_type": "code",
   "execution_count": null,
   "id": "0e28576e",
   "metadata": {},
   "outputs": [],
   "source": [
    "verbal = crimes[crimes['VerbalThreat'] == 1]\n",
    "verbal.head()"
   ]
  },
  {
   "cell_type": "code",
   "execution_count": null,
   "id": "8ee9e5bd",
   "metadata": {},
   "outputs": [],
   "source": [
    "verbal['Crm Cd Desc'].value_counts()"
   ]
  },
  {
   "cell_type": "code",
   "execution_count": null,
   "id": "6fb51e73",
   "metadata": {},
   "outputs": [],
   "source": [
    "# if the crime has the word \"weapon\" in the description, it is considered a weapon crime, so we classify it as 0 on the 'VerbalThreat' column of \"crimes\" dataframe\n",
    "verbal['Weapon'] = crimes['Crm Cd Desc'].apply(lambda x: 1 if 'WEAPON' in x else 0)\n",
    "\n",
    "# remove the rows where the crime is a weapon crime\n",
    "verbal = verbal[verbal['Weapon'] == 0]"
   ]
  },
  {
   "cell_type": "code",
   "execution_count": null,
   "id": "69f2c451",
   "metadata": {},
   "outputs": [],
   "source": [
    "# check the crimes again\n",
    "verbal['Crm Cd Desc'].value_counts()"
   ]
  },
  {
   "cell_type": "code",
   "execution_count": null,
   "id": "0995dcd7",
   "metadata": {},
   "outputs": [],
   "source": [
    "# age distribution of the victims by non-use of strong-arm\n",
    "plt.figure(figsize=(10, 6))\n",
    "sns.boxplot(x='VerbalThreat', y='Vict Age', data=crimes)\n",
    "plt.title('Verbal Threat by The Victims Ages')\n",
    "plt.xlabel('Number of Crimes')\n",
    "plt.ylabel('Victim Age')\n",
    "plt.show()"
   ]
  }
 ],
 "metadata": {
  "kernelspec": {
   "display_name": "Python 3 (ipykernel)",
   "language": "python",
   "name": "python3"
  },
  "language_info": {
   "codemirror_mode": {
    "name": "ipython",
    "version": 3
   },
   "file_extension": ".py",
   "mimetype": "text/x-python",
   "name": "python",
   "nbconvert_exporter": "python",
   "pygments_lexer": "ipython3",
   "version": "3.11.10"
  }
 },
 "nbformat": 4,
 "nbformat_minor": 5
}
